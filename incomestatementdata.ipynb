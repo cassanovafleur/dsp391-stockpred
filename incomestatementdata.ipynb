{
 "cells": [
  {
   "cell_type": "code",
   "execution_count": null,
   "id": "f5fe5db5",
   "metadata": {},
   "outputs": [
    {
     "data": {
      "text/plain": [
       "['YTC',\n",
       " 'YEG',\n",
       " 'YBM',\n",
       " 'YBC',\n",
       " 'XPH',\n",
       " 'XMP',\n",
       " 'XMD',\n",
       " 'XMC',\n",
       " 'XLV',\n",
       " 'XHC',\n",
       " 'XDH',\n",
       " 'XDC',\n",
       " 'X77',\n",
       " 'X26',\n",
       " 'X20',\n",
       " 'WTC',\n",
       " 'WSS',\n",
       " 'WSB',\n",
       " 'WCS',\n",
       " 'VXT',\n",
       " 'VXP',\n",
       " 'VXB',\n",
       " 'VWS',\n",
       " 'VW3',\n",
       " 'VVS',\n",
       " 'VVN',\n",
       " 'VUA',\n",
       " 'VTZ',\n",
       " 'VTX',\n",
       " 'VTV',\n",
       " 'VTS',\n",
       " 'VTR',\n",
       " 'VTQ',\n",
       " 'VTP',\n",
       " 'VTO',\n",
       " 'VTM',\n",
       " 'VTL',\n",
       " 'VTK',\n",
       " 'VTJ',\n",
       " 'VTI',\n",
       " 'VTH',\n",
       " 'VTG',\n",
       " 'VTE',\n",
       " 'VTD',\n",
       " 'VTC',\n",
       " 'VTB',\n",
       " 'VTA',\n",
       " 'VST',\n",
       " 'VSP',\n",
       " 'VSN',\n",
       " 'VSM',\n",
       " 'VSI',\n",
       " 'VSH',\n",
       " 'VSG',\n",
       " 'VSF',\n",
       " 'VSE',\n",
       " 'VSC',\n",
       " 'VSA',\n",
       " 'VRG',\n",
       " 'VRE',\n",
       " 'VRC',\n",
       " 'VQC',\n",
       " 'VPW',\n",
       " 'VPS',\n",
       " 'VPR',\n",
       " 'VPL',\n",
       " 'VPI',\n",
       " 'VPH',\n",
       " 'VPG',\n",
       " 'VPD',\n",
       " 'VPC',\n",
       " 'VPB',\n",
       " 'VPA',\n",
       " 'VOS',\n",
       " 'VOC',\n",
       " 'VNZ',\n",
       " 'VNY',\n",
       " 'VNX',\n",
       " 'VNT',\n",
       " 'VNS',\n",
       " 'VNR',\n",
       " 'VNP',\n",
       " 'VNM',\n",
       " 'VNL',\n",
       " 'VNI',\n",
       " 'VNH',\n",
       " 'VNG',\n",
       " 'VNF',\n",
       " 'VNE',\n",
       " 'VND',\n",
       " 'VNC',\n",
       " 'VNB',\n",
       " 'VNA',\n",
       " 'VMT',\n",
       " 'VMS',\n",
       " 'VMK',\n",
       " 'VMI',\n",
       " 'VMG',\n",
       " 'VMD',\n",
       " 'VMC',\n",
       " 'VMA',\n",
       " 'VLW',\n",
       " 'VLP',\n",
       " 'VLG',\n",
       " 'VLF',\n",
       " 'VLC',\n",
       " 'VLB',\n",
       " 'VLA',\n",
       " 'VKP',\n",
       " 'VKD',\n",
       " 'VKC',\n",
       " 'VJC',\n",
       " 'VIX',\n",
       " 'VIW',\n",
       " 'VIT',\n",
       " 'VIS',\n",
       " 'VIR',\n",
       " 'VIP',\n",
       " 'VIN',\n",
       " 'VIM',\n",
       " 'VIH',\n",
       " 'VIG',\n",
       " 'VIF',\n",
       " 'VIE',\n",
       " 'VID',\n",
       " 'VIC',\n",
       " 'VIB',\n",
       " 'VHM',\n",
       " 'VHL',\n",
       " 'VHI',\n",
       " 'VHH',\n",
       " 'VHG',\n",
       " 'VHF',\n",
       " 'VHE',\n",
       " 'VHD',\n",
       " 'VHC',\n",
       " 'VGV',\n",
       " 'VGT',\n",
       " 'VGS',\n",
       " 'VGR',\n",
       " 'VGP',\n",
       " 'VGL',\n",
       " 'VGI',\n",
       " 'VGG',\n",
       " 'VGC',\n",
       " 'VFS',\n",
       " 'VFR',\n",
       " 'VFG',\n",
       " 'VFC',\n",
       " 'VET',\n",
       " 'VES',\n",
       " 'VEF',\n",
       " 'VEC',\n",
       " 'VEA',\n",
       " 'VE9',\n",
       " 'VE8',\n",
       " 'VE4',\n",
       " 'VE3',\n",
       " 'VE2',\n",
       " 'VE1',\n",
       " 'VDT',\n",
       " 'VDS',\n",
       " 'VDP',\n",
       " 'VDN',\n",
       " 'VDM',\n",
       " 'VDL',\n",
       " 'VDG',\n",
       " 'VDB',\n",
       " 'VCX',\n",
       " 'VCW',\n",
       " 'VCT',\n",
       " 'VCS',\n",
       " 'VCR',\n",
       " 'VCP',\n",
       " 'VCM',\n",
       " 'VCI',\n",
       " 'VCG',\n",
       " 'VCF',\n",
       " 'VCE',\n",
       " 'VCC',\n",
       " 'VCB',\n",
       " 'VCA',\n",
       " 'VC9',\n",
       " 'VC7',\n",
       " 'VC6',\n",
       " 'VC5',\n",
       " 'VC3',\n",
       " 'VC2',\n",
       " 'VC1',\n",
       " 'VBH',\n",
       " 'VBG',\n",
       " 'VBC',\n",
       " 'VBB',\n",
       " 'VAV',\n",
       " 'VAT',\n",
       " 'VAF',\n",
       " 'VAB',\n",
       " 'V21',\n",
       " 'V15',\n",
       " 'V12',\n",
       " 'V11',\n",
       " 'UXC',\n",
       " 'USD',\n",
       " 'USC',\n",
       " 'UPH',\n",
       " 'UPC',\n",
       " 'UNI',\n",
       " 'UMC',\n",
       " 'UIC',\n",
       " 'UEM',\n",
       " 'UDL',\n",
       " 'UDJ',\n",
       " 'UDC',\n",
       " 'UCT',\n",
       " 'TYA',\n",
       " 'TXM',\n",
       " 'TW3',\n",
       " 'TVW',\n",
       " 'TVT',\n",
       " 'TVS',\n",
       " 'TVP',\n",
       " 'TVN',\n",
       " 'TVM',\n",
       " 'TVH',\n",
       " 'TVG',\n",
       " 'TVD',\n",
       " 'TVC',\n",
       " 'TVB',\n",
       " 'TVA',\n",
       " 'TV6',\n",
       " 'TV4',\n",
       " 'TV3',\n",
       " 'TV2',\n",
       " 'TV1',\n",
       " 'TUG',\n",
       " 'TTZ',\n",
       " 'TTT',\n",
       " 'TTS',\n",
       " 'TTP',\n",
       " 'TTN',\n",
       " 'TTL',\n",
       " 'TTH',\n",
       " 'TTG',\n",
       " 'TTF',\n",
       " 'TTE',\n",
       " 'TTD',\n",
       " 'TTC',\n",
       " 'TTB',\n",
       " 'TTA',\n",
       " 'TT6',\n",
       " 'TST',\n",
       " 'TSJ',\n",
       " 'TSG',\n",
       " 'TSD',\n",
       " 'TSC',\n",
       " 'TSB',\n",
       " 'TSA',\n",
       " 'TS5',\n",
       " 'TS4',\n",
       " 'TS3',\n",
       " 'TRV',\n",
       " 'TRT',\n",
       " 'TRS',\n",
       " 'TRC',\n",
       " 'TRA',\n",
       " 'TR1',\n",
       " 'TQW',\n",
       " 'TQN',\n",
       " 'TPS',\n",
       " 'TPP',\n",
       " 'TPH',\n",
       " 'TPC',\n",
       " 'TPB',\n",
       " 'TOW',\n",
       " 'TOT',\n",
       " 'TOS',\n",
       " 'TOP',\n",
       " 'TNW',\n",
       " 'TNV',\n",
       " 'TNT',\n",
       " 'TNS',\n",
       " 'TNP',\n",
       " 'TNM',\n",
       " 'TNI',\n",
       " 'TNH',\n",
       " 'TNG',\n",
       " 'TNC',\n",
       " 'TNB',\n",
       " 'TNA',\n",
       " 'TN1',\n",
       " 'TMX',\n",
       " 'TMW',\n",
       " 'TMT',\n",
       " 'TMS',\n",
       " 'TMP',\n",
       " 'TMG',\n",
       " 'TMC',\n",
       " 'TMB',\n",
       " 'TLT',\n",
       " 'TLP',\n",
       " 'TLI',\n",
       " 'TLH',\n",
       " 'TLG',\n",
       " 'TLD',\n",
       " 'TL4',\n",
       " 'TKU',\n",
       " 'TKG',\n",
       " 'TKC',\n",
       " 'TKA',\n",
       " 'TJC',\n",
       " 'TIX',\n",
       " 'TIS',\n",
       " 'TIP',\n",
       " 'TIN',\n",
       " 'TIG',\n",
       " 'TIE',\n",
       " 'TID',\n",
       " 'THW',\n",
       " 'THU',\n",
       " 'THT',\n",
       " 'THS',\n",
       " 'THP',\n",
       " 'THN',\n",
       " 'THM',\n",
       " 'THI',\n",
       " 'THG',\n",
       " 'THD',\n",
       " 'THB',\n",
       " 'TH1',\n",
       " 'TGP',\n",
       " 'TGG',\n",
       " 'TFC',\n",
       " 'TET',\n",
       " 'TEL',\n",
       " 'TEG',\n",
       " 'TED',\n",
       " 'TEC',\n",
       " 'TDW',\n",
       " 'TDT',\n",
       " 'TDS',\n",
       " 'TDP',\n",
       " 'TDN',\n",
       " 'TDM',\n",
       " 'TDI',\n",
       " 'TDH',\n",
       " 'TDG',\n",
       " 'TDF',\n",
       " 'TDC',\n",
       " 'TDB',\n",
       " 'TD6',\n",
       " 'TCW',\n",
       " 'TCT',\n",
       " 'TCR',\n",
       " 'TCO',\n",
       " 'TCM',\n",
       " 'TCL',\n",
       " 'TCK',\n",
       " 'TCJ',\n",
       " 'TCI',\n",
       " 'TCH',\n",
       " 'TCD',\n",
       " 'TCB',\n",
       " 'TC6',\n",
       " 'TBX',\n",
       " 'TBW',\n",
       " 'TBT',\n",
       " 'TBR',\n",
       " 'TBH',\n",
       " 'TBD',\n",
       " 'TBC',\n",
       " 'TB8',\n",
       " 'TAW',\n",
       " 'TAR',\n",
       " 'TAP',\n",
       " 'TAN',\n",
       " 'TAL',\n",
       " 'TAG',\n",
       " 'TAC',\n",
       " 'TAB',\n",
       " 'TA9',\n",
       " 'TA6',\n",
       " 'TA3',\n",
       " 'T12',\n",
       " 'SZL',\n",
       " 'SZG',\n",
       " 'SZE',\n",
       " 'SZC',\n",
       " 'SZB',\n",
       " 'SWC',\n",
       " 'SVT',\n",
       " 'SVN',\n",
       " 'SVL',\n",
       " 'SVI',\n",
       " 'SVH',\n",
       " 'SVG',\n",
       " 'SVD',\n",
       " 'SVC',\n",
       " 'STW',\n",
       " 'STT',\n",
       " 'STS',\n",
       " 'STP',\n",
       " 'STL',\n",
       " 'STK',\n",
       " 'STH',\n",
       " 'STG',\n",
       " 'STC',\n",
       " 'STB',\n",
       " 'ST8',\n",
       " 'SSU',\n",
       " 'SSN',\n",
       " 'SSM',\n",
       " 'SSI',\n",
       " 'SSH',\n",
       " 'SSG',\n",
       " 'SSF',\n",
       " 'SSC',\n",
       " 'SSB',\n",
       " 'SRT',\n",
       " 'SRF',\n",
       " 'SRC',\n",
       " 'SRB',\n",
       " 'SRA',\n",
       " 'SQC',\n",
       " 'SPV',\n",
       " 'SPP',\n",
       " 'SPM',\n",
       " 'SPI',\n",
       " 'SPH',\n",
       " 'SPD',\n",
       " 'SPC',\n",
       " 'SPB',\n",
       " 'SPA',\n",
       " 'SP2',\n",
       " 'SON',\n",
       " 'SNZ',\n",
       " 'SNC',\n",
       " 'SMT',\n",
       " 'SMN',\n",
       " 'SMC',\n",
       " 'SMB',\n",
       " 'SMA',\n",
       " 'SLS',\n",
       " 'SLD',\n",
       " 'SKV',\n",
       " 'SKN',\n",
       " 'SKH',\n",
       " 'SKG',\n",
       " 'SJS',\n",
       " 'SJM',\n",
       " 'SJG',\n",
       " 'SJF',\n",
       " 'SJE',\n",
       " 'SJD',\n",
       " 'SJC',\n",
       " 'SJ1',\n",
       " 'SIV',\n",
       " 'SIP',\n",
       " 'SII',\n",
       " 'SIG',\n",
       " 'SID',\n",
       " 'SIC',\n",
       " 'SHX',\n",
       " 'SHS',\n",
       " 'SHP',\n",
       " 'SHN',\n",
       " 'SHI',\n",
       " 'SHG',\n",
       " 'SHE',\n",
       " 'SHC',\n",
       " 'SHB',\n",
       " 'SHA',\n",
       " 'SGT',\n",
       " 'SGS',\n",
       " 'SGR',\n",
       " 'SGP',\n",
       " 'SGO',\n",
       " 'SGN',\n",
       " 'SGI',\n",
       " 'SGH',\n",
       " 'SGD',\n",
       " 'SGC',\n",
       " 'SGB',\n",
       " 'SFN',\n",
       " 'SFI',\n",
       " 'SFG',\n",
       " 'SFC',\n",
       " 'SEP',\n",
       " 'SED',\n",
       " 'SEB',\n",
       " 'SEA',\n",
       " 'SDY',\n",
       " 'SDX',\n",
       " 'SDV',\n",
       " 'SDU',\n",
       " 'SDT',\n",
       " 'SDP',\n",
       " 'SDN',\n",
       " 'SDK',\n",
       " 'SDJ',\n",
       " 'SDH',\n",
       " 'SDG',\n",
       " 'SDD',\n",
       " 'SDC',\n",
       " 'SDB',\n",
       " 'SDA',\n",
       " 'SD9',\n",
       " 'SD8',\n",
       " 'SD7',\n",
       " 'SD6',\n",
       " 'SD5',\n",
       " 'SD4',\n",
       " 'SD3',\n",
       " 'SD2',\n",
       " 'SD1',\n",
       " 'SCY',\n",
       " 'SCV',\n",
       " 'SCS',\n",
       " 'SCR',\n",
       " 'SCO',\n",
       " 'SCL',\n",
       " 'SCJ',\n",
       " 'SCI',\n",
       " 'SCG',\n",
       " 'SCD',\n",
       " 'SCC',\n",
       " 'SCA',\n",
       " 'SC5',\n",
       " 'SBV',\n",
       " 'SBT',\n",
       " 'SBS',\n",
       " 'SBR',\n",
       " 'SBM',\n",
       " 'SBL',\n",
       " 'SBH',\n",
       " 'SBG',\n",
       " 'SBD',\n",
       " 'SBB',\n",
       " 'SBA',\n",
       " 'SB1',\n",
       " 'SAV',\n",
       " 'SAS',\n",
       " 'SAP',\n",
       " 'SAM',\n",
       " 'SAL',\n",
       " 'SAF',\n",
       " 'SAC',\n",
       " 'SAB',\n",
       " 'S99',\n",
       " 'S96',\n",
       " 'S74',\n",
       " 'S72',\n",
       " 'S55',\n",
       " 'S4A',\n",
       " 'S27',\n",
       " 'S12',\n",
       " 'RYG',\n",
       " 'RTB',\n",
       " 'ROS',\n",
       " 'RIC',\n",
       " 'RGC',\n",
       " 'REE',\n",
       " 'RDP',\n",
       " 'RCL',\n",
       " 'RCD',\n",
       " 'RCC',\n",
       " 'RBC',\n",
       " 'RAT',\n",
       " 'RAL',\n",
       " 'QTP',\n",
       " 'QTC',\n",
       " 'QST',\n",
       " 'QSP',\n",
       " 'QPH',\n",
       " 'QNW',\n",
       " 'QNU',\n",
       " 'QNT',\n",
       " 'QNS',\n",
       " 'QNP',\n",
       " 'QNC',\n",
       " 'QLT',\n",
       " 'QLD',\n",
       " 'QHW',\n",
       " 'QHD',\n",
       " 'QCG',\n",
       " 'QCC',\n",
       " 'QBS',\n",
       " 'PYU',\n",
       " 'PXT',\n",
       " 'PXS',\n",
       " 'PXM',\n",
       " 'PXL',\n",
       " 'PXI',\n",
       " 'PXC',\n",
       " 'PXA',\n",
       " 'PX1',\n",
       " 'PWS',\n",
       " 'PWA',\n",
       " 'PVY',\n",
       " 'PVX',\n",
       " 'PVV',\n",
       " 'PVT',\n",
       " 'PVS',\n",
       " 'PVR',\n",
       " 'PVP',\n",
       " 'PVO',\n",
       " 'PVM',\n",
       " 'PVL',\n",
       " 'PVI',\n",
       " 'PVH',\n",
       " 'PVG',\n",
       " 'PVE',\n",
       " 'PVD',\n",
       " 'PVC',\n",
       " 'PVB',\n",
       " 'PVA',\n",
       " 'PV2',\n",
       " 'PTX',\n",
       " 'PTV',\n",
       " 'PTT',\n",
       " 'PTS',\n",
       " 'PTP',\n",
       " 'PTO',\n",
       " 'PTN',\n",
       " 'PTM',\n",
       " 'PTL',\n",
       " 'PTI',\n",
       " 'PTH',\n",
       " 'PTG',\n",
       " 'PTE',\n",
       " 'PTD',\n",
       " 'PTC',\n",
       " 'PTB',\n",
       " 'PSW',\n",
       " 'PSP',\n",
       " 'PSN',\n",
       " 'PSL',\n",
       " 'PSI',\n",
       " 'PSH',\n",
       " 'PSG',\n",
       " 'PSE',\n",
       " 'PSD',\n",
       " 'PSC',\n",
       " 'PSB',\n",
       " 'PRT',\n",
       " 'PRO',\n",
       " 'PRE',\n",
       " 'PRC',\n",
       " 'PQN',\n",
       " 'PPY',\n",
       " 'PPT',\n",
       " 'PPS',\n",
       " 'PPP',\n",
       " 'PPI',\n",
       " 'PPH',\n",
       " 'PPE',\n",
       " 'PPC',\n",
       " 'POW',\n",
       " 'POV',\n",
       " 'POT',\n",
       " 'POS',\n",
       " 'POM',\n",
       " 'POB',\n",
       " 'PNT',\n",
       " 'PNP',\n",
       " 'PNJ',\n",
       " 'PNG',\n",
       " 'PND',\n",
       " 'PNC',\n",
       " 'PMW',\n",
       " 'PMT',\n",
       " 'PMS',\n",
       " 'PMP',\n",
       " 'PMJ',\n",
       " 'PMG',\n",
       " 'PMC',\n",
       " 'PMB',\n",
       " 'PLX',\n",
       " 'PLP',\n",
       " 'PLO',\n",
       " 'PLE',\n",
       " 'PLC',\n",
       " 'PLA',\n",
       " 'PJT',\n",
       " 'PJS',\n",
       " 'PJC',\n",
       " 'PIV',\n",
       " 'PIT',\n",
       " 'PIS',\n",
       " 'PID',\n",
       " 'PIC',\n",
       " 'PIA',\n",
       " 'PHS',\n",
       " 'PHR',\n",
       " 'PHP',\n",
       " 'PHN',\n",
       " 'PHH',\n",
       " 'PHC',\n",
       " 'PGV',\n",
       " 'PGT',\n",
       " 'PGS',\n",
       " 'PGN',\n",
       " 'PGI',\n",
       " 'PGD',\n",
       " 'PGC',\n",
       " 'PGB',\n",
       " 'PFL',\n",
       " 'PET',\n",
       " 'PEQ',\n",
       " 'PEN',\n",
       " 'PEG',\n",
       " 'PEC',\n",
       " 'PDV',\n",
       " 'PDT',\n",
       " 'PDR',\n",
       " 'PDN',\n",
       " 'PDC',\n",
       " 'PDB',\n",
       " 'PCT',\n",
       " 'PCN',\n",
       " 'PCM',\n",
       " 'PCH',\n",
       " 'PCG',\n",
       " 'PCF',\n",
       " 'PCE',\n",
       " 'PCC',\n",
       " 'PC1',\n",
       " 'PBT',\n",
       " 'PBP',\n",
       " 'PBC',\n",
       " 'PAT',\n",
       " 'PAS',\n",
       " 'PAP',\n",
       " 'PAN',\n",
       " 'PAI',\n",
       " 'PAC',\n",
       " 'ORS',\n",
       " 'OPC',\n",
       " 'ONW',\n",
       " 'ONE',\n",
       " 'OIL',\n",
       " 'OGC',\n",
       " 'ODE',\n",
       " 'OCH',\n",
       " 'OCB',\n",
       " 'NXT',\n",
       " 'NWT',\n",
       " 'NVT',\n",
       " 'NVP',\n",
       " 'NVL',\n",
       " 'NVB',\n",
       " 'NUE',\n",
       " 'NTW',\n",
       " 'NTT',\n",
       " 'NTP',\n",
       " 'NTL',\n",
       " 'NTH',\n",
       " 'NTF',\n",
       " 'NTC',\n",
       " 'NTB',\n",
       " 'NT2',\n",
       " 'NST',\n",
       " 'NSS',\n",
       " 'NSL',\n",
       " 'NSH',\n",
       " 'NSG',\n",
       " 'NSC',\n",
       " 'NS3',\n",
       " 'NS2',\n",
       " 'NRC',\n",
       " 'NQT',\n",
       " 'NQN',\n",
       " 'NQB',\n",
       " 'NOS',\n",
       " 'NO1',\n",
       " 'NNT',\n",
       " 'NNQ',\n",
       " 'NNG',\n",
       " 'NNC',\n",
       " 'NLS',\n",
       " 'NLG',\n",
       " 'NKG',\n",
       " 'NJC',\n",
       " 'NHV',\n",
       " 'NHT',\n",
       " 'NHP',\n",
       " 'NHH',\n",
       " 'NHC',\n",
       " 'NHA',\n",
       " 'NGC',\n",
       " 'NFC',\n",
       " 'NET',\n",
       " 'NEM',\n",
       " 'NED',\n",
       " 'NDX',\n",
       " 'NDW',\n",
       " 'NDT',\n",
       " 'NDP',\n",
       " 'NDN',\n",
       " 'NDF',\n",
       " 'NDC',\n",
       " 'ND2',\n",
       " 'NCT',\n",
       " 'NCS',\n",
       " 'NCG',\n",
       " 'NBW',\n",
       " 'NBT',\n",
       " 'NBP',\n",
       " 'NBE',\n",
       " 'NBC',\n",
       " 'NBB',\n",
       " 'NAW',\n",
       " 'NAV',\n",
       " 'NAU',\n",
       " 'NAS',\n",
       " 'NAP',\n",
       " 'NAG',\n",
       " 'NAF',\n",
       " 'NAC',\n",
       " 'NAB',\n",
       " 'MZG',\n",
       " 'MXC',\n",
       " 'MWG',\n",
       " 'MVN',\n",
       " 'MVC',\n",
       " 'MVB',\n",
       " 'MTX',\n",
       " 'MTV',\n",
       " 'MTS',\n",
       " 'MTP',\n",
       " 'MTL',\n",
       " 'MTH',\n",
       " 'MTG',\n",
       " 'MTC',\n",
       " 'MTB',\n",
       " 'MTA',\n",
       " 'MST',\n",
       " 'MSR',\n",
       " 'MSN',\n",
       " 'MSH',\n",
       " 'MSB',\n",
       " 'MRF',\n",
       " 'MQN',\n",
       " 'MQB',\n",
       " 'MPY',\n",
       " 'MPT',\n",
       " 'MPC',\n",
       " 'MND',\n",
       " 'MNB',\n",
       " 'MML',\n",
       " 'MLS',\n",
       " 'MLC',\n",
       " 'MKV',\n",
       " 'MKP',\n",
       " 'MIM',\n",
       " 'MIG',\n",
       " 'MIE',\n",
       " 'MIC',\n",
       " 'MHL',\n",
       " 'MHC',\n",
       " 'MH3',\n",
       " 'MGR',\n",
       " 'MGG',\n",
       " 'MGC',\n",
       " 'MFS',\n",
       " 'MES',\n",
       " 'MEL',\n",
       " 'MEG',\n",
       " 'MEF',\n",
       " 'MED',\n",
       " 'MEC',\n",
       " 'MDG',\n",
       " 'MDF',\n",
       " 'MDC',\n",
       " 'MDA',\n",
       " 'MCP',\n",
       " 'MCO',\n",
       " 'MCM',\n",
       " 'MCI',\n",
       " 'MCH',\n",
       " 'MCG',\n",
       " 'MCF',\n",
       " 'MCD',\n",
       " 'MCC',\n",
       " 'MC3',\n",
       " 'MBT',\n",
       " 'MBS',\n",
       " 'MBN',\n",
       " 'MBG',\n",
       " 'MBB',\n",
       " 'MAS',\n",
       " 'MAC',\n",
       " 'MA1',\n",
       " 'M10',\n",
       " 'LYF',\n",
       " 'LWS',\n",
       " 'LUT',\n",
       " 'LTG',\n",
       " 'LTC',\n",
       " 'LSS',\n",
       " 'LSG',\n",
       " 'LQN',\n",
       " 'LPT',\n",
       " 'LPB',\n",
       " 'LO5',\n",
       " 'LNC',\n",
       " 'LMI',\n",
       " 'LMH',\n",
       " 'LMC',\n",
       " 'LM8',\n",
       " 'LM7',\n",
       " 'LM3',\n",
       " 'LLM',\n",
       " 'LKW',\n",
       " 'LIX',\n",
       " 'LIG',\n",
       " 'LIC',\n",
       " 'LHG',\n",
       " 'LHC',\n",
       " 'LGM',\n",
       " 'LGL',\n",
       " 'LGC',\n",
       " 'LG9',\n",
       " 'LEC',\n",
       " 'LDW',\n",
       " 'LDP',\n",
       " 'LDG',\n",
       " 'LCW',\n",
       " 'LCS',\n",
       " 'LCM',\n",
       " 'LCG',\n",
       " 'LCD',\n",
       " 'LCC',\n",
       " 'LBM',\n",
       " 'LBE',\n",
       " 'LBC',\n",
       " 'LAW',\n",
       " 'LAS',\n",
       " 'LAI',\n",
       " 'LAF',\n",
       " 'L63',\n",
       " 'L62',\n",
       " 'L61',\n",
       " 'L45',\n",
       " 'L44',\n",
       " 'L43',\n",
       " 'L40',\n",
       " 'L35',\n",
       " 'L18',\n",
       " 'L14',\n",
       " 'L12',\n",
       " 'L10',\n",
       " 'KWA',\n",
       " 'KVC',\n",
       " 'KTW',\n",
       " 'KTT',\n",
       " 'KTS',\n",
       " 'KTL',\n",
       " 'KTC',\n",
       " 'KSV',\n",
       " 'KST',\n",
       " 'KSQ',\n",
       " 'KSH',\n",
       " 'KSF',\n",
       " 'KSD',\n",
       " 'KSB',\n",
       " 'KPF',\n",
       " 'KOS',\n",
       " 'KMT',\n",
       " 'KMR',\n",
       " 'KLM',\n",
       " 'KLF',\n",
       " 'KLB',\n",
       " 'KKC',\n",
       " 'KIP',\n",
       " 'KHW',\n",
       " 'KHS',\n",
       " 'KHP',\n",
       " 'KHL',\n",
       " 'KHG',\n",
       " 'KHD',\n",
       " 'KHB',\n",
       " 'KHA',\n",
       " 'KGM',\n",
       " 'KDM',\n",
       " 'KDH',\n",
       " 'KDC',\n",
       " 'KCE',\n",
       " 'KCB',\n",
       " 'KBC',\n",
       " 'KAC',\n",
       " 'JVC',\n",
       " 'JOS',\n",
       " 'IVS',\n",
       " 'ITS',\n",
       " 'ITQ',\n",
       " 'ITD',\n",
       " 'ITC',\n",
       " 'ITA',\n",
       " 'IST',\n",
       " 'ISH',\n",
       " ...]"
      ]
     },
     "execution_count": 1,
     "metadata": {},
     "output_type": "execute_result"
    }
   ],
   "source": [
    "#getting all symbols\n",
    "from vnstock import Listing\n",
    "import time\n",
    "import pandas as pd\n",
    "listing = Listing()\n",
    "symbols = listing.all_symbols()\n",
    "symbol_list = list(symbols['symbol'])\n",
    "symbol_list"
   ]
  },
  {
   "cell_type": "code",
   "execution_count": 7,
   "id": "33c52056",
   "metadata": {},
   "outputs": [],
   "source": [
    "lsterr = []"
   ]
  },
  {
   "cell_type": "code",
   "execution_count": 9,
   "id": "d26475cd",
   "metadata": {},
   "outputs": [
    {
     "name": "stderr",
     "output_type": "stream",
     "text": [
      "Downcasting object dtype arrays on .fillna, .ffill, .bfill is deprecated and will change in a future version. Call result.infer_objects(copy=False) instead. To opt-in to the future behavior, set `pd.set_option('future.no_silent_downcasting', True)`\n"
     ]
    },
    {
     "name": "stdout",
     "output_type": "stream",
     "text": [
      "mined at 0\n",
      "mined at 1\n",
      "mined at 2\n",
      "mined at 3\n",
      "mined at 4\n",
      "mined at 5\n"
     ]
    },
    {
     "name": "stderr",
     "output_type": "stream",
     "text": [
      "Downcasting object dtype arrays on .fillna, .ffill, .bfill is deprecated and will change in a future version. Call result.infer_objects(copy=False) instead. To opt-in to the future behavior, set `pd.set_option('future.no_silent_downcasting', True)`\n"
     ]
    },
    {
     "name": "stdout",
     "output_type": "stream",
     "text": [
      "mined at 6\n",
      "mined at 7\n"
     ]
    },
    {
     "name": "stderr",
     "output_type": "stream",
     "text": [
      "2025-09-28 21:22:27 - vnstock.explorer.vci.financial - ERROR - Error processing financial report data: \"None of [Index(['ticker', 'yearReport', 'lengthReport'], dtype='object')] are in the [columns]\"\n",
      "2025-09-28 21:22:27 - vnstock.explorer.vci.financial - ERROR - Error processing report 'Chỉ tiêu kết quả kinh doanh': \"None of [Index(['ticker', 'yearReport', 'lengthReport'], dtype='object')] are in the [columns]\"\n",
      "2025-09-28 21:22:27 - vnstock.common.data.data_explorer - ERROR - Lỗi khi truy xuất dữ liệu income_statement: \"None of [Index(['ticker', 'yearReport', 'lengthReport'], dtype='object')] are in the [columns]\"\n"
     ]
    },
    {
     "name": "stdout",
     "output_type": "stream",
     "text": [
      "err at 8\n",
      "mined at 9\n",
      "mined at 10\n"
     ]
    },
    {
     "name": "stderr",
     "output_type": "stream",
     "text": [
      "2025-09-28 21:22:57 - vnstock.explorer.vci.financial - ERROR - Error processing financial report data: \"None of [Index(['ticker', 'yearReport', 'lengthReport'], dtype='object')] are in the [columns]\"\n",
      "2025-09-28 21:22:57 - vnstock.explorer.vci.financial - ERROR - Error processing report 'Chỉ tiêu kết quả kinh doanh': \"None of [Index(['ticker', 'yearReport', 'lengthReport'], dtype='object')] are in the [columns]\"\n",
      "2025-09-28 21:22:57 - vnstock.common.data.data_explorer - ERROR - Lỗi khi truy xuất dữ liệu income_statement: \"None of [Index(['ticker', 'yearReport', 'lengthReport'], dtype='object')] are in the [columns]\"\n"
     ]
    },
    {
     "name": "stdout",
     "output_type": "stream",
     "text": [
      "err at 11\n"
     ]
    },
    {
     "name": "stderr",
     "output_type": "stream",
     "text": [
      "Downcasting object dtype arrays on .fillna, .ffill, .bfill is deprecated and will change in a future version. Call result.infer_objects(copy=False) instead. To opt-in to the future behavior, set `pd.set_option('future.no_silent_downcasting', True)`\n"
     ]
    },
    {
     "name": "stdout",
     "output_type": "stream",
     "text": [
      "mined at 12\n"
     ]
    },
    {
     "name": "stderr",
     "output_type": "stream",
     "text": [
      "2025-09-28 21:23:20 - vnstock.explorer.vci.financial - ERROR - Error processing financial report data: \"None of [Index(['ticker', 'yearReport', 'lengthReport'], dtype='object')] are in the [columns]\"\n",
      "2025-09-28 21:23:20 - vnstock.explorer.vci.financial - ERROR - Error processing report 'Chỉ tiêu kết quả kinh doanh': \"None of [Index(['ticker', 'yearReport', 'lengthReport'], dtype='object')] are in the [columns]\"\n",
      "2025-09-28 21:23:20 - vnstock.common.data.data_explorer - ERROR - Lỗi khi truy xuất dữ liệu income_statement: \"None of [Index(['ticker', 'yearReport', 'lengthReport'], dtype='object')] are in the [columns]\"\n"
     ]
    },
    {
     "name": "stdout",
     "output_type": "stream",
     "text": [
      "err at 13\n",
      "mined at 14\n"
     ]
    },
    {
     "name": "stderr",
     "output_type": "stream",
     "text": [
      "2025-09-28 21:23:37 - vnstock.explorer.vci.financial - ERROR - Error processing financial report data: \"None of [Index(['ticker', 'yearReport', 'lengthReport'], dtype='object')] are in the [columns]\"\n",
      "2025-09-28 21:23:37 - vnstock.explorer.vci.financial - ERROR - Error processing report 'Chỉ tiêu kết quả kinh doanh': \"None of [Index(['ticker', 'yearReport', 'lengthReport'], dtype='object')] are in the [columns]\"\n",
      "2025-09-28 21:23:37 - vnstock.common.data.data_explorer - ERROR - Lỗi khi truy xuất dữ liệu income_statement: \"None of [Index(['ticker', 'yearReport', 'lengthReport'], dtype='object')] are in the [columns]\"\n"
     ]
    },
    {
     "name": "stdout",
     "output_type": "stream",
     "text": [
      "err at 15\n",
      "mined at 16\n",
      "mined at 17\n",
      "mined at 18\n"
     ]
    },
    {
     "name": "stderr",
     "output_type": "stream",
     "text": [
      "Downcasting object dtype arrays on .fillna, .ffill, .bfill is deprecated and will change in a future version. Call result.infer_objects(copy=False) instead. To opt-in to the future behavior, set `pd.set_option('future.no_silent_downcasting', True)`\n"
     ]
    },
    {
     "name": "stdout",
     "output_type": "stream",
     "text": [
      "mined at 19\n"
     ]
    },
    {
     "name": "stderr",
     "output_type": "stream",
     "text": [
      "Downcasting object dtype arrays on .fillna, .ffill, .bfill is deprecated and will change in a future version. Call result.infer_objects(copy=False) instead. To opt-in to the future behavior, set `pd.set_option('future.no_silent_downcasting', True)`\n"
     ]
    },
    {
     "name": "stdout",
     "output_type": "stream",
     "text": [
      "mined at 20\n",
      "mined at 21\n"
     ]
    },
    {
     "name": "stderr",
     "output_type": "stream",
     "text": [
      "2025-09-28 21:24:47 - vnstock.explorer.vci.financial - ERROR - Error processing financial report data: \"None of [Index(['ticker', 'yearReport', 'lengthReport'], dtype='object')] are in the [columns]\"\n",
      "2025-09-28 21:24:47 - vnstock.explorer.vci.financial - ERROR - Error processing report 'Chỉ tiêu kết quả kinh doanh': \"None of [Index(['ticker', 'yearReport', 'lengthReport'], dtype='object')] are in the [columns]\"\n",
      "2025-09-28 21:24:47 - vnstock.common.data.data_explorer - ERROR - Lỗi khi truy xuất dữ liệu income_statement: \"None of [Index(['ticker', 'yearReport', 'lengthReport'], dtype='object')] are in the [columns]\"\n"
     ]
    },
    {
     "name": "stdout",
     "output_type": "stream",
     "text": [
      "err at 22\n"
     ]
    },
    {
     "name": "stderr",
     "output_type": "stream",
     "text": [
      "2025-09-28 21:24:58 - vnstock.explorer.vci.financial - ERROR - Error processing financial report data: \"None of [Index(['ticker', 'yearReport', 'lengthReport'], dtype='object')] are in the [columns]\"\n",
      "2025-09-28 21:24:58 - vnstock.explorer.vci.financial - ERROR - Error processing report 'Chỉ tiêu kết quả kinh doanh': \"None of [Index(['ticker', 'yearReport', 'lengthReport'], dtype='object')] are in the [columns]\"\n",
      "2025-09-28 21:24:58 - vnstock.common.data.data_explorer - ERROR - Lỗi khi truy xuất dữ liệu income_statement: \"None of [Index(['ticker', 'yearReport', 'lengthReport'], dtype='object')] are in the [columns]\"\n"
     ]
    },
    {
     "name": "stdout",
     "output_type": "stream",
     "text": [
      "err at 23\n",
      "mined at 24\n",
      "mined at 25\n",
      "mined at 26\n",
      "mined at 27\n",
      "mined at 28\n",
      "mined at 29\n"
     ]
    },
    {
     "name": "stderr",
     "output_type": "stream",
     "text": [
      "2025-09-28 21:25:45 - vnstock.explorer.vci.financial - ERROR - Error processing financial report data: Failed to fetch data: 502 - Bad Gateway\n",
      "2025-09-28 21:25:45 - vnstock.explorer.vci.financial - ERROR - Error processing report 'Chỉ tiêu kết quả kinh doanh': Failed to fetch data: 502 - Bad Gateway\n",
      "2025-09-28 21:25:45 - vnstock.common.data.data_explorer - ERROR - Lỗi khi truy xuất dữ liệu income_statement: Failed to fetch data: 502 - Bad Gateway\n"
     ]
    },
    {
     "name": "stdout",
     "output_type": "stream",
     "text": [
      "err at 30\n",
      "mined at 31\n",
      "mined at 32\n",
      "mined at 33\n",
      "mined at 34\n"
     ]
    },
    {
     "name": "stderr",
     "output_type": "stream",
     "text": [
      "2025-09-28 21:26:28 - vnstock.explorer.vci.financial - ERROR - Error processing financial report data: \"None of [Index(['ticker', 'yearReport', 'lengthReport'], dtype='object')] are in the [columns]\"\n",
      "2025-09-28 21:26:28 - vnstock.explorer.vci.financial - ERROR - Error processing report 'Chỉ tiêu kết quả kinh doanh': \"None of [Index(['ticker', 'yearReport', 'lengthReport'], dtype='object')] are in the [columns]\"\n",
      "2025-09-28 21:26:28 - vnstock.common.data.data_explorer - ERROR - Lỗi khi truy xuất dữ liệu income_statement: \"None of [Index(['ticker', 'yearReport', 'lengthReport'], dtype='object')] are in the [columns]\"\n"
     ]
    },
    {
     "name": "stdout",
     "output_type": "stream",
     "text": [
      "err at 35\n",
      "mined at 36\n"
     ]
    },
    {
     "name": "stderr",
     "output_type": "stream",
     "text": [
      "2025-09-28 21:27:00 - vnstock.explorer.vci.financial - ERROR - Error processing financial report data: \"None of [Index(['ticker', 'yearReport', 'lengthReport'], dtype='object')] are in the [columns]\"\n",
      "2025-09-28 21:27:00 - vnstock.explorer.vci.financial - ERROR - Error processing report 'Chỉ tiêu kết quả kinh doanh': \"None of [Index(['ticker', 'yearReport', 'lengthReport'], dtype='object')] are in the [columns]\"\n",
      "2025-09-28 21:27:00 - vnstock.common.data.data_explorer - ERROR - Lỗi khi truy xuất dữ liệu income_statement: \"None of [Index(['ticker', 'yearReport', 'lengthReport'], dtype='object')] are in the [columns]\"\n"
     ]
    },
    {
     "name": "stdout",
     "output_type": "stream",
     "text": [
      "err at 37\n",
      "mined at 38\n"
     ]
    },
    {
     "name": "stderr",
     "output_type": "stream",
     "text": [
      "2025-09-28 21:27:16 - vnstock.explorer.vci.financial - ERROR - Error processing financial report data: \"None of [Index(['ticker', 'yearReport', 'lengthReport'], dtype='object')] are in the [columns]\"\n",
      "2025-09-28 21:27:16 - vnstock.explorer.vci.financial - ERROR - Error processing report 'Chỉ tiêu kết quả kinh doanh': \"None of [Index(['ticker', 'yearReport', 'lengthReport'], dtype='object')] are in the [columns]\"\n",
      "2025-09-28 21:27:16 - vnstock.common.data.data_explorer - ERROR - Lỗi khi truy xuất dữ liệu income_statement: \"None of [Index(['ticker', 'yearReport', 'lengthReport'], dtype='object')] are in the [columns]\"\n"
     ]
    },
    {
     "name": "stdout",
     "output_type": "stream",
     "text": [
      "err at 39\n",
      "mined at 40\n",
      "mined at 41\n",
      "mined at 42\n",
      "mined at 43\n",
      "mined at 44\n",
      "mined at 45\n",
      "mined at 46\n",
      "mined at 47\n"
     ]
    },
    {
     "name": "stderr",
     "output_type": "stream",
     "text": [
      "2025-09-28 21:28:36 - vnstock.explorer.vci.financial - ERROR - Error processing financial report data: \"None of [Index(['ticker', 'yearReport', 'lengthReport'], dtype='object')] are in the [columns]\"\n",
      "2025-09-28 21:28:36 - vnstock.explorer.vci.financial - ERROR - Error processing report 'Chỉ tiêu kết quả kinh doanh': \"None of [Index(['ticker', 'yearReport', 'lengthReport'], dtype='object')] are in the [columns]\"\n",
      "2025-09-28 21:28:36 - vnstock.common.data.data_explorer - ERROR - Lỗi khi truy xuất dữ liệu income_statement: \"None of [Index(['ticker', 'yearReport', 'lengthReport'], dtype='object')] are in the [columns]\"\n"
     ]
    },
    {
     "name": "stdout",
     "output_type": "stream",
     "text": [
      "err at 48\n",
      "mined at 49\n",
      "mined at 50\n",
      "mined at 51\n",
      "mined at 52\n",
      "mined at 53\n",
      "mined at 54\n"
     ]
    },
    {
     "name": "stderr",
     "output_type": "stream",
     "text": [
      "2025-09-28 21:30:12 - vnstock.explorer.vci.financial - ERROR - Error processing financial report data: \"None of [Index(['ticker', 'yearReport', 'lengthReport'], dtype='object')] are in the [columns]\"\n",
      "2025-09-28 21:30:12 - vnstock.explorer.vci.financial - ERROR - Error processing report 'Chỉ tiêu kết quả kinh doanh': \"None of [Index(['ticker', 'yearReport', 'lengthReport'], dtype='object')] are in the [columns]\"\n",
      "2025-09-28 21:30:12 - vnstock.common.data.data_explorer - ERROR - Lỗi khi truy xuất dữ liệu income_statement: \"None of [Index(['ticker', 'yearReport', 'lengthReport'], dtype='object')] are in the [columns]\"\n"
     ]
    },
    {
     "name": "stdout",
     "output_type": "stream",
     "text": [
      "err at 55\n",
      "mined at 56\n",
      "mined at 57\n",
      "mined at 58\n",
      "mined at 59\n",
      "mined at 60\n",
      "mined at 61\n"
     ]
    },
    {
     "name": "stderr",
     "output_type": "stream",
     "text": [
      "2025-09-28 21:31:37 - vnstock.explorer.vci.financial - ERROR - Error processing financial report data: \"None of [Index(['ticker', 'yearReport', 'lengthReport'], dtype='object')] are in the [columns]\"\n",
      "2025-09-28 21:31:37 - vnstock.explorer.vci.financial - ERROR - Error processing report 'Chỉ tiêu kết quả kinh doanh': \"None of [Index(['ticker', 'yearReport', 'lengthReport'], dtype='object')] are in the [columns]\"\n",
      "2025-09-28 21:31:37 - vnstock.common.data.data_explorer - ERROR - Lỗi khi truy xuất dữ liệu income_statement: \"None of [Index(['ticker', 'yearReport', 'lengthReport'], dtype='object')] are in the [columns]\"\n"
     ]
    },
    {
     "name": "stdout",
     "output_type": "stream",
     "text": [
      "err at 62\n",
      "mined at 63\n"
     ]
    },
    {
     "name": "stderr",
     "output_type": "stream",
     "text": [
      "2025-09-28 21:31:50 - vnstock.explorer.vci.financial - ERROR - Error processing financial report data: \"None of [Index(['ticker', 'yearReport', 'lengthReport'], dtype='object')] are in the [columns]\"\n",
      "2025-09-28 21:31:50 - vnstock.explorer.vci.financial - ERROR - Error processing report 'Chỉ tiêu kết quả kinh doanh': \"None of [Index(['ticker', 'yearReport', 'lengthReport'], dtype='object')] are in the [columns]\"\n",
      "2025-09-28 21:31:50 - vnstock.common.data.data_explorer - ERROR - Lỗi khi truy xuất dữ liệu income_statement: \"None of [Index(['ticker', 'yearReport', 'lengthReport'], dtype='object')] are in the [columns]\"\n"
     ]
    },
    {
     "name": "stdout",
     "output_type": "stream",
     "text": [
      "err at 64\n",
      "mined at 65\n",
      "mined at 66\n",
      "mined at 67\n",
      "mined at 68\n",
      "mined at 69\n",
      "mined at 70\n",
      "mined at 71\n",
      "mined at 72\n",
      "mined at 73\n",
      "mined at 74\n",
      "mined at 75\n",
      "mined at 76\n"
     ]
    },
    {
     "name": "stderr",
     "output_type": "stream",
     "text": [
      "2025-09-28 21:34:14 - vnstock.explorer.vci.financial - ERROR - Error processing financial report data: \"None of [Index(['ticker', 'yearReport', 'lengthReport'], dtype='object')] are in the [columns]\"\n",
      "2025-09-28 21:34:14 - vnstock.explorer.vci.financial - ERROR - Error processing report 'Chỉ tiêu kết quả kinh doanh': \"None of [Index(['ticker', 'yearReport', 'lengthReport'], dtype='object')] are in the [columns]\"\n",
      "2025-09-28 21:34:14 - vnstock.common.data.data_explorer - ERROR - Lỗi khi truy xuất dữ liệu income_statement: \"None of [Index(['ticker', 'yearReport', 'lengthReport'], dtype='object')] are in the [columns]\"\n"
     ]
    },
    {
     "name": "stdout",
     "output_type": "stream",
     "text": [
      "err at 77\n",
      "mined at 78\n",
      "mined at 79\n",
      "mined at 80\n",
      "mined at 81\n",
      "mined at 82\n",
      "mined at 83\n",
      "mined at 84\n",
      "mined at 85\n",
      "mined at 86\n",
      "mined at 87\n",
      "mined at 88\n",
      "mined at 89\n",
      "mined at 90\n",
      "mined at 91\n",
      "mined at 92\n"
     ]
    },
    {
     "name": "stderr",
     "output_type": "stream",
     "text": [
      "2025-09-28 21:36:30 - vnstock.explorer.vci.financial - ERROR - Error processing financial report data: \"None of [Index(['ticker', 'yearReport', 'lengthReport'], dtype='object')] are in the [columns]\"\n",
      "2025-09-28 21:36:30 - vnstock.explorer.vci.financial - ERROR - Error processing report 'Chỉ tiêu kết quả kinh doanh': \"None of [Index(['ticker', 'yearReport', 'lengthReport'], dtype='object')] are in the [columns]\"\n",
      "2025-09-28 21:36:30 - vnstock.common.data.data_explorer - ERROR - Lỗi khi truy xuất dữ liệu income_statement: \"None of [Index(['ticker', 'yearReport', 'lengthReport'], dtype='object')] are in the [columns]\"\n"
     ]
    },
    {
     "name": "stdout",
     "output_type": "stream",
     "text": [
      "err at 93\n",
      "mined at 94\n"
     ]
    },
    {
     "name": "stderr",
     "output_type": "stream",
     "text": [
      "2025-09-28 21:36:49 - vnstock.explorer.vci.financial - ERROR - Error processing financial report data: \"None of [Index(['ticker', 'yearReport', 'lengthReport'], dtype='object')] are in the [columns]\"\n",
      "2025-09-28 21:36:49 - vnstock.explorer.vci.financial - ERROR - Error processing report 'Chỉ tiêu kết quả kinh doanh': \"None of [Index(['ticker', 'yearReport', 'lengthReport'], dtype='object')] are in the [columns]\"\n",
      "2025-09-28 21:36:49 - vnstock.common.data.data_explorer - ERROR - Lỗi khi truy xuất dữ liệu income_statement: \"None of [Index(['ticker', 'yearReport', 'lengthReport'], dtype='object')] are in the [columns]\"\n"
     ]
    },
    {
     "name": "stdout",
     "output_type": "stream",
     "text": [
      "err at 95\n",
      "mined at 96\n",
      "mined at 97\n",
      "mined at 98\n",
      "mined at 99\n"
     ]
    },
    {
     "name": "stderr",
     "output_type": "stream",
     "text": [
      "Downcasting object dtype arrays on .fillna, .ffill, .bfill is deprecated and will change in a future version. Call result.infer_objects(copy=False) instead. To opt-in to the future behavior, set `pd.set_option('future.no_silent_downcasting', True)`\n"
     ]
    },
    {
     "name": "stdout",
     "output_type": "stream",
     "text": [
      "mined at 100\n",
      "mined at 101\n"
     ]
    },
    {
     "name": "stderr",
     "output_type": "stream",
     "text": [
      "Downcasting object dtype arrays on .fillna, .ffill, .bfill is deprecated and will change in a future version. Call result.infer_objects(copy=False) instead. To opt-in to the future behavior, set `pd.set_option('future.no_silent_downcasting', True)`\n"
     ]
    },
    {
     "name": "stdout",
     "output_type": "stream",
     "text": [
      "mined at 102\n",
      "mined at 103\n",
      "mined at 104\n",
      "mined at 105\n",
      "mined at 106\n",
      "mined at 107\n"
     ]
    },
    {
     "name": "stderr",
     "output_type": "stream",
     "text": [
      "Downcasting object dtype arrays on .fillna, .ffill, .bfill is deprecated and will change in a future version. Call result.infer_objects(copy=False) instead. To opt-in to the future behavior, set `pd.set_option('future.no_silent_downcasting', True)`\n"
     ]
    },
    {
     "name": "stdout",
     "output_type": "stream",
     "text": [
      "mined at 108\n"
     ]
    },
    {
     "name": "stderr",
     "output_type": "stream",
     "text": [
      "Downcasting object dtype arrays on .fillna, .ffill, .bfill is deprecated and will change in a future version. Call result.infer_objects(copy=False) instead. To opt-in to the future behavior, set `pd.set_option('future.no_silent_downcasting', True)`\n"
     ]
    },
    {
     "name": "stdout",
     "output_type": "stream",
     "text": [
      "mined at 109\n",
      "mined at 110\n",
      "mined at 111\n",
      "mined at 112\n",
      "mined at 113\n",
      "mined at 114\n",
      "mined at 115\n"
     ]
    },
    {
     "name": "stderr",
     "output_type": "stream",
     "text": [
      "2025-09-28 21:41:01 - vnstock.explorer.vci.financial - ERROR - Error processing financial report data: \"None of [Index(['ticker', 'yearReport', 'lengthReport'], dtype='object')] are in the [columns]\"\n",
      "2025-09-28 21:41:01 - vnstock.explorer.vci.financial - ERROR - Error processing report 'Chỉ tiêu kết quả kinh doanh': \"None of [Index(['ticker', 'yearReport', 'lengthReport'], dtype='object')] are in the [columns]\"\n",
      "2025-09-28 21:41:01 - vnstock.common.data.data_explorer - ERROR - Lỗi khi truy xuất dữ liệu income_statement: \"None of [Index(['ticker', 'yearReport', 'lengthReport'], dtype='object')] are in the [columns]\"\n"
     ]
    },
    {
     "name": "stdout",
     "output_type": "stream",
     "text": [
      "err at 116\n",
      "mined at 117\n",
      "mined at 118\n"
     ]
    },
    {
     "name": "stderr",
     "output_type": "stream",
     "text": [
      "2025-09-28 21:41:26 - vnstock.explorer.vci.financial - ERROR - Error processing financial report data: \"None of [Index(['ticker', 'yearReport', 'lengthReport'], dtype='object')] are in the [columns]\"\n",
      "2025-09-28 21:41:26 - vnstock.explorer.vci.financial - ERROR - Error processing report 'Chỉ tiêu kết quả kinh doanh': \"None of [Index(['ticker', 'yearReport', 'lengthReport'], dtype='object')] are in the [columns]\"\n",
      "2025-09-28 21:41:26 - vnstock.common.data.data_explorer - ERROR - Lỗi khi truy xuất dữ liệu income_statement: \"None of [Index(['ticker', 'yearReport', 'lengthReport'], dtype='object')] are in the [columns]\"\n"
     ]
    },
    {
     "name": "stdout",
     "output_type": "stream",
     "text": [
      "err at 119\n"
     ]
    },
    {
     "name": "stderr",
     "output_type": "stream",
     "text": [
      "Downcasting object dtype arrays on .fillna, .ffill, .bfill is deprecated and will change in a future version. Call result.infer_objects(copy=False) instead. To opt-in to the future behavior, set `pd.set_option('future.no_silent_downcasting', True)`\n"
     ]
    },
    {
     "name": "stdout",
     "output_type": "stream",
     "text": [
      "mined at 120\n",
      "mined at 121\n",
      "mined at 122\n",
      "mined at 123\n",
      "mined at 124\n",
      "mined at 125\n",
      "mined at 126\n",
      "mined at 127\n",
      "mined at 128\n"
     ]
    },
    {
     "name": "stderr",
     "output_type": "stream",
     "text": [
      "2025-09-28 21:43:11 - vnstock.explorer.vci.financial - ERROR - Error processing financial report data: \"None of [Index(['ticker', 'yearReport', 'lengthReport'], dtype='object')] are in the [columns]\"\n",
      "2025-09-28 21:43:11 - vnstock.explorer.vci.financial - ERROR - Error processing report 'Chỉ tiêu kết quả kinh doanh': \"None of [Index(['ticker', 'yearReport', 'lengthReport'], dtype='object')] are in the [columns]\"\n",
      "2025-09-28 21:43:11 - vnstock.common.data.data_explorer - ERROR - Lỗi khi truy xuất dữ liệu income_statement: \"None of [Index(['ticker', 'yearReport', 'lengthReport'], dtype='object')] are in the [columns]\"\n"
     ]
    },
    {
     "name": "stdout",
     "output_type": "stream",
     "text": [
      "err at 129\n",
      "mined at 130\n",
      "mined at 131\n",
      "mined at 132\n",
      "mined at 133\n",
      "mined at 134\n",
      "mined at 135\n",
      "mined at 136\n",
      "mined at 137\n",
      "mined at 138\n",
      "err at 139\n",
      "mined at 140\n",
      "mined at 141\n",
      "mined at 142\n",
      "mined at 143\n",
      "mined at 144\n",
      "mined at 145\n",
      "mined at 146\n",
      "mined at 147\n",
      "mined at 148\n",
      "mined at 149\n"
     ]
    },
    {
     "name": "stderr",
     "output_type": "stream",
     "text": [
      "Downcasting object dtype arrays on .fillna, .ffill, .bfill is deprecated and will change in a future version. Call result.infer_objects(copy=False) instead. To opt-in to the future behavior, set `pd.set_option('future.no_silent_downcasting', True)`\n"
     ]
    },
    {
     "name": "stdout",
     "output_type": "stream",
     "text": [
      "mined at 150\n",
      "mined at 151\n",
      "mined at 152\n",
      "mined at 153\n",
      "mined at 154\n",
      "mined at 155\n",
      "mined at 156\n",
      "mined at 157\n",
      "mined at 158\n",
      "mined at 159\n"
     ]
    },
    {
     "name": "stderr",
     "output_type": "stream",
     "text": [
      "2025-09-28 21:47:52 - vnstock.explorer.vci.financial - ERROR - Error processing financial report data: \"None of [Index(['ticker', 'yearReport', 'lengthReport'], dtype='object')] are in the [columns]\"\n",
      "2025-09-28 21:47:52 - vnstock.explorer.vci.financial - ERROR - Error processing report 'Chỉ tiêu kết quả kinh doanh': \"None of [Index(['ticker', 'yearReport', 'lengthReport'], dtype='object')] are in the [columns]\"\n",
      "2025-09-28 21:47:52 - vnstock.common.data.data_explorer - ERROR - Lỗi khi truy xuất dữ liệu income_statement: \"None of [Index(['ticker', 'yearReport', 'lengthReport'], dtype='object')] are in the [columns]\"\n"
     ]
    },
    {
     "name": "stdout",
     "output_type": "stream",
     "text": [
      "err at 160\n",
      "mined at 161\n",
      "mined at 162\n"
     ]
    },
    {
     "name": "stderr",
     "output_type": "stream",
     "text": [
      "2025-09-28 21:48:09 - vnstock.explorer.vci.financial - ERROR - Error processing financial report data: \"None of [Index(['ticker', 'yearReport', 'lengthReport'], dtype='object')] are in the [columns]\"\n",
      "2025-09-28 21:48:09 - vnstock.explorer.vci.financial - ERROR - Error processing report 'Chỉ tiêu kết quả kinh doanh': \"None of [Index(['ticker', 'yearReport', 'lengthReport'], dtype='object')] are in the [columns]\"\n",
      "2025-09-28 21:48:09 - vnstock.common.data.data_explorer - ERROR - Lỗi khi truy xuất dữ liệu income_statement: \"None of [Index(['ticker', 'yearReport', 'lengthReport'], dtype='object')] are in the [columns]\"\n"
     ]
    },
    {
     "name": "stdout",
     "output_type": "stream",
     "text": [
      "err at 163\n"
     ]
    },
    {
     "name": "stderr",
     "output_type": "stream",
     "text": [
      "2025-09-28 21:48:15 - vnstock.explorer.vci.financial - ERROR - Error processing financial report data: \"None of [Index(['ticker', 'yearReport', 'lengthReport'], dtype='object')] are in the [columns]\"\n",
      "2025-09-28 21:48:15 - vnstock.explorer.vci.financial - ERROR - Error processing report 'Chỉ tiêu kết quả kinh doanh': \"None of [Index(['ticker', 'yearReport', 'lengthReport'], dtype='object')] are in the [columns]\"\n",
      "2025-09-28 21:48:15 - vnstock.common.data.data_explorer - ERROR - Lỗi khi truy xuất dữ liệu income_statement: \"None of [Index(['ticker', 'yearReport', 'lengthReport'], dtype='object')] are in the [columns]\"\n"
     ]
    },
    {
     "name": "stdout",
     "output_type": "stream",
     "text": [
      "err at 164\n",
      "mined at 165\n"
     ]
    },
    {
     "name": "stderr",
     "output_type": "stream",
     "text": [
      "2025-09-28 21:48:37 - vnstock.explorer.vci.financial - ERROR - Error processing financial report data: \"None of [Index(['ticker', 'yearReport', 'lengthReport'], dtype='object')] are in the [columns]\"\n",
      "2025-09-28 21:48:37 - vnstock.explorer.vci.financial - ERROR - Error processing report 'Chỉ tiêu kết quả kinh doanh': \"None of [Index(['ticker', 'yearReport', 'lengthReport'], dtype='object')] are in the [columns]\"\n",
      "2025-09-28 21:48:37 - vnstock.common.data.data_explorer - ERROR - Lỗi khi truy xuất dữ liệu income_statement: \"None of [Index(['ticker', 'yearReport', 'lengthReport'], dtype='object')] are in the [columns]\"\n"
     ]
    },
    {
     "name": "stdout",
     "output_type": "stream",
     "text": [
      "err at 166\n"
     ]
    },
    {
     "name": "stderr",
     "output_type": "stream",
     "text": [
      "2025-09-28 21:48:43 - vnstock.explorer.vci.financial - ERROR - Error processing financial report data: \"None of [Index(['ticker', 'yearReport', 'lengthReport'], dtype='object')] are in the [columns]\"\n",
      "2025-09-28 21:48:43 - vnstock.explorer.vci.financial - ERROR - Error processing report 'Chỉ tiêu kết quả kinh doanh': \"None of [Index(['ticker', 'yearReport', 'lengthReport'], dtype='object')] are in the [columns]\"\n",
      "2025-09-28 21:48:43 - vnstock.common.data.data_explorer - ERROR - Lỗi khi truy xuất dữ liệu income_statement: \"None of [Index(['ticker', 'yearReport', 'lengthReport'], dtype='object')] are in the [columns]\"\n"
     ]
    },
    {
     "name": "stdout",
     "output_type": "stream",
     "text": [
      "err at 167\n",
      "mined at 168\n",
      "mined at 169\n"
     ]
    },
    {
     "name": "stderr",
     "output_type": "stream",
     "text": [
      "2025-09-28 21:49:01 - vnstock.explorer.vci.financial - ERROR - Error processing financial report data: \"None of [Index(['ticker', 'yearReport', 'lengthReport'], dtype='object')] are in the [columns]\"\n",
      "2025-09-28 21:49:01 - vnstock.explorer.vci.financial - ERROR - Error processing report 'Chỉ tiêu kết quả kinh doanh': \"None of [Index(['ticker', 'yearReport', 'lengthReport'], dtype='object')] are in the [columns]\"\n",
      "2025-09-28 21:49:01 - vnstock.common.data.data_explorer - ERROR - Lỗi khi truy xuất dữ liệu income_statement: \"None of [Index(['ticker', 'yearReport', 'lengthReport'], dtype='object')] are in the [columns]\"\n"
     ]
    },
    {
     "name": "stdout",
     "output_type": "stream",
     "text": [
      "err at 170\n",
      "mined at 171\n",
      "mined at 172\n",
      "mined at 173\n",
      "mined at 174\n",
      "mined at 175\n",
      "mined at 176\n",
      "mined at 177\n"
     ]
    },
    {
     "name": "stderr",
     "output_type": "stream",
     "text": [
      "Downcasting object dtype arrays on .fillna, .ffill, .bfill is deprecated and will change in a future version. Call result.infer_objects(copy=False) instead. To opt-in to the future behavior, set `pd.set_option('future.no_silent_downcasting', True)`\n"
     ]
    },
    {
     "name": "stdout",
     "output_type": "stream",
     "text": [
      "mined at 178\n",
      "mined at 179\n",
      "mined at 180\n",
      "mined at 181\n",
      "mined at 182\n",
      "mined at 183\n",
      "mined at 184\n",
      "mined at 185\n",
      "mined at 186\n",
      "mined at 187\n",
      "mined at 188\n",
      "mined at 189\n"
     ]
    },
    {
     "name": "stderr",
     "output_type": "stream",
     "text": [
      "Downcasting object dtype arrays on .fillna, .ffill, .bfill is deprecated and will change in a future version. Call result.infer_objects(copy=False) instead. To opt-in to the future behavior, set `pd.set_option('future.no_silent_downcasting', True)`\n"
     ]
    },
    {
     "name": "stdout",
     "output_type": "stream",
     "text": [
      "mined at 190\n",
      "mined at 191\n",
      "mined at 192\n",
      "mined at 193\n",
      "mined at 194\n",
      "mined at 195\n",
      "mined at 196\n",
      "mined at 197\n",
      "mined at 198\n",
      "mined at 199\n",
      "mined at 200\n",
      "mined at 201\n"
     ]
    },
    {
     "name": "stderr",
     "output_type": "stream",
     "text": [
      "2025-09-28 21:54:15 - vnstock.explorer.vci.financial - ERROR - Error processing financial report data: \"None of [Index(['ticker', 'yearReport', 'lengthReport'], dtype='object')] are in the [columns]\"\n",
      "2025-09-28 21:54:15 - vnstock.explorer.vci.financial - ERROR - Error processing report 'Chỉ tiêu kết quả kinh doanh': \"None of [Index(['ticker', 'yearReport', 'lengthReport'], dtype='object')] are in the [columns]\"\n",
      "2025-09-28 21:54:15 - vnstock.common.data.data_explorer - ERROR - Lỗi khi truy xuất dữ liệu income_statement: \"None of [Index(['ticker', 'yearReport', 'lengthReport'], dtype='object')] are in the [columns]\"\n"
     ]
    },
    {
     "name": "stdout",
     "output_type": "stream",
     "text": [
      "err at 202\n"
     ]
    },
    {
     "name": "stderr",
     "output_type": "stream",
     "text": [
      "2025-09-28 21:54:21 - vnstock.explorer.vci.financial - ERROR - Error processing financial report data: \"None of [Index(['ticker', 'yearReport', 'lengthReport'], dtype='object')] are in the [columns]\"\n",
      "2025-09-28 21:54:21 - vnstock.explorer.vci.financial - ERROR - Error processing report 'Chỉ tiêu kết quả kinh doanh': \"None of [Index(['ticker', 'yearReport', 'lengthReport'], dtype='object')] are in the [columns]\"\n",
      "2025-09-28 21:54:21 - vnstock.common.data.data_explorer - ERROR - Lỗi khi truy xuất dữ liệu income_statement: \"None of [Index(['ticker', 'yearReport', 'lengthReport'], dtype='object')] are in the [columns]\"\n"
     ]
    },
    {
     "name": "stdout",
     "output_type": "stream",
     "text": [
      "err at 203\n",
      "mined at 204\n"
     ]
    },
    {
     "name": "stderr",
     "output_type": "stream",
     "text": [
      "2025-09-28 21:54:36 - vnstock.explorer.vci.financial - ERROR - Error processing financial report data: \"None of [Index(['ticker', 'yearReport', 'lengthReport'], dtype='object')] are in the [columns]\"\n",
      "2025-09-28 21:54:36 - vnstock.explorer.vci.financial - ERROR - Error processing report 'Chỉ tiêu kết quả kinh doanh': \"None of [Index(['ticker', 'yearReport', 'lengthReport'], dtype='object')] are in the [columns]\"\n",
      "2025-09-28 21:54:36 - vnstock.common.data.data_explorer - ERROR - Lỗi khi truy xuất dữ liệu income_statement: \"None of [Index(['ticker', 'yearReport', 'lengthReport'], dtype='object')] are in the [columns]\"\n"
     ]
    },
    {
     "name": "stdout",
     "output_type": "stream",
     "text": [
      "err at 205\n",
      "mined at 206\n"
     ]
    },
    {
     "name": "stderr",
     "output_type": "stream",
     "text": [
      "2025-09-28 21:54:49 - vnstock.explorer.vci.financial - ERROR - Error processing financial report data: \"None of [Index(['ticker', 'yearReport', 'lengthReport'], dtype='object')] are in the [columns]\"\n",
      "2025-09-28 21:54:49 - vnstock.explorer.vci.financial - ERROR - Error processing report 'Chỉ tiêu kết quả kinh doanh': \"None of [Index(['ticker', 'yearReport', 'lengthReport'], dtype='object')] are in the [columns]\"\n",
      "2025-09-28 21:54:49 - vnstock.common.data.data_explorer - ERROR - Lỗi khi truy xuất dữ liệu income_statement: \"None of [Index(['ticker', 'yearReport', 'lengthReport'], dtype='object')] are in the [columns]\"\n"
     ]
    },
    {
     "name": "stdout",
     "output_type": "stream",
     "text": [
      "err at 207\n",
      "mined at 208\n"
     ]
    },
    {
     "name": "stderr",
     "output_type": "stream",
     "text": [
      "Downcasting object dtype arrays on .fillna, .ffill, .bfill is deprecated and will change in a future version. Call result.infer_objects(copy=False) instead. To opt-in to the future behavior, set `pd.set_option('future.no_silent_downcasting', True)`\n"
     ]
    },
    {
     "name": "stdout",
     "output_type": "stream",
     "text": [
      "mined at 209\n"
     ]
    },
    {
     "name": "stderr",
     "output_type": "stream",
     "text": [
      "2025-09-28 21:55:15 - vnstock.explorer.vci.financial - ERROR - Error processing financial report data: \"None of [Index(['ticker', 'yearReport', 'lengthReport'], dtype='object')] are in the [columns]\"\n",
      "2025-09-28 21:55:15 - vnstock.explorer.vci.financial - ERROR - Error processing report 'Chỉ tiêu kết quả kinh doanh': \"None of [Index(['ticker', 'yearReport', 'lengthReport'], dtype='object')] are in the [columns]\"\n",
      "2025-09-28 21:55:15 - vnstock.common.data.data_explorer - ERROR - Lỗi khi truy xuất dữ liệu income_statement: \"None of [Index(['ticker', 'yearReport', 'lengthReport'], dtype='object')] are in the [columns]\"\n"
     ]
    },
    {
     "name": "stdout",
     "output_type": "stream",
     "text": [
      "err at 210\n",
      "mined at 211\n",
      "mined at 212\n"
     ]
    },
    {
     "name": "stderr",
     "output_type": "stream",
     "text": [
      "2025-09-28 21:55:41 - vnstock.explorer.vci.financial - ERROR - Error processing financial report data: \"None of [Index(['ticker', 'yearReport', 'lengthReport'], dtype='object')] are in the [columns]\"\n",
      "2025-09-28 21:55:41 - vnstock.explorer.vci.financial - ERROR - Error processing report 'Chỉ tiêu kết quả kinh doanh': \"None of [Index(['ticker', 'yearReport', 'lengthReport'], dtype='object')] are in the [columns]\"\n",
      "2025-09-28 21:55:41 - vnstock.common.data.data_explorer - ERROR - Lỗi khi truy xuất dữ liệu income_statement: \"None of [Index(['ticker', 'yearReport', 'lengthReport'], dtype='object')] are in the [columns]\"\n"
     ]
    },
    {
     "name": "stdout",
     "output_type": "stream",
     "text": [
      "err at 213\n",
      "mined at 214\n",
      "mined at 215\n"
     ]
    },
    {
     "name": "stderr",
     "output_type": "stream",
     "text": [
      "2025-09-28 21:56:04 - vnstock.explorer.vci.financial - ERROR - Error processing financial report data: \"None of [Index(['ticker', 'yearReport', 'lengthReport'], dtype='object')] are in the [columns]\"\n",
      "2025-09-28 21:56:04 - vnstock.explorer.vci.financial - ERROR - Error processing report 'Chỉ tiêu kết quả kinh doanh': \"None of [Index(['ticker', 'yearReport', 'lengthReport'], dtype='object')] are in the [columns]\"\n",
      "2025-09-28 21:56:04 - vnstock.common.data.data_explorer - ERROR - Lỗi khi truy xuất dữ liệu income_statement: \"None of [Index(['ticker', 'yearReport', 'lengthReport'], dtype='object')] are in the [columns]\"\n"
     ]
    },
    {
     "name": "stdout",
     "output_type": "stream",
     "text": [
      "err at 216\n",
      "mined at 217\n",
      "mined at 218\n",
      "mined at 219\n",
      "mined at 220\n",
      "mined at 221\n"
     ]
    },
    {
     "name": "stderr",
     "output_type": "stream",
     "text": [
      "Downcasting object dtype arrays on .fillna, .ffill, .bfill is deprecated and will change in a future version. Call result.infer_objects(copy=False) instead. To opt-in to the future behavior, set `pd.set_option('future.no_silent_downcasting', True)`\n"
     ]
    },
    {
     "name": "stdout",
     "output_type": "stream",
     "text": [
      "mined at 222\n"
     ]
    },
    {
     "name": "stderr",
     "output_type": "stream",
     "text": [
      "2025-09-28 21:57:05 - vnstock.explorer.vci.financial - ERROR - Error processing financial report data: \"None of [Index(['ticker', 'yearReport', 'lengthReport'], dtype='object')] are in the [columns]\"\n",
      "2025-09-28 21:57:05 - vnstock.explorer.vci.financial - ERROR - Error processing report 'Chỉ tiêu kết quả kinh doanh': \"None of [Index(['ticker', 'yearReport', 'lengthReport'], dtype='object')] are in the [columns]\"\n",
      "2025-09-28 21:57:05 - vnstock.common.data.data_explorer - ERROR - Lỗi khi truy xuất dữ liệu income_statement: \"None of [Index(['ticker', 'yearReport', 'lengthReport'], dtype='object')] are in the [columns]\"\n"
     ]
    },
    {
     "name": "stdout",
     "output_type": "stream",
     "text": [
      "err at 223\n"
     ]
    },
    {
     "name": "stderr",
     "output_type": "stream",
     "text": [
      "2025-09-28 21:57:12 - vnstock.explorer.vci.financial - ERROR - Error processing financial report data: \"None of [Index(['ticker', 'yearReport', 'lengthReport'], dtype='object')] are in the [columns]\"\n",
      "2025-09-28 21:57:12 - vnstock.explorer.vci.financial - ERROR - Error processing report 'Chỉ tiêu kết quả kinh doanh': \"None of [Index(['ticker', 'yearReport', 'lengthReport'], dtype='object')] are in the [columns]\"\n",
      "2025-09-28 21:57:12 - vnstock.common.data.data_explorer - ERROR - Lỗi khi truy xuất dữ liệu income_statement: \"None of [Index(['ticker', 'yearReport', 'lengthReport'], dtype='object')] are in the [columns]\"\n"
     ]
    },
    {
     "name": "stdout",
     "output_type": "stream",
     "text": [
      "err at 224\n",
      "mined at 225\n",
      "mined at 226\n",
      "mined at 227\n"
     ]
    },
    {
     "name": "stderr",
     "output_type": "stream",
     "text": [
      "2025-09-28 21:57:44 - vnstock.explorer.vci.financial - ERROR - Error processing financial report data: \"None of [Index(['ticker', 'yearReport', 'lengthReport'], dtype='object')] are in the [columns]\"\n",
      "2025-09-28 21:57:44 - vnstock.explorer.vci.financial - ERROR - Error processing report 'Chỉ tiêu kết quả kinh doanh': \"None of [Index(['ticker', 'yearReport', 'lengthReport'], dtype='object')] are in the [columns]\"\n",
      "2025-09-28 21:57:44 - vnstock.common.data.data_explorer - ERROR - Lỗi khi truy xuất dữ liệu income_statement: \"None of [Index(['ticker', 'yearReport', 'lengthReport'], dtype='object')] are in the [columns]\"\n"
     ]
    },
    {
     "name": "stdout",
     "output_type": "stream",
     "text": [
      "err at 228\n"
     ]
    },
    {
     "name": "stderr",
     "output_type": "stream",
     "text": [
      "2025-09-28 21:57:50 - vnstock.explorer.vci.financial - ERROR - Error processing financial report data: \"None of [Index(['ticker', 'yearReport', 'lengthReport'], dtype='object')] are in the [columns]\"\n",
      "2025-09-28 21:57:50 - vnstock.explorer.vci.financial - ERROR - Error processing report 'Chỉ tiêu kết quả kinh doanh': \"None of [Index(['ticker', 'yearReport', 'lengthReport'], dtype='object')] are in the [columns]\"\n",
      "2025-09-28 21:57:50 - vnstock.common.data.data_explorer - ERROR - Lỗi khi truy xuất dữ liệu income_statement: \"None of [Index(['ticker', 'yearReport', 'lengthReport'], dtype='object')] are in the [columns]\"\n"
     ]
    },
    {
     "name": "stdout",
     "output_type": "stream",
     "text": [
      "err at 229\n",
      "mined at 230\n",
      "mined at 231\n",
      "mined at 232\n",
      "mined at 233\n"
     ]
    },
    {
     "name": "stderr",
     "output_type": "stream",
     "text": [
      "2025-09-28 21:58:46 - vnstock.explorer.vci.financial - ERROR - Error processing financial report data: \"None of [Index(['ticker', 'yearReport', 'lengthReport'], dtype='object')] are in the [columns]\"\n",
      "2025-09-28 21:58:46 - vnstock.explorer.vci.financial - ERROR - Error processing report 'Chỉ tiêu kết quả kinh doanh': \"None of [Index(['ticker', 'yearReport', 'lengthReport'], dtype='object')] are in the [columns]\"\n",
      "2025-09-28 21:58:46 - vnstock.common.data.data_explorer - ERROR - Lỗi khi truy xuất dữ liệu income_statement: \"None of [Index(['ticker', 'yearReport', 'lengthReport'], dtype='object')] are in the [columns]\"\n"
     ]
    },
    {
     "name": "stdout",
     "output_type": "stream",
     "text": [
      "err at 234\n",
      "mined at 235\n",
      "mined at 236\n",
      "mined at 237\n",
      "mined at 238\n",
      "mined at 239\n",
      "mined at 240\n",
      "mined at 241\n"
     ]
    },
    {
     "name": "stderr",
     "output_type": "stream",
     "text": [
      "2025-09-28 21:59:52 - vnstock.explorer.vci.financial - ERROR - Error processing financial report data: \"None of [Index(['ticker', 'yearReport', 'lengthReport'], dtype='object')] are in the [columns]\"\n",
      "2025-09-28 21:59:52 - vnstock.explorer.vci.financial - ERROR - Error processing report 'Chỉ tiêu kết quả kinh doanh': \"None of [Index(['ticker', 'yearReport', 'lengthReport'], dtype='object')] are in the [columns]\"\n",
      "2025-09-28 21:59:52 - vnstock.common.data.data_explorer - ERROR - Lỗi khi truy xuất dữ liệu income_statement: \"None of [Index(['ticker', 'yearReport', 'lengthReport'], dtype='object')] are in the [columns]\"\n"
     ]
    },
    {
     "name": "stdout",
     "output_type": "stream",
     "text": [
      "err at 242\n",
      "mined at 243\n",
      "mined at 244\n",
      "mined at 245\n",
      "mined at 246\n",
      "mined at 247\n",
      "mined at 248\n"
     ]
    },
    {
     "name": "stderr",
     "output_type": "stream",
     "text": [
      "2025-09-28 22:01:07 - vnstock.core.utils.client - ERROR - API request failed: HTTPSConnectionPool(host='trading.vietcap.com.vn', port=443): Max retries exceeded with url: /data-mt/graphql (Caused by NameResolutionError(\"<urllib3.connection.HTTPSConnection object at 0x7bee41ab1bd0>: Failed to resolve 'trading.vietcap.com.vn' ([Errno -3] Temporary failure in name resolution)\"))\n"
     ]
    },
    {
     "name": "stdout",
     "output_type": "stream",
     "text": [
      "err at 249\n",
      "mined at 250\n",
      "mined at 251\n"
     ]
    },
    {
     "name": "stderr",
     "output_type": "stream",
     "text": [
      "Downcasting object dtype arrays on .fillna, .ffill, .bfill is deprecated and will change in a future version. Call result.infer_objects(copy=False) instead. To opt-in to the future behavior, set `pd.set_option('future.no_silent_downcasting', True)`\n"
     ]
    },
    {
     "name": "stdout",
     "output_type": "stream",
     "text": [
      "mined at 252\n"
     ]
    },
    {
     "name": "stderr",
     "output_type": "stream",
     "text": [
      "2025-09-28 22:01:48 - vnstock.explorer.vci.financial - ERROR - Error processing financial report data: \"None of [Index(['ticker', 'yearReport', 'lengthReport'], dtype='object')] are in the [columns]\"\n",
      "2025-09-28 22:01:48 - vnstock.explorer.vci.financial - ERROR - Error processing report 'Chỉ tiêu kết quả kinh doanh': \"None of [Index(['ticker', 'yearReport', 'lengthReport'], dtype='object')] are in the [columns]\"\n",
      "2025-09-28 22:01:48 - vnstock.common.data.data_explorer - ERROR - Lỗi khi truy xuất dữ liệu income_statement: \"None of [Index(['ticker', 'yearReport', 'lengthReport'], dtype='object')] are in the [columns]\"\n"
     ]
    },
    {
     "name": "stdout",
     "output_type": "stream",
     "text": [
      "err at 253\n",
      "mined at 254\n",
      "mined at 255\n",
      "mined at 256\n",
      "err at 257\n",
      "mined at 258\n"
     ]
    },
    {
     "name": "stderr",
     "output_type": "stream",
     "text": [
      "Downcasting object dtype arrays on .fillna, .ffill, .bfill is deprecated and will change in a future version. Call result.infer_objects(copy=False) instead. To opt-in to the future behavior, set `pd.set_option('future.no_silent_downcasting', True)`\n"
     ]
    },
    {
     "name": "stdout",
     "output_type": "stream",
     "text": [
      "mined at 259\n"
     ]
    },
    {
     "name": "stderr",
     "output_type": "stream",
     "text": [
      "Downcasting object dtype arrays on .fillna, .ffill, .bfill is deprecated and will change in a future version. Call result.infer_objects(copy=False) instead. To opt-in to the future behavior, set `pd.set_option('future.no_silent_downcasting', True)`\n"
     ]
    },
    {
     "name": "stdout",
     "output_type": "stream",
     "text": [
      "mined at 260\n"
     ]
    },
    {
     "name": "stderr",
     "output_type": "stream",
     "text": [
      "Downcasting object dtype arrays on .fillna, .ffill, .bfill is deprecated and will change in a future version. Call result.infer_objects(copy=False) instead. To opt-in to the future behavior, set `pd.set_option('future.no_silent_downcasting', True)`\n"
     ]
    },
    {
     "name": "stdout",
     "output_type": "stream",
     "text": [
      "mined at 261\n"
     ]
    },
    {
     "name": "stderr",
     "output_type": "stream",
     "text": [
      "2025-09-28 22:03:09 - vnstock.explorer.vci.financial - ERROR - Error processing financial report data: \"None of [Index(['ticker', 'yearReport', 'lengthReport'], dtype='object')] are in the [columns]\"\n",
      "2025-09-28 22:03:09 - vnstock.explorer.vci.financial - ERROR - Error processing report 'Chỉ tiêu kết quả kinh doanh': \"None of [Index(['ticker', 'yearReport', 'lengthReport'], dtype='object')] are in the [columns]\"\n",
      "2025-09-28 22:03:09 - vnstock.common.data.data_explorer - ERROR - Lỗi khi truy xuất dữ liệu income_statement: \"None of [Index(['ticker', 'yearReport', 'lengthReport'], dtype='object')] are in the [columns]\"\n"
     ]
    },
    {
     "name": "stdout",
     "output_type": "stream",
     "text": [
      "err at 262\n",
      "mined at 263\n",
      "mined at 264\n"
     ]
    },
    {
     "name": "stderr",
     "output_type": "stream",
     "text": [
      "2025-09-28 22:03:46 - vnstock.explorer.vci.financial - ERROR - Error processing financial report data: \"None of [Index(['ticker', 'yearReport', 'lengthReport'], dtype='object')] are in the [columns]\"\n",
      "2025-09-28 22:03:46 - vnstock.explorer.vci.financial - ERROR - Error processing report 'Chỉ tiêu kết quả kinh doanh': \"None of [Index(['ticker', 'yearReport', 'lengthReport'], dtype='object')] are in the [columns]\"\n",
      "2025-09-28 22:03:46 - vnstock.common.data.data_explorer - ERROR - Lỗi khi truy xuất dữ liệu income_statement: \"None of [Index(['ticker', 'yearReport', 'lengthReport'], dtype='object')] are in the [columns]\"\n"
     ]
    },
    {
     "name": "stdout",
     "output_type": "stream",
     "text": [
      "err at 265\n"
     ]
    },
    {
     "name": "stderr",
     "output_type": "stream",
     "text": [
      "2025-09-28 22:04:03 - vnstock.explorer.vci.financial - ERROR - Error processing financial report data: \"None of [Index(['ticker', 'yearReport', 'lengthReport'], dtype='object')] are in the [columns]\"\n",
      "2025-09-28 22:04:03 - vnstock.explorer.vci.financial - ERROR - Error processing report 'Chỉ tiêu kết quả kinh doanh': \"None of [Index(['ticker', 'yearReport', 'lengthReport'], dtype='object')] are in the [columns]\"\n",
      "2025-09-28 22:04:03 - vnstock.common.data.data_explorer - ERROR - Lỗi khi truy xuất dữ liệu income_statement: \"None of [Index(['ticker', 'yearReport', 'lengthReport'], dtype='object')] are in the [columns]\"\n"
     ]
    },
    {
     "name": "stdout",
     "output_type": "stream",
     "text": [
      "err at 266\n"
     ]
    },
    {
     "name": "stderr",
     "output_type": "stream",
     "text": [
      "2025-09-28 22:04:09 - vnstock.explorer.vci.financial - ERROR - Error processing financial report data: \"None of [Index(['ticker', 'yearReport', 'lengthReport'], dtype='object')] are in the [columns]\"\n",
      "2025-09-28 22:04:09 - vnstock.explorer.vci.financial - ERROR - Error processing report 'Chỉ tiêu kết quả kinh doanh': \"None of [Index(['ticker', 'yearReport', 'lengthReport'], dtype='object')] are in the [columns]\"\n",
      "2025-09-28 22:04:09 - vnstock.common.data.data_explorer - ERROR - Lỗi khi truy xuất dữ liệu income_statement: \"None of [Index(['ticker', 'yearReport', 'lengthReport'], dtype='object')] are in the [columns]\"\n"
     ]
    },
    {
     "name": "stdout",
     "output_type": "stream",
     "text": [
      "err at 267\n"
     ]
    },
    {
     "name": "stderr",
     "output_type": "stream",
     "text": [
      "Downcasting object dtype arrays on .fillna, .ffill, .bfill is deprecated and will change in a future version. Call result.infer_objects(copy=False) instead. To opt-in to the future behavior, set `pd.set_option('future.no_silent_downcasting', True)`\n"
     ]
    },
    {
     "name": "stdout",
     "output_type": "stream",
     "text": [
      "mined at 268\n",
      "mined at 269\n",
      "mined at 270\n",
      "mined at 271\n",
      "mined at 272\n"
     ]
    },
    {
     "name": "stderr",
     "output_type": "stream",
     "text": [
      "Downcasting object dtype arrays on .fillna, .ffill, .bfill is deprecated and will change in a future version. Call result.infer_objects(copy=False) instead. To opt-in to the future behavior, set `pd.set_option('future.no_silent_downcasting', True)`\n"
     ]
    },
    {
     "name": "stdout",
     "output_type": "stream",
     "text": [
      "mined at 273\n",
      "mined at 274\n",
      "mined at 275\n",
      "mined at 276\n",
      "mined at 277\n"
     ]
    },
    {
     "name": "stderr",
     "output_type": "stream",
     "text": [
      "Downcasting object dtype arrays on .fillna, .ffill, .bfill is deprecated and will change in a future version. Call result.infer_objects(copy=False) instead. To opt-in to the future behavior, set `pd.set_option('future.no_silent_downcasting', True)`\n"
     ]
    },
    {
     "name": "stdout",
     "output_type": "stream",
     "text": [
      "mined at 278\n",
      "mined at 279\n",
      "mined at 280\n"
     ]
    },
    {
     "name": "stderr",
     "output_type": "stream",
     "text": [
      "2025-09-28 22:06:31 - vnstock.explorer.vci.financial - ERROR - Error processing financial report data: \"None of [Index(['ticker', 'yearReport', 'lengthReport'], dtype='object')] are in the [columns]\"\n",
      "2025-09-28 22:06:31 - vnstock.explorer.vci.financial - ERROR - Error processing report 'Chỉ tiêu kết quả kinh doanh': \"None of [Index(['ticker', 'yearReport', 'lengthReport'], dtype='object')] are in the [columns]\"\n",
      "2025-09-28 22:06:31 - vnstock.common.data.data_explorer - ERROR - Lỗi khi truy xuất dữ liệu income_statement: \"None of [Index(['ticker', 'yearReport', 'lengthReport'], dtype='object')] are in the [columns]\"\n"
     ]
    },
    {
     "name": "stdout",
     "output_type": "stream",
     "text": [
      "err at 281\n"
     ]
    },
    {
     "name": "stderr",
     "output_type": "stream",
     "text": [
      "2025-09-28 22:06:37 - vnstock.explorer.vci.financial - ERROR - Error processing financial report data: \"None of [Index(['ticker', 'yearReport', 'lengthReport'], dtype='object')] are in the [columns]\"\n",
      "2025-09-28 22:06:37 - vnstock.explorer.vci.financial - ERROR - Error processing report 'Chỉ tiêu kết quả kinh doanh': \"None of [Index(['ticker', 'yearReport', 'lengthReport'], dtype='object')] are in the [columns]\"\n",
      "2025-09-28 22:06:37 - vnstock.common.data.data_explorer - ERROR - Lỗi khi truy xuất dữ liệu income_statement: \"None of [Index(['ticker', 'yearReport', 'lengthReport'], dtype='object')] are in the [columns]\"\n"
     ]
    },
    {
     "name": "stdout",
     "output_type": "stream",
     "text": [
      "err at 282\n",
      "mined at 283\n",
      "mined at 284\n",
      "mined at 285\n",
      "mined at 286\n",
      "mined at 287\n",
      "mined at 288\n",
      "mined at 289\n",
      "mined at 290\n"
     ]
    },
    {
     "name": "stderr",
     "output_type": "stream",
     "text": [
      "2025-09-28 22:07:47 - vnstock.explorer.vci.financial - ERROR - Error processing financial report data: \"None of [Index(['ticker', 'yearReport', 'lengthReport'], dtype='object')] are in the [columns]\"\n",
      "2025-09-28 22:07:47 - vnstock.explorer.vci.financial - ERROR - Error processing report 'Chỉ tiêu kết quả kinh doanh': \"None of [Index(['ticker', 'yearReport', 'lengthReport'], dtype='object')] are in the [columns]\"\n",
      "2025-09-28 22:07:47 - vnstock.common.data.data_explorer - ERROR - Lỗi khi truy xuất dữ liệu income_statement: \"None of [Index(['ticker', 'yearReport', 'lengthReport'], dtype='object')] are in the [columns]\"\n"
     ]
    },
    {
     "name": "stdout",
     "output_type": "stream",
     "text": [
      "err at 291\n",
      "mined at 292\n",
      "mined at 293\n",
      "mined at 294\n",
      "mined at 295\n",
      "mined at 296\n",
      "mined at 297\n"
     ]
    },
    {
     "name": "stderr",
     "output_type": "stream",
     "text": [
      "Downcasting object dtype arrays on .fillna, .ffill, .bfill is deprecated and will change in a future version. Call result.infer_objects(copy=False) instead. To opt-in to the future behavior, set `pd.set_option('future.no_silent_downcasting', True)`\n"
     ]
    },
    {
     "name": "stdout",
     "output_type": "stream",
     "text": [
      "mined at 298\n",
      "mined at 299\n"
     ]
    },
    {
     "name": "stderr",
     "output_type": "stream",
     "text": [
      "2025-09-28 22:09:07 - vnstock.explorer.vci.financial - ERROR - Error processing financial report data: \"None of [Index(['ticker', 'yearReport', 'lengthReport'], dtype='object')] are in the [columns]\"\n",
      "2025-09-28 22:09:07 - vnstock.explorer.vci.financial - ERROR - Error processing report 'Chỉ tiêu kết quả kinh doanh': \"None of [Index(['ticker', 'yearReport', 'lengthReport'], dtype='object')] are in the [columns]\"\n",
      "2025-09-28 22:09:07 - vnstock.common.data.data_explorer - ERROR - Lỗi khi truy xuất dữ liệu income_statement: \"None of [Index(['ticker', 'yearReport', 'lengthReport'], dtype='object')] are in the [columns]\"\n"
     ]
    },
    {
     "name": "stdout",
     "output_type": "stream",
     "text": [
      "err at 300\n",
      "mined at 301\n",
      "mined at 302\n",
      "mined at 303\n",
      "mined at 304\n",
      "mined at 305\n",
      "mined at 306\n",
      "mined at 307\n"
     ]
    },
    {
     "name": "stderr",
     "output_type": "stream",
     "text": [
      "Downcasting object dtype arrays on .fillna, .ffill, .bfill is deprecated and will change in a future version. Call result.infer_objects(copy=False) instead. To opt-in to the future behavior, set `pd.set_option('future.no_silent_downcasting', True)`\n"
     ]
    },
    {
     "name": "stdout",
     "output_type": "stream",
     "text": [
      "mined at 308\n",
      "mined at 309\n",
      "mined at 310\n",
      "mined at 311\n",
      "mined at 312\n",
      "mined at 313\n",
      "mined at 314\n",
      "mined at 315\n",
      "mined at 316\n"
     ]
    },
    {
     "name": "stderr",
     "output_type": "stream",
     "text": [
      "Downcasting object dtype arrays on .fillna, .ffill, .bfill is deprecated and will change in a future version. Call result.infer_objects(copy=False) instead. To opt-in to the future behavior, set `pd.set_option('future.no_silent_downcasting', True)`\n"
     ]
    },
    {
     "name": "stdout",
     "output_type": "stream",
     "text": [
      "mined at 317\n"
     ]
    },
    {
     "name": "stderr",
     "output_type": "stream",
     "text": [
      "2025-09-28 22:11:50 - vnstock.explorer.vci.financial - ERROR - Error processing financial report data: \"None of [Index(['ticker', 'yearReport', 'lengthReport'], dtype='object')] are in the [columns]\"\n",
      "2025-09-28 22:11:50 - vnstock.explorer.vci.financial - ERROR - Error processing report 'Chỉ tiêu kết quả kinh doanh': \"None of [Index(['ticker', 'yearReport', 'lengthReport'], dtype='object')] are in the [columns]\"\n",
      "2025-09-28 22:11:50 - vnstock.common.data.data_explorer - ERROR - Lỗi khi truy xuất dữ liệu income_statement: \"None of [Index(['ticker', 'yearReport', 'lengthReport'], dtype='object')] are in the [columns]\"\n"
     ]
    },
    {
     "name": "stdout",
     "output_type": "stream",
     "text": [
      "err at 318\n",
      "mined at 319\n",
      "mined at 320\n",
      "mined at 321\n",
      "mined at 322\n"
     ]
    },
    {
     "name": "stderr",
     "output_type": "stream",
     "text": [
      "Downcasting object dtype arrays on .fillna, .ffill, .bfill is deprecated and will change in a future version. Call result.infer_objects(copy=False) instead. To opt-in to the future behavior, set `pd.set_option('future.no_silent_downcasting', True)`\n"
     ]
    },
    {
     "name": "stdout",
     "output_type": "stream",
     "text": [
      "mined at 323\n",
      "mined at 324\n",
      "mined at 325\n",
      "mined at 326\n",
      "mined at 327\n",
      "mined at 328\n"
     ]
    },
    {
     "name": "stderr",
     "output_type": "stream",
     "text": [
      "2025-09-28 22:13:34 - vnstock.explorer.vci.financial - ERROR - Error processing financial report data: \"None of [Index(['ticker', 'yearReport', 'lengthReport'], dtype='object')] are in the [columns]\"\n",
      "2025-09-28 22:13:34 - vnstock.explorer.vci.financial - ERROR - Error processing report 'Chỉ tiêu kết quả kinh doanh': \"None of [Index(['ticker', 'yearReport', 'lengthReport'], dtype='object')] are in the [columns]\"\n",
      "2025-09-28 22:13:34 - vnstock.common.data.data_explorer - ERROR - Lỗi khi truy xuất dữ liệu income_statement: \"None of [Index(['ticker', 'yearReport', 'lengthReport'], dtype='object')] are in the [columns]\"\n"
     ]
    },
    {
     "name": "stdout",
     "output_type": "stream",
     "text": [
      "err at 329\n",
      "mined at 330\n",
      "mined at 331\n",
      "mined at 332\n"
     ]
    },
    {
     "name": "stderr",
     "output_type": "stream",
     "text": [
      "2025-09-28 22:13:59 - vnstock.explorer.vci.financial - ERROR - Error processing financial report data: \"None of [Index(['ticker', 'yearReport', 'lengthReport'], dtype='object')] are in the [columns]\"\n",
      "2025-09-28 22:13:59 - vnstock.explorer.vci.financial - ERROR - Error processing report 'Chỉ tiêu kết quả kinh doanh': \"None of [Index(['ticker', 'yearReport', 'lengthReport'], dtype='object')] are in the [columns]\"\n",
      "2025-09-28 22:13:59 - vnstock.common.data.data_explorer - ERROR - Lỗi khi truy xuất dữ liệu income_statement: \"None of [Index(['ticker', 'yearReport', 'lengthReport'], dtype='object')] are in the [columns]\"\n"
     ]
    },
    {
     "name": "stdout",
     "output_type": "stream",
     "text": [
      "err at 333\n",
      "mined at 334\n",
      "mined at 335\n"
     ]
    },
    {
     "name": "stderr",
     "output_type": "stream",
     "text": [
      "2025-09-28 22:14:17 - vnstock.explorer.vci.financial - ERROR - Error processing financial report data: \"None of [Index(['ticker', 'yearReport', 'lengthReport'], dtype='object')] are in the [columns]\"\n",
      "2025-09-28 22:14:17 - vnstock.explorer.vci.financial - ERROR - Error processing report 'Chỉ tiêu kết quả kinh doanh': \"None of [Index(['ticker', 'yearReport', 'lengthReport'], dtype='object')] are in the [columns]\"\n",
      "2025-09-28 22:14:17 - vnstock.common.data.data_explorer - ERROR - Lỗi khi truy xuất dữ liệu income_statement: \"None of [Index(['ticker', 'yearReport', 'lengthReport'], dtype='object')] are in the [columns]\"\n"
     ]
    },
    {
     "name": "stdout",
     "output_type": "stream",
     "text": [
      "err at 336\n",
      "mined at 337\n",
      "mined at 338\n",
      "mined at 339\n",
      "mined at 340\n",
      "mined at 341\n",
      "mined at 342\n"
     ]
    },
    {
     "name": "stderr",
     "output_type": "stream",
     "text": [
      "2025-09-28 22:15:19 - vnstock.explorer.vci.financial - ERROR - Error processing financial report data: \"None of [Index(['ticker', 'yearReport', 'lengthReport'], dtype='object')] are in the [columns]\"\n",
      "2025-09-28 22:15:19 - vnstock.explorer.vci.financial - ERROR - Error processing report 'Chỉ tiêu kết quả kinh doanh': \"None of [Index(['ticker', 'yearReport', 'lengthReport'], dtype='object')] are in the [columns]\"\n",
      "2025-09-28 22:15:19 - vnstock.common.data.data_explorer - ERROR - Lỗi khi truy xuất dữ liệu income_statement: \"None of [Index(['ticker', 'yearReport', 'lengthReport'], dtype='object')] are in the [columns]\"\n"
     ]
    },
    {
     "name": "stdout",
     "output_type": "stream",
     "text": [
      "err at 343\n",
      "mined at 344\n",
      "mined at 345\n",
      "mined at 346\n",
      "mined at 347\n"
     ]
    },
    {
     "name": "stderr",
     "output_type": "stream",
     "text": [
      "2025-09-28 22:16:16 - vnstock.explorer.vci.financial - ERROR - Error processing financial report data: \"None of [Index(['ticker', 'yearReport', 'lengthReport'], dtype='object')] are in the [columns]\"\n",
      "2025-09-28 22:16:16 - vnstock.explorer.vci.financial - ERROR - Error processing report 'Chỉ tiêu kết quả kinh doanh': \"None of [Index(['ticker', 'yearReport', 'lengthReport'], dtype='object')] are in the [columns]\"\n",
      "2025-09-28 22:16:16 - vnstock.common.data.data_explorer - ERROR - Lỗi khi truy xuất dữ liệu income_statement: \"None of [Index(['ticker', 'yearReport', 'lengthReport'], dtype='object')] are in the [columns]\"\n"
     ]
    },
    {
     "name": "stdout",
     "output_type": "stream",
     "text": [
      "err at 348\n"
     ]
    },
    {
     "name": "stderr",
     "output_type": "stream",
     "text": [
      "Downcasting object dtype arrays on .fillna, .ffill, .bfill is deprecated and will change in a future version. Call result.infer_objects(copy=False) instead. To opt-in to the future behavior, set `pd.set_option('future.no_silent_downcasting', True)`\n"
     ]
    },
    {
     "name": "stdout",
     "output_type": "stream",
     "text": [
      "mined at 349\n",
      "mined at 350\n",
      "mined at 351\n",
      "mined at 352\n",
      "mined at 353\n",
      "mined at 354\n",
      "mined at 355\n",
      "mined at 356\n"
     ]
    },
    {
     "name": "stderr",
     "output_type": "stream",
     "text": [
      "2025-09-28 22:18:19 - vnstock.explorer.vci.financial - ERROR - Error processing financial report data: \"None of [Index(['ticker', 'yearReport', 'lengthReport'], dtype='object')] are in the [columns]\"\n",
      "2025-09-28 22:18:19 - vnstock.explorer.vci.financial - ERROR - Error processing report 'Chỉ tiêu kết quả kinh doanh': \"None of [Index(['ticker', 'yearReport', 'lengthReport'], dtype='object')] are in the [columns]\"\n",
      "2025-09-28 22:18:19 - vnstock.common.data.data_explorer - ERROR - Lỗi khi truy xuất dữ liệu income_statement: \"None of [Index(['ticker', 'yearReport', 'lengthReport'], dtype='object')] are in the [columns]\"\n"
     ]
    },
    {
     "name": "stdout",
     "output_type": "stream",
     "text": [
      "err at 357\n",
      "mined at 358\n",
      "mined at 359\n",
      "mined at 360\n",
      "mined at 361\n",
      "mined at 362\n",
      "mined at 363\n"
     ]
    },
    {
     "name": "stderr",
     "output_type": "stream",
     "text": [
      "2025-09-28 22:19:09 - vnstock.explorer.vci.financial - ERROR - Error processing financial report data: \"None of [Index(['ticker', 'yearReport', 'lengthReport'], dtype='object')] are in the [columns]\"\n",
      "2025-09-28 22:19:09 - vnstock.explorer.vci.financial - ERROR - Error processing report 'Chỉ tiêu kết quả kinh doanh': \"None of [Index(['ticker', 'yearReport', 'lengthReport'], dtype='object')] are in the [columns]\"\n",
      "2025-09-28 22:19:09 - vnstock.common.data.data_explorer - ERROR - Lỗi khi truy xuất dữ liệu income_statement: \"None of [Index(['ticker', 'yearReport', 'lengthReport'], dtype='object')] are in the [columns]\"\n"
     ]
    },
    {
     "name": "stdout",
     "output_type": "stream",
     "text": [
      "err at 364\n"
     ]
    },
    {
     "name": "stderr",
     "output_type": "stream",
     "text": [
      "2025-09-28 22:19:15 - vnstock.explorer.vci.financial - ERROR - Error processing financial report data: \"None of [Index(['ticker', 'yearReport', 'lengthReport'], dtype='object')] are in the [columns]\"\n",
      "2025-09-28 22:19:15 - vnstock.explorer.vci.financial - ERROR - Error processing report 'Chỉ tiêu kết quả kinh doanh': \"None of [Index(['ticker', 'yearReport', 'lengthReport'], dtype='object')] are in the [columns]\"\n",
      "2025-09-28 22:19:15 - vnstock.common.data.data_explorer - ERROR - Lỗi khi truy xuất dữ liệu income_statement: \"None of [Index(['ticker', 'yearReport', 'lengthReport'], dtype='object')] are in the [columns]\"\n"
     ]
    },
    {
     "name": "stdout",
     "output_type": "stream",
     "text": [
      "err at 365\n"
     ]
    },
    {
     "name": "stderr",
     "output_type": "stream",
     "text": [
      "2025-09-28 22:19:27 - vnstock.explorer.vci.financial - ERROR - Error processing financial report data: \"None of [Index(['ticker', 'yearReport', 'lengthReport'], dtype='object')] are in the [columns]\"\n",
      "2025-09-28 22:19:27 - vnstock.explorer.vci.financial - ERROR - Error processing report 'Chỉ tiêu kết quả kinh doanh': \"None of [Index(['ticker', 'yearReport', 'lengthReport'], dtype='object')] are in the [columns]\"\n",
      "2025-09-28 22:19:27 - vnstock.common.data.data_explorer - ERROR - Lỗi khi truy xuất dữ liệu income_statement: \"None of [Index(['ticker', 'yearReport', 'lengthReport'], dtype='object')] are in the [columns]\"\n"
     ]
    },
    {
     "name": "stdout",
     "output_type": "stream",
     "text": [
      "err at 366\n"
     ]
    },
    {
     "name": "stderr",
     "output_type": "stream",
     "text": [
      "2025-09-28 22:19:38 - vnstock.explorer.vci.financial - ERROR - Error processing financial report data: \"None of [Index(['ticker', 'yearReport', 'lengthReport'], dtype='object')] are in the [columns]\"\n",
      "2025-09-28 22:19:38 - vnstock.explorer.vci.financial - ERROR - Error processing report 'Chỉ tiêu kết quả kinh doanh': \"None of [Index(['ticker', 'yearReport', 'lengthReport'], dtype='object')] are in the [columns]\"\n",
      "2025-09-28 22:19:38 - vnstock.common.data.data_explorer - ERROR - Lỗi khi truy xuất dữ liệu income_statement: \"None of [Index(['ticker', 'yearReport', 'lengthReport'], dtype='object')] are in the [columns]\"\n"
     ]
    },
    {
     "name": "stdout",
     "output_type": "stream",
     "text": [
      "err at 367\n",
      "mined at 368\n",
      "mined at 369\n"
     ]
    },
    {
     "name": "stderr",
     "output_type": "stream",
     "text": [
      "2025-09-28 22:20:08 - vnstock.explorer.vci.financial - ERROR - Error processing financial report data: \"None of [Index(['ticker', 'yearReport', 'lengthReport'], dtype='object')] are in the [columns]\"\n",
      "2025-09-28 22:20:08 - vnstock.explorer.vci.financial - ERROR - Error processing report 'Chỉ tiêu kết quả kinh doanh': \"None of [Index(['ticker', 'yearReport', 'lengthReport'], dtype='object')] are in the [columns]\"\n",
      "2025-09-28 22:20:08 - vnstock.common.data.data_explorer - ERROR - Lỗi khi truy xuất dữ liệu income_statement: \"None of [Index(['ticker', 'yearReport', 'lengthReport'], dtype='object')] are in the [columns]\"\n"
     ]
    },
    {
     "name": "stdout",
     "output_type": "stream",
     "text": [
      "err at 370\n"
     ]
    },
    {
     "name": "stderr",
     "output_type": "stream",
     "text": [
      "Downcasting object dtype arrays on .fillna, .ffill, .bfill is deprecated and will change in a future version. Call result.infer_objects(copy=False) instead. To opt-in to the future behavior, set `pd.set_option('future.no_silent_downcasting', True)`\n"
     ]
    },
    {
     "name": "stdout",
     "output_type": "stream",
     "text": [
      "mined at 371\n",
      "mined at 372\n"
     ]
    },
    {
     "name": "stderr",
     "output_type": "stream",
     "text": [
      "2025-09-28 22:20:32 - vnstock.explorer.vci.financial - ERROR - Error processing financial report data: \"None of [Index(['ticker', 'yearReport', 'lengthReport'], dtype='object')] are in the [columns]\"\n",
      "2025-09-28 22:20:32 - vnstock.explorer.vci.financial - ERROR - Error processing report 'Chỉ tiêu kết quả kinh doanh': \"None of [Index(['ticker', 'yearReport', 'lengthReport'], dtype='object')] are in the [columns]\"\n",
      "2025-09-28 22:20:32 - vnstock.common.data.data_explorer - ERROR - Lỗi khi truy xuất dữ liệu income_statement: \"None of [Index(['ticker', 'yearReport', 'lengthReport'], dtype='object')] are in the [columns]\"\n"
     ]
    },
    {
     "name": "stdout",
     "output_type": "stream",
     "text": [
      "err at 373\n"
     ]
    },
    {
     "name": "stderr",
     "output_type": "stream",
     "text": [
      "2025-09-28 22:20:38 - vnstock.explorer.vci.financial - ERROR - Error processing financial report data: \"None of [Index(['ticker', 'yearReport', 'lengthReport'], dtype='object')] are in the [columns]\"\n",
      "2025-09-28 22:20:38 - vnstock.explorer.vci.financial - ERROR - Error processing report 'Chỉ tiêu kết quả kinh doanh': \"None of [Index(['ticker', 'yearReport', 'lengthReport'], dtype='object')] are in the [columns]\"\n",
      "2025-09-28 22:20:38 - vnstock.common.data.data_explorer - ERROR - Lỗi khi truy xuất dữ liệu income_statement: \"None of [Index(['ticker', 'yearReport', 'lengthReport'], dtype='object')] are in the [columns]\"\n"
     ]
    },
    {
     "name": "stdout",
     "output_type": "stream",
     "text": [
      "err at 374\n",
      "mined at 375\n",
      "mined at 376\n",
      "err at 377\n"
     ]
    },
    {
     "name": "stderr",
     "output_type": "stream",
     "text": [
      "2025-09-28 22:21:07 - vnstock.explorer.vci.financial - ERROR - Error processing financial report data: \"None of [Index(['ticker', 'yearReport', 'lengthReport'], dtype='object')] are in the [columns]\"\n",
      "2025-09-28 22:21:07 - vnstock.explorer.vci.financial - ERROR - Error processing report 'Chỉ tiêu kết quả kinh doanh': \"None of [Index(['ticker', 'yearReport', 'lengthReport'], dtype='object')] are in the [columns]\"\n",
      "2025-09-28 22:21:07 - vnstock.common.data.data_explorer - ERROR - Lỗi khi truy xuất dữ liệu income_statement: \"None of [Index(['ticker', 'yearReport', 'lengthReport'], dtype='object')] are in the [columns]\"\n"
     ]
    },
    {
     "name": "stdout",
     "output_type": "stream",
     "text": [
      "err at 378\n",
      "mined at 379\n"
     ]
    },
    {
     "name": "stderr",
     "output_type": "stream",
     "text": [
      "2025-09-28 22:21:25 - vnstock.explorer.vci.financial - ERROR - Error processing financial report data: \"None of [Index(['ticker', 'yearReport', 'lengthReport'], dtype='object')] are in the [columns]\"\n",
      "2025-09-28 22:21:25 - vnstock.explorer.vci.financial - ERROR - Error processing report 'Chỉ tiêu kết quả kinh doanh': \"None of [Index(['ticker', 'yearReport', 'lengthReport'], dtype='object')] are in the [columns]\"\n",
      "2025-09-28 22:21:25 - vnstock.common.data.data_explorer - ERROR - Lỗi khi truy xuất dữ liệu income_statement: \"None of [Index(['ticker', 'yearReport', 'lengthReport'], dtype='object')] are in the [columns]\"\n"
     ]
    },
    {
     "name": "stdout",
     "output_type": "stream",
     "text": [
      "err at 380\n"
     ]
    },
    {
     "name": "stderr",
     "output_type": "stream",
     "text": [
      "2025-09-28 22:21:33 - vnstock.explorer.vci.financial - ERROR - Error processing financial report data: \"None of [Index(['ticker', 'yearReport', 'lengthReport'], dtype='object')] are in the [columns]\"\n",
      "2025-09-28 22:21:33 - vnstock.explorer.vci.financial - ERROR - Error processing report 'Chỉ tiêu kết quả kinh doanh': \"None of [Index(['ticker', 'yearReport', 'lengthReport'], dtype='object')] are in the [columns]\"\n",
      "2025-09-28 22:21:33 - vnstock.common.data.data_explorer - ERROR - Lỗi khi truy xuất dữ liệu income_statement: \"None of [Index(['ticker', 'yearReport', 'lengthReport'], dtype='object')] are in the [columns]\"\n"
     ]
    },
    {
     "name": "stdout",
     "output_type": "stream",
     "text": [
      "err at 381\n",
      "err at 382\n",
      "mined at 383\n",
      "mined at 384\n",
      "mined at 385\n",
      "mined at 386\n",
      "mined at 387\n",
      "mined at 388\n",
      "mined at 389\n",
      "mined at 390\n"
     ]
    },
    {
     "name": "stderr",
     "output_type": "stream",
     "text": [
      "Downcasting object dtype arrays on .fillna, .ffill, .bfill is deprecated and will change in a future version. Call result.infer_objects(copy=False) instead. To opt-in to the future behavior, set `pd.set_option('future.no_silent_downcasting', True)`\n"
     ]
    },
    {
     "name": "stdout",
     "output_type": "stream",
     "text": [
      "mined at 391\n",
      "mined at 392\n",
      "mined at 393\n",
      "mined at 394\n",
      "mined at 395\n",
      "mined at 396\n",
      "mined at 397\n",
      "mined at 398\n"
     ]
    },
    {
     "name": "stderr",
     "output_type": "stream",
     "text": [
      "Downcasting object dtype arrays on .fillna, .ffill, .bfill is deprecated and will change in a future version. Call result.infer_objects(copy=False) instead. To opt-in to the future behavior, set `pd.set_option('future.no_silent_downcasting', True)`\n"
     ]
    },
    {
     "name": "stdout",
     "output_type": "stream",
     "text": [
      "mined at 399\n",
      "mined at 400\n"
     ]
    },
    {
     "name": "stderr",
     "output_type": "stream",
     "text": [
      "Downcasting object dtype arrays on .fillna, .ffill, .bfill is deprecated and will change in a future version. Call result.infer_objects(copy=False) instead. To opt-in to the future behavior, set `pd.set_option('future.no_silent_downcasting', True)`\n"
     ]
    },
    {
     "name": "stdout",
     "output_type": "stream",
     "text": [
      "mined at 401\n",
      "mined at 402\n",
      "mined at 403\n",
      "mined at 404\n",
      "mined at 405\n",
      "mined at 406\n",
      "mined at 407\n"
     ]
    },
    {
     "name": "stderr",
     "output_type": "stream",
     "text": [
      "2025-09-28 22:25:13 - vnstock.explorer.vci.financial - ERROR - Error processing financial report data: \"None of [Index(['ticker', 'yearReport', 'lengthReport'], dtype='object')] are in the [columns]\"\n",
      "2025-09-28 22:25:13 - vnstock.explorer.vci.financial - ERROR - Error processing report 'Chỉ tiêu kết quả kinh doanh': \"None of [Index(['ticker', 'yearReport', 'lengthReport'], dtype='object')] are in the [columns]\"\n",
      "2025-09-28 22:25:13 - vnstock.common.data.data_explorer - ERROR - Lỗi khi truy xuất dữ liệu income_statement: \"None of [Index(['ticker', 'yearReport', 'lengthReport'], dtype='object')] are in the [columns]\"\n"
     ]
    },
    {
     "name": "stdout",
     "output_type": "stream",
     "text": [
      "err at 408\n",
      "mined at 409\n",
      "mined at 410\n",
      "mined at 411\n",
      "mined at 412\n",
      "mined at 413\n"
     ]
    },
    {
     "name": "stderr",
     "output_type": "stream",
     "text": [
      "2025-09-28 22:25:52 - vnstock.explorer.vci.financial - ERROR - Error processing financial report data: \"None of [Index(['ticker', 'yearReport', 'lengthReport'], dtype='object')] are in the [columns]\"\n",
      "2025-09-28 22:25:52 - vnstock.explorer.vci.financial - ERROR - Error processing report 'Chỉ tiêu kết quả kinh doanh': \"None of [Index(['ticker', 'yearReport', 'lengthReport'], dtype='object')] are in the [columns]\"\n",
      "2025-09-28 22:25:52 - vnstock.common.data.data_explorer - ERROR - Lỗi khi truy xuất dữ liệu income_statement: \"None of [Index(['ticker', 'yearReport', 'lengthReport'], dtype='object')] are in the [columns]\"\n"
     ]
    },
    {
     "name": "stdout",
     "output_type": "stream",
     "text": [
      "err at 414\n",
      "mined at 415\n",
      "mined at 416\n",
      "mined at 417\n",
      "mined at 418\n",
      "mined at 419\n",
      "mined at 420\n",
      "mined at 421\n",
      "mined at 422\n"
     ]
    },
    {
     "name": "stderr",
     "output_type": "stream",
     "text": [
      "2025-09-28 22:27:09 - vnstock.explorer.vci.financial - ERROR - Error processing financial report data: \"None of [Index(['ticker', 'yearReport', 'lengthReport'], dtype='object')] are in the [columns]\"\n",
      "2025-09-28 22:27:09 - vnstock.explorer.vci.financial - ERROR - Error processing report 'Chỉ tiêu kết quả kinh doanh': \"None of [Index(['ticker', 'yearReport', 'lengthReport'], dtype='object')] are in the [columns]\"\n",
      "2025-09-28 22:27:09 - vnstock.common.data.data_explorer - ERROR - Lỗi khi truy xuất dữ liệu income_statement: \"None of [Index(['ticker', 'yearReport', 'lengthReport'], dtype='object')] are in the [columns]\"\n"
     ]
    },
    {
     "name": "stdout",
     "output_type": "stream",
     "text": [
      "err at 423\n",
      "mined at 424\n",
      "mined at 425\n",
      "mined at 426\n"
     ]
    },
    {
     "name": "stderr",
     "output_type": "stream",
     "text": [
      "2025-09-28 22:27:38 - vnstock.explorer.vci.financial - ERROR - Error processing financial report data: \"None of [Index(['ticker', 'yearReport', 'lengthReport'], dtype='object')] are in the [columns]\"\n",
      "2025-09-28 22:27:38 - vnstock.explorer.vci.financial - ERROR - Error processing report 'Chỉ tiêu kết quả kinh doanh': \"None of [Index(['ticker', 'yearReport', 'lengthReport'], dtype='object')] are in the [columns]\"\n",
      "2025-09-28 22:27:38 - vnstock.common.data.data_explorer - ERROR - Lỗi khi truy xuất dữ liệu income_statement: \"None of [Index(['ticker', 'yearReport', 'lengthReport'], dtype='object')] are in the [columns]\"\n"
     ]
    },
    {
     "name": "stdout",
     "output_type": "stream",
     "text": [
      "err at 427\n",
      "mined at 428\n",
      "mined at 429\n",
      "mined at 430\n",
      "mined at 431\n",
      "mined at 432\n",
      "mined at 433\n",
      "mined at 434\n"
     ]
    },
    {
     "name": "stderr",
     "output_type": "stream",
     "text": [
      "2025-09-28 22:28:41 - vnstock.explorer.vci.financial - ERROR - Error processing financial report data: \"None of [Index(['ticker', 'yearReport', 'lengthReport'], dtype='object')] are in the [columns]\"\n",
      "2025-09-28 22:28:41 - vnstock.explorer.vci.financial - ERROR - Error processing report 'Chỉ tiêu kết quả kinh doanh': \"None of [Index(['ticker', 'yearReport', 'lengthReport'], dtype='object')] are in the [columns]\"\n",
      "2025-09-28 22:28:41 - vnstock.common.data.data_explorer - ERROR - Lỗi khi truy xuất dữ liệu income_statement: \"None of [Index(['ticker', 'yearReport', 'lengthReport'], dtype='object')] are in the [columns]\"\n"
     ]
    },
    {
     "name": "stdout",
     "output_type": "stream",
     "text": [
      "err at 435\n",
      "mined at 436\n",
      "mined at 437\n",
      "mined at 438\n",
      "mined at 439\n",
      "mined at 440\n",
      "mined at 441\n",
      "mined at 442\n",
      "mined at 443\n"
     ]
    },
    {
     "name": "stderr",
     "output_type": "stream",
     "text": [
      "2025-09-28 22:29:54 - vnstock.explorer.vci.financial - ERROR - Error processing financial report data: \"None of [Index(['ticker', 'yearReport', 'lengthReport'], dtype='object')] are in the [columns]\"\n",
      "2025-09-28 22:29:54 - vnstock.explorer.vci.financial - ERROR - Error processing report 'Chỉ tiêu kết quả kinh doanh': \"None of [Index(['ticker', 'yearReport', 'lengthReport'], dtype='object')] are in the [columns]\"\n",
      "2025-09-28 22:29:54 - vnstock.common.data.data_explorer - ERROR - Lỗi khi truy xuất dữ liệu income_statement: \"None of [Index(['ticker', 'yearReport', 'lengthReport'], dtype='object')] are in the [columns]\"\n"
     ]
    },
    {
     "name": "stdout",
     "output_type": "stream",
     "text": [
      "err at 444\n",
      "mined at 445\n",
      "mined at 446\n",
      "mined at 447\n",
      "mined at 448\n",
      "mined at 449\n",
      "mined at 450\n",
      "mined at 451\n",
      "mined at 452\n",
      "mined at 453\n",
      "mined at 454\n"
     ]
    },
    {
     "name": "stderr",
     "output_type": "stream",
     "text": [
      "2025-09-28 22:31:28 - vnstock.explorer.vci.financial - ERROR - Error processing financial report data: \"None of [Index(['ticker', 'yearReport', 'lengthReport'], dtype='object')] are in the [columns]\"\n",
      "2025-09-28 22:31:28 - vnstock.explorer.vci.financial - ERROR - Error processing report 'Chỉ tiêu kết quả kinh doanh': \"None of [Index(['ticker', 'yearReport', 'lengthReport'], dtype='object')] are in the [columns]\"\n",
      "2025-09-28 22:31:28 - vnstock.common.data.data_explorer - ERROR - Lỗi khi truy xuất dữ liệu income_statement: \"None of [Index(['ticker', 'yearReport', 'lengthReport'], dtype='object')] are in the [columns]\"\n"
     ]
    },
    {
     "name": "stdout",
     "output_type": "stream",
     "text": [
      "err at 455\n",
      "mined at 456\n",
      "mined at 457\n"
     ]
    },
    {
     "name": "stderr",
     "output_type": "stream",
     "text": [
      "2025-09-28 22:31:51 - vnstock.explorer.vci.financial - ERROR - Error processing financial report data: \"None of [Index(['ticker', 'yearReport', 'lengthReport'], dtype='object')] are in the [columns]\"\n",
      "2025-09-28 22:31:51 - vnstock.explorer.vci.financial - ERROR - Error processing report 'Chỉ tiêu kết quả kinh doanh': \"None of [Index(['ticker', 'yearReport', 'lengthReport'], dtype='object')] are in the [columns]\"\n",
      "2025-09-28 22:31:51 - vnstock.common.data.data_explorer - ERROR - Lỗi khi truy xuất dữ liệu income_statement: \"None of [Index(['ticker', 'yearReport', 'lengthReport'], dtype='object')] are in the [columns]\"\n"
     ]
    },
    {
     "name": "stdout",
     "output_type": "stream",
     "text": [
      "err at 458\n",
      "mined at 459\n",
      "mined at 460\n"
     ]
    },
    {
     "name": "stderr",
     "output_type": "stream",
     "text": [
      "2025-09-28 22:32:10 - vnstock.explorer.vci.financial - ERROR - Error processing financial report data: \"None of [Index(['ticker', 'yearReport', 'lengthReport'], dtype='object')] are in the [columns]\"\n",
      "2025-09-28 22:32:10 - vnstock.explorer.vci.financial - ERROR - Error processing report 'Chỉ tiêu kết quả kinh doanh': \"None of [Index(['ticker', 'yearReport', 'lengthReport'], dtype='object')] are in the [columns]\"\n",
      "2025-09-28 22:32:10 - vnstock.common.data.data_explorer - ERROR - Lỗi khi truy xuất dữ liệu income_statement: \"None of [Index(['ticker', 'yearReport', 'lengthReport'], dtype='object')] are in the [columns]\"\n"
     ]
    },
    {
     "name": "stdout",
     "output_type": "stream",
     "text": [
      "err at 461\n",
      "mined at 462\n",
      "mined at 463\n",
      "mined at 464\n",
      "mined at 465\n",
      "mined at 466\n",
      "mined at 467\n"
     ]
    },
    {
     "name": "stderr",
     "output_type": "stream",
     "text": [
      "Downcasting object dtype arrays on .fillna, .ffill, .bfill is deprecated and will change in a future version. Call result.infer_objects(copy=False) instead. To opt-in to the future behavior, set `pd.set_option('future.no_silent_downcasting', True)`\n"
     ]
    },
    {
     "name": "stdout",
     "output_type": "stream",
     "text": [
      "mined at 468\n",
      "mined at 469\n",
      "mined at 470\n",
      "mined at 471\n",
      "mined at 472\n",
      "mined at 473\n",
      "mined at 474\n",
      "mined at 475\n",
      "mined at 476\n",
      "mined at 477\n",
      "mined at 478\n",
      "mined at 479\n",
      "mined at 480\n",
      "mined at 481\n",
      "mined at 482\n",
      "mined at 483\n",
      "mined at 484\n",
      "mined at 485\n"
     ]
    },
    {
     "name": "stderr",
     "output_type": "stream",
     "text": [
      "Downcasting object dtype arrays on .fillna, .ffill, .bfill is deprecated and will change in a future version. Call result.infer_objects(copy=False) instead. To opt-in to the future behavior, set `pd.set_option('future.no_silent_downcasting', True)`\n"
     ]
    },
    {
     "name": "stdout",
     "output_type": "stream",
     "text": [
      "mined at 486\n",
      "mined at 487\n",
      "mined at 488\n",
      "mined at 489\n",
      "mined at 490\n"
     ]
    },
    {
     "name": "stderr",
     "output_type": "stream",
     "text": [
      "Downcasting object dtype arrays on .fillna, .ffill, .bfill is deprecated and will change in a future version. Call result.infer_objects(copy=False) instead. To opt-in to the future behavior, set `pd.set_option('future.no_silent_downcasting', True)`\n"
     ]
    },
    {
     "name": "stdout",
     "output_type": "stream",
     "text": [
      "mined at 491\n"
     ]
    },
    {
     "name": "stderr",
     "output_type": "stream",
     "text": [
      "Downcasting object dtype arrays on .fillna, .ffill, .bfill is deprecated and will change in a future version. Call result.infer_objects(copy=False) instead. To opt-in to the future behavior, set `pd.set_option('future.no_silent_downcasting', True)`\n"
     ]
    },
    {
     "name": "stdout",
     "output_type": "stream",
     "text": [
      "mined at 492\n",
      "mined at 493\n",
      "mined at 494\n",
      "mined at 495\n",
      "mined at 496\n",
      "mined at 497\n",
      "mined at 498\n",
      "mined at 499\n",
      "mined at 500\n",
      "mined at 501\n",
      "mined at 502\n",
      "mined at 503\n",
      "mined at 504\n",
      "mined at 505\n"
     ]
    },
    {
     "name": "stderr",
     "output_type": "stream",
     "text": [
      "Downcasting object dtype arrays on .fillna, .ffill, .bfill is deprecated and will change in a future version. Call result.infer_objects(copy=False) instead. To opt-in to the future behavior, set `pd.set_option('future.no_silent_downcasting', True)`\n"
     ]
    },
    {
     "name": "stdout",
     "output_type": "stream",
     "text": [
      "mined at 506\n",
      "mined at 507\n",
      "mined at 508\n",
      "mined at 509\n",
      "mined at 510\n",
      "mined at 511\n",
      "mined at 512\n",
      "mined at 513\n",
      "mined at 514\n"
     ]
    },
    {
     "name": "stderr",
     "output_type": "stream",
     "text": [
      "2025-09-28 22:39:57 - vnstock.explorer.vci.financial - ERROR - Error processing financial report data: \"None of [Index(['ticker', 'yearReport', 'lengthReport'], dtype='object')] are in the [columns]\"\n",
      "2025-09-28 22:39:57 - vnstock.explorer.vci.financial - ERROR - Error processing report 'Chỉ tiêu kết quả kinh doanh': \"None of [Index(['ticker', 'yearReport', 'lengthReport'], dtype='object')] are in the [columns]\"\n",
      "2025-09-28 22:39:57 - vnstock.common.data.data_explorer - ERROR - Lỗi khi truy xuất dữ liệu income_statement: \"None of [Index(['ticker', 'yearReport', 'lengthReport'], dtype='object')] are in the [columns]\"\n"
     ]
    },
    {
     "name": "stdout",
     "output_type": "stream",
     "text": [
      "err at 515\n",
      "mined at 516\n",
      "mined at 517\n"
     ]
    },
    {
     "name": "stderr",
     "output_type": "stream",
     "text": [
      "Downcasting object dtype arrays on .fillna, .ffill, .bfill is deprecated and will change in a future version. Call result.infer_objects(copy=False) instead. To opt-in to the future behavior, set `pd.set_option('future.no_silent_downcasting', True)`\n"
     ]
    },
    {
     "name": "stdout",
     "output_type": "stream",
     "text": [
      "mined at 518\n",
      "mined at 519\n",
      "mined at 520\n",
      "mined at 521\n",
      "mined at 522\n",
      "mined at 523\n"
     ]
    },
    {
     "name": "stderr",
     "output_type": "stream",
     "text": [
      "Downcasting object dtype arrays on .fillna, .ffill, .bfill is deprecated and will change in a future version. Call result.infer_objects(copy=False) instead. To opt-in to the future behavior, set `pd.set_option('future.no_silent_downcasting', True)`\n"
     ]
    },
    {
     "name": "stdout",
     "output_type": "stream",
     "text": [
      "mined at 524\n"
     ]
    },
    {
     "name": "stderr",
     "output_type": "stream",
     "text": [
      "2025-09-28 22:41:23 - vnstock.explorer.vci.financial - ERROR - Error processing financial report data: \"None of [Index(['ticker', 'yearReport', 'lengthReport'], dtype='object')] are in the [columns]\"\n",
      "2025-09-28 22:41:23 - vnstock.explorer.vci.financial - ERROR - Error processing report 'Chỉ tiêu kết quả kinh doanh': \"None of [Index(['ticker', 'yearReport', 'lengthReport'], dtype='object')] are in the [columns]\"\n",
      "2025-09-28 22:41:23 - vnstock.common.data.data_explorer - ERROR - Lỗi khi truy xuất dữ liệu income_statement: \"None of [Index(['ticker', 'yearReport', 'lengthReport'], dtype='object')] are in the [columns]\"\n"
     ]
    },
    {
     "name": "stdout",
     "output_type": "stream",
     "text": [
      "err at 525\n",
      "mined at 526\n",
      "mined at 527\n",
      "mined at 528\n",
      "mined at 529\n",
      "mined at 530\n",
      "mined at 531\n",
      "mined at 532\n",
      "mined at 533\n",
      "mined at 534\n",
      "mined at 535\n",
      "mined at 536\n",
      "mined at 537\n"
     ]
    },
    {
     "name": "stderr",
     "output_type": "stream",
     "text": [
      "Downcasting object dtype arrays on .fillna, .ffill, .bfill is deprecated and will change in a future version. Call result.infer_objects(copy=False) instead. To opt-in to the future behavior, set `pd.set_option('future.no_silent_downcasting', True)`\n"
     ]
    },
    {
     "name": "stdout",
     "output_type": "stream",
     "text": [
      "mined at 538\n",
      "mined at 539\n",
      "mined at 540\n",
      "mined at 541\n",
      "mined at 542\n"
     ]
    },
    {
     "name": "stderr",
     "output_type": "stream",
     "text": [
      "2025-09-28 22:44:02 - vnstock.explorer.vci.financial - ERROR - Error processing financial report data: \"None of [Index(['ticker', 'yearReport', 'lengthReport'], dtype='object')] are in the [columns]\"\n",
      "2025-09-28 22:44:02 - vnstock.explorer.vci.financial - ERROR - Error processing report 'Chỉ tiêu kết quả kinh doanh': \"None of [Index(['ticker', 'yearReport', 'lengthReport'], dtype='object')] are in the [columns]\"\n",
      "2025-09-28 22:44:02 - vnstock.common.data.data_explorer - ERROR - Lỗi khi truy xuất dữ liệu income_statement: \"None of [Index(['ticker', 'yearReport', 'lengthReport'], dtype='object')] are in the [columns]\"\n"
     ]
    },
    {
     "name": "stdout",
     "output_type": "stream",
     "text": [
      "err at 543\n",
      "mined at 544\n",
      "mined at 545\n",
      "mined at 546\n",
      "mined at 547\n",
      "mined at 548\n",
      "mined at 549\n",
      "mined at 550\n",
      "mined at 551\n",
      "mined at 552\n",
      "mined at 553\n",
      "mined at 554\n",
      "mined at 555\n",
      "mined at 556\n",
      "mined at 557\n",
      "mined at 558\n",
      "mined at 559\n",
      "mined at 560\n",
      "mined at 561\n",
      "mined at 562\n"
     ]
    },
    {
     "name": "stderr",
     "output_type": "stream",
     "text": [
      "Downcasting object dtype arrays on .fillna, .ffill, .bfill is deprecated and will change in a future version. Call result.infer_objects(copy=False) instead. To opt-in to the future behavior, set `pd.set_option('future.no_silent_downcasting', True)`\n"
     ]
    },
    {
     "name": "stdout",
     "output_type": "stream",
     "text": [
      "mined at 563\n",
      "mined at 564\n"
     ]
    },
    {
     "name": "stderr",
     "output_type": "stream",
     "text": [
      "2025-09-28 22:47:17 - vnstock.explorer.vci.financial - ERROR - Error processing financial report data: \"None of [Index(['ticker', 'yearReport', 'lengthReport'], dtype='object')] are in the [columns]\"\n",
      "2025-09-28 22:47:17 - vnstock.explorer.vci.financial - ERROR - Error processing report 'Chỉ tiêu kết quả kinh doanh': \"None of [Index(['ticker', 'yearReport', 'lengthReport'], dtype='object')] are in the [columns]\"\n",
      "2025-09-28 22:47:17 - vnstock.common.data.data_explorer - ERROR - Lỗi khi truy xuất dữ liệu income_statement: \"None of [Index(['ticker', 'yearReport', 'lengthReport'], dtype='object')] are in the [columns]\"\n"
     ]
    },
    {
     "name": "stdout",
     "output_type": "stream",
     "text": [
      "err at 565\n"
     ]
    },
    {
     "name": "stderr",
     "output_type": "stream",
     "text": [
      "2025-09-28 22:47:24 - vnstock.explorer.vci.financial - ERROR - Error processing financial report data: \"None of [Index(['ticker', 'yearReport', 'lengthReport'], dtype='object')] are in the [columns]\"\n",
      "2025-09-28 22:47:24 - vnstock.explorer.vci.financial - ERROR - Error processing report 'Chỉ tiêu kết quả kinh doanh': \"None of [Index(['ticker', 'yearReport', 'lengthReport'], dtype='object')] are in the [columns]\"\n",
      "2025-09-28 22:47:24 - vnstock.common.data.data_explorer - ERROR - Lỗi khi truy xuất dữ liệu income_statement: \"None of [Index(['ticker', 'yearReport', 'lengthReport'], dtype='object')] are in the [columns]\"\n"
     ]
    },
    {
     "name": "stdout",
     "output_type": "stream",
     "text": [
      "err at 566\n",
      "mined at 567\n",
      "mined at 568\n",
      "mined at 569\n",
      "mined at 570\n"
     ]
    },
    {
     "name": "stderr",
     "output_type": "stream",
     "text": [
      "2025-09-28 22:48:13 - vnstock.explorer.vci.financial - ERROR - Error processing financial report data: \"None of [Index(['ticker', 'yearReport', 'lengthReport'], dtype='object')] are in the [columns]\"\n",
      "2025-09-28 22:48:13 - vnstock.explorer.vci.financial - ERROR - Error processing report 'Chỉ tiêu kết quả kinh doanh': \"None of [Index(['ticker', 'yearReport', 'lengthReport'], dtype='object')] are in the [columns]\"\n",
      "2025-09-28 22:48:13 - vnstock.common.data.data_explorer - ERROR - Lỗi khi truy xuất dữ liệu income_statement: \"None of [Index(['ticker', 'yearReport', 'lengthReport'], dtype='object')] are in the [columns]\"\n"
     ]
    },
    {
     "name": "stdout",
     "output_type": "stream",
     "text": [
      "err at 571\n",
      "mined at 572\n",
      "mined at 573\n"
     ]
    },
    {
     "name": "stderr",
     "output_type": "stream",
     "text": [
      "2025-09-28 22:48:32 - vnstock.explorer.vci.financial - ERROR - Error processing financial report data: \"None of [Index(['ticker', 'yearReport', 'lengthReport'], dtype='object')] are in the [columns]\"\n",
      "2025-09-28 22:48:32 - vnstock.explorer.vci.financial - ERROR - Error processing report 'Chỉ tiêu kết quả kinh doanh': \"None of [Index(['ticker', 'yearReport', 'lengthReport'], dtype='object')] are in the [columns]\"\n",
      "2025-09-28 22:48:32 - vnstock.common.data.data_explorer - ERROR - Lỗi khi truy xuất dữ liệu income_statement: \"None of [Index(['ticker', 'yearReport', 'lengthReport'], dtype='object')] are in the [columns]\"\n"
     ]
    },
    {
     "name": "stdout",
     "output_type": "stream",
     "text": [
      "err at 574\n"
     ]
    },
    {
     "name": "stderr",
     "output_type": "stream",
     "text": [
      "2025-09-28 22:48:39 - vnstock.explorer.vci.financial - ERROR - Error processing financial report data: \"None of [Index(['ticker', 'yearReport', 'lengthReport'], dtype='object')] are in the [columns]\"\n",
      "2025-09-28 22:48:39 - vnstock.explorer.vci.financial - ERROR - Error processing report 'Chỉ tiêu kết quả kinh doanh': \"None of [Index(['ticker', 'yearReport', 'lengthReport'], dtype='object')] are in the [columns]\"\n",
      "2025-09-28 22:48:39 - vnstock.common.data.data_explorer - ERROR - Lỗi khi truy xuất dữ liệu income_statement: \"None of [Index(['ticker', 'yearReport', 'lengthReport'], dtype='object')] are in the [columns]\"\n"
     ]
    },
    {
     "name": "stdout",
     "output_type": "stream",
     "text": [
      "err at 575\n",
      "mined at 576\n",
      "mined at 577\n",
      "mined at 578\n"
     ]
    },
    {
     "name": "stderr",
     "output_type": "stream",
     "text": [
      "2025-09-28 22:49:05 - vnstock.explorer.vci.financial - ERROR - Error processing financial report data: \"None of [Index(['ticker', 'yearReport', 'lengthReport'], dtype='object')] are in the [columns]\"\n",
      "2025-09-28 22:49:05 - vnstock.explorer.vci.financial - ERROR - Error processing report 'Chỉ tiêu kết quả kinh doanh': \"None of [Index(['ticker', 'yearReport', 'lengthReport'], dtype='object')] are in the [columns]\"\n",
      "2025-09-28 22:49:05 - vnstock.common.data.data_explorer - ERROR - Lỗi khi truy xuất dữ liệu income_statement: \"None of [Index(['ticker', 'yearReport', 'lengthReport'], dtype='object')] are in the [columns]\"\n"
     ]
    },
    {
     "name": "stdout",
     "output_type": "stream",
     "text": [
      "err at 579\n"
     ]
    },
    {
     "name": "stderr",
     "output_type": "stream",
     "text": [
      "2025-09-28 22:49:11 - vnstock.explorer.vci.financial - ERROR - Error processing financial report data: \"None of [Index(['ticker', 'yearReport', 'lengthReport'], dtype='object')] are in the [columns]\"\n",
      "2025-09-28 22:49:11 - vnstock.explorer.vci.financial - ERROR - Error processing report 'Chỉ tiêu kết quả kinh doanh': \"None of [Index(['ticker', 'yearReport', 'lengthReport'], dtype='object')] are in the [columns]\"\n",
      "2025-09-28 22:49:11 - vnstock.common.data.data_explorer - ERROR - Lỗi khi truy xuất dữ liệu income_statement: \"None of [Index(['ticker', 'yearReport', 'lengthReport'], dtype='object')] are in the [columns]\"\n"
     ]
    },
    {
     "name": "stdout",
     "output_type": "stream",
     "text": [
      "err at 580\n"
     ]
    },
    {
     "name": "stderr",
     "output_type": "stream",
     "text": [
      "Downcasting object dtype arrays on .fillna, .ffill, .bfill is deprecated and will change in a future version. Call result.infer_objects(copy=False) instead. To opt-in to the future behavior, set `pd.set_option('future.no_silent_downcasting', True)`\n"
     ]
    },
    {
     "name": "stdout",
     "output_type": "stream",
     "text": [
      "mined at 581\n",
      "mined at 582\n",
      "mined at 583\n",
      "mined at 584\n",
      "mined at 585\n",
      "err at 586\n",
      "mined at 587\n",
      "mined at 588\n",
      "mined at 589\n",
      "mined at 590\n",
      "mined at 591\n",
      "mined at 592\n",
      "mined at 593\n"
     ]
    },
    {
     "name": "stderr",
     "output_type": "stream",
     "text": [
      "2025-09-28 22:51:20 - vnstock.explorer.vci.financial - ERROR - Error processing financial report data: \"None of [Index(['ticker', 'yearReport', 'lengthReport'], dtype='object')] are in the [columns]\"\n",
      "2025-09-28 22:51:20 - vnstock.explorer.vci.financial - ERROR - Error processing report 'Chỉ tiêu kết quả kinh doanh': \"None of [Index(['ticker', 'yearReport', 'lengthReport'], dtype='object')] are in the [columns]\"\n",
      "2025-09-28 22:51:20 - vnstock.common.data.data_explorer - ERROR - Lỗi khi truy xuất dữ liệu income_statement: \"None of [Index(['ticker', 'yearReport', 'lengthReport'], dtype='object')] are in the [columns]\"\n"
     ]
    },
    {
     "name": "stdout",
     "output_type": "stream",
     "text": [
      "err at 594\n",
      "mined at 595\n"
     ]
    },
    {
     "name": "stderr",
     "output_type": "stream",
     "text": [
      "2025-09-28 22:51:33 - vnstock.explorer.vci.financial - ERROR - Error processing financial report data: \"None of [Index(['ticker', 'yearReport', 'lengthReport'], dtype='object')] are in the [columns]\"\n",
      "2025-09-28 22:51:33 - vnstock.explorer.vci.financial - ERROR - Error processing report 'Chỉ tiêu kết quả kinh doanh': \"None of [Index(['ticker', 'yearReport', 'lengthReport'], dtype='object')] are in the [columns]\"\n",
      "2025-09-28 22:51:33 - vnstock.common.data.data_explorer - ERROR - Lỗi khi truy xuất dữ liệu income_statement: \"None of [Index(['ticker', 'yearReport', 'lengthReport'], dtype='object')] are in the [columns]\"\n"
     ]
    },
    {
     "name": "stdout",
     "output_type": "stream",
     "text": [
      "err at 596\n",
      "mined at 597\n",
      "mined at 598\n",
      "mined at 599\n",
      "mined at 600\n",
      "mined at 601\n",
      "mined at 602\n",
      "mined at 603\n"
     ]
    },
    {
     "name": "stderr",
     "output_type": "stream",
     "text": [
      "Downcasting object dtype arrays on .fillna, .ffill, .bfill is deprecated and will change in a future version. Call result.infer_objects(copy=False) instead. To opt-in to the future behavior, set `pd.set_option('future.no_silent_downcasting', True)`\n"
     ]
    },
    {
     "name": "stdout",
     "output_type": "stream",
     "text": [
      "mined at 604\n",
      "mined at 605\n",
      "mined at 606\n",
      "mined at 607\n",
      "mined at 608\n",
      "mined at 609\n",
      "mined at 610\n",
      "mined at 611\n",
      "mined at 612\n",
      "mined at 613\n",
      "mined at 614\n",
      "mined at 615\n",
      "mined at 616\n",
      "mined at 617\n",
      "mined at 618\n",
      "mined at 619\n"
     ]
    },
    {
     "name": "stderr",
     "output_type": "stream",
     "text": [
      "2025-09-28 22:55:07 - vnstock.explorer.vci.financial - ERROR - Error processing financial report data: \"None of [Index(['ticker', 'yearReport', 'lengthReport'], dtype='object')] are in the [columns]\"\n",
      "2025-09-28 22:55:07 - vnstock.explorer.vci.financial - ERROR - Error processing report 'Chỉ tiêu kết quả kinh doanh': \"None of [Index(['ticker', 'yearReport', 'lengthReport'], dtype='object')] are in the [columns]\"\n",
      "2025-09-28 22:55:07 - vnstock.common.data.data_explorer - ERROR - Lỗi khi truy xuất dữ liệu income_statement: \"None of [Index(['ticker', 'yearReport', 'lengthReport'], dtype='object')] are in the [columns]\"\n"
     ]
    },
    {
     "name": "stdout",
     "output_type": "stream",
     "text": [
      "err at 620\n"
     ]
    },
    {
     "name": "stderr",
     "output_type": "stream",
     "text": [
      "2025-09-28 22:55:14 - vnstock.explorer.vci.financial - ERROR - Error processing financial report data: \"None of [Index(['ticker', 'yearReport', 'lengthReport'], dtype='object')] are in the [columns]\"\n",
      "2025-09-28 22:55:14 - vnstock.explorer.vci.financial - ERROR - Error processing report 'Chỉ tiêu kết quả kinh doanh': \"None of [Index(['ticker', 'yearReport', 'lengthReport'], dtype='object')] are in the [columns]\"\n",
      "2025-09-28 22:55:14 - vnstock.common.data.data_explorer - ERROR - Lỗi khi truy xuất dữ liệu income_statement: \"None of [Index(['ticker', 'yearReport', 'lengthReport'], dtype='object')] are in the [columns]\"\n"
     ]
    },
    {
     "name": "stdout",
     "output_type": "stream",
     "text": [
      "err at 621\n"
     ]
    },
    {
     "name": "stderr",
     "output_type": "stream",
     "text": [
      "2025-09-28 22:55:19 - vnstock.explorer.vci.financial - ERROR - Error processing financial report data: \"None of [Index(['ticker', 'yearReport', 'lengthReport'], dtype='object')] are in the [columns]\"\n",
      "2025-09-28 22:55:19 - vnstock.explorer.vci.financial - ERROR - Error processing report 'Chỉ tiêu kết quả kinh doanh': \"None of [Index(['ticker', 'yearReport', 'lengthReport'], dtype='object')] are in the [columns]\"\n",
      "2025-09-28 22:55:19 - vnstock.common.data.data_explorer - ERROR - Lỗi khi truy xuất dữ liệu income_statement: \"None of [Index(['ticker', 'yearReport', 'lengthReport'], dtype='object')] are in the [columns]\"\n"
     ]
    },
    {
     "name": "stdout",
     "output_type": "stream",
     "text": [
      "err at 622\n",
      "mined at 623\n",
      "mined at 624\n",
      "mined at 625\n",
      "mined at 626\n"
     ]
    },
    {
     "name": "stderr",
     "output_type": "stream",
     "text": [
      "2025-09-28 22:55:55 - vnstock.explorer.vci.financial - ERROR - Error processing financial report data: \"None of [Index(['ticker', 'yearReport', 'lengthReport'], dtype='object')] are in the [columns]\"\n",
      "2025-09-28 22:55:55 - vnstock.explorer.vci.financial - ERROR - Error processing report 'Chỉ tiêu kết quả kinh doanh': \"None of [Index(['ticker', 'yearReport', 'lengthReport'], dtype='object')] are in the [columns]\"\n",
      "2025-09-28 22:55:55 - vnstock.common.data.data_explorer - ERROR - Lỗi khi truy xuất dữ liệu income_statement: \"None of [Index(['ticker', 'yearReport', 'lengthReport'], dtype='object')] are in the [columns]\"\n"
     ]
    },
    {
     "name": "stdout",
     "output_type": "stream",
     "text": [
      "err at 627\n",
      "mined at 628\n",
      "mined at 629\n",
      "mined at 630\n",
      "mined at 631\n",
      "mined at 632\n",
      "mined at 633\n",
      "mined at 634\n"
     ]
    },
    {
     "name": "stderr",
     "output_type": "stream",
     "text": [
      "2025-09-28 22:56:46 - vnstock.explorer.vci.financial - ERROR - Error processing financial report data: \"None of [Index(['ticker', 'yearReport', 'lengthReport'], dtype='object')] are in the [columns]\"\n",
      "2025-09-28 22:56:46 - vnstock.explorer.vci.financial - ERROR - Error processing report 'Chỉ tiêu kết quả kinh doanh': \"None of [Index(['ticker', 'yearReport', 'lengthReport'], dtype='object')] are in the [columns]\"\n",
      "2025-09-28 22:56:46 - vnstock.common.data.data_explorer - ERROR - Lỗi khi truy xuất dữ liệu income_statement: \"None of [Index(['ticker', 'yearReport', 'lengthReport'], dtype='object')] are in the [columns]\"\n"
     ]
    },
    {
     "name": "stdout",
     "output_type": "stream",
     "text": [
      "err at 635\n",
      "mined at 636\n",
      "mined at 637\n",
      "mined at 638\n",
      "mined at 639\n",
      "mined at 640\n",
      "mined at 641\n",
      "mined at 642\n",
      "mined at 643\n"
     ]
    },
    {
     "name": "stderr",
     "output_type": "stream",
     "text": [
      "Downcasting object dtype arrays on .fillna, .ffill, .bfill is deprecated and will change in a future version. Call result.infer_objects(copy=False) instead. To opt-in to the future behavior, set `pd.set_option('future.no_silent_downcasting', True)`\n"
     ]
    },
    {
     "name": "stdout",
     "output_type": "stream",
     "text": [
      "mined at 644\n",
      "mined at 645\n",
      "mined at 646\n",
      "mined at 647\n",
      "mined at 648\n",
      "mined at 649\n",
      "mined at 650\n",
      "mined at 651\n",
      "mined at 652\n",
      "mined at 653\n",
      "mined at 654\n",
      "mined at 655\n",
      "mined at 656\n",
      "mined at 657\n",
      "mined at 658\n",
      "mined at 659\n",
      "mined at 660\n"
     ]
    },
    {
     "name": "stderr",
     "output_type": "stream",
     "text": [
      "2025-09-28 22:59:52 - vnstock.explorer.vci.financial - ERROR - Error processing financial report data: \"None of [Index(['ticker', 'yearReport', 'lengthReport'], dtype='object')] are in the [columns]\"\n",
      "2025-09-28 22:59:52 - vnstock.explorer.vci.financial - ERROR - Error processing report 'Chỉ tiêu kết quả kinh doanh': \"None of [Index(['ticker', 'yearReport', 'lengthReport'], dtype='object')] are in the [columns]\"\n",
      "2025-09-28 22:59:52 - vnstock.common.data.data_explorer - ERROR - Lỗi khi truy xuất dữ liệu income_statement: \"None of [Index(['ticker', 'yearReport', 'lengthReport'], dtype='object')] are in the [columns]\"\n"
     ]
    },
    {
     "name": "stdout",
     "output_type": "stream",
     "text": [
      "err at 661\n"
     ]
    },
    {
     "name": "stderr",
     "output_type": "stream",
     "text": [
      "2025-09-28 22:59:58 - vnstock.explorer.vci.financial - ERROR - Error processing financial report data: \"None of [Index(['ticker', 'yearReport', 'lengthReport'], dtype='object')] are in the [columns]\"\n",
      "2025-09-28 22:59:58 - vnstock.explorer.vci.financial - ERROR - Error processing report 'Chỉ tiêu kết quả kinh doanh': \"None of [Index(['ticker', 'yearReport', 'lengthReport'], dtype='object')] are in the [columns]\"\n",
      "2025-09-28 22:59:58 - vnstock.common.data.data_explorer - ERROR - Lỗi khi truy xuất dữ liệu income_statement: \"None of [Index(['ticker', 'yearReport', 'lengthReport'], dtype='object')] are in the [columns]\"\n"
     ]
    },
    {
     "name": "stdout",
     "output_type": "stream",
     "text": [
      "err at 662\n",
      "mined at 663\n",
      "mined at 664\n"
     ]
    },
    {
     "name": "stderr",
     "output_type": "stream",
     "text": [
      "2025-09-28 23:00:16 - vnstock.explorer.vci.financial - ERROR - Error processing financial report data: \"None of [Index(['ticker', 'yearReport', 'lengthReport'], dtype='object')] are in the [columns]\"\n",
      "2025-09-28 23:00:16 - vnstock.explorer.vci.financial - ERROR - Error processing report 'Chỉ tiêu kết quả kinh doanh': \"None of [Index(['ticker', 'yearReport', 'lengthReport'], dtype='object')] are in the [columns]\"\n",
      "2025-09-28 23:00:16 - vnstock.common.data.data_explorer - ERROR - Lỗi khi truy xuất dữ liệu income_statement: \"None of [Index(['ticker', 'yearReport', 'lengthReport'], dtype='object')] are in the [columns]\"\n"
     ]
    },
    {
     "name": "stdout",
     "output_type": "stream",
     "text": [
      "err at 665\n"
     ]
    },
    {
     "name": "stderr",
     "output_type": "stream",
     "text": [
      "Downcasting object dtype arrays on .fillna, .ffill, .bfill is deprecated and will change in a future version. Call result.infer_objects(copy=False) instead. To opt-in to the future behavior, set `pd.set_option('future.no_silent_downcasting', True)`\n"
     ]
    },
    {
     "name": "stdout",
     "output_type": "stream",
     "text": [
      "mined at 666\n",
      "mined at 667\n",
      "mined at 668\n",
      "mined at 669\n",
      "mined at 670\n",
      "mined at 671\n"
     ]
    },
    {
     "name": "stderr",
     "output_type": "stream",
     "text": [
      "2025-09-28 23:01:16 - vnstock.explorer.vci.financial - ERROR - Error processing financial report data: \"None of [Index(['ticker', 'yearReport', 'lengthReport'], dtype='object')] are in the [columns]\"\n",
      "2025-09-28 23:01:16 - vnstock.explorer.vci.financial - ERROR - Error processing report 'Chỉ tiêu kết quả kinh doanh': \"None of [Index(['ticker', 'yearReport', 'lengthReport'], dtype='object')] are in the [columns]\"\n",
      "2025-09-28 23:01:16 - vnstock.common.data.data_explorer - ERROR - Lỗi khi truy xuất dữ liệu income_statement: \"None of [Index(['ticker', 'yearReport', 'lengthReport'], dtype='object')] are in the [columns]\"\n"
     ]
    },
    {
     "name": "stdout",
     "output_type": "stream",
     "text": [
      "err at 672\n",
      "mined at 673\n",
      "mined at 674\n",
      "mined at 675\n",
      "mined at 676\n",
      "mined at 677\n"
     ]
    },
    {
     "name": "stderr",
     "output_type": "stream",
     "text": [
      "2025-09-28 23:01:57 - vnstock.explorer.vci.financial - ERROR - Error processing financial report data: \"None of [Index(['ticker', 'yearReport', 'lengthReport'], dtype='object')] are in the [columns]\"\n",
      "2025-09-28 23:01:57 - vnstock.explorer.vci.financial - ERROR - Error processing report 'Chỉ tiêu kết quả kinh doanh': \"None of [Index(['ticker', 'yearReport', 'lengthReport'], dtype='object')] are in the [columns]\"\n",
      "2025-09-28 23:01:57 - vnstock.common.data.data_explorer - ERROR - Lỗi khi truy xuất dữ liệu income_statement: \"None of [Index(['ticker', 'yearReport', 'lengthReport'], dtype='object')] are in the [columns]\"\n"
     ]
    },
    {
     "name": "stdout",
     "output_type": "stream",
     "text": [
      "err at 678\n"
     ]
    },
    {
     "name": "stderr",
     "output_type": "stream",
     "text": [
      "Downcasting object dtype arrays on .fillna, .ffill, .bfill is deprecated and will change in a future version. Call result.infer_objects(copy=False) instead. To opt-in to the future behavior, set `pd.set_option('future.no_silent_downcasting', True)`\n"
     ]
    },
    {
     "name": "stdout",
     "output_type": "stream",
     "text": [
      "mined at 679\n",
      "mined at 680\n",
      "mined at 681\n",
      "mined at 682\n"
     ]
    },
    {
     "name": "stderr",
     "output_type": "stream",
     "text": [
      "2025-09-28 23:02:31 - vnstock.explorer.vci.financial - ERROR - Error processing financial report data: \"None of [Index(['ticker', 'yearReport', 'lengthReport'], dtype='object')] are in the [columns]\"\n",
      "2025-09-28 23:02:31 - vnstock.explorer.vci.financial - ERROR - Error processing report 'Chỉ tiêu kết quả kinh doanh': \"None of [Index(['ticker', 'yearReport', 'lengthReport'], dtype='object')] are in the [columns]\"\n",
      "2025-09-28 23:02:31 - vnstock.common.data.data_explorer - ERROR - Lỗi khi truy xuất dữ liệu income_statement: \"None of [Index(['ticker', 'yearReport', 'lengthReport'], dtype='object')] are in the [columns]\"\n"
     ]
    },
    {
     "name": "stdout",
     "output_type": "stream",
     "text": [
      "err at 683\n",
      "mined at 684\n",
      "mined at 685\n",
      "mined at 686\n",
      "mined at 687\n",
      "mined at 688\n",
      "mined at 689\n",
      "mined at 690\n",
      "mined at 691\n",
      "mined at 692\n",
      "mined at 693\n",
      "mined at 694\n",
      "mined at 695\n",
      "mined at 696\n",
      "mined at 697\n",
      "mined at 698\n",
      "mined at 699\n",
      "mined at 700\n",
      "mined at 701\n",
      "mined at 702\n",
      "mined at 703\n",
      "mined at 704\n",
      "mined at 705\n",
      "mined at 706\n"
     ]
    },
    {
     "name": "stderr",
     "output_type": "stream",
     "text": [
      "2025-09-28 23:05:29 - vnstock.explorer.vci.financial - ERROR - Error processing financial report data: \"None of [Index(['ticker', 'yearReport', 'lengthReport'], dtype='object')] are in the [columns]\"\n",
      "2025-09-28 23:05:29 - vnstock.explorer.vci.financial - ERROR - Error processing report 'Chỉ tiêu kết quả kinh doanh': \"None of [Index(['ticker', 'yearReport', 'lengthReport'], dtype='object')] are in the [columns]\"\n",
      "2025-09-28 23:05:29 - vnstock.common.data.data_explorer - ERROR - Lỗi khi truy xuất dữ liệu income_statement: \"None of [Index(['ticker', 'yearReport', 'lengthReport'], dtype='object')] are in the [columns]\"\n"
     ]
    },
    {
     "name": "stdout",
     "output_type": "stream",
     "text": [
      "err at 707\n",
      "mined at 708\n",
      "mined at 709\n"
     ]
    },
    {
     "name": "stderr",
     "output_type": "stream",
     "text": [
      "2025-09-28 23:05:47 - vnstock.explorer.vci.financial - ERROR - Error processing financial report data: \"None of [Index(['ticker', 'yearReport', 'lengthReport'], dtype='object')] are in the [columns]\"\n",
      "2025-09-28 23:05:47 - vnstock.explorer.vci.financial - ERROR - Error processing report 'Chỉ tiêu kết quả kinh doanh': \"None of [Index(['ticker', 'yearReport', 'lengthReport'], dtype='object')] are in the [columns]\"\n",
      "2025-09-28 23:05:47 - vnstock.common.data.data_explorer - ERROR - Lỗi khi truy xuất dữ liệu income_statement: \"None of [Index(['ticker', 'yearReport', 'lengthReport'], dtype='object')] are in the [columns]\"\n"
     ]
    },
    {
     "name": "stdout",
     "output_type": "stream",
     "text": [
      "err at 710\n",
      "mined at 711\n"
     ]
    },
    {
     "name": "stderr",
     "output_type": "stream",
     "text": [
      "2025-09-28 23:06:04 - vnstock.explorer.vci.financial - ERROR - Error processing financial report data: \"None of [Index(['ticker', 'yearReport', 'lengthReport'], dtype='object')] are in the [columns]\"\n",
      "2025-09-28 23:06:04 - vnstock.explorer.vci.financial - ERROR - Error processing report 'Chỉ tiêu kết quả kinh doanh': \"None of [Index(['ticker', 'yearReport', 'lengthReport'], dtype='object')] are in the [columns]\"\n",
      "2025-09-28 23:06:04 - vnstock.common.data.data_explorer - ERROR - Lỗi khi truy xuất dữ liệu income_statement: \"None of [Index(['ticker', 'yearReport', 'lengthReport'], dtype='object')] are in the [columns]\"\n"
     ]
    },
    {
     "name": "stdout",
     "output_type": "stream",
     "text": [
      "err at 712\n",
      "mined at 713\n",
      "mined at 714\n",
      "mined at 715\n",
      "mined at 716\n",
      "mined at 717\n",
      "mined at 718\n",
      "mined at 719\n",
      "mined at 720\n",
      "mined at 721\n",
      "mined at 722\n",
      "mined at 723\n"
     ]
    },
    {
     "name": "stderr",
     "output_type": "stream",
     "text": [
      "2025-09-28 23:07:33 - vnstock.explorer.vci.financial - ERROR - Error processing financial report data: \"None of [Index(['ticker', 'yearReport', 'lengthReport'], dtype='object')] are in the [columns]\"\n",
      "2025-09-28 23:07:33 - vnstock.explorer.vci.financial - ERROR - Error processing report 'Chỉ tiêu kết quả kinh doanh': \"None of [Index(['ticker', 'yearReport', 'lengthReport'], dtype='object')] are in the [columns]\"\n",
      "2025-09-28 23:07:33 - vnstock.common.data.data_explorer - ERROR - Lỗi khi truy xuất dữ liệu income_statement: \"None of [Index(['ticker', 'yearReport', 'lengthReport'], dtype='object')] are in the [columns]\"\n"
     ]
    },
    {
     "name": "stdout",
     "output_type": "stream",
     "text": [
      "err at 724\n",
      "mined at 725\n",
      "mined at 726\n",
      "mined at 727\n",
      "mined at 728\n",
      "mined at 729\n",
      "mined at 730\n",
      "mined at 731\n",
      "mined at 732\n",
      "mined at 733\n",
      "mined at 734\n",
      "mined at 735\n",
      "mined at 736\n"
     ]
    },
    {
     "name": "stderr",
     "output_type": "stream",
     "text": [
      "2025-09-28 23:09:12 - vnstock.explorer.vci.financial - ERROR - Error processing financial report data: \"None of [Index(['ticker', 'yearReport', 'lengthReport'], dtype='object')] are in the [columns]\"\n",
      "2025-09-28 23:09:12 - vnstock.explorer.vci.financial - ERROR - Error processing report 'Chỉ tiêu kết quả kinh doanh': \"None of [Index(['ticker', 'yearReport', 'lengthReport'], dtype='object')] are in the [columns]\"\n",
      "2025-09-28 23:09:12 - vnstock.common.data.data_explorer - ERROR - Lỗi khi truy xuất dữ liệu income_statement: \"None of [Index(['ticker', 'yearReport', 'lengthReport'], dtype='object')] are in the [columns]\"\n"
     ]
    },
    {
     "name": "stdout",
     "output_type": "stream",
     "text": [
      "err at 737\n",
      "mined at 738\n",
      "mined at 739\n",
      "mined at 740\n"
     ]
    },
    {
     "name": "stderr",
     "output_type": "stream",
     "text": [
      "Downcasting object dtype arrays on .fillna, .ffill, .bfill is deprecated and will change in a future version. Call result.infer_objects(copy=False) instead. To opt-in to the future behavior, set `pd.set_option('future.no_silent_downcasting', True)`\n"
     ]
    },
    {
     "name": "stdout",
     "output_type": "stream",
     "text": [
      "mined at 741\n",
      "mined at 742\n",
      "mined at 743\n"
     ]
    },
    {
     "name": "stderr",
     "output_type": "stream",
     "text": [
      "2025-09-28 23:10:02 - vnstock.explorer.vci.financial - ERROR - Error processing financial report data: \"None of [Index(['ticker', 'yearReport', 'lengthReport'], dtype='object')] are in the [columns]\"\n",
      "2025-09-28 23:10:02 - vnstock.explorer.vci.financial - ERROR - Error processing report 'Chỉ tiêu kết quả kinh doanh': \"None of [Index(['ticker', 'yearReport', 'lengthReport'], dtype='object')] are in the [columns]\"\n",
      "2025-09-28 23:10:02 - vnstock.common.data.data_explorer - ERROR - Lỗi khi truy xuất dữ liệu income_statement: \"None of [Index(['ticker', 'yearReport', 'lengthReport'], dtype='object')] are in the [columns]\"\n"
     ]
    },
    {
     "name": "stdout",
     "output_type": "stream",
     "text": [
      "err at 744\n"
     ]
    },
    {
     "name": "stderr",
     "output_type": "stream",
     "text": [
      "2025-09-28 23:10:08 - vnstock.explorer.vci.financial - ERROR - Error processing financial report data: \"None of [Index(['ticker', 'yearReport', 'lengthReport'], dtype='object')] are in the [columns]\"\n",
      "2025-09-28 23:10:08 - vnstock.explorer.vci.financial - ERROR - Error processing report 'Chỉ tiêu kết quả kinh doanh': \"None of [Index(['ticker', 'yearReport', 'lengthReport'], dtype='object')] are in the [columns]\"\n",
      "2025-09-28 23:10:08 - vnstock.common.data.data_explorer - ERROR - Lỗi khi truy xuất dữ liệu income_statement: \"None of [Index(['ticker', 'yearReport', 'lengthReport'], dtype='object')] are in the [columns]\"\n"
     ]
    },
    {
     "name": "stdout",
     "output_type": "stream",
     "text": [
      "err at 745\n",
      "mined at 746\n"
     ]
    },
    {
     "name": "stderr",
     "output_type": "stream",
     "text": [
      "2025-09-28 23:10:20 - vnstock.explorer.vci.financial - ERROR - Error processing financial report data: \"None of [Index(['ticker', 'yearReport', 'lengthReport'], dtype='object')] are in the [columns]\"\n",
      "2025-09-28 23:10:20 - vnstock.explorer.vci.financial - ERROR - Error processing report 'Chỉ tiêu kết quả kinh doanh': \"None of [Index(['ticker', 'yearReport', 'lengthReport'], dtype='object')] are in the [columns]\"\n",
      "2025-09-28 23:10:20 - vnstock.common.data.data_explorer - ERROR - Lỗi khi truy xuất dữ liệu income_statement: \"None of [Index(['ticker', 'yearReport', 'lengthReport'], dtype='object')] are in the [columns]\"\n"
     ]
    },
    {
     "name": "stdout",
     "output_type": "stream",
     "text": [
      "err at 747\n",
      "mined at 748\n",
      "mined at 749\n"
     ]
    },
    {
     "name": "stderr",
     "output_type": "stream",
     "text": [
      "2025-09-28 23:10:40 - vnstock.explorer.vci.financial - ERROR - Error processing financial report data: \"None of [Index(['ticker', 'yearReport', 'lengthReport'], dtype='object')] are in the [columns]\"\n",
      "2025-09-28 23:10:40 - vnstock.explorer.vci.financial - ERROR - Error processing report 'Chỉ tiêu kết quả kinh doanh': \"None of [Index(['ticker', 'yearReport', 'lengthReport'], dtype='object')] are in the [columns]\"\n",
      "2025-09-28 23:10:40 - vnstock.common.data.data_explorer - ERROR - Lỗi khi truy xuất dữ liệu income_statement: \"None of [Index(['ticker', 'yearReport', 'lengthReport'], dtype='object')] are in the [columns]\"\n"
     ]
    },
    {
     "name": "stdout",
     "output_type": "stream",
     "text": [
      "err at 750\n"
     ]
    },
    {
     "name": "stderr",
     "output_type": "stream",
     "text": [
      "2025-09-28 23:10:45 - vnstock.explorer.vci.financial - ERROR - Error processing financial report data: \"None of [Index(['ticker', 'yearReport', 'lengthReport'], dtype='object')] are in the [columns]\"\n",
      "2025-09-28 23:10:45 - vnstock.explorer.vci.financial - ERROR - Error processing report 'Chỉ tiêu kết quả kinh doanh': \"None of [Index(['ticker', 'yearReport', 'lengthReport'], dtype='object')] are in the [columns]\"\n",
      "2025-09-28 23:10:45 - vnstock.common.data.data_explorer - ERROR - Lỗi khi truy xuất dữ liệu income_statement: \"None of [Index(['ticker', 'yearReport', 'lengthReport'], dtype='object')] are in the [columns]\"\n"
     ]
    },
    {
     "name": "stdout",
     "output_type": "stream",
     "text": [
      "err at 751\n",
      "mined at 752\n",
      "mined at 753\n",
      "mined at 754\n",
      "mined at 755\n"
     ]
    },
    {
     "name": "stderr",
     "output_type": "stream",
     "text": [
      "Downcasting object dtype arrays on .fillna, .ffill, .bfill is deprecated and will change in a future version. Call result.infer_objects(copy=False) instead. To opt-in to the future behavior, set `pd.set_option('future.no_silent_downcasting', True)`\n"
     ]
    },
    {
     "name": "stdout",
     "output_type": "stream",
     "text": [
      "mined at 756\n",
      "mined at 757\n",
      "mined at 758\n",
      "mined at 759\n",
      "mined at 760\n"
     ]
    },
    {
     "name": "stderr",
     "output_type": "stream",
     "text": [
      "2025-09-28 23:11:54 - vnstock.explorer.vci.financial - ERROR - Error processing financial report data: \"None of [Index(['ticker', 'yearReport', 'lengthReport'], dtype='object')] are in the [columns]\"\n",
      "2025-09-28 23:11:54 - vnstock.explorer.vci.financial - ERROR - Error processing report 'Chỉ tiêu kết quả kinh doanh': \"None of [Index(['ticker', 'yearReport', 'lengthReport'], dtype='object')] are in the [columns]\"\n",
      "2025-09-28 23:11:54 - vnstock.common.data.data_explorer - ERROR - Lỗi khi truy xuất dữ liệu income_statement: \"None of [Index(['ticker', 'yearReport', 'lengthReport'], dtype='object')] are in the [columns]\"\n"
     ]
    },
    {
     "name": "stdout",
     "output_type": "stream",
     "text": [
      "err at 761\n"
     ]
    },
    {
     "name": "stderr",
     "output_type": "stream",
     "text": [
      "Downcasting object dtype arrays on .fillna, .ffill, .bfill is deprecated and will change in a future version. Call result.infer_objects(copy=False) instead. To opt-in to the future behavior, set `pd.set_option('future.no_silent_downcasting', True)`\n"
     ]
    },
    {
     "name": "stdout",
     "output_type": "stream",
     "text": [
      "mined at 762\n",
      "mined at 763\n"
     ]
    },
    {
     "name": "stderr",
     "output_type": "stream",
     "text": [
      "2025-09-28 23:12:12 - vnstock.explorer.vci.financial - ERROR - Error processing financial report data: \"None of [Index(['ticker', 'yearReport', 'lengthReport'], dtype='object')] are in the [columns]\"\n",
      "2025-09-28 23:12:12 - vnstock.explorer.vci.financial - ERROR - Error processing report 'Chỉ tiêu kết quả kinh doanh': \"None of [Index(['ticker', 'yearReport', 'lengthReport'], dtype='object')] are in the [columns]\"\n",
      "2025-09-28 23:12:12 - vnstock.common.data.data_explorer - ERROR - Lỗi khi truy xuất dữ liệu income_statement: \"None of [Index(['ticker', 'yearReport', 'lengthReport'], dtype='object')] are in the [columns]\"\n"
     ]
    },
    {
     "name": "stdout",
     "output_type": "stream",
     "text": [
      "err at 764\n",
      "mined at 765\n"
     ]
    },
    {
     "name": "stderr",
     "output_type": "stream",
     "text": [
      "Downcasting object dtype arrays on .fillna, .ffill, .bfill is deprecated and will change in a future version. Call result.infer_objects(copy=False) instead. To opt-in to the future behavior, set `pd.set_option('future.no_silent_downcasting', True)`\n"
     ]
    },
    {
     "name": "stdout",
     "output_type": "stream",
     "text": [
      "mined at 766\n",
      "mined at 767\n",
      "mined at 768\n",
      "mined at 769\n",
      "mined at 770\n",
      "mined at 771\n",
      "mined at 772\n",
      "mined at 773\n"
     ]
    },
    {
     "name": "stderr",
     "output_type": "stream",
     "text": [
      "2025-09-28 23:13:33 - vnstock.explorer.vci.financial - ERROR - Error processing financial report data: \"None of [Index(['ticker', 'yearReport', 'lengthReport'], dtype='object')] are in the [columns]\"\n",
      "2025-09-28 23:13:33 - vnstock.explorer.vci.financial - ERROR - Error processing report 'Chỉ tiêu kết quả kinh doanh': \"None of [Index(['ticker', 'yearReport', 'lengthReport'], dtype='object')] are in the [columns]\"\n",
      "2025-09-28 23:13:33 - vnstock.common.data.data_explorer - ERROR - Lỗi khi truy xuất dữ liệu income_statement: \"None of [Index(['ticker', 'yearReport', 'lengthReport'], dtype='object')] are in the [columns]\"\n"
     ]
    },
    {
     "name": "stdout",
     "output_type": "stream",
     "text": [
      "err at 774\n"
     ]
    },
    {
     "name": "stderr",
     "output_type": "stream",
     "text": [
      "2025-09-28 23:13:39 - vnstock.explorer.vci.financial - ERROR - Error processing financial report data: \"None of [Index(['ticker', 'yearReport', 'lengthReport'], dtype='object')] are in the [columns]\"\n",
      "2025-09-28 23:13:39 - vnstock.explorer.vci.financial - ERROR - Error processing report 'Chỉ tiêu kết quả kinh doanh': \"None of [Index(['ticker', 'yearReport', 'lengthReport'], dtype='object')] are in the [columns]\"\n",
      "2025-09-28 23:13:39 - vnstock.common.data.data_explorer - ERROR - Lỗi khi truy xuất dữ liệu income_statement: \"None of [Index(['ticker', 'yearReport', 'lengthReport'], dtype='object')] are in the [columns]\"\n"
     ]
    },
    {
     "name": "stdout",
     "output_type": "stream",
     "text": [
      "err at 775\n",
      "mined at 776\n",
      "mined at 777\n"
     ]
    },
    {
     "name": "stderr",
     "output_type": "stream",
     "text": [
      "2025-09-28 23:14:00 - vnstock.explorer.vci.financial - ERROR - Error processing financial report data: \"None of [Index(['ticker', 'yearReport', 'lengthReport'], dtype='object')] are in the [columns]\"\n",
      "2025-09-28 23:14:00 - vnstock.explorer.vci.financial - ERROR - Error processing report 'Chỉ tiêu kết quả kinh doanh': \"None of [Index(['ticker', 'yearReport', 'lengthReport'], dtype='object')] are in the [columns]\"\n",
      "2025-09-28 23:14:00 - vnstock.common.data.data_explorer - ERROR - Lỗi khi truy xuất dữ liệu income_statement: \"None of [Index(['ticker', 'yearReport', 'lengthReport'], dtype='object')] are in the [columns]\"\n"
     ]
    },
    {
     "name": "stdout",
     "output_type": "stream",
     "text": [
      "err at 778\n",
      "mined at 779\n",
      "mined at 780\n"
     ]
    },
    {
     "name": "stderr",
     "output_type": "stream",
     "text": [
      "Downcasting object dtype arrays on .fillna, .ffill, .bfill is deprecated and will change in a future version. Call result.infer_objects(copy=False) instead. To opt-in to the future behavior, set `pd.set_option('future.no_silent_downcasting', True)`\n"
     ]
    },
    {
     "name": "stdout",
     "output_type": "stream",
     "text": [
      "mined at 781\n"
     ]
    },
    {
     "name": "stderr",
     "output_type": "stream",
     "text": [
      "Downcasting object dtype arrays on .fillna, .ffill, .bfill is deprecated and will change in a future version. Call result.infer_objects(copy=False) instead. To opt-in to the future behavior, set `pd.set_option('future.no_silent_downcasting', True)`\n"
     ]
    },
    {
     "name": "stdout",
     "output_type": "stream",
     "text": [
      "mined at 782\n",
      "mined at 783\n",
      "mined at 784\n",
      "mined at 785\n",
      "mined at 786\n",
      "mined at 787\n",
      "mined at 788\n",
      "mined at 789\n",
      "mined at 790\n"
     ]
    },
    {
     "name": "stderr",
     "output_type": "stream",
     "text": [
      "2025-09-28 23:15:58 - vnstock.explorer.vci.financial - ERROR - Error processing financial report data: \"None of [Index(['ticker', 'yearReport', 'lengthReport'], dtype='object')] are in the [columns]\"\n",
      "2025-09-28 23:15:58 - vnstock.explorer.vci.financial - ERROR - Error processing report 'Chỉ tiêu kết quả kinh doanh': \"None of [Index(['ticker', 'yearReport', 'lengthReport'], dtype='object')] are in the [columns]\"\n",
      "2025-09-28 23:15:58 - vnstock.common.data.data_explorer - ERROR - Lỗi khi truy xuất dữ liệu income_statement: \"None of [Index(['ticker', 'yearReport', 'lengthReport'], dtype='object')] are in the [columns]\"\n"
     ]
    },
    {
     "name": "stdout",
     "output_type": "stream",
     "text": [
      "err at 791\n",
      "mined at 792\n",
      "mined at 793\n",
      "mined at 794\n",
      "mined at 795\n",
      "mined at 796\n",
      "mined at 797\n",
      "mined at 798\n"
     ]
    },
    {
     "name": "stderr",
     "output_type": "stream",
     "text": [
      "2025-09-28 23:17:02 - vnstock.explorer.vci.financial - ERROR - Error processing financial report data: \"None of [Index(['ticker', 'yearReport', 'lengthReport'], dtype='object')] are in the [columns]\"\n",
      "2025-09-28 23:17:02 - vnstock.explorer.vci.financial - ERROR - Error processing report 'Chỉ tiêu kết quả kinh doanh': \"None of [Index(['ticker', 'yearReport', 'lengthReport'], dtype='object')] are in the [columns]\"\n",
      "2025-09-28 23:17:02 - vnstock.common.data.data_explorer - ERROR - Lỗi khi truy xuất dữ liệu income_statement: \"None of [Index(['ticker', 'yearReport', 'lengthReport'], dtype='object')] are in the [columns]\"\n"
     ]
    },
    {
     "name": "stdout",
     "output_type": "stream",
     "text": [
      "err at 799\n",
      "mined at 800\n",
      "mined at 801\n",
      "mined at 802\n",
      "mined at 803\n",
      "mined at 804\n",
      "mined at 805\n",
      "mined at 806\n"
     ]
    },
    {
     "name": "stderr",
     "output_type": "stream",
     "text": [
      "2025-09-28 23:17:57 - vnstock.explorer.vci.financial - ERROR - Error processing financial report data: \"None of [Index(['ticker', 'yearReport', 'lengthReport'], dtype='object')] are in the [columns]\"\n",
      "2025-09-28 23:17:57 - vnstock.explorer.vci.financial - ERROR - Error processing report 'Chỉ tiêu kết quả kinh doanh': \"None of [Index(['ticker', 'yearReport', 'lengthReport'], dtype='object')] are in the [columns]\"\n",
      "2025-09-28 23:17:57 - vnstock.common.data.data_explorer - ERROR - Lỗi khi truy xuất dữ liệu income_statement: \"None of [Index(['ticker', 'yearReport', 'lengthReport'], dtype='object')] are in the [columns]\"\n"
     ]
    },
    {
     "name": "stdout",
     "output_type": "stream",
     "text": [
      "err at 807\n",
      "mined at 808\n",
      "mined at 809\n",
      "mined at 810\n",
      "mined at 811\n"
     ]
    },
    {
     "name": "stderr",
     "output_type": "stream",
     "text": [
      "2025-09-28 23:18:48 - vnstock.explorer.vci.financial - ERROR - Error processing financial report data: \"None of [Index(['ticker', 'yearReport', 'lengthReport'], dtype='object')] are in the [columns]\"\n",
      "2025-09-28 23:18:48 - vnstock.explorer.vci.financial - ERROR - Error processing report 'Chỉ tiêu kết quả kinh doanh': \"None of [Index(['ticker', 'yearReport', 'lengthReport'], dtype='object')] are in the [columns]\"\n",
      "2025-09-28 23:18:48 - vnstock.common.data.data_explorer - ERROR - Lỗi khi truy xuất dữ liệu income_statement: \"None of [Index(['ticker', 'yearReport', 'lengthReport'], dtype='object')] are in the [columns]\"\n"
     ]
    },
    {
     "name": "stdout",
     "output_type": "stream",
     "text": [
      "err at 812\n",
      "mined at 813\n",
      "mined at 814\n",
      "mined at 815\n",
      "mined at 816\n"
     ]
    },
    {
     "name": "stderr",
     "output_type": "stream",
     "text": [
      "2025-09-28 23:19:32 - vnstock.explorer.vci.financial - ERROR - Error processing financial report data: \"None of [Index(['ticker', 'yearReport', 'lengthReport'], dtype='object')] are in the [columns]\"\n",
      "2025-09-28 23:19:32 - vnstock.explorer.vci.financial - ERROR - Error processing report 'Chỉ tiêu kết quả kinh doanh': \"None of [Index(['ticker', 'yearReport', 'lengthReport'], dtype='object')] are in the [columns]\"\n",
      "2025-09-28 23:19:32 - vnstock.common.data.data_explorer - ERROR - Lỗi khi truy xuất dữ liệu income_statement: \"None of [Index(['ticker', 'yearReport', 'lengthReport'], dtype='object')] are in the [columns]\"\n"
     ]
    },
    {
     "name": "stdout",
     "output_type": "stream",
     "text": [
      "err at 817\n",
      "mined at 818\n",
      "mined at 819\n",
      "err at 820\n",
      "mined at 821\n",
      "mined at 822\n",
      "mined at 823\n",
      "mined at 824\n"
     ]
    },
    {
     "name": "stderr",
     "output_type": "stream",
     "text": [
      "2025-09-28 23:20:28 - vnstock.explorer.vci.financial - ERROR - Error processing financial report data: \"None of [Index(['ticker', 'yearReport', 'lengthReport'], dtype='object')] are in the [columns]\"\n",
      "2025-09-28 23:20:28 - vnstock.explorer.vci.financial - ERROR - Error processing report 'Chỉ tiêu kết quả kinh doanh': \"None of [Index(['ticker', 'yearReport', 'lengthReport'], dtype='object')] are in the [columns]\"\n",
      "2025-09-28 23:20:28 - vnstock.common.data.data_explorer - ERROR - Lỗi khi truy xuất dữ liệu income_statement: \"None of [Index(['ticker', 'yearReport', 'lengthReport'], dtype='object')] are in the [columns]\"\n"
     ]
    },
    {
     "name": "stdout",
     "output_type": "stream",
     "text": [
      "err at 825\n"
     ]
    },
    {
     "name": "stderr",
     "output_type": "stream",
     "text": [
      "Downcasting object dtype arrays on .fillna, .ffill, .bfill is deprecated and will change in a future version. Call result.infer_objects(copy=False) instead. To opt-in to the future behavior, set `pd.set_option('future.no_silent_downcasting', True)`\n"
     ]
    },
    {
     "name": "stdout",
     "output_type": "stream",
     "text": [
      "mined at 826\n",
      "mined at 827\n"
     ]
    },
    {
     "name": "stderr",
     "output_type": "stream",
     "text": [
      "2025-09-28 23:20:53 - vnstock.explorer.vci.financial - ERROR - Error processing financial report data: \"None of [Index(['ticker', 'yearReport', 'lengthReport'], dtype='object')] are in the [columns]\"\n",
      "2025-09-28 23:20:53 - vnstock.explorer.vci.financial - ERROR - Error processing report 'Chỉ tiêu kết quả kinh doanh': \"None of [Index(['ticker', 'yearReport', 'lengthReport'], dtype='object')] are in the [columns]\"\n",
      "2025-09-28 23:20:53 - vnstock.common.data.data_explorer - ERROR - Lỗi khi truy xuất dữ liệu income_statement: \"None of [Index(['ticker', 'yearReport', 'lengthReport'], dtype='object')] are in the [columns]\"\n"
     ]
    },
    {
     "name": "stdout",
     "output_type": "stream",
     "text": [
      "err at 828\n"
     ]
    },
    {
     "name": "stderr",
     "output_type": "stream",
     "text": [
      "2025-09-28 23:20:59 - vnstock.explorer.vci.financial - ERROR - Error processing financial report data: \"None of [Index(['ticker', 'yearReport', 'lengthReport'], dtype='object')] are in the [columns]\"\n",
      "2025-09-28 23:20:59 - vnstock.explorer.vci.financial - ERROR - Error processing report 'Chỉ tiêu kết quả kinh doanh': \"None of [Index(['ticker', 'yearReport', 'lengthReport'], dtype='object')] are in the [columns]\"\n",
      "2025-09-28 23:20:59 - vnstock.common.data.data_explorer - ERROR - Lỗi khi truy xuất dữ liệu income_statement: \"None of [Index(['ticker', 'yearReport', 'lengthReport'], dtype='object')] are in the [columns]\"\n"
     ]
    },
    {
     "name": "stdout",
     "output_type": "stream",
     "text": [
      "err at 829\n"
     ]
    },
    {
     "name": "stderr",
     "output_type": "stream",
     "text": [
      "2025-09-28 23:21:05 - vnstock.explorer.vci.financial - ERROR - Error processing financial report data: \"None of [Index(['ticker', 'yearReport', 'lengthReport'], dtype='object')] are in the [columns]\"\n",
      "2025-09-28 23:21:05 - vnstock.explorer.vci.financial - ERROR - Error processing report 'Chỉ tiêu kết quả kinh doanh': \"None of [Index(['ticker', 'yearReport', 'lengthReport'], dtype='object')] are in the [columns]\"\n",
      "2025-09-28 23:21:05 - vnstock.common.data.data_explorer - ERROR - Lỗi khi truy xuất dữ liệu income_statement: \"None of [Index(['ticker', 'yearReport', 'lengthReport'], dtype='object')] are in the [columns]\"\n"
     ]
    },
    {
     "name": "stdout",
     "output_type": "stream",
     "text": [
      "err at 830\n",
      "mined at 831\n"
     ]
    },
    {
     "name": "stderr",
     "output_type": "stream",
     "text": [
      "2025-09-28 23:21:17 - vnstock.explorer.vci.financial - ERROR - Error processing financial report data: \"None of [Index(['ticker', 'yearReport', 'lengthReport'], dtype='object')] are in the [columns]\"\n",
      "2025-09-28 23:21:17 - vnstock.explorer.vci.financial - ERROR - Error processing report 'Chỉ tiêu kết quả kinh doanh': \"None of [Index(['ticker', 'yearReport', 'lengthReport'], dtype='object')] are in the [columns]\"\n",
      "2025-09-28 23:21:17 - vnstock.common.data.data_explorer - ERROR - Lỗi khi truy xuất dữ liệu income_statement: \"None of [Index(['ticker', 'yearReport', 'lengthReport'], dtype='object')] are in the [columns]\"\n"
     ]
    },
    {
     "name": "stdout",
     "output_type": "stream",
     "text": [
      "err at 832\n"
     ]
    },
    {
     "name": "stderr",
     "output_type": "stream",
     "text": [
      "2025-09-28 23:21:24 - vnstock.explorer.vci.financial - ERROR - Error processing financial report data: \"None of [Index(['ticker', 'yearReport', 'lengthReport'], dtype='object')] are in the [columns]\"\n",
      "2025-09-28 23:21:24 - vnstock.explorer.vci.financial - ERROR - Error processing report 'Chỉ tiêu kết quả kinh doanh': \"None of [Index(['ticker', 'yearReport', 'lengthReport'], dtype='object')] are in the [columns]\"\n",
      "2025-09-28 23:21:24 - vnstock.common.data.data_explorer - ERROR - Lỗi khi truy xuất dữ liệu income_statement: \"None of [Index(['ticker', 'yearReport', 'lengthReport'], dtype='object')] are in the [columns]\"\n"
     ]
    },
    {
     "name": "stdout",
     "output_type": "stream",
     "text": [
      "err at 833\n",
      "mined at 834\n",
      "mined at 835\n",
      "mined at 836\n",
      "mined at 837\n",
      "mined at 838\n",
      "mined at 839\n"
     ]
    },
    {
     "name": "stderr",
     "output_type": "stream",
     "text": [
      "2025-09-28 23:22:22 - vnstock.explorer.vci.financial - ERROR - Error processing financial report data: \"None of [Index(['ticker', 'yearReport', 'lengthReport'], dtype='object')] are in the [columns]\"\n",
      "2025-09-28 23:22:22 - vnstock.explorer.vci.financial - ERROR - Error processing report 'Chỉ tiêu kết quả kinh doanh': \"None of [Index(['ticker', 'yearReport', 'lengthReport'], dtype='object')] are in the [columns]\"\n",
      "2025-09-28 23:22:22 - vnstock.common.data.data_explorer - ERROR - Lỗi khi truy xuất dữ liệu income_statement: \"None of [Index(['ticker', 'yearReport', 'lengthReport'], dtype='object')] are in the [columns]\"\n"
     ]
    },
    {
     "name": "stdout",
     "output_type": "stream",
     "text": [
      "err at 840\n"
     ]
    },
    {
     "name": "stderr",
     "output_type": "stream",
     "text": [
      "2025-09-28 23:22:28 - vnstock.explorer.vci.financial - ERROR - Error processing financial report data: \"None of [Index(['ticker', 'yearReport', 'lengthReport'], dtype='object')] are in the [columns]\"\n",
      "2025-09-28 23:22:28 - vnstock.explorer.vci.financial - ERROR - Error processing report 'Chỉ tiêu kết quả kinh doanh': \"None of [Index(['ticker', 'yearReport', 'lengthReport'], dtype='object')] are in the [columns]\"\n",
      "2025-09-28 23:22:28 - vnstock.common.data.data_explorer - ERROR - Lỗi khi truy xuất dữ liệu income_statement: \"None of [Index(['ticker', 'yearReport', 'lengthReport'], dtype='object')] are in the [columns]\"\n"
     ]
    },
    {
     "name": "stdout",
     "output_type": "stream",
     "text": [
      "err at 841\n"
     ]
    },
    {
     "name": "stderr",
     "output_type": "stream",
     "text": [
      "Downcasting object dtype arrays on .fillna, .ffill, .bfill is deprecated and will change in a future version. Call result.infer_objects(copy=False) instead. To opt-in to the future behavior, set `pd.set_option('future.no_silent_downcasting', True)`\n"
     ]
    },
    {
     "name": "stdout",
     "output_type": "stream",
     "text": [
      "mined at 842\n"
     ]
    },
    {
     "name": "stderr",
     "output_type": "stream",
     "text": [
      "2025-09-28 23:22:40 - vnstock.explorer.vci.financial - ERROR - Error processing financial report data: \"None of [Index(['ticker', 'yearReport', 'lengthReport'], dtype='object')] are in the [columns]\"\n",
      "2025-09-28 23:22:40 - vnstock.explorer.vci.financial - ERROR - Error processing report 'Chỉ tiêu kết quả kinh doanh': \"None of [Index(['ticker', 'yearReport', 'lengthReport'], dtype='object')] are in the [columns]\"\n",
      "2025-09-28 23:22:40 - vnstock.common.data.data_explorer - ERROR - Lỗi khi truy xuất dữ liệu income_statement: \"None of [Index(['ticker', 'yearReport', 'lengthReport'], dtype='object')] are in the [columns]\"\n"
     ]
    },
    {
     "name": "stdout",
     "output_type": "stream",
     "text": [
      "err at 843\n",
      "mined at 844\n",
      "mined at 845\n"
     ]
    },
    {
     "name": "stderr",
     "output_type": "stream",
     "text": [
      "2025-09-28 23:22:59 - vnstock.explorer.vci.financial - ERROR - Error processing financial report data: \"None of [Index(['ticker', 'yearReport', 'lengthReport'], dtype='object')] are in the [columns]\"\n",
      "2025-09-28 23:22:59 - vnstock.explorer.vci.financial - ERROR - Error processing report 'Chỉ tiêu kết quả kinh doanh': \"None of [Index(['ticker', 'yearReport', 'lengthReport'], dtype='object')] are in the [columns]\"\n",
      "2025-09-28 23:22:59 - vnstock.common.data.data_explorer - ERROR - Lỗi khi truy xuất dữ liệu income_statement: \"None of [Index(['ticker', 'yearReport', 'lengthReport'], dtype='object')] are in the [columns]\"\n"
     ]
    },
    {
     "name": "stdout",
     "output_type": "stream",
     "text": [
      "err at 846\n",
      "mined at 847\n",
      "mined at 848\n",
      "mined at 849\n"
     ]
    },
    {
     "name": "stderr",
     "output_type": "stream",
     "text": [
      "2025-09-28 23:23:25 - vnstock.explorer.vci.financial - ERROR - Error processing financial report data: \"None of [Index(['ticker', 'yearReport', 'lengthReport'], dtype='object')] are in the [columns]\"\n",
      "2025-09-28 23:23:25 - vnstock.explorer.vci.financial - ERROR - Error processing report 'Chỉ tiêu kết quả kinh doanh': \"None of [Index(['ticker', 'yearReport', 'lengthReport'], dtype='object')] are in the [columns]\"\n",
      "2025-09-28 23:23:25 - vnstock.common.data.data_explorer - ERROR - Lỗi khi truy xuất dữ liệu income_statement: \"None of [Index(['ticker', 'yearReport', 'lengthReport'], dtype='object')] are in the [columns]\"\n"
     ]
    },
    {
     "name": "stdout",
     "output_type": "stream",
     "text": [
      "err at 850\n",
      "mined at 851\n",
      "mined at 852\n",
      "mined at 853\n",
      "mined at 854\n",
      "mined at 855\n",
      "mined at 856\n",
      "mined at 857\n",
      "mined at 858\n",
      "mined at 859\n",
      "mined at 860\n"
     ]
    },
    {
     "name": "stderr",
     "output_type": "stream",
     "text": [
      "2025-09-28 23:24:39 - vnstock.explorer.vci.financial - ERROR - Error processing financial report data: \"None of [Index(['ticker', 'yearReport', 'lengthReport'], dtype='object')] are in the [columns]\"\n",
      "2025-09-28 23:24:39 - vnstock.explorer.vci.financial - ERROR - Error processing report 'Chỉ tiêu kết quả kinh doanh': \"None of [Index(['ticker', 'yearReport', 'lengthReport'], dtype='object')] are in the [columns]\"\n",
      "2025-09-28 23:24:39 - vnstock.common.data.data_explorer - ERROR - Lỗi khi truy xuất dữ liệu income_statement: \"None of [Index(['ticker', 'yearReport', 'lengthReport'], dtype='object')] are in the [columns]\"\n"
     ]
    },
    {
     "name": "stdout",
     "output_type": "stream",
     "text": [
      "err at 861\n"
     ]
    },
    {
     "name": "stderr",
     "output_type": "stream",
     "text": [
      "Downcasting object dtype arrays on .fillna, .ffill, .bfill is deprecated and will change in a future version. Call result.infer_objects(copy=False) instead. To opt-in to the future behavior, set `pd.set_option('future.no_silent_downcasting', True)`\n"
     ]
    },
    {
     "name": "stdout",
     "output_type": "stream",
     "text": [
      "mined at 862\n"
     ]
    },
    {
     "name": "stderr",
     "output_type": "stream",
     "text": [
      "Downcasting object dtype arrays on .fillna, .ffill, .bfill is deprecated and will change in a future version. Call result.infer_objects(copy=False) instead. To opt-in to the future behavior, set `pd.set_option('future.no_silent_downcasting', True)`\n"
     ]
    },
    {
     "name": "stdout",
     "output_type": "stream",
     "text": [
      "mined at 863\n",
      "mined at 864\n",
      "mined at 865\n",
      "mined at 866\n"
     ]
    },
    {
     "name": "stderr",
     "output_type": "stream",
     "text": [
      "2025-09-28 23:25:30 - vnstock.explorer.vci.financial - ERROR - Error processing financial report data: \"None of [Index(['ticker', 'yearReport', 'lengthReport'], dtype='object')] are in the [columns]\"\n",
      "2025-09-28 23:25:30 - vnstock.explorer.vci.financial - ERROR - Error processing report 'Chỉ tiêu kết quả kinh doanh': \"None of [Index(['ticker', 'yearReport', 'lengthReport'], dtype='object')] are in the [columns]\"\n",
      "2025-09-28 23:25:30 - vnstock.common.data.data_explorer - ERROR - Lỗi khi truy xuất dữ liệu income_statement: \"None of [Index(['ticker', 'yearReport', 'lengthReport'], dtype='object')] are in the [columns]\"\n"
     ]
    },
    {
     "name": "stdout",
     "output_type": "stream",
     "text": [
      "err at 867\n",
      "mined at 868\n",
      "mined at 869\n",
      "mined at 870\n",
      "mined at 871\n",
      "mined at 872\n"
     ]
    },
    {
     "name": "stderr",
     "output_type": "stream",
     "text": [
      "2025-09-28 23:26:12 - vnstock.explorer.vci.financial - ERROR - Error processing financial report data: \"None of [Index(['ticker', 'yearReport', 'lengthReport'], dtype='object')] are in the [columns]\"\n",
      "2025-09-28 23:26:12 - vnstock.explorer.vci.financial - ERROR - Error processing report 'Chỉ tiêu kết quả kinh doanh': \"None of [Index(['ticker', 'yearReport', 'lengthReport'], dtype='object')] are in the [columns]\"\n",
      "2025-09-28 23:26:12 - vnstock.common.data.data_explorer - ERROR - Lỗi khi truy xuất dữ liệu income_statement: \"None of [Index(['ticker', 'yearReport', 'lengthReport'], dtype='object')] are in the [columns]\"\n"
     ]
    },
    {
     "name": "stdout",
     "output_type": "stream",
     "text": [
      "err at 873\n",
      "mined at 874\n",
      "mined at 875\n",
      "mined at 876\n"
     ]
    },
    {
     "name": "stderr",
     "output_type": "stream",
     "text": [
      "Downcasting object dtype arrays on .fillna, .ffill, .bfill is deprecated and will change in a future version. Call result.infer_objects(copy=False) instead. To opt-in to the future behavior, set `pd.set_option('future.no_silent_downcasting', True)`\n"
     ]
    },
    {
     "name": "stdout",
     "output_type": "stream",
     "text": [
      "mined at 877\n",
      "mined at 878\n",
      "mined at 879\n",
      "mined at 880\n"
     ]
    },
    {
     "name": "stderr",
     "output_type": "stream",
     "text": [
      "2025-09-28 23:27:12 - vnstock.explorer.vci.financial - ERROR - Error processing financial report data: \"None of [Index(['ticker', 'yearReport', 'lengthReport'], dtype='object')] are in the [columns]\"\n",
      "2025-09-28 23:27:12 - vnstock.explorer.vci.financial - ERROR - Error processing report 'Chỉ tiêu kết quả kinh doanh': \"None of [Index(['ticker', 'yearReport', 'lengthReport'], dtype='object')] are in the [columns]\"\n",
      "2025-09-28 23:27:12 - vnstock.common.data.data_explorer - ERROR - Lỗi khi truy xuất dữ liệu income_statement: \"None of [Index(['ticker', 'yearReport', 'lengthReport'], dtype='object')] are in the [columns]\"\n"
     ]
    },
    {
     "name": "stdout",
     "output_type": "stream",
     "text": [
      "err at 881\n",
      "mined at 882\n"
     ]
    },
    {
     "name": "stderr",
     "output_type": "stream",
     "text": [
      "2025-09-28 23:27:25 - vnstock.explorer.vci.financial - ERROR - Error processing financial report data: \"None of [Index(['ticker', 'yearReport', 'lengthReport'], dtype='object')] are in the [columns]\"\n",
      "2025-09-28 23:27:25 - vnstock.explorer.vci.financial - ERROR - Error processing report 'Chỉ tiêu kết quả kinh doanh': \"None of [Index(['ticker', 'yearReport', 'lengthReport'], dtype='object')] are in the [columns]\"\n",
      "2025-09-28 23:27:25 - vnstock.common.data.data_explorer - ERROR - Lỗi khi truy xuất dữ liệu income_statement: \"None of [Index(['ticker', 'yearReport', 'lengthReport'], dtype='object')] are in the [columns]\"\n"
     ]
    },
    {
     "name": "stdout",
     "output_type": "stream",
     "text": [
      "err at 883\n"
     ]
    },
    {
     "name": "stderr",
     "output_type": "stream",
     "text": [
      "2025-09-28 23:27:41 - vnstock.explorer.vci.financial - ERROR - Error processing financial report data: \"None of [Index(['ticker', 'yearReport', 'lengthReport'], dtype='object')] are in the [columns]\"\n",
      "2025-09-28 23:27:41 - vnstock.explorer.vci.financial - ERROR - Error processing report 'Chỉ tiêu kết quả kinh doanh': \"None of [Index(['ticker', 'yearReport', 'lengthReport'], dtype='object')] are in the [columns]\"\n",
      "2025-09-28 23:27:41 - vnstock.common.data.data_explorer - ERROR - Lỗi khi truy xuất dữ liệu income_statement: \"None of [Index(['ticker', 'yearReport', 'lengthReport'], dtype='object')] are in the [columns]\"\n"
     ]
    },
    {
     "name": "stdout",
     "output_type": "stream",
     "text": [
      "err at 884\n",
      "mined at 885\n"
     ]
    },
    {
     "name": "stderr",
     "output_type": "stream",
     "text": [
      "2025-09-28 23:27:53 - vnstock.explorer.vci.financial - ERROR - Error processing financial report data: \"None of [Index(['ticker', 'yearReport', 'lengthReport'], dtype='object')] are in the [columns]\"\n",
      "2025-09-28 23:27:53 - vnstock.explorer.vci.financial - ERROR - Error processing report 'Chỉ tiêu kết quả kinh doanh': \"None of [Index(['ticker', 'yearReport', 'lengthReport'], dtype='object')] are in the [columns]\"\n",
      "2025-09-28 23:27:53 - vnstock.common.data.data_explorer - ERROR - Lỗi khi truy xuất dữ liệu income_statement: \"None of [Index(['ticker', 'yearReport', 'lengthReport'], dtype='object')] are in the [columns]\"\n"
     ]
    },
    {
     "name": "stdout",
     "output_type": "stream",
     "text": [
      "err at 886\n",
      "mined at 887\n",
      "mined at 888\n",
      "mined at 889\n",
      "mined at 890\n"
     ]
    },
    {
     "name": "stderr",
     "output_type": "stream",
     "text": [
      "2025-09-28 23:28:25 - vnstock.explorer.vci.financial - ERROR - Error processing financial report data: \"None of [Index(['ticker', 'yearReport', 'lengthReport'], dtype='object')] are in the [columns]\"\n",
      "2025-09-28 23:28:25 - vnstock.explorer.vci.financial - ERROR - Error processing report 'Chỉ tiêu kết quả kinh doanh': \"None of [Index(['ticker', 'yearReport', 'lengthReport'], dtype='object')] are in the [columns]\"\n",
      "2025-09-28 23:28:25 - vnstock.common.data.data_explorer - ERROR - Lỗi khi truy xuất dữ liệu income_statement: \"None of [Index(['ticker', 'yearReport', 'lengthReport'], dtype='object')] are in the [columns]\"\n"
     ]
    },
    {
     "name": "stdout",
     "output_type": "stream",
     "text": [
      "err at 891\n",
      "mined at 892\n"
     ]
    },
    {
     "name": "stderr",
     "output_type": "stream",
     "text": [
      "2025-09-28 23:28:43 - vnstock.explorer.vci.financial - ERROR - Error processing financial report data: \"None of [Index(['ticker', 'yearReport', 'lengthReport'], dtype='object')] are in the [columns]\"\n",
      "2025-09-28 23:28:43 - vnstock.explorer.vci.financial - ERROR - Error processing report 'Chỉ tiêu kết quả kinh doanh': \"None of [Index(['ticker', 'yearReport', 'lengthReport'], dtype='object')] are in the [columns]\"\n",
      "2025-09-28 23:28:43 - vnstock.common.data.data_explorer - ERROR - Lỗi khi truy xuất dữ liệu income_statement: \"None of [Index(['ticker', 'yearReport', 'lengthReport'], dtype='object')] are in the [columns]\"\n"
     ]
    },
    {
     "name": "stdout",
     "output_type": "stream",
     "text": [
      "err at 893\n",
      "mined at 894\n",
      "mined at 895\n",
      "mined at 896\n",
      "mined at 897\n",
      "mined at 898\n",
      "mined at 899\n"
     ]
    },
    {
     "name": "stderr",
     "output_type": "stream",
     "text": [
      "2025-09-28 23:29:32 - vnstock.explorer.vci.financial - ERROR - Error processing financial report data: \"None of [Index(['ticker', 'yearReport', 'lengthReport'], dtype='object')] are in the [columns]\"\n",
      "2025-09-28 23:29:32 - vnstock.explorer.vci.financial - ERROR - Error processing report 'Chỉ tiêu kết quả kinh doanh': \"None of [Index(['ticker', 'yearReport', 'lengthReport'], dtype='object')] are in the [columns]\"\n",
      "2025-09-28 23:29:32 - vnstock.common.data.data_explorer - ERROR - Lỗi khi truy xuất dữ liệu income_statement: \"None of [Index(['ticker', 'yearReport', 'lengthReport'], dtype='object')] are in the [columns]\"\n"
     ]
    },
    {
     "name": "stdout",
     "output_type": "stream",
     "text": [
      "err at 900\n",
      "mined at 901\n",
      "mined at 902\n",
      "mined at 903\n"
     ]
    },
    {
     "name": "stderr",
     "output_type": "stream",
     "text": [
      "2025-09-28 23:29:59 - vnstock.explorer.vci.financial - ERROR - Error processing financial report data: \"None of [Index(['ticker', 'yearReport', 'lengthReport'], dtype='object')] are in the [columns]\"\n",
      "2025-09-28 23:29:59 - vnstock.explorer.vci.financial - ERROR - Error processing report 'Chỉ tiêu kết quả kinh doanh': \"None of [Index(['ticker', 'yearReport', 'lengthReport'], dtype='object')] are in the [columns]\"\n",
      "2025-09-28 23:29:59 - vnstock.common.data.data_explorer - ERROR - Lỗi khi truy xuất dữ liệu income_statement: \"None of [Index(['ticker', 'yearReport', 'lengthReport'], dtype='object')] are in the [columns]\"\n"
     ]
    },
    {
     "name": "stdout",
     "output_type": "stream",
     "text": [
      "err at 904\n"
     ]
    },
    {
     "name": "stderr",
     "output_type": "stream",
     "text": [
      "2025-09-28 23:30:05 - vnstock.explorer.vci.financial - ERROR - Error processing financial report data: \"None of [Index(['ticker', 'yearReport', 'lengthReport'], dtype='object')] are in the [columns]\"\n",
      "2025-09-28 23:30:05 - vnstock.explorer.vci.financial - ERROR - Error processing report 'Chỉ tiêu kết quả kinh doanh': \"None of [Index(['ticker', 'yearReport', 'lengthReport'], dtype='object')] are in the [columns]\"\n",
      "2025-09-28 23:30:05 - vnstock.common.data.data_explorer - ERROR - Lỗi khi truy xuất dữ liệu income_statement: \"None of [Index(['ticker', 'yearReport', 'lengthReport'], dtype='object')] are in the [columns]\"\n"
     ]
    },
    {
     "name": "stdout",
     "output_type": "stream",
     "text": [
      "err at 905\n",
      "mined at 906\n"
     ]
    },
    {
     "name": "stderr",
     "output_type": "stream",
     "text": [
      "2025-09-28 23:30:20 - vnstock.explorer.vci.financial - ERROR - Error processing financial report data: \"None of [Index(['ticker', 'yearReport', 'lengthReport'], dtype='object')] are in the [columns]\"\n",
      "2025-09-28 23:30:20 - vnstock.explorer.vci.financial - ERROR - Error processing report 'Chỉ tiêu kết quả kinh doanh': \"None of [Index(['ticker', 'yearReport', 'lengthReport'], dtype='object')] are in the [columns]\"\n",
      "2025-09-28 23:30:20 - vnstock.common.data.data_explorer - ERROR - Lỗi khi truy xuất dữ liệu income_statement: \"None of [Index(['ticker', 'yearReport', 'lengthReport'], dtype='object')] are in the [columns]\"\n"
     ]
    },
    {
     "name": "stdout",
     "output_type": "stream",
     "text": [
      "err at 907\n",
      "mined at 908\n",
      "mined at 909\n",
      "mined at 910\n",
      "mined at 911\n"
     ]
    },
    {
     "name": "stderr",
     "output_type": "stream",
     "text": [
      "2025-09-28 23:31:04 - vnstock.explorer.vci.financial - ERROR - Error processing financial report data: \"None of [Index(['ticker', 'yearReport', 'lengthReport'], dtype='object')] are in the [columns]\"\n",
      "2025-09-28 23:31:04 - vnstock.explorer.vci.financial - ERROR - Error processing report 'Chỉ tiêu kết quả kinh doanh': \"None of [Index(['ticker', 'yearReport', 'lengthReport'], dtype='object')] are in the [columns]\"\n",
      "2025-09-28 23:31:04 - vnstock.common.data.data_explorer - ERROR - Lỗi khi truy xuất dữ liệu income_statement: \"None of [Index(['ticker', 'yearReport', 'lengthReport'], dtype='object')] are in the [columns]\"\n"
     ]
    },
    {
     "name": "stdout",
     "output_type": "stream",
     "text": [
      "err at 912\n",
      "mined at 913\n",
      "mined at 914\n",
      "mined at 915\n",
      "mined at 916\n",
      "mined at 917\n"
     ]
    },
    {
     "name": "stderr",
     "output_type": "stream",
     "text": [
      "2025-09-28 23:31:55 - vnstock.explorer.vci.financial - ERROR - Error processing financial report data: \"None of [Index(['ticker', 'yearReport', 'lengthReport'], dtype='object')] are in the [columns]\"\n",
      "2025-09-28 23:31:55 - vnstock.explorer.vci.financial - ERROR - Error processing report 'Chỉ tiêu kết quả kinh doanh': \"None of [Index(['ticker', 'yearReport', 'lengthReport'], dtype='object')] are in the [columns]\"\n",
      "2025-09-28 23:31:55 - vnstock.common.data.data_explorer - ERROR - Lỗi khi truy xuất dữ liệu income_statement: \"None of [Index(['ticker', 'yearReport', 'lengthReport'], dtype='object')] are in the [columns]\"\n"
     ]
    },
    {
     "name": "stdout",
     "output_type": "stream",
     "text": [
      "err at 918\n",
      "mined at 919\n",
      "mined at 920\n"
     ]
    },
    {
     "name": "stderr",
     "output_type": "stream",
     "text": [
      "2025-09-28 23:32:30 - vnstock.explorer.vci.financial - ERROR - Error processing financial report data: \"None of [Index(['ticker', 'yearReport', 'lengthReport'], dtype='object')] are in the [columns]\"\n",
      "2025-09-28 23:32:30 - vnstock.explorer.vci.financial - ERROR - Error processing report 'Chỉ tiêu kết quả kinh doanh': \"None of [Index(['ticker', 'yearReport', 'lengthReport'], dtype='object')] are in the [columns]\"\n",
      "2025-09-28 23:32:30 - vnstock.common.data.data_explorer - ERROR - Lỗi khi truy xuất dữ liệu income_statement: \"None of [Index(['ticker', 'yearReport', 'lengthReport'], dtype='object')] are in the [columns]\"\n"
     ]
    },
    {
     "name": "stdout",
     "output_type": "stream",
     "text": [
      "err at 921\n",
      "mined at 922\n",
      "mined at 923\n",
      "mined at 924\n",
      "mined at 925\n",
      "mined at 926\n",
      "mined at 927\n",
      "mined at 928\n",
      "mined at 929\n",
      "mined at 930\n"
     ]
    },
    {
     "name": "stderr",
     "output_type": "stream",
     "text": [
      "2025-09-28 23:33:34 - vnstock.explorer.vci.financial - ERROR - Error processing financial report data: \"None of [Index(['ticker', 'yearReport', 'lengthReport'], dtype='object')] are in the [columns]\"\n",
      "2025-09-28 23:33:34 - vnstock.explorer.vci.financial - ERROR - Error processing report 'Chỉ tiêu kết quả kinh doanh': \"None of [Index(['ticker', 'yearReport', 'lengthReport'], dtype='object')] are in the [columns]\"\n",
      "2025-09-28 23:33:34 - vnstock.common.data.data_explorer - ERROR - Lỗi khi truy xuất dữ liệu income_statement: \"None of [Index(['ticker', 'yearReport', 'lengthReport'], dtype='object')] are in the [columns]\"\n"
     ]
    },
    {
     "name": "stdout",
     "output_type": "stream",
     "text": [
      "err at 931\n",
      "mined at 932\n",
      "mined at 933\n"
     ]
    },
    {
     "name": "stderr",
     "output_type": "stream",
     "text": [
      "2025-09-28 23:33:54 - vnstock.explorer.vci.financial - ERROR - Error processing financial report data: \"None of [Index(['ticker', 'yearReport', 'lengthReport'], dtype='object')] are in the [columns]\"\n",
      "2025-09-28 23:33:54 - vnstock.explorer.vci.financial - ERROR - Error processing report 'Chỉ tiêu kết quả kinh doanh': \"None of [Index(['ticker', 'yearReport', 'lengthReport'], dtype='object')] are in the [columns]\"\n",
      "2025-09-28 23:33:54 - vnstock.common.data.data_explorer - ERROR - Lỗi khi truy xuất dữ liệu income_statement: \"None of [Index(['ticker', 'yearReport', 'lengthReport'], dtype='object')] are in the [columns]\"\n"
     ]
    },
    {
     "name": "stdout",
     "output_type": "stream",
     "text": [
      "err at 934\n",
      "mined at 935\n",
      "mined at 936\n",
      "mined at 937\n",
      "mined at 938\n"
     ]
    },
    {
     "name": "stderr",
     "output_type": "stream",
     "text": [
      "2025-09-28 23:34:34 - vnstock.explorer.vci.financial - ERROR - Error processing financial report data: \"None of [Index(['ticker', 'yearReport', 'lengthReport'], dtype='object')] are in the [columns]\"\n",
      "2025-09-28 23:34:34 - vnstock.explorer.vci.financial - ERROR - Error processing report 'Chỉ tiêu kết quả kinh doanh': \"None of [Index(['ticker', 'yearReport', 'lengthReport'], dtype='object')] are in the [columns]\"\n",
      "2025-09-28 23:34:34 - vnstock.common.data.data_explorer - ERROR - Lỗi khi truy xuất dữ liệu income_statement: \"None of [Index(['ticker', 'yearReport', 'lengthReport'], dtype='object')] are in the [columns]\"\n"
     ]
    },
    {
     "name": "stdout",
     "output_type": "stream",
     "text": [
      "err at 939\n",
      "mined at 940\n",
      "mined at 941\n"
     ]
    },
    {
     "name": "stderr",
     "output_type": "stream",
     "text": [
      "2025-09-28 23:34:51 - vnstock.explorer.vci.financial - ERROR - Error processing financial report data: \"None of [Index(['ticker', 'yearReport', 'lengthReport'], dtype='object')] are in the [columns]\"\n",
      "2025-09-28 23:34:51 - vnstock.explorer.vci.financial - ERROR - Error processing report 'Chỉ tiêu kết quả kinh doanh': \"None of [Index(['ticker', 'yearReport', 'lengthReport'], dtype='object')] are in the [columns]\"\n",
      "2025-09-28 23:34:51 - vnstock.common.data.data_explorer - ERROR - Lỗi khi truy xuất dữ liệu income_statement: \"None of [Index(['ticker', 'yearReport', 'lengthReport'], dtype='object')] are in the [columns]\"\n"
     ]
    },
    {
     "name": "stdout",
     "output_type": "stream",
     "text": [
      "err at 942\n",
      "mined at 943\n",
      "mined at 944\n",
      "mined at 945\n",
      "mined at 946\n",
      "mined at 947\n",
      "mined at 948\n",
      "mined at 949\n",
      "mined at 950\n"
     ]
    },
    {
     "name": "stderr",
     "output_type": "stream",
     "text": [
      "2025-09-28 23:35:56 - vnstock.explorer.vci.financial - ERROR - Error processing financial report data: \"None of [Index(['ticker', 'yearReport', 'lengthReport'], dtype='object')] are in the [columns]\"\n",
      "2025-09-28 23:35:56 - vnstock.explorer.vci.financial - ERROR - Error processing report 'Chỉ tiêu kết quả kinh doanh': \"None of [Index(['ticker', 'yearReport', 'lengthReport'], dtype='object')] are in the [columns]\"\n",
      "2025-09-28 23:35:56 - vnstock.common.data.data_explorer - ERROR - Lỗi khi truy xuất dữ liệu income_statement: \"None of [Index(['ticker', 'yearReport', 'lengthReport'], dtype='object')] are in the [columns]\"\n"
     ]
    },
    {
     "name": "stdout",
     "output_type": "stream",
     "text": [
      "err at 951\n",
      "mined at 952\n"
     ]
    },
    {
     "name": "stderr",
     "output_type": "stream",
     "text": [
      "2025-09-28 23:36:10 - vnstock.explorer.vci.financial - ERROR - Error processing financial report data: \"None of [Index(['ticker', 'yearReport', 'lengthReport'], dtype='object')] are in the [columns]\"\n",
      "2025-09-28 23:36:10 - vnstock.explorer.vci.financial - ERROR - Error processing report 'Chỉ tiêu kết quả kinh doanh': \"None of [Index(['ticker', 'yearReport', 'lengthReport'], dtype='object')] are in the [columns]\"\n",
      "2025-09-28 23:36:10 - vnstock.common.data.data_explorer - ERROR - Lỗi khi truy xuất dữ liệu income_statement: \"None of [Index(['ticker', 'yearReport', 'lengthReport'], dtype='object')] are in the [columns]\"\n"
     ]
    },
    {
     "name": "stdout",
     "output_type": "stream",
     "text": [
      "err at 953\n",
      "mined at 954\n",
      "mined at 955\n",
      "mined at 956\n",
      "mined at 957\n",
      "mined at 958\n",
      "mined at 959\n",
      "mined at 960\n",
      "mined at 961\n",
      "mined at 962\n",
      "mined at 963\n",
      "mined at 964\n",
      "mined at 965\n",
      "mined at 966\n",
      "mined at 967\n",
      "mined at 968\n"
     ]
    },
    {
     "name": "stderr",
     "output_type": "stream",
     "text": [
      "2025-09-28 23:37:59 - vnstock.explorer.vci.financial - ERROR - Error processing financial report data: \"None of [Index(['ticker', 'yearReport', 'lengthReport'], dtype='object')] are in the [columns]\"\n",
      "2025-09-28 23:37:59 - vnstock.explorer.vci.financial - ERROR - Error processing report 'Chỉ tiêu kết quả kinh doanh': \"None of [Index(['ticker', 'yearReport', 'lengthReport'], dtype='object')] are in the [columns]\"\n",
      "2025-09-28 23:37:59 - vnstock.common.data.data_explorer - ERROR - Lỗi khi truy xuất dữ liệu income_statement: \"None of [Index(['ticker', 'yearReport', 'lengthReport'], dtype='object')] are in the [columns]\"\n"
     ]
    },
    {
     "name": "stdout",
     "output_type": "stream",
     "text": [
      "err at 969\n",
      "mined at 970\n",
      "mined at 971\n",
      "mined at 972\n",
      "mined at 973\n",
      "mined at 974\n",
      "mined at 975\n",
      "mined at 976\n",
      "mined at 977\n",
      "mined at 978\n",
      "mined at 979\n",
      "mined at 980\n",
      "mined at 981\n",
      "mined at 982\n",
      "mined at 983\n",
      "mined at 984\n",
      "mined at 985\n"
     ]
    },
    {
     "name": "stderr",
     "output_type": "stream",
     "text": [
      "Downcasting object dtype arrays on .fillna, .ffill, .bfill is deprecated and will change in a future version. Call result.infer_objects(copy=False) instead. To opt-in to the future behavior, set `pd.set_option('future.no_silent_downcasting', True)`\n"
     ]
    },
    {
     "name": "stdout",
     "output_type": "stream",
     "text": [
      "mined at 986\n",
      "mined at 987\n",
      "mined at 988\n",
      "mined at 989\n",
      "mined at 990\n",
      "mined at 991\n",
      "mined at 992\n",
      "mined at 993\n",
      "mined at 994\n",
      "mined at 995\n",
      "mined at 996\n",
      "mined at 997\n",
      "mined at 998\n",
      "mined at 999\n"
     ]
    },
    {
     "name": "stderr",
     "output_type": "stream",
     "text": [
      "Downcasting object dtype arrays on .fillna, .ffill, .bfill is deprecated and will change in a future version. Call result.infer_objects(copy=False) instead. To opt-in to the future behavior, set `pd.set_option('future.no_silent_downcasting', True)`\n"
     ]
    },
    {
     "name": "stdout",
     "output_type": "stream",
     "text": [
      "mined at 1000\n",
      "mined at 1001\n",
      "err at 1002\n",
      "mined at 1003\n",
      "mined at 1004\n"
     ]
    },
    {
     "name": "stderr",
     "output_type": "stream",
     "text": [
      "Downcasting object dtype arrays on .fillna, .ffill, .bfill is deprecated and will change in a future version. Call result.infer_objects(copy=False) instead. To opt-in to the future behavior, set `pd.set_option('future.no_silent_downcasting', True)`\n"
     ]
    },
    {
     "name": "stdout",
     "output_type": "stream",
     "text": [
      "err at 1005\n",
      "mined at 1006\n"
     ]
    },
    {
     "name": "stderr",
     "output_type": "stream",
     "text": [
      "2025-09-28 23:42:19 - vnstock.explorer.vci.financial - ERROR - Error processing financial report data: \"None of [Index(['ticker', 'yearReport', 'lengthReport'], dtype='object')] are in the [columns]\"\n",
      "2025-09-28 23:42:19 - vnstock.explorer.vci.financial - ERROR - Error processing report 'Chỉ tiêu kết quả kinh doanh': \"None of [Index(['ticker', 'yearReport', 'lengthReport'], dtype='object')] are in the [columns]\"\n",
      "2025-09-28 23:42:19 - vnstock.common.data.data_explorer - ERROR - Lỗi khi truy xuất dữ liệu income_statement: \"None of [Index(['ticker', 'yearReport', 'lengthReport'], dtype='object')] are in the [columns]\"\n"
     ]
    },
    {
     "name": "stdout",
     "output_type": "stream",
     "text": [
      "err at 1007\n",
      "mined at 1008\n"
     ]
    },
    {
     "name": "stderr",
     "output_type": "stream",
     "text": [
      "2025-09-28 23:42:30 - vnstock.explorer.vci.financial - ERROR - Error processing financial report data: \"None of [Index(['ticker', 'yearReport', 'lengthReport'], dtype='object')] are in the [columns]\"\n",
      "2025-09-28 23:42:30 - vnstock.explorer.vci.financial - ERROR - Error processing report 'Chỉ tiêu kết quả kinh doanh': \"None of [Index(['ticker', 'yearReport', 'lengthReport'], dtype='object')] are in the [columns]\"\n",
      "2025-09-28 23:42:30 - vnstock.common.data.data_explorer - ERROR - Lỗi khi truy xuất dữ liệu income_statement: \"None of [Index(['ticker', 'yearReport', 'lengthReport'], dtype='object')] are in the [columns]\"\n"
     ]
    },
    {
     "name": "stdout",
     "output_type": "stream",
     "text": [
      "err at 1009\n",
      "mined at 1010\n",
      "mined at 1011\n",
      "mined at 1012\n",
      "mined at 1013\n",
      "mined at 1014\n",
      "mined at 1015\n",
      "mined at 1016\n",
      "mined at 1017\n",
      "mined at 1018\n",
      "mined at 1019\n",
      "mined at 1020\n",
      "mined at 1021\n",
      "mined at 1022\n",
      "mined at 1023\n"
     ]
    },
    {
     "name": "stderr",
     "output_type": "stream",
     "text": [
      "2025-09-28 23:44:03 - vnstock.explorer.vci.financial - ERROR - Error processing financial report data: \"None of [Index(['ticker', 'yearReport', 'lengthReport'], dtype='object')] are in the [columns]\"\n",
      "2025-09-28 23:44:03 - vnstock.explorer.vci.financial - ERROR - Error processing report 'Chỉ tiêu kết quả kinh doanh': \"None of [Index(['ticker', 'yearReport', 'lengthReport'], dtype='object')] are in the [columns]\"\n",
      "2025-09-28 23:44:03 - vnstock.common.data.data_explorer - ERROR - Lỗi khi truy xuất dữ liệu income_statement: \"None of [Index(['ticker', 'yearReport', 'lengthReport'], dtype='object')] are in the [columns]\"\n"
     ]
    },
    {
     "name": "stdout",
     "output_type": "stream",
     "text": [
      "err at 1024\n",
      "mined at 1025\n",
      "mined at 1026\n"
     ]
    },
    {
     "name": "stderr",
     "output_type": "stream",
     "text": [
      "2025-09-28 23:44:29 - vnstock.explorer.vci.financial - ERROR - Error processing financial report data: \"None of [Index(['ticker', 'yearReport', 'lengthReport'], dtype='object')] are in the [columns]\"\n",
      "2025-09-28 23:44:29 - vnstock.explorer.vci.financial - ERROR - Error processing report 'Chỉ tiêu kết quả kinh doanh': \"None of [Index(['ticker', 'yearReport', 'lengthReport'], dtype='object')] are in the [columns]\"\n",
      "2025-09-28 23:44:29 - vnstock.common.data.data_explorer - ERROR - Lỗi khi truy xuất dữ liệu income_statement: \"None of [Index(['ticker', 'yearReport', 'lengthReport'], dtype='object')] are in the [columns]\"\n"
     ]
    },
    {
     "name": "stdout",
     "output_type": "stream",
     "text": [
      "err at 1027\n"
     ]
    },
    {
     "name": "stderr",
     "output_type": "stream",
     "text": [
      "2025-09-28 23:44:36 - vnstock.explorer.vci.financial - ERROR - Error processing financial report data: \"None of [Index(['ticker', 'yearReport', 'lengthReport'], dtype='object')] are in the [columns]\"\n",
      "2025-09-28 23:44:36 - vnstock.explorer.vci.financial - ERROR - Error processing report 'Chỉ tiêu kết quả kinh doanh': \"None of [Index(['ticker', 'yearReport', 'lengthReport'], dtype='object')] are in the [columns]\"\n",
      "2025-09-28 23:44:36 - vnstock.common.data.data_explorer - ERROR - Lỗi khi truy xuất dữ liệu income_statement: \"None of [Index(['ticker', 'yearReport', 'lengthReport'], dtype='object')] are in the [columns]\"\n"
     ]
    },
    {
     "name": "stdout",
     "output_type": "stream",
     "text": [
      "err at 1028\n"
     ]
    },
    {
     "name": "stderr",
     "output_type": "stream",
     "text": [
      "2025-09-28 23:44:43 - vnstock.explorer.vci.financial - ERROR - Error processing financial report data: \"None of [Index(['ticker', 'yearReport', 'lengthReport'], dtype='object')] are in the [columns]\"\n",
      "2025-09-28 23:44:43 - vnstock.explorer.vci.financial - ERROR - Error processing report 'Chỉ tiêu kết quả kinh doanh': \"None of [Index(['ticker', 'yearReport', 'lengthReport'], dtype='object')] are in the [columns]\"\n",
      "2025-09-28 23:44:43 - vnstock.common.data.data_explorer - ERROR - Lỗi khi truy xuất dữ liệu income_statement: \"None of [Index(['ticker', 'yearReport', 'lengthReport'], dtype='object')] are in the [columns]\"\n"
     ]
    },
    {
     "name": "stdout",
     "output_type": "stream",
     "text": [
      "err at 1029\n",
      "mined at 1030\n",
      "mined at 1031\n",
      "mined at 1032\n",
      "mined at 1033\n",
      "mined at 1034\n",
      "mined at 1035\n",
      "mined at 1036\n",
      "mined at 1037\n",
      "err at 1038\n",
      "mined at 1039\n",
      "mined at 1040\n",
      "mined at 1041\n"
     ]
    },
    {
     "name": "stderr",
     "output_type": "stream",
     "text": [
      "2025-09-28 23:46:24 - vnstock.explorer.vci.financial - ERROR - Error processing financial report data: \"None of [Index(['ticker', 'yearReport', 'lengthReport'], dtype='object')] are in the [columns]\"\n",
      "2025-09-28 23:46:24 - vnstock.explorer.vci.financial - ERROR - Error processing report 'Chỉ tiêu kết quả kinh doanh': \"None of [Index(['ticker', 'yearReport', 'lengthReport'], dtype='object')] are in the [columns]\"\n",
      "2025-09-28 23:46:24 - vnstock.common.data.data_explorer - ERROR - Lỗi khi truy xuất dữ liệu income_statement: \"None of [Index(['ticker', 'yearReport', 'lengthReport'], dtype='object')] are in the [columns]\"\n"
     ]
    },
    {
     "name": "stdout",
     "output_type": "stream",
     "text": [
      "err at 1042\n",
      "mined at 1043\n",
      "mined at 1044\n",
      "mined at 1045\n",
      "mined at 1046\n",
      "mined at 1047\n",
      "mined at 1048\n"
     ]
    },
    {
     "name": "stderr",
     "output_type": "stream",
     "text": [
      "Downcasting object dtype arrays on .fillna, .ffill, .bfill is deprecated and will change in a future version. Call result.infer_objects(copy=False) instead. To opt-in to the future behavior, set `pd.set_option('future.no_silent_downcasting', True)`\n"
     ]
    },
    {
     "name": "stdout",
     "output_type": "stream",
     "text": [
      "mined at 1049\n",
      "mined at 1050\n",
      "mined at 1051\n",
      "mined at 1052\n",
      "mined at 1053\n"
     ]
    },
    {
     "name": "stderr",
     "output_type": "stream",
     "text": [
      "2025-09-28 23:47:58 - vnstock.explorer.vci.financial - ERROR - Error processing financial report data: \"None of [Index(['ticker', 'yearReport', 'lengthReport'], dtype='object')] are in the [columns]\"\n",
      "2025-09-28 23:47:58 - vnstock.explorer.vci.financial - ERROR - Error processing report 'Chỉ tiêu kết quả kinh doanh': \"None of [Index(['ticker', 'yearReport', 'lengthReport'], dtype='object')] are in the [columns]\"\n",
      "2025-09-28 23:47:58 - vnstock.common.data.data_explorer - ERROR - Lỗi khi truy xuất dữ liệu income_statement: \"None of [Index(['ticker', 'yearReport', 'lengthReport'], dtype='object')] are in the [columns]\"\n"
     ]
    },
    {
     "name": "stdout",
     "output_type": "stream",
     "text": [
      "err at 1054\n",
      "mined at 1055\n"
     ]
    },
    {
     "name": "stderr",
     "output_type": "stream",
     "text": [
      "2025-09-28 23:48:13 - vnstock.explorer.vci.financial - ERROR - Error processing financial report data: \"None of [Index(['ticker', 'yearReport', 'lengthReport'], dtype='object')] are in the [columns]\"\n",
      "2025-09-28 23:48:13 - vnstock.explorer.vci.financial - ERROR - Error processing report 'Chỉ tiêu kết quả kinh doanh': \"None of [Index(['ticker', 'yearReport', 'lengthReport'], dtype='object')] are in the [columns]\"\n",
      "2025-09-28 23:48:13 - vnstock.common.data.data_explorer - ERROR - Lỗi khi truy xuất dữ liệu income_statement: \"None of [Index(['ticker', 'yearReport', 'lengthReport'], dtype='object')] are in the [columns]\"\n"
     ]
    },
    {
     "name": "stdout",
     "output_type": "stream",
     "text": [
      "err at 1056\n",
      "mined at 1057\n",
      "mined at 1058\n",
      "mined at 1059\n",
      "mined at 1060\n",
      "mined at 1061\n",
      "mined at 1062\n",
      "mined at 1063\n",
      "mined at 1064\n",
      "mined at 1065\n",
      "mined at 1066\n"
     ]
    },
    {
     "name": "stderr",
     "output_type": "stream",
     "text": [
      "Downcasting object dtype arrays on .fillna, .ffill, .bfill is deprecated and will change in a future version. Call result.infer_objects(copy=False) instead. To opt-in to the future behavior, set `pd.set_option('future.no_silent_downcasting', True)`\n"
     ]
    },
    {
     "name": "stdout",
     "output_type": "stream",
     "text": [
      "mined at 1067\n",
      "mined at 1068\n",
      "mined at 1069\n"
     ]
    },
    {
     "name": "stderr",
     "output_type": "stream",
     "text": [
      "2025-09-28 23:49:54 - vnstock.explorer.vci.financial - ERROR - Error processing financial report data: \"None of [Index(['ticker', 'yearReport', 'lengthReport'], dtype='object')] are in the [columns]\"\n",
      "2025-09-28 23:49:54 - vnstock.explorer.vci.financial - ERROR - Error processing report 'Chỉ tiêu kết quả kinh doanh': \"None of [Index(['ticker', 'yearReport', 'lengthReport'], dtype='object')] are in the [columns]\"\n",
      "2025-09-28 23:49:54 - vnstock.common.data.data_explorer - ERROR - Lỗi khi truy xuất dữ liệu income_statement: \"None of [Index(['ticker', 'yearReport', 'lengthReport'], dtype='object')] are in the [columns]\"\n"
     ]
    },
    {
     "name": "stdout",
     "output_type": "stream",
     "text": [
      "err at 1070\n",
      "mined at 1071\n",
      "mined at 1072\n",
      "mined at 1073\n"
     ]
    },
    {
     "name": "stderr",
     "output_type": "stream",
     "text": [
      "2025-09-28 23:50:20 - vnstock.explorer.vci.financial - ERROR - Error processing financial report data: \"None of [Index(['ticker', 'yearReport', 'lengthReport'], dtype='object')] are in the [columns]\"\n",
      "2025-09-28 23:50:20 - vnstock.explorer.vci.financial - ERROR - Error processing report 'Chỉ tiêu kết quả kinh doanh': \"None of [Index(['ticker', 'yearReport', 'lengthReport'], dtype='object')] are in the [columns]\"\n",
      "2025-09-28 23:50:20 - vnstock.common.data.data_explorer - ERROR - Lỗi khi truy xuất dữ liệu income_statement: \"None of [Index(['ticker', 'yearReport', 'lengthReport'], dtype='object')] are in the [columns]\"\n"
     ]
    },
    {
     "name": "stdout",
     "output_type": "stream",
     "text": [
      "err at 1074\n"
     ]
    },
    {
     "name": "stderr",
     "output_type": "stream",
     "text": [
      "2025-09-28 23:50:26 - vnstock.explorer.vci.financial - ERROR - Error processing financial report data: \"None of [Index(['ticker', 'yearReport', 'lengthReport'], dtype='object')] are in the [columns]\"\n",
      "2025-09-28 23:50:26 - vnstock.explorer.vci.financial - ERROR - Error processing report 'Chỉ tiêu kết quả kinh doanh': \"None of [Index(['ticker', 'yearReport', 'lengthReport'], dtype='object')] are in the [columns]\"\n",
      "2025-09-28 23:50:26 - vnstock.common.data.data_explorer - ERROR - Lỗi khi truy xuất dữ liệu income_statement: \"None of [Index(['ticker', 'yearReport', 'lengthReport'], dtype='object')] are in the [columns]\"\n"
     ]
    },
    {
     "name": "stdout",
     "output_type": "stream",
     "text": [
      "err at 1075\n",
      "mined at 1076\n",
      "mined at 1077\n"
     ]
    },
    {
     "name": "stderr",
     "output_type": "stream",
     "text": [
      "2025-09-28 23:50:45 - vnstock.explorer.vci.financial - ERROR - Error processing financial report data: \"None of [Index(['ticker', 'yearReport', 'lengthReport'], dtype='object')] are in the [columns]\"\n",
      "2025-09-28 23:50:45 - vnstock.explorer.vci.financial - ERROR - Error processing report 'Chỉ tiêu kết quả kinh doanh': \"None of [Index(['ticker', 'yearReport', 'lengthReport'], dtype='object')] are in the [columns]\"\n",
      "2025-09-28 23:50:45 - vnstock.common.data.data_explorer - ERROR - Lỗi khi truy xuất dữ liệu income_statement: \"None of [Index(['ticker', 'yearReport', 'lengthReport'], dtype='object')] are in the [columns]\"\n"
     ]
    },
    {
     "name": "stdout",
     "output_type": "stream",
     "text": [
      "err at 1078\n",
      "mined at 1079\n",
      "mined at 1080\n"
     ]
    },
    {
     "name": "stderr",
     "output_type": "stream",
     "text": [
      "Downcasting object dtype arrays on .fillna, .ffill, .bfill is deprecated and will change in a future version. Call result.infer_objects(copy=False) instead. To opt-in to the future behavior, set `pd.set_option('future.no_silent_downcasting', True)`\n"
     ]
    },
    {
     "name": "stdout",
     "output_type": "stream",
     "text": [
      "mined at 1081\n",
      "mined at 1082\n",
      "mined at 1083\n"
     ]
    },
    {
     "name": "stderr",
     "output_type": "stream",
     "text": [
      "Downcasting object dtype arrays on .fillna, .ffill, .bfill is deprecated and will change in a future version. Call result.infer_objects(copy=False) instead. To opt-in to the future behavior, set `pd.set_option('future.no_silent_downcasting', True)`\n"
     ]
    },
    {
     "name": "stdout",
     "output_type": "stream",
     "text": [
      "mined at 1084\n",
      "mined at 1085\n"
     ]
    },
    {
     "name": "stderr",
     "output_type": "stream",
     "text": [
      "2025-09-28 23:51:45 - vnstock.explorer.vci.financial - ERROR - Error processing financial report data: \"None of [Index(['ticker', 'yearReport', 'lengthReport'], dtype='object')] are in the [columns]\"\n",
      "2025-09-28 23:51:45 - vnstock.explorer.vci.financial - ERROR - Error processing report 'Chỉ tiêu kết quả kinh doanh': \"None of [Index(['ticker', 'yearReport', 'lengthReport'], dtype='object')] are in the [columns]\"\n",
      "2025-09-28 23:51:45 - vnstock.common.data.data_explorer - ERROR - Lỗi khi truy xuất dữ liệu income_statement: \"None of [Index(['ticker', 'yearReport', 'lengthReport'], dtype='object')] are in the [columns]\"\n"
     ]
    },
    {
     "name": "stdout",
     "output_type": "stream",
     "text": [
      "err at 1086\n",
      "mined at 1087\n",
      "mined at 1088\n",
      "mined at 1089\n",
      "mined at 1090\n"
     ]
    },
    {
     "name": "stderr",
     "output_type": "stream",
     "text": [
      "2025-09-28 23:52:29 - vnstock.explorer.vci.financial - ERROR - Error processing financial report data: \"None of [Index(['ticker', 'yearReport', 'lengthReport'], dtype='object')] are in the [columns]\"\n",
      "2025-09-28 23:52:29 - vnstock.explorer.vci.financial - ERROR - Error processing report 'Chỉ tiêu kết quả kinh doanh': \"None of [Index(['ticker', 'yearReport', 'lengthReport'], dtype='object')] are in the [columns]\"\n",
      "2025-09-28 23:52:29 - vnstock.common.data.data_explorer - ERROR - Lỗi khi truy xuất dữ liệu income_statement: \"None of [Index(['ticker', 'yearReport', 'lengthReport'], dtype='object')] are in the [columns]\"\n"
     ]
    },
    {
     "name": "stdout",
     "output_type": "stream",
     "text": [
      "err at 1091\n",
      "mined at 1092\n",
      "mined at 1093\n",
      "mined at 1094\n"
     ]
    },
    {
     "name": "stderr",
     "output_type": "stream",
     "text": [
      "2025-09-28 23:52:56 - vnstock.explorer.vci.financial - ERROR - Error processing financial report data: \"None of [Index(['ticker', 'yearReport', 'lengthReport'], dtype='object')] are in the [columns]\"\n",
      "2025-09-28 23:52:56 - vnstock.explorer.vci.financial - ERROR - Error processing report 'Chỉ tiêu kết quả kinh doanh': \"None of [Index(['ticker', 'yearReport', 'lengthReport'], dtype='object')] are in the [columns]\"\n",
      "2025-09-28 23:52:56 - vnstock.common.data.data_explorer - ERROR - Lỗi khi truy xuất dữ liệu income_statement: \"None of [Index(['ticker', 'yearReport', 'lengthReport'], dtype='object')] are in the [columns]\"\n"
     ]
    },
    {
     "name": "stdout",
     "output_type": "stream",
     "text": [
      "err at 1095\n",
      "mined at 1096\n",
      "mined at 1097\n"
     ]
    },
    {
     "name": "stderr",
     "output_type": "stream",
     "text": [
      "2025-09-28 23:53:16 - vnstock.explorer.vci.financial - ERROR - Error processing financial report data: \"None of [Index(['ticker', 'yearReport', 'lengthReport'], dtype='object')] are in the [columns]\"\n",
      "2025-09-28 23:53:16 - vnstock.explorer.vci.financial - ERROR - Error processing report 'Chỉ tiêu kết quả kinh doanh': \"None of [Index(['ticker', 'yearReport', 'lengthReport'], dtype='object')] are in the [columns]\"\n",
      "2025-09-28 23:53:16 - vnstock.common.data.data_explorer - ERROR - Lỗi khi truy xuất dữ liệu income_statement: \"None of [Index(['ticker', 'yearReport', 'lengthReport'], dtype='object')] are in the [columns]\"\n"
     ]
    },
    {
     "name": "stdout",
     "output_type": "stream",
     "text": [
      "err at 1098\n"
     ]
    },
    {
     "name": "stderr",
     "output_type": "stream",
     "text": [
      "2025-09-28 23:53:22 - vnstock.explorer.vci.financial - ERROR - Error processing financial report data: \"None of [Index(['ticker', 'yearReport', 'lengthReport'], dtype='object')] are in the [columns]\"\n",
      "2025-09-28 23:53:22 - vnstock.explorer.vci.financial - ERROR - Error processing report 'Chỉ tiêu kết quả kinh doanh': \"None of [Index(['ticker', 'yearReport', 'lengthReport'], dtype='object')] are in the [columns]\"\n",
      "2025-09-28 23:53:22 - vnstock.common.data.data_explorer - ERROR - Lỗi khi truy xuất dữ liệu income_statement: \"None of [Index(['ticker', 'yearReport', 'lengthReport'], dtype='object')] are in the [columns]\"\n"
     ]
    },
    {
     "name": "stdout",
     "output_type": "stream",
     "text": [
      "err at 1099\n",
      "mined at 1100\n",
      "mined at 1101\n"
     ]
    },
    {
     "name": "stderr",
     "output_type": "stream",
     "text": [
      "Downcasting object dtype arrays on .fillna, .ffill, .bfill is deprecated and will change in a future version. Call result.infer_objects(copy=False) instead. To opt-in to the future behavior, set `pd.set_option('future.no_silent_downcasting', True)`\n"
     ]
    },
    {
     "name": "stdout",
     "output_type": "stream",
     "text": [
      "mined at 1102\n"
     ]
    },
    {
     "name": "stderr",
     "output_type": "stream",
     "text": [
      "2025-09-28 23:53:49 - vnstock.explorer.vci.financial - ERROR - Error processing financial report data: \"None of [Index(['ticker', 'yearReport', 'lengthReport'], dtype='object')] are in the [columns]\"\n",
      "2025-09-28 23:53:49 - vnstock.explorer.vci.financial - ERROR - Error processing report 'Chỉ tiêu kết quả kinh doanh': \"None of [Index(['ticker', 'yearReport', 'lengthReport'], dtype='object')] are in the [columns]\"\n",
      "2025-09-28 23:53:49 - vnstock.common.data.data_explorer - ERROR - Lỗi khi truy xuất dữ liệu income_statement: \"None of [Index(['ticker', 'yearReport', 'lengthReport'], dtype='object')] are in the [columns]\"\n"
     ]
    },
    {
     "name": "stdout",
     "output_type": "stream",
     "text": [
      "err at 1103\n"
     ]
    },
    {
     "name": "stderr",
     "output_type": "stream",
     "text": [
      "Downcasting object dtype arrays on .fillna, .ffill, .bfill is deprecated and will change in a future version. Call result.infer_objects(copy=False) instead. To opt-in to the future behavior, set `pd.set_option('future.no_silent_downcasting', True)`\n"
     ]
    },
    {
     "name": "stdout",
     "output_type": "stream",
     "text": [
      "mined at 1104\n"
     ]
    },
    {
     "name": "stderr",
     "output_type": "stream",
     "text": [
      "2025-09-28 23:54:02 - vnstock.explorer.vci.financial - ERROR - Error processing financial report data: \"None of [Index(['ticker', 'yearReport', 'lengthReport'], dtype='object')] are in the [columns]\"\n",
      "2025-09-28 23:54:02 - vnstock.explorer.vci.financial - ERROR - Error processing report 'Chỉ tiêu kết quả kinh doanh': \"None of [Index(['ticker', 'yearReport', 'lengthReport'], dtype='object')] are in the [columns]\"\n",
      "2025-09-28 23:54:02 - vnstock.common.data.data_explorer - ERROR - Lỗi khi truy xuất dữ liệu income_statement: \"None of [Index(['ticker', 'yearReport', 'lengthReport'], dtype='object')] are in the [columns]\"\n"
     ]
    },
    {
     "name": "stdout",
     "output_type": "stream",
     "text": [
      "err at 1105\n",
      "mined at 1106\n"
     ]
    },
    {
     "name": "stderr",
     "output_type": "stream",
     "text": [
      "Downcasting object dtype arrays on .fillna, .ffill, .bfill is deprecated and will change in a future version. Call result.infer_objects(copy=False) instead. To opt-in to the future behavior, set `pd.set_option('future.no_silent_downcasting', True)`\n"
     ]
    },
    {
     "name": "stdout",
     "output_type": "stream",
     "text": [
      "mined at 1107\n",
      "mined at 1108\n",
      "mined at 1109\n"
     ]
    },
    {
     "name": "stderr",
     "output_type": "stream",
     "text": [
      "2025-09-28 23:54:35 - vnstock.explorer.vci.financial - ERROR - Error processing financial report data: \"None of [Index(['ticker', 'yearReport', 'lengthReport'], dtype='object')] are in the [columns]\"\n",
      "2025-09-28 23:54:35 - vnstock.explorer.vci.financial - ERROR - Error processing report 'Chỉ tiêu kết quả kinh doanh': \"None of [Index(['ticker', 'yearReport', 'lengthReport'], dtype='object')] are in the [columns]\"\n",
      "2025-09-28 23:54:35 - vnstock.common.data.data_explorer - ERROR - Lỗi khi truy xuất dữ liệu income_statement: \"None of [Index(['ticker', 'yearReport', 'lengthReport'], dtype='object')] are in the [columns]\"\n"
     ]
    },
    {
     "name": "stdout",
     "output_type": "stream",
     "text": [
      "err at 1110\n",
      "mined at 1111\n",
      "mined at 1112\n"
     ]
    },
    {
     "name": "stderr",
     "output_type": "stream",
     "text": [
      "2025-09-28 23:54:53 - vnstock.explorer.vci.financial - ERROR - Error processing financial report data: \"None of [Index(['ticker', 'yearReport', 'lengthReport'], dtype='object')] are in the [columns]\"\n",
      "2025-09-28 23:54:53 - vnstock.explorer.vci.financial - ERROR - Error processing report 'Chỉ tiêu kết quả kinh doanh': \"None of [Index(['ticker', 'yearReport', 'lengthReport'], dtype='object')] are in the [columns]\"\n",
      "2025-09-28 23:54:53 - vnstock.common.data.data_explorer - ERROR - Lỗi khi truy xuất dữ liệu income_statement: \"None of [Index(['ticker', 'yearReport', 'lengthReport'], dtype='object')] are in the [columns]\"\n"
     ]
    },
    {
     "name": "stdout",
     "output_type": "stream",
     "text": [
      "err at 1113\n",
      "mined at 1114\n",
      "mined at 1115\n",
      "mined at 1116\n",
      "mined at 1117\n",
      "mined at 1118\n",
      "mined at 1119\n",
      "mined at 1120\n",
      "mined at 1121\n",
      "mined at 1122\n",
      "mined at 1123\n",
      "mined at 1124\n"
     ]
    },
    {
     "name": "stderr",
     "output_type": "stream",
     "text": [
      "2025-09-28 23:56:05 - vnstock.explorer.vci.financial - ERROR - Error processing financial report data: \"None of [Index(['ticker', 'yearReport', 'lengthReport'], dtype='object')] are in the [columns]\"\n",
      "2025-09-28 23:56:05 - vnstock.explorer.vci.financial - ERROR - Error processing report 'Chỉ tiêu kết quả kinh doanh': \"None of [Index(['ticker', 'yearReport', 'lengthReport'], dtype='object')] are in the [columns]\"\n",
      "2025-09-28 23:56:05 - vnstock.common.data.data_explorer - ERROR - Lỗi khi truy xuất dữ liệu income_statement: \"None of [Index(['ticker', 'yearReport', 'lengthReport'], dtype='object')] are in the [columns]\"\n"
     ]
    },
    {
     "name": "stdout",
     "output_type": "stream",
     "text": [
      "err at 1125\n",
      "mined at 1126\n",
      "mined at 1127\n",
      "mined at 1128\n",
      "mined at 1129\n",
      "err at 1130\n",
      "mined at 1131\n",
      "err at 1132\n",
      "err at 1133\n"
     ]
    },
    {
     "name": "stderr",
     "output_type": "stream",
     "text": [
      "2025-09-28 23:57:06 - vnstock.explorer.vci.financial - ERROR - Error processing financial report data: \"None of [Index(['ticker', 'yearReport', 'lengthReport'], dtype='object')] are in the [columns]\"\n",
      "2025-09-28 23:57:06 - vnstock.explorer.vci.financial - ERROR - Error processing report 'Chỉ tiêu kết quả kinh doanh': \"None of [Index(['ticker', 'yearReport', 'lengthReport'], dtype='object')] are in the [columns]\"\n",
      "2025-09-28 23:57:06 - vnstock.common.data.data_explorer - ERROR - Lỗi khi truy xuất dữ liệu income_statement: \"None of [Index(['ticker', 'yearReport', 'lengthReport'], dtype='object')] are in the [columns]\"\n"
     ]
    },
    {
     "name": "stdout",
     "output_type": "stream",
     "text": [
      "err at 1134\n"
     ]
    },
    {
     "name": "stderr",
     "output_type": "stream",
     "text": [
      "2025-09-28 23:57:12 - vnstock.explorer.vci.financial - ERROR - Error processing financial report data: \"None of [Index(['ticker', 'yearReport', 'lengthReport'], dtype='object')] are in the [columns]\"\n",
      "2025-09-28 23:57:12 - vnstock.explorer.vci.financial - ERROR - Error processing report 'Chỉ tiêu kết quả kinh doanh': \"None of [Index(['ticker', 'yearReport', 'lengthReport'], dtype='object')] are in the [columns]\"\n",
      "2025-09-28 23:57:12 - vnstock.common.data.data_explorer - ERROR - Lỗi khi truy xuất dữ liệu income_statement: \"None of [Index(['ticker', 'yearReport', 'lengthReport'], dtype='object')] are in the [columns]\"\n"
     ]
    },
    {
     "name": "stdout",
     "output_type": "stream",
     "text": [
      "err at 1135\n"
     ]
    },
    {
     "name": "stderr",
     "output_type": "stream",
     "text": [
      "2025-09-28 23:57:18 - vnstock.explorer.vci.financial - ERROR - Error processing financial report data: \"None of [Index(['ticker', 'yearReport', 'lengthReport'], dtype='object')] are in the [columns]\"\n",
      "2025-09-28 23:57:18 - vnstock.explorer.vci.financial - ERROR - Error processing report 'Chỉ tiêu kết quả kinh doanh': \"None of [Index(['ticker', 'yearReport', 'lengthReport'], dtype='object')] are in the [columns]\"\n",
      "2025-09-28 23:57:18 - vnstock.common.data.data_explorer - ERROR - Lỗi khi truy xuất dữ liệu income_statement: \"None of [Index(['ticker', 'yearReport', 'lengthReport'], dtype='object')] are in the [columns]\"\n"
     ]
    },
    {
     "name": "stdout",
     "output_type": "stream",
     "text": [
      "err at 1136\n",
      "mined at 1137\n"
     ]
    },
    {
     "name": "stderr",
     "output_type": "stream",
     "text": [
      "Downcasting object dtype arrays on .fillna, .ffill, .bfill is deprecated and will change in a future version. Call result.infer_objects(copy=False) instead. To opt-in to the future behavior, set `pd.set_option('future.no_silent_downcasting', True)`\n"
     ]
    },
    {
     "name": "stdout",
     "output_type": "stream",
     "text": [
      "mined at 1138\n"
     ]
    },
    {
     "name": "stderr",
     "output_type": "stream",
     "text": [
      "2025-09-28 23:57:37 - vnstock.explorer.vci.financial - ERROR - Error processing financial report data: \"None of [Index(['ticker', 'yearReport', 'lengthReport'], dtype='object')] are in the [columns]\"\n",
      "2025-09-28 23:57:37 - vnstock.explorer.vci.financial - ERROR - Error processing report 'Chỉ tiêu kết quả kinh doanh': \"None of [Index(['ticker', 'yearReport', 'lengthReport'], dtype='object')] are in the [columns]\"\n",
      "2025-09-28 23:57:37 - vnstock.common.data.data_explorer - ERROR - Lỗi khi truy xuất dữ liệu income_statement: \"None of [Index(['ticker', 'yearReport', 'lengthReport'], dtype='object')] are in the [columns]\"\n"
     ]
    },
    {
     "name": "stdout",
     "output_type": "stream",
     "text": [
      "err at 1139\n",
      "mined at 1140\n"
     ]
    },
    {
     "name": "stderr",
     "output_type": "stream",
     "text": [
      "2025-09-28 23:57:50 - vnstock.explorer.vci.financial - ERROR - Error processing financial report data: \"None of [Index(['ticker', 'yearReport', 'lengthReport'], dtype='object')] are in the [columns]\"\n",
      "2025-09-28 23:57:50 - vnstock.explorer.vci.financial - ERROR - Error processing report 'Chỉ tiêu kết quả kinh doanh': \"None of [Index(['ticker', 'yearReport', 'lengthReport'], dtype='object')] are in the [columns]\"\n",
      "2025-09-28 23:57:50 - vnstock.common.data.data_explorer - ERROR - Lỗi khi truy xuất dữ liệu income_statement: \"None of [Index(['ticker', 'yearReport', 'lengthReport'], dtype='object')] are in the [columns]\"\n"
     ]
    },
    {
     "name": "stdout",
     "output_type": "stream",
     "text": [
      "err at 1141\n"
     ]
    },
    {
     "name": "stderr",
     "output_type": "stream",
     "text": [
      "2025-09-28 23:57:55 - vnstock.explorer.vci.financial - ERROR - Error processing financial report data: \"None of [Index(['ticker', 'yearReport', 'lengthReport'], dtype='object')] are in the [columns]\"\n",
      "2025-09-28 23:57:55 - vnstock.explorer.vci.financial - ERROR - Error processing report 'Chỉ tiêu kết quả kinh doanh': \"None of [Index(['ticker', 'yearReport', 'lengthReport'], dtype='object')] are in the [columns]\"\n",
      "2025-09-28 23:57:55 - vnstock.common.data.data_explorer - ERROR - Lỗi khi truy xuất dữ liệu income_statement: \"None of [Index(['ticker', 'yearReport', 'lengthReport'], dtype='object')] are in the [columns]\"\n"
     ]
    },
    {
     "name": "stdout",
     "output_type": "stream",
     "text": [
      "err at 1142\n",
      "mined at 1143\n",
      "mined at 1144\n"
     ]
    },
    {
     "name": "stderr",
     "output_type": "stream",
     "text": [
      "2025-09-28 23:58:20 - vnstock.explorer.vci.financial - ERROR - Error processing financial report data: \"None of [Index(['ticker', 'yearReport', 'lengthReport'], dtype='object')] are in the [columns]\"\n",
      "2025-09-28 23:58:20 - vnstock.explorer.vci.financial - ERROR - Error processing report 'Chỉ tiêu kết quả kinh doanh': \"None of [Index(['ticker', 'yearReport', 'lengthReport'], dtype='object')] are in the [columns]\"\n",
      "2025-09-28 23:58:20 - vnstock.common.data.data_explorer - ERROR - Lỗi khi truy xuất dữ liệu income_statement: \"None of [Index(['ticker', 'yearReport', 'lengthReport'], dtype='object')] are in the [columns]\"\n"
     ]
    },
    {
     "name": "stdout",
     "output_type": "stream",
     "text": [
      "err at 1145\n",
      "mined at 1146\n",
      "mined at 1147\n",
      "mined at 1148\n",
      "mined at 1149\n",
      "mined at 1150\n",
      "mined at 1151\n"
     ]
    },
    {
     "name": "stderr",
     "output_type": "stream",
     "text": [
      "2025-09-28 23:59:03 - vnstock.explorer.vci.financial - ERROR - Error processing financial report data: \"None of [Index(['ticker', 'yearReport', 'lengthReport'], dtype='object')] are in the [columns]\"\n",
      "2025-09-28 23:59:03 - vnstock.explorer.vci.financial - ERROR - Error processing report 'Chỉ tiêu kết quả kinh doanh': \"None of [Index(['ticker', 'yearReport', 'lengthReport'], dtype='object')] are in the [columns]\"\n",
      "2025-09-28 23:59:03 - vnstock.common.data.data_explorer - ERROR - Lỗi khi truy xuất dữ liệu income_statement: \"None of [Index(['ticker', 'yearReport', 'lengthReport'], dtype='object')] are in the [columns]\"\n"
     ]
    },
    {
     "name": "stdout",
     "output_type": "stream",
     "text": [
      "err at 1152\n",
      "mined at 1153\n"
     ]
    },
    {
     "name": "stderr",
     "output_type": "stream",
     "text": [
      "2025-09-28 23:59:21 - vnstock.explorer.vci.financial - ERROR - Error processing financial report data: \"None of [Index(['ticker', 'yearReport', 'lengthReport'], dtype='object')] are in the [columns]\"\n",
      "2025-09-28 23:59:21 - vnstock.explorer.vci.financial - ERROR - Error processing report 'Chỉ tiêu kết quả kinh doanh': \"None of [Index(['ticker', 'yearReport', 'lengthReport'], dtype='object')] are in the [columns]\"\n",
      "2025-09-28 23:59:21 - vnstock.common.data.data_explorer - ERROR - Lỗi khi truy xuất dữ liệu income_statement: \"None of [Index(['ticker', 'yearReport', 'lengthReport'], dtype='object')] are in the [columns]\"\n"
     ]
    },
    {
     "name": "stdout",
     "output_type": "stream",
     "text": [
      "err at 1154\n",
      "mined at 1155\n",
      "mined at 1156\n"
     ]
    },
    {
     "name": "stderr",
     "output_type": "stream",
     "text": [
      "2025-09-28 23:59:41 - vnstock.explorer.vci.financial - ERROR - Error processing financial report data: \"None of [Index(['ticker', 'yearReport', 'lengthReport'], dtype='object')] are in the [columns]\"\n",
      "2025-09-28 23:59:41 - vnstock.explorer.vci.financial - ERROR - Error processing report 'Chỉ tiêu kết quả kinh doanh': \"None of [Index(['ticker', 'yearReport', 'lengthReport'], dtype='object')] are in the [columns]\"\n",
      "2025-09-28 23:59:41 - vnstock.common.data.data_explorer - ERROR - Lỗi khi truy xuất dữ liệu income_statement: \"None of [Index(['ticker', 'yearReport', 'lengthReport'], dtype='object')] are in the [columns]\"\n"
     ]
    },
    {
     "name": "stdout",
     "output_type": "stream",
     "text": [
      "err at 1157\n",
      "mined at 1158\n",
      "mined at 1159\n"
     ]
    },
    {
     "name": "stderr",
     "output_type": "stream",
     "text": [
      "2025-09-29 00:00:02 - vnstock.explorer.vci.financial - ERROR - Error processing financial report data: \"None of [Index(['ticker', 'yearReport', 'lengthReport'], dtype='object')] are in the [columns]\"\n",
      "2025-09-29 00:00:02 - vnstock.explorer.vci.financial - ERROR - Error processing report 'Chỉ tiêu kết quả kinh doanh': \"None of [Index(['ticker', 'yearReport', 'lengthReport'], dtype='object')] are in the [columns]\"\n",
      "2025-09-29 00:00:02 - vnstock.common.data.data_explorer - ERROR - Lỗi khi truy xuất dữ liệu income_statement: \"None of [Index(['ticker', 'yearReport', 'lengthReport'], dtype='object')] are in the [columns]\"\n"
     ]
    },
    {
     "name": "stdout",
     "output_type": "stream",
     "text": [
      "err at 1160\n",
      "mined at 1161\n"
     ]
    },
    {
     "name": "stderr",
     "output_type": "stream",
     "text": [
      "Downcasting object dtype arrays on .fillna, .ffill, .bfill is deprecated and will change in a future version. Call result.infer_objects(copy=False) instead. To opt-in to the future behavior, set `pd.set_option('future.no_silent_downcasting', True)`\n"
     ]
    },
    {
     "name": "stdout",
     "output_type": "stream",
     "text": [
      "mined at 1162\n",
      "mined at 1163\n",
      "mined at 1164\n"
     ]
    },
    {
     "name": "stderr",
     "output_type": "stream",
     "text": [
      "Downcasting object dtype arrays on .fillna, .ffill, .bfill is deprecated and will change in a future version. Call result.infer_objects(copy=False) instead. To opt-in to the future behavior, set `pd.set_option('future.no_silent_downcasting', True)`\n"
     ]
    },
    {
     "name": "stdout",
     "output_type": "stream",
     "text": [
      "mined at 1165\n",
      "mined at 1166\n",
      "mined at 1167\n",
      "err at 1168\n"
     ]
    },
    {
     "name": "stderr",
     "output_type": "stream",
     "text": [
      "2025-09-29 00:01:09 - vnstock.explorer.vci.financial - ERROR - Error processing financial report data: \"None of [Index(['ticker', 'yearReport', 'lengthReport'], dtype='object')] are in the [columns]\"\n",
      "2025-09-29 00:01:09 - vnstock.explorer.vci.financial - ERROR - Error processing report 'Chỉ tiêu kết quả kinh doanh': \"None of [Index(['ticker', 'yearReport', 'lengthReport'], dtype='object')] are in the [columns]\"\n",
      "2025-09-29 00:01:09 - vnstock.common.data.data_explorer - ERROR - Lỗi khi truy xuất dữ liệu income_statement: \"None of [Index(['ticker', 'yearReport', 'lengthReport'], dtype='object')] are in the [columns]\"\n"
     ]
    },
    {
     "name": "stdout",
     "output_type": "stream",
     "text": [
      "err at 1169\n",
      "mined at 1170\n",
      "mined at 1171\n",
      "mined at 1172\n",
      "mined at 1173\n",
      "mined at 1174\n"
     ]
    },
    {
     "name": "stderr",
     "output_type": "stream",
     "text": [
      "2025-09-29 00:01:57 - vnstock.explorer.vci.financial - ERROR - Error processing financial report data: \"None of [Index(['ticker', 'yearReport', 'lengthReport'], dtype='object')] are in the [columns]\"\n",
      "2025-09-29 00:01:57 - vnstock.explorer.vci.financial - ERROR - Error processing report 'Chỉ tiêu kết quả kinh doanh': \"None of [Index(['ticker', 'yearReport', 'lengthReport'], dtype='object')] are in the [columns]\"\n",
      "2025-09-29 00:01:57 - vnstock.common.data.data_explorer - ERROR - Lỗi khi truy xuất dữ liệu income_statement: \"None of [Index(['ticker', 'yearReport', 'lengthReport'], dtype='object')] are in the [columns]\"\n"
     ]
    },
    {
     "name": "stdout",
     "output_type": "stream",
     "text": [
      "err at 1175\n",
      "mined at 1176\n",
      "mined at 1177\n",
      "mined at 1178\n",
      "mined at 1179\n",
      "mined at 1180\n",
      "mined at 1181\n"
     ]
    },
    {
     "name": "stderr",
     "output_type": "stream",
     "text": [
      "Downcasting object dtype arrays on .fillna, .ffill, .bfill is deprecated and will change in a future version. Call result.infer_objects(copy=False) instead. To opt-in to the future behavior, set `pd.set_option('future.no_silent_downcasting', True)`\n"
     ]
    },
    {
     "name": "stdout",
     "output_type": "stream",
     "text": [
      "mined at 1182\n"
     ]
    },
    {
     "name": "stderr",
     "output_type": "stream",
     "text": [
      "2025-09-29 00:02:53 - vnstock.explorer.vci.financial - ERROR - Error processing financial report data: \"None of [Index(['ticker', 'yearReport', 'lengthReport'], dtype='object')] are in the [columns]\"\n",
      "2025-09-29 00:02:53 - vnstock.explorer.vci.financial - ERROR - Error processing report 'Chỉ tiêu kết quả kinh doanh': \"None of [Index(['ticker', 'yearReport', 'lengthReport'], dtype='object')] are in the [columns]\"\n",
      "2025-09-29 00:02:53 - vnstock.common.data.data_explorer - ERROR - Lỗi khi truy xuất dữ liệu income_statement: \"None of [Index(['ticker', 'yearReport', 'lengthReport'], dtype='object')] are in the [columns]\"\n"
     ]
    },
    {
     "name": "stdout",
     "output_type": "stream",
     "text": [
      "err at 1183\n",
      "mined at 1184\n",
      "mined at 1185\n",
      "mined at 1186\n",
      "mined at 1187\n",
      "err at 1188\n"
     ]
    },
    {
     "name": "stderr",
     "output_type": "stream",
     "text": [
      "2025-09-29 00:03:34 - vnstock.explorer.vci.financial - ERROR - Error processing financial report data: \"None of [Index(['ticker', 'yearReport', 'lengthReport'], dtype='object')] are in the [columns]\"\n",
      "2025-09-29 00:03:34 - vnstock.explorer.vci.financial - ERROR - Error processing report 'Chỉ tiêu kết quả kinh doanh': \"None of [Index(['ticker', 'yearReport', 'lengthReport'], dtype='object')] are in the [columns]\"\n",
      "2025-09-29 00:03:34 - vnstock.common.data.data_explorer - ERROR - Lỗi khi truy xuất dữ liệu income_statement: \"None of [Index(['ticker', 'yearReport', 'lengthReport'], dtype='object')] are in the [columns]\"\n"
     ]
    },
    {
     "name": "stdout",
     "output_type": "stream",
     "text": [
      "err at 1189\n"
     ]
    },
    {
     "name": "stderr",
     "output_type": "stream",
     "text": [
      "2025-09-29 00:03:41 - vnstock.explorer.vci.financial - ERROR - Error processing financial report data: \"None of [Index(['ticker', 'yearReport', 'lengthReport'], dtype='object')] are in the [columns]\"\n",
      "2025-09-29 00:03:41 - vnstock.explorer.vci.financial - ERROR - Error processing report 'Chỉ tiêu kết quả kinh doanh': \"None of [Index(['ticker', 'yearReport', 'lengthReport'], dtype='object')] are in the [columns]\"\n",
      "2025-09-29 00:03:41 - vnstock.common.data.data_explorer - ERROR - Lỗi khi truy xuất dữ liệu income_statement: \"None of [Index(['ticker', 'yearReport', 'lengthReport'], dtype='object')] are in the [columns]\"\n"
     ]
    },
    {
     "name": "stdout",
     "output_type": "stream",
     "text": [
      "err at 1190\n",
      "mined at 1191\n",
      "mined at 1192\n",
      "mined at 1193\n"
     ]
    },
    {
     "name": "stderr",
     "output_type": "stream",
     "text": [
      "2025-09-29 00:04:08 - vnstock.explorer.vci.financial - ERROR - Error processing financial report data: \"None of [Index(['ticker', 'yearReport', 'lengthReport'], dtype='object')] are in the [columns]\"\n",
      "2025-09-29 00:04:08 - vnstock.explorer.vci.financial - ERROR - Error processing report 'Chỉ tiêu kết quả kinh doanh': \"None of [Index(['ticker', 'yearReport', 'lengthReport'], dtype='object')] are in the [columns]\"\n",
      "2025-09-29 00:04:08 - vnstock.common.data.data_explorer - ERROR - Lỗi khi truy xuất dữ liệu income_statement: \"None of [Index(['ticker', 'yearReport', 'lengthReport'], dtype='object')] are in the [columns]\"\n"
     ]
    },
    {
     "name": "stdout",
     "output_type": "stream",
     "text": [
      "err at 1194\n",
      "mined at 1195\n"
     ]
    },
    {
     "name": "stderr",
     "output_type": "stream",
     "text": [
      "2025-09-29 00:04:21 - vnstock.explorer.vci.financial - ERROR - Error processing financial report data: \"None of [Index(['ticker', 'yearReport', 'lengthReport'], dtype='object')] are in the [columns]\"\n",
      "2025-09-29 00:04:21 - vnstock.explorer.vci.financial - ERROR - Error processing report 'Chỉ tiêu kết quả kinh doanh': \"None of [Index(['ticker', 'yearReport', 'lengthReport'], dtype='object')] are in the [columns]\"\n",
      "2025-09-29 00:04:21 - vnstock.common.data.data_explorer - ERROR - Lỗi khi truy xuất dữ liệu income_statement: \"None of [Index(['ticker', 'yearReport', 'lengthReport'], dtype='object')] are in the [columns]\"\n"
     ]
    },
    {
     "name": "stdout",
     "output_type": "stream",
     "text": [
      "err at 1196\n",
      "mined at 1197\n",
      "mined at 1198\n",
      "mined at 1199\n",
      "mined at 1200\n",
      "mined at 1201\n",
      "mined at 1202\n",
      "mined at 1203\n",
      "mined at 1204\n",
      "mined at 1205\n",
      "mined at 1206\n",
      "mined at 1207\n",
      "mined at 1208\n"
     ]
    },
    {
     "name": "stderr",
     "output_type": "stream",
     "text": [
      "2025-09-29 00:05:54 - vnstock.explorer.vci.financial - ERROR - Error processing financial report data: \"None of [Index(['ticker', 'yearReport', 'lengthReport'], dtype='object')] are in the [columns]\"\n",
      "2025-09-29 00:05:54 - vnstock.explorer.vci.financial - ERROR - Error processing report 'Chỉ tiêu kết quả kinh doanh': \"None of [Index(['ticker', 'yearReport', 'lengthReport'], dtype='object')] are in the [columns]\"\n",
      "2025-09-29 00:05:54 - vnstock.common.data.data_explorer - ERROR - Lỗi khi truy xuất dữ liệu income_statement: \"None of [Index(['ticker', 'yearReport', 'lengthReport'], dtype='object')] are in the [columns]\"\n"
     ]
    },
    {
     "name": "stdout",
     "output_type": "stream",
     "text": [
      "err at 1209\n",
      "mined at 1210\n",
      "mined at 1211\n"
     ]
    },
    {
     "name": "stderr",
     "output_type": "stream",
     "text": [
      "2025-09-29 00:06:16 - vnstock.explorer.vci.financial - ERROR - Error processing financial report data: \"None of [Index(['ticker', 'yearReport', 'lengthReport'], dtype='object')] are in the [columns]\"\n",
      "2025-09-29 00:06:16 - vnstock.explorer.vci.financial - ERROR - Error processing report 'Chỉ tiêu kết quả kinh doanh': \"None of [Index(['ticker', 'yearReport', 'lengthReport'], dtype='object')] are in the [columns]\"\n",
      "2025-09-29 00:06:16 - vnstock.common.data.data_explorer - ERROR - Lỗi khi truy xuất dữ liệu income_statement: \"None of [Index(['ticker', 'yearReport', 'lengthReport'], dtype='object')] are in the [columns]\"\n"
     ]
    },
    {
     "name": "stdout",
     "output_type": "stream",
     "text": [
      "err at 1212\n",
      "mined at 1213\n",
      "mined at 1214\n",
      "mined at 1215\n",
      "mined at 1216\n",
      "mined at 1217\n",
      "mined at 1218\n",
      "mined at 1219\n"
     ]
    },
    {
     "name": "stderr",
     "output_type": "stream",
     "text": [
      "2025-09-29 00:07:04 - vnstock.explorer.vci.financial - ERROR - Error processing financial report data: \"None of [Index(['ticker', 'yearReport', 'lengthReport'], dtype='object')] are in the [columns]\"\n",
      "2025-09-29 00:07:04 - vnstock.explorer.vci.financial - ERROR - Error processing report 'Chỉ tiêu kết quả kinh doanh': \"None of [Index(['ticker', 'yearReport', 'lengthReport'], dtype='object')] are in the [columns]\"\n",
      "2025-09-29 00:07:04 - vnstock.common.data.data_explorer - ERROR - Lỗi khi truy xuất dữ liệu income_statement: \"None of [Index(['ticker', 'yearReport', 'lengthReport'], dtype='object')] are in the [columns]\"\n"
     ]
    },
    {
     "name": "stdout",
     "output_type": "stream",
     "text": [
      "err at 1220\n",
      "mined at 1221\n",
      "mined at 1222\n",
      "mined at 1223\n",
      "mined at 1224\n",
      "mined at 1225\n",
      "mined at 1226\n"
     ]
    },
    {
     "name": "stderr",
     "output_type": "stream",
     "text": [
      "Downcasting object dtype arrays on .fillna, .ffill, .bfill is deprecated and will change in a future version. Call result.infer_objects(copy=False) instead. To opt-in to the future behavior, set `pd.set_option('future.no_silent_downcasting', True)`\n"
     ]
    },
    {
     "name": "stdout",
     "output_type": "stream",
     "text": [
      "mined at 1227\n"
     ]
    },
    {
     "name": "stderr",
     "output_type": "stream",
     "text": [
      "2025-09-29 00:07:52 - vnstock.explorer.vci.financial - ERROR - Error processing financial report data: \"None of [Index(['ticker', 'yearReport', 'lengthReport'], dtype='object')] are in the [columns]\"\n",
      "2025-09-29 00:07:52 - vnstock.explorer.vci.financial - ERROR - Error processing report 'Chỉ tiêu kết quả kinh doanh': \"None of [Index(['ticker', 'yearReport', 'lengthReport'], dtype='object')] are in the [columns]\"\n",
      "2025-09-29 00:07:52 - vnstock.common.data.data_explorer - ERROR - Lỗi khi truy xuất dữ liệu income_statement: \"None of [Index(['ticker', 'yearReport', 'lengthReport'], dtype='object')] are in the [columns]\"\n"
     ]
    },
    {
     "name": "stdout",
     "output_type": "stream",
     "text": [
      "err at 1228\n"
     ]
    },
    {
     "name": "stderr",
     "output_type": "stream",
     "text": [
      "Downcasting object dtype arrays on .fillna, .ffill, .bfill is deprecated and will change in a future version. Call result.infer_objects(copy=False) instead. To opt-in to the future behavior, set `pd.set_option('future.no_silent_downcasting', True)`\n"
     ]
    },
    {
     "name": "stdout",
     "output_type": "stream",
     "text": [
      "mined at 1229\n",
      "mined at 1230\n"
     ]
    },
    {
     "name": "stderr",
     "output_type": "stream",
     "text": [
      "2025-09-29 00:08:11 - vnstock.explorer.vci.financial - ERROR - Error processing financial report data: \"None of [Index(['ticker', 'yearReport', 'lengthReport'], dtype='object')] are in the [columns]\"\n",
      "2025-09-29 00:08:11 - vnstock.explorer.vci.financial - ERROR - Error processing report 'Chỉ tiêu kết quả kinh doanh': \"None of [Index(['ticker', 'yearReport', 'lengthReport'], dtype='object')] are in the [columns]\"\n",
      "2025-09-29 00:08:11 - vnstock.common.data.data_explorer - ERROR - Lỗi khi truy xuất dữ liệu income_statement: \"None of [Index(['ticker', 'yearReport', 'lengthReport'], dtype='object')] are in the [columns]\"\n"
     ]
    },
    {
     "name": "stdout",
     "output_type": "stream",
     "text": [
      "err at 1231\n"
     ]
    },
    {
     "name": "stderr",
     "output_type": "stream",
     "text": [
      "2025-09-29 00:08:17 - vnstock.explorer.vci.financial - ERROR - Error processing financial report data: \"None of [Index(['ticker', 'yearReport', 'lengthReport'], dtype='object')] are in the [columns]\"\n",
      "2025-09-29 00:08:17 - vnstock.explorer.vci.financial - ERROR - Error processing report 'Chỉ tiêu kết quả kinh doanh': \"None of [Index(['ticker', 'yearReport', 'lengthReport'], dtype='object')] are in the [columns]\"\n",
      "2025-09-29 00:08:17 - vnstock.common.data.data_explorer - ERROR - Lỗi khi truy xuất dữ liệu income_statement: \"None of [Index(['ticker', 'yearReport', 'lengthReport'], dtype='object')] are in the [columns]\"\n"
     ]
    },
    {
     "name": "stdout",
     "output_type": "stream",
     "text": [
      "err at 1232\n",
      "mined at 1233\n",
      "mined at 1234\n",
      "mined at 1235\n",
      "mined at 1236\n",
      "mined at 1237\n",
      "mined at 1238\n",
      "mined at 1239\n",
      "mined at 1240\n",
      "mined at 1241\n",
      "mined at 1242\n"
     ]
    },
    {
     "name": "stderr",
     "output_type": "stream",
     "text": [
      "Downcasting object dtype arrays on .fillna, .ffill, .bfill is deprecated and will change in a future version. Call result.infer_objects(copy=False) instead. To opt-in to the future behavior, set `pd.set_option('future.no_silent_downcasting', True)`\n"
     ]
    },
    {
     "name": "stdout",
     "output_type": "stream",
     "text": [
      "mined at 1243\n",
      "mined at 1244\n",
      "mined at 1245\n",
      "mined at 1246\n",
      "mined at 1247\n",
      "mined at 1248\n",
      "mined at 1249\n"
     ]
    },
    {
     "name": "stderr",
     "output_type": "stream",
     "text": [
      "2025-09-29 00:10:12 - vnstock.explorer.vci.financial - ERROR - Error processing financial report data: \"None of [Index(['ticker', 'yearReport', 'lengthReport'], dtype='object')] are in the [columns]\"\n",
      "2025-09-29 00:10:12 - vnstock.explorer.vci.financial - ERROR - Error processing report 'Chỉ tiêu kết quả kinh doanh': \"None of [Index(['ticker', 'yearReport', 'lengthReport'], dtype='object')] are in the [columns]\"\n",
      "2025-09-29 00:10:12 - vnstock.common.data.data_explorer - ERROR - Lỗi khi truy xuất dữ liệu income_statement: \"None of [Index(['ticker', 'yearReport', 'lengthReport'], dtype='object')] are in the [columns]\"\n"
     ]
    },
    {
     "name": "stdout",
     "output_type": "stream",
     "text": [
      "err at 1250\n"
     ]
    },
    {
     "name": "stderr",
     "output_type": "stream",
     "text": [
      "2025-09-29 00:10:18 - vnstock.explorer.vci.financial - ERROR - Error processing financial report data: \"None of [Index(['ticker', 'yearReport', 'lengthReport'], dtype='object')] are in the [columns]\"\n",
      "2025-09-29 00:10:18 - vnstock.explorer.vci.financial - ERROR - Error processing report 'Chỉ tiêu kết quả kinh doanh': \"None of [Index(['ticker', 'yearReport', 'lengthReport'], dtype='object')] are in the [columns]\"\n",
      "2025-09-29 00:10:18 - vnstock.common.data.data_explorer - ERROR - Lỗi khi truy xuất dữ liệu income_statement: \"None of [Index(['ticker', 'yearReport', 'lengthReport'], dtype='object')] are in the [columns]\"\n"
     ]
    },
    {
     "name": "stdout",
     "output_type": "stream",
     "text": [
      "err at 1251\n"
     ]
    },
    {
     "name": "stderr",
     "output_type": "stream",
     "text": [
      "2025-09-29 00:10:24 - vnstock.explorer.vci.financial - ERROR - Error processing financial report data: \"None of [Index(['ticker', 'yearReport', 'lengthReport'], dtype='object')] are in the [columns]\"\n",
      "2025-09-29 00:10:24 - vnstock.explorer.vci.financial - ERROR - Error processing report 'Chỉ tiêu kết quả kinh doanh': \"None of [Index(['ticker', 'yearReport', 'lengthReport'], dtype='object')] are in the [columns]\"\n",
      "2025-09-29 00:10:24 - vnstock.common.data.data_explorer - ERROR - Lỗi khi truy xuất dữ liệu income_statement: \"None of [Index(['ticker', 'yearReport', 'lengthReport'], dtype='object')] are in the [columns]\"\n"
     ]
    },
    {
     "name": "stdout",
     "output_type": "stream",
     "text": [
      "err at 1252\n"
     ]
    },
    {
     "name": "stderr",
     "output_type": "stream",
     "text": [
      "2025-09-29 00:10:29 - vnstock.explorer.vci.financial - ERROR - Error processing financial report data: \"None of [Index(['ticker', 'yearReport', 'lengthReport'], dtype='object')] are in the [columns]\"\n",
      "2025-09-29 00:10:29 - vnstock.explorer.vci.financial - ERROR - Error processing report 'Chỉ tiêu kết quả kinh doanh': \"None of [Index(['ticker', 'yearReport', 'lengthReport'], dtype='object')] are in the [columns]\"\n",
      "2025-09-29 00:10:29 - vnstock.common.data.data_explorer - ERROR - Lỗi khi truy xuất dữ liệu income_statement: \"None of [Index(['ticker', 'yearReport', 'lengthReport'], dtype='object')] are in the [columns]\"\n"
     ]
    },
    {
     "name": "stdout",
     "output_type": "stream",
     "text": [
      "err at 1253\n",
      "mined at 1254\n",
      "mined at 1255\n",
      "mined at 1256\n",
      "mined at 1257\n"
     ]
    },
    {
     "name": "stderr",
     "output_type": "stream",
     "text": [
      "Downcasting object dtype arrays on .fillna, .ffill, .bfill is deprecated and will change in a future version. Call result.infer_objects(copy=False) instead. To opt-in to the future behavior, set `pd.set_option('future.no_silent_downcasting', True)`\n"
     ]
    },
    {
     "name": "stdout",
     "output_type": "stream",
     "text": [
      "mined at 1258\n"
     ]
    },
    {
     "name": "stderr",
     "output_type": "stream",
     "text": [
      "2025-09-29 00:11:05 - vnstock.explorer.vci.financial - ERROR - Error processing financial report data: \"None of [Index(['ticker', 'yearReport', 'lengthReport'], dtype='object')] are in the [columns]\"\n",
      "2025-09-29 00:11:05 - vnstock.explorer.vci.financial - ERROR - Error processing report 'Chỉ tiêu kết quả kinh doanh': \"None of [Index(['ticker', 'yearReport', 'lengthReport'], dtype='object')] are in the [columns]\"\n",
      "2025-09-29 00:11:05 - vnstock.common.data.data_explorer - ERROR - Lỗi khi truy xuất dữ liệu income_statement: \"None of [Index(['ticker', 'yearReport', 'lengthReport'], dtype='object')] are in the [columns]\"\n"
     ]
    },
    {
     "name": "stdout",
     "output_type": "stream",
     "text": [
      "err at 1259\n",
      "mined at 1260\n"
     ]
    },
    {
     "name": "stderr",
     "output_type": "stream",
     "text": [
      "2025-09-29 00:11:17 - vnstock.explorer.vci.financial - ERROR - Error processing financial report data: \"None of [Index(['ticker', 'yearReport', 'lengthReport'], dtype='object')] are in the [columns]\"\n",
      "2025-09-29 00:11:17 - vnstock.explorer.vci.financial - ERROR - Error processing report 'Chỉ tiêu kết quả kinh doanh': \"None of [Index(['ticker', 'yearReport', 'lengthReport'], dtype='object')] are in the [columns]\"\n",
      "2025-09-29 00:11:17 - vnstock.common.data.data_explorer - ERROR - Lỗi khi truy xuất dữ liệu income_statement: \"None of [Index(['ticker', 'yearReport', 'lengthReport'], dtype='object')] are in the [columns]\"\n"
     ]
    },
    {
     "name": "stdout",
     "output_type": "stream",
     "text": [
      "err at 1261\n"
     ]
    },
    {
     "name": "stderr",
     "output_type": "stream",
     "text": [
      "2025-09-29 00:11:22 - vnstock.explorer.vci.financial - ERROR - Error processing financial report data: \"None of [Index(['ticker', 'yearReport', 'lengthReport'], dtype='object')] are in the [columns]\"\n",
      "2025-09-29 00:11:22 - vnstock.explorer.vci.financial - ERROR - Error processing report 'Chỉ tiêu kết quả kinh doanh': \"None of [Index(['ticker', 'yearReport', 'lengthReport'], dtype='object')] are in the [columns]\"\n",
      "2025-09-29 00:11:22 - vnstock.common.data.data_explorer - ERROR - Lỗi khi truy xuất dữ liệu income_statement: \"None of [Index(['ticker', 'yearReport', 'lengthReport'], dtype='object')] are in the [columns]\"\n"
     ]
    },
    {
     "name": "stdout",
     "output_type": "stream",
     "text": [
      "err at 1262\n",
      "mined at 1263\n",
      "mined at 1264\n",
      "mined at 1265\n",
      "mined at 1266\n",
      "mined at 1267\n",
      "mined at 1268\n",
      "mined at 1269\n"
     ]
    },
    {
     "name": "stderr",
     "output_type": "stream",
     "text": [
      "Downcasting object dtype arrays on .fillna, .ffill, .bfill is deprecated and will change in a future version. Call result.infer_objects(copy=False) instead. To opt-in to the future behavior, set `pd.set_option('future.no_silent_downcasting', True)`\n"
     ]
    },
    {
     "name": "stdout",
     "output_type": "stream",
     "text": [
      "mined at 1270\n",
      "mined at 1271\n",
      "mined at 1272\n"
     ]
    },
    {
     "name": "stderr",
     "output_type": "stream",
     "text": [
      "2025-09-29 00:12:48 - vnstock.explorer.vci.financial - ERROR - Error processing financial report data: \"None of [Index(['ticker', 'yearReport', 'lengthReport'], dtype='object')] are in the [columns]\"\n",
      "2025-09-29 00:12:48 - vnstock.explorer.vci.financial - ERROR - Error processing report 'Chỉ tiêu kết quả kinh doanh': \"None of [Index(['ticker', 'yearReport', 'lengthReport'], dtype='object')] are in the [columns]\"\n",
      "2025-09-29 00:12:48 - vnstock.common.data.data_explorer - ERROR - Lỗi khi truy xuất dữ liệu income_statement: \"None of [Index(['ticker', 'yearReport', 'lengthReport'], dtype='object')] are in the [columns]\"\n"
     ]
    },
    {
     "name": "stdout",
     "output_type": "stream",
     "text": [
      "err at 1273\n",
      "mined at 1274\n",
      "mined at 1275\n",
      "mined at 1276\n",
      "mined at 1277\n",
      "mined at 1278\n",
      "mined at 1279\n"
     ]
    },
    {
     "name": "stderr",
     "output_type": "stream",
     "text": [
      "Downcasting object dtype arrays on .fillna, .ffill, .bfill is deprecated and will change in a future version. Call result.infer_objects(copy=False) instead. To opt-in to the future behavior, set `pd.set_option('future.no_silent_downcasting', True)`\n"
     ]
    },
    {
     "name": "stdout",
     "output_type": "stream",
     "text": [
      "mined at 1280\n",
      "mined at 1281\n"
     ]
    },
    {
     "name": "stderr",
     "output_type": "stream",
     "text": [
      "2025-09-29 00:13:57 - vnstock.explorer.vci.financial - ERROR - Error processing financial report data: \"None of [Index(['ticker', 'yearReport', 'lengthReport'], dtype='object')] are in the [columns]\"\n",
      "2025-09-29 00:13:57 - vnstock.explorer.vci.financial - ERROR - Error processing report 'Chỉ tiêu kết quả kinh doanh': \"None of [Index(['ticker', 'yearReport', 'lengthReport'], dtype='object')] are in the [columns]\"\n",
      "2025-09-29 00:13:57 - vnstock.common.data.data_explorer - ERROR - Lỗi khi truy xuất dữ liệu income_statement: \"None of [Index(['ticker', 'yearReport', 'lengthReport'], dtype='object')] are in the [columns]\"\n"
     ]
    },
    {
     "name": "stdout",
     "output_type": "stream",
     "text": [
      "err at 1282\n",
      "mined at 1283\n",
      "mined at 1284\n"
     ]
    },
    {
     "name": "stderr",
     "output_type": "stream",
     "text": [
      "2025-09-29 00:14:19 - vnstock.explorer.vci.financial - ERROR - Error processing financial report data: \"None of [Index(['ticker', 'yearReport', 'lengthReport'], dtype='object')] are in the [columns]\"\n",
      "2025-09-29 00:14:19 - vnstock.explorer.vci.financial - ERROR - Error processing report 'Chỉ tiêu kết quả kinh doanh': \"None of [Index(['ticker', 'yearReport', 'lengthReport'], dtype='object')] are in the [columns]\"\n",
      "2025-09-29 00:14:19 - vnstock.common.data.data_explorer - ERROR - Lỗi khi truy xuất dữ liệu income_statement: \"None of [Index(['ticker', 'yearReport', 'lengthReport'], dtype='object')] are in the [columns]\"\n"
     ]
    },
    {
     "name": "stdout",
     "output_type": "stream",
     "text": [
      "err at 1285\n"
     ]
    },
    {
     "name": "stderr",
     "output_type": "stream",
     "text": [
      "2025-09-29 00:14:25 - vnstock.explorer.vci.financial - ERROR - Error processing financial report data: \"None of [Index(['ticker', 'yearReport', 'lengthReport'], dtype='object')] are in the [columns]\"\n",
      "2025-09-29 00:14:25 - vnstock.explorer.vci.financial - ERROR - Error processing report 'Chỉ tiêu kết quả kinh doanh': \"None of [Index(['ticker', 'yearReport', 'lengthReport'], dtype='object')] are in the [columns]\"\n",
      "2025-09-29 00:14:25 - vnstock.common.data.data_explorer - ERROR - Lỗi khi truy xuất dữ liệu income_statement: \"None of [Index(['ticker', 'yearReport', 'lengthReport'], dtype='object')] are in the [columns]\"\n"
     ]
    },
    {
     "name": "stdout",
     "output_type": "stream",
     "text": [
      "err at 1286\n",
      "mined at 1287\n",
      "mined at 1288\n",
      "mined at 1289\n",
      "mined at 1290\n"
     ]
    },
    {
     "name": "stderr",
     "output_type": "stream",
     "text": [
      "2025-09-29 00:15:00 - vnstock.explorer.vci.financial - ERROR - Error processing financial report data: \"None of [Index(['ticker', 'yearReport', 'lengthReport'], dtype='object')] are in the [columns]\"\n",
      "2025-09-29 00:15:00 - vnstock.explorer.vci.financial - ERROR - Error processing report 'Chỉ tiêu kết quả kinh doanh': \"None of [Index(['ticker', 'yearReport', 'lengthReport'], dtype='object')] are in the [columns]\"\n",
      "2025-09-29 00:15:00 - vnstock.common.data.data_explorer - ERROR - Lỗi khi truy xuất dữ liệu income_statement: \"None of [Index(['ticker', 'yearReport', 'lengthReport'], dtype='object')] are in the [columns]\"\n"
     ]
    },
    {
     "name": "stdout",
     "output_type": "stream",
     "text": [
      "err at 1291\n"
     ]
    },
    {
     "name": "stderr",
     "output_type": "stream",
     "text": [
      "Downcasting object dtype arrays on .fillna, .ffill, .bfill is deprecated and will change in a future version. Call result.infer_objects(copy=False) instead. To opt-in to the future behavior, set `pd.set_option('future.no_silent_downcasting', True)`\n"
     ]
    },
    {
     "name": "stdout",
     "output_type": "stream",
     "text": [
      "mined at 1292\n"
     ]
    },
    {
     "name": "stderr",
     "output_type": "stream",
     "text": [
      "2025-09-29 00:15:13 - vnstock.explorer.vci.financial - ERROR - Error processing financial report data: \"None of [Index(['ticker', 'yearReport', 'lengthReport'], dtype='object')] are in the [columns]\"\n",
      "2025-09-29 00:15:13 - vnstock.explorer.vci.financial - ERROR - Error processing report 'Chỉ tiêu kết quả kinh doanh': \"None of [Index(['ticker', 'yearReport', 'lengthReport'], dtype='object')] are in the [columns]\"\n",
      "2025-09-29 00:15:13 - vnstock.common.data.data_explorer - ERROR - Lỗi khi truy xuất dữ liệu income_statement: \"None of [Index(['ticker', 'yearReport', 'lengthReport'], dtype='object')] are in the [columns]\"\n"
     ]
    },
    {
     "name": "stdout",
     "output_type": "stream",
     "text": [
      "err at 1293\n",
      "mined at 1294\n",
      "mined at 1295\n",
      "mined at 1296\n",
      "mined at 1297\n",
      "mined at 1298\n"
     ]
    },
    {
     "name": "stderr",
     "output_type": "stream",
     "text": [
      "2025-09-29 00:15:54 - vnstock.explorer.vci.financial - ERROR - Error processing financial report data: \"None of [Index(['ticker', 'yearReport', 'lengthReport'], dtype='object')] are in the [columns]\"\n",
      "2025-09-29 00:15:54 - vnstock.explorer.vci.financial - ERROR - Error processing report 'Chỉ tiêu kết quả kinh doanh': \"None of [Index(['ticker', 'yearReport', 'lengthReport'], dtype='object')] are in the [columns]\"\n",
      "2025-09-29 00:15:54 - vnstock.common.data.data_explorer - ERROR - Lỗi khi truy xuất dữ liệu income_statement: \"None of [Index(['ticker', 'yearReport', 'lengthReport'], dtype='object')] are in the [columns]\"\n"
     ]
    },
    {
     "name": "stdout",
     "output_type": "stream",
     "text": [
      "err at 1299\n",
      "mined at 1300\n",
      "mined at 1301\n",
      "mined at 1302\n",
      "mined at 1303\n"
     ]
    },
    {
     "name": "stderr",
     "output_type": "stream",
     "text": [
      "2025-09-29 00:16:30 - vnstock.explorer.vci.financial - ERROR - Error processing financial report data: \"None of [Index(['ticker', 'yearReport', 'lengthReport'], dtype='object')] are in the [columns]\"\n",
      "2025-09-29 00:16:30 - vnstock.explorer.vci.financial - ERROR - Error processing report 'Chỉ tiêu kết quả kinh doanh': \"None of [Index(['ticker', 'yearReport', 'lengthReport'], dtype='object')] are in the [columns]\"\n",
      "2025-09-29 00:16:30 - vnstock.common.data.data_explorer - ERROR - Lỗi khi truy xuất dữ liệu income_statement: \"None of [Index(['ticker', 'yearReport', 'lengthReport'], dtype='object')] are in the [columns]\"\n"
     ]
    },
    {
     "name": "stdout",
     "output_type": "stream",
     "text": [
      "err at 1304\n",
      "mined at 1305\n"
     ]
    },
    {
     "name": "stderr",
     "output_type": "stream",
     "text": [
      "Downcasting object dtype arrays on .fillna, .ffill, .bfill is deprecated and will change in a future version. Call result.infer_objects(copy=False) instead. To opt-in to the future behavior, set `pd.set_option('future.no_silent_downcasting', True)`\n"
     ]
    },
    {
     "name": "stdout",
     "output_type": "stream",
     "text": [
      "mined at 1306\n"
     ]
    },
    {
     "name": "stderr",
     "output_type": "stream",
     "text": [
      "2025-09-29 00:16:48 - vnstock.explorer.vci.financial - ERROR - Error processing financial report data: \"None of [Index(['ticker', 'yearReport', 'lengthReport'], dtype='object')] are in the [columns]\"\n",
      "2025-09-29 00:16:48 - vnstock.explorer.vci.financial - ERROR - Error processing report 'Chỉ tiêu kết quả kinh doanh': \"None of [Index(['ticker', 'yearReport', 'lengthReport'], dtype='object')] are in the [columns]\"\n",
      "2025-09-29 00:16:48 - vnstock.common.data.data_explorer - ERROR - Lỗi khi truy xuất dữ liệu income_statement: \"None of [Index(['ticker', 'yearReport', 'lengthReport'], dtype='object')] are in the [columns]\"\n"
     ]
    },
    {
     "name": "stdout",
     "output_type": "stream",
     "text": [
      "err at 1307\n",
      "mined at 1308\n",
      "mined at 1309\n",
      "mined at 1310\n"
     ]
    },
    {
     "name": "stderr",
     "output_type": "stream",
     "text": [
      "2025-09-29 00:17:13 - vnstock.explorer.vci.financial - ERROR - Error processing financial report data: \"None of [Index(['ticker', 'yearReport', 'lengthReport'], dtype='object')] are in the [columns]\"\n",
      "2025-09-29 00:17:13 - vnstock.explorer.vci.financial - ERROR - Error processing report 'Chỉ tiêu kết quả kinh doanh': \"None of [Index(['ticker', 'yearReport', 'lengthReport'], dtype='object')] are in the [columns]\"\n",
      "2025-09-29 00:17:13 - vnstock.common.data.data_explorer - ERROR - Lỗi khi truy xuất dữ liệu income_statement: \"None of [Index(['ticker', 'yearReport', 'lengthReport'], dtype='object')] are in the [columns]\"\n"
     ]
    },
    {
     "name": "stdout",
     "output_type": "stream",
     "text": [
      "err at 1311\n",
      "mined at 1312\n",
      "mined at 1313\n",
      "mined at 1314\n",
      "mined at 1315\n",
      "mined at 1316\n",
      "mined at 1317\n",
      "mined at 1318\n",
      "mined at 1319\n",
      "mined at 1320\n",
      "mined at 1321\n",
      "mined at 1322\n",
      "mined at 1323\n",
      "mined at 1324\n"
     ]
    },
    {
     "name": "stderr",
     "output_type": "stream",
     "text": [
      "2025-09-29 00:18:54 - vnstock.explorer.vci.financial - ERROR - Error processing financial report data: \"None of [Index(['ticker', 'yearReport', 'lengthReport'], dtype='object')] are in the [columns]\"\n",
      "2025-09-29 00:18:54 - vnstock.explorer.vci.financial - ERROR - Error processing report 'Chỉ tiêu kết quả kinh doanh': \"None of [Index(['ticker', 'yearReport', 'lengthReport'], dtype='object')] are in the [columns]\"\n",
      "2025-09-29 00:18:54 - vnstock.common.data.data_explorer - ERROR - Lỗi khi truy xuất dữ liệu income_statement: \"None of [Index(['ticker', 'yearReport', 'lengthReport'], dtype='object')] are in the [columns]\"\n"
     ]
    },
    {
     "name": "stdout",
     "output_type": "stream",
     "text": [
      "err at 1325\n",
      "mined at 1326\n"
     ]
    },
    {
     "name": "stderr",
     "output_type": "stream",
     "text": [
      "Downcasting object dtype arrays on .fillna, .ffill, .bfill is deprecated and will change in a future version. Call result.infer_objects(copy=False) instead. To opt-in to the future behavior, set `pd.set_option('future.no_silent_downcasting', True)`\n"
     ]
    },
    {
     "name": "stdout",
     "output_type": "stream",
     "text": [
      "mined at 1327\n",
      "mined at 1328\n",
      "err at 1329\n",
      "mined at 1330\n",
      "mined at 1331\n",
      "mined at 1332\n",
      "mined at 1333\n"
     ]
    },
    {
     "name": "stderr",
     "output_type": "stream",
     "text": [
      "2025-09-29 00:20:03 - vnstock.explorer.vci.financial - ERROR - Error processing financial report data: \"None of [Index(['ticker', 'yearReport', 'lengthReport'], dtype='object')] are in the [columns]\"\n",
      "2025-09-29 00:20:03 - vnstock.explorer.vci.financial - ERROR - Error processing report 'Chỉ tiêu kết quả kinh doanh': \"None of [Index(['ticker', 'yearReport', 'lengthReport'], dtype='object')] are in the [columns]\"\n",
      "2025-09-29 00:20:03 - vnstock.common.data.data_explorer - ERROR - Lỗi khi truy xuất dữ liệu income_statement: \"None of [Index(['ticker', 'yearReport', 'lengthReport'], dtype='object')] are in the [columns]\"\n"
     ]
    },
    {
     "name": "stdout",
     "output_type": "stream",
     "text": [
      "err at 1334\n"
     ]
    },
    {
     "name": "stderr",
     "output_type": "stream",
     "text": [
      "2025-09-29 00:20:09 - vnstock.explorer.vci.financial - ERROR - Error processing financial report data: \"None of [Index(['ticker', 'yearReport', 'lengthReport'], dtype='object')] are in the [columns]\"\n",
      "2025-09-29 00:20:09 - vnstock.explorer.vci.financial - ERROR - Error processing report 'Chỉ tiêu kết quả kinh doanh': \"None of [Index(['ticker', 'yearReport', 'lengthReport'], dtype='object')] are in the [columns]\"\n",
      "2025-09-29 00:20:09 - vnstock.common.data.data_explorer - ERROR - Lỗi khi truy xuất dữ liệu income_statement: \"None of [Index(['ticker', 'yearReport', 'lengthReport'], dtype='object')] are in the [columns]\"\n"
     ]
    },
    {
     "name": "stdout",
     "output_type": "stream",
     "text": [
      "err at 1335\n",
      "mined at 1336\n"
     ]
    },
    {
     "name": "stderr",
     "output_type": "stream",
     "text": [
      "2025-09-29 00:20:21 - vnstock.explorer.vci.financial - ERROR - Error processing financial report data: \"None of [Index(['ticker', 'yearReport', 'lengthReport'], dtype='object')] are in the [columns]\"\n",
      "2025-09-29 00:20:21 - vnstock.explorer.vci.financial - ERROR - Error processing report 'Chỉ tiêu kết quả kinh doanh': \"None of [Index(['ticker', 'yearReport', 'lengthReport'], dtype='object')] are in the [columns]\"\n",
      "2025-09-29 00:20:21 - vnstock.common.data.data_explorer - ERROR - Lỗi khi truy xuất dữ liệu income_statement: \"None of [Index(['ticker', 'yearReport', 'lengthReport'], dtype='object')] are in the [columns]\"\n"
     ]
    },
    {
     "name": "stdout",
     "output_type": "stream",
     "text": [
      "err at 1337\n",
      "mined at 1338\n",
      "mined at 1339\n",
      "mined at 1340\n"
     ]
    },
    {
     "name": "stderr",
     "output_type": "stream",
     "text": [
      "2025-09-29 00:20:46 - vnstock.explorer.vci.financial - ERROR - Error processing financial report data: \"None of [Index(['ticker', 'yearReport', 'lengthReport'], dtype='object')] are in the [columns]\"\n",
      "2025-09-29 00:20:46 - vnstock.explorer.vci.financial - ERROR - Error processing report 'Chỉ tiêu kết quả kinh doanh': \"None of [Index(['ticker', 'yearReport', 'lengthReport'], dtype='object')] are in the [columns]\"\n",
      "2025-09-29 00:20:46 - vnstock.common.data.data_explorer - ERROR - Lỗi khi truy xuất dữ liệu income_statement: \"None of [Index(['ticker', 'yearReport', 'lengthReport'], dtype='object')] are in the [columns]\"\n"
     ]
    },
    {
     "name": "stdout",
     "output_type": "stream",
     "text": [
      "err at 1341\n",
      "mined at 1342\n"
     ]
    },
    {
     "name": "stderr",
     "output_type": "stream",
     "text": [
      "Downcasting object dtype arrays on .fillna, .ffill, .bfill is deprecated and will change in a future version. Call result.infer_objects(copy=False) instead. To opt-in to the future behavior, set `pd.set_option('future.no_silent_downcasting', True)`\n"
     ]
    },
    {
     "name": "stdout",
     "output_type": "stream",
     "text": [
      "mined at 1343\n",
      "mined at 1344\n",
      "mined at 1345\n"
     ]
    },
    {
     "name": "stderr",
     "output_type": "stream",
     "text": [
      "2025-09-29 00:21:18 - vnstock.explorer.vci.financial - ERROR - Error processing financial report data: \"None of [Index(['ticker', 'yearReport', 'lengthReport'], dtype='object')] are in the [columns]\"\n",
      "2025-09-29 00:21:18 - vnstock.explorer.vci.financial - ERROR - Error processing report 'Chỉ tiêu kết quả kinh doanh': \"None of [Index(['ticker', 'yearReport', 'lengthReport'], dtype='object')] are in the [columns]\"\n",
      "2025-09-29 00:21:18 - vnstock.common.data.data_explorer - ERROR - Lỗi khi truy xuất dữ liệu income_statement: \"None of [Index(['ticker', 'yearReport', 'lengthReport'], dtype='object')] are in the [columns]\"\n"
     ]
    },
    {
     "name": "stdout",
     "output_type": "stream",
     "text": [
      "err at 1346\n",
      "mined at 1347\n"
     ]
    },
    {
     "name": "stderr",
     "output_type": "stream",
     "text": [
      "2025-09-29 00:21:39 - vnstock.explorer.vci.financial - ERROR - Error processing financial report data: \"None of [Index(['ticker', 'yearReport', 'lengthReport'], dtype='object')] are in the [columns]\"\n",
      "2025-09-29 00:21:39 - vnstock.explorer.vci.financial - ERROR - Error processing report 'Chỉ tiêu kết quả kinh doanh': \"None of [Index(['ticker', 'yearReport', 'lengthReport'], dtype='object')] are in the [columns]\"\n",
      "2025-09-29 00:21:39 - vnstock.common.data.data_explorer - ERROR - Lỗi khi truy xuất dữ liệu income_statement: \"None of [Index(['ticker', 'yearReport', 'lengthReport'], dtype='object')] are in the [columns]\"\n"
     ]
    },
    {
     "name": "stdout",
     "output_type": "stream",
     "text": [
      "err at 1348\n",
      "mined at 1349\n",
      "mined at 1350\n",
      "mined at 1351\n",
      "mined at 1352\n",
      "mined at 1353\n"
     ]
    },
    {
     "name": "stderr",
     "output_type": "stream",
     "text": [
      "2025-09-29 00:22:14 - vnstock.explorer.vci.financial - ERROR - Error processing financial report data: \"None of [Index(['ticker', 'yearReport', 'lengthReport'], dtype='object')] are in the [columns]\"\n",
      "2025-09-29 00:22:14 - vnstock.explorer.vci.financial - ERROR - Error processing report 'Chỉ tiêu kết quả kinh doanh': \"None of [Index(['ticker', 'yearReport', 'lengthReport'], dtype='object')] are in the [columns]\"\n",
      "2025-09-29 00:22:14 - vnstock.common.data.data_explorer - ERROR - Lỗi khi truy xuất dữ liệu income_statement: \"None of [Index(['ticker', 'yearReport', 'lengthReport'], dtype='object')] are in the [columns]\"\n"
     ]
    },
    {
     "name": "stdout",
     "output_type": "stream",
     "text": [
      "err at 1354\n",
      "mined at 1355\n",
      "mined at 1356\n",
      "err at 1357\n"
     ]
    },
    {
     "name": "stderr",
     "output_type": "stream",
     "text": [
      "2025-09-29 00:22:38 - vnstock.explorer.vci.financial - ERROR - Error processing financial report data: \"None of [Index(['ticker', 'yearReport', 'lengthReport'], dtype='object')] are in the [columns]\"\n",
      "2025-09-29 00:22:38 - vnstock.explorer.vci.financial - ERROR - Error processing report 'Chỉ tiêu kết quả kinh doanh': \"None of [Index(['ticker', 'yearReport', 'lengthReport'], dtype='object')] are in the [columns]\"\n",
      "2025-09-29 00:22:38 - vnstock.common.data.data_explorer - ERROR - Lỗi khi truy xuất dữ liệu income_statement: \"None of [Index(['ticker', 'yearReport', 'lengthReport'], dtype='object')] are in the [columns]\"\n"
     ]
    },
    {
     "name": "stdout",
     "output_type": "stream",
     "text": [
      "err at 1358\n",
      "err at 1359\n"
     ]
    },
    {
     "name": "stderr",
     "output_type": "stream",
     "text": [
      "Downcasting object dtype arrays on .fillna, .ffill, .bfill is deprecated and will change in a future version. Call result.infer_objects(copy=False) instead. To opt-in to the future behavior, set `pd.set_option('future.no_silent_downcasting', True)`\n"
     ]
    },
    {
     "name": "stdout",
     "output_type": "stream",
     "text": [
      "mined at 1360\n"
     ]
    },
    {
     "name": "stderr",
     "output_type": "stream",
     "text": [
      "Downcasting object dtype arrays on .fillna, .ffill, .bfill is deprecated and will change in a future version. Call result.infer_objects(copy=False) instead. To opt-in to the future behavior, set `pd.set_option('future.no_silent_downcasting', True)`\n"
     ]
    },
    {
     "name": "stdout",
     "output_type": "stream",
     "text": [
      "mined at 1361\n",
      "mined at 1362\n",
      "mined at 1363\n",
      "mined at 1364\n",
      "mined at 1365\n",
      "mined at 1366\n",
      "mined at 1367\n"
     ]
    },
    {
     "name": "stderr",
     "output_type": "stream",
     "text": [
      "2025-09-29 00:23:48 - vnstock.explorer.vci.financial - ERROR - Error processing financial report data: \"None of [Index(['ticker', 'yearReport', 'lengthReport'], dtype='object')] are in the [columns]\"\n",
      "2025-09-29 00:23:48 - vnstock.explorer.vci.financial - ERROR - Error processing report 'Chỉ tiêu kết quả kinh doanh': \"None of [Index(['ticker', 'yearReport', 'lengthReport'], dtype='object')] are in the [columns]\"\n",
      "2025-09-29 00:23:48 - vnstock.common.data.data_explorer - ERROR - Lỗi khi truy xuất dữ liệu income_statement: \"None of [Index(['ticker', 'yearReport', 'lengthReport'], dtype='object')] are in the [columns]\"\n"
     ]
    },
    {
     "name": "stdout",
     "output_type": "stream",
     "text": [
      "err at 1368\n",
      "mined at 1369\n",
      "mined at 1370\n",
      "mined at 1371\n",
      "mined at 1372\n",
      "mined at 1373\n",
      "mined at 1374\n",
      "mined at 1375\n",
      "mined at 1376\n",
      "mined at 1377\n",
      "mined at 1378\n"
     ]
    },
    {
     "name": "stderr",
     "output_type": "stream",
     "text": [
      "Downcasting object dtype arrays on .fillna, .ffill, .bfill is deprecated and will change in a future version. Call result.infer_objects(copy=False) instead. To opt-in to the future behavior, set `pd.set_option('future.no_silent_downcasting', True)`\n"
     ]
    },
    {
     "name": "stdout",
     "output_type": "stream",
     "text": [
      "mined at 1379\n",
      "mined at 1380\n",
      "mined at 1381\n",
      "mined at 1382\n"
     ]
    },
    {
     "name": "stderr",
     "output_type": "stream",
     "text": [
      "2025-09-29 00:25:18 - vnstock.explorer.vci.financial - ERROR - Error processing financial report data: \"None of [Index(['ticker', 'yearReport', 'lengthReport'], dtype='object')] are in the [columns]\"\n",
      "2025-09-29 00:25:18 - vnstock.explorer.vci.financial - ERROR - Error processing report 'Chỉ tiêu kết quả kinh doanh': \"None of [Index(['ticker', 'yearReport', 'lengthReport'], dtype='object')] are in the [columns]\"\n",
      "2025-09-29 00:25:18 - vnstock.common.data.data_explorer - ERROR - Lỗi khi truy xuất dữ liệu income_statement: \"None of [Index(['ticker', 'yearReport', 'lengthReport'], dtype='object')] are in the [columns]\"\n"
     ]
    },
    {
     "name": "stdout",
     "output_type": "stream",
     "text": [
      "err at 1383\n",
      "mined at 1384\n",
      "mined at 1385\n",
      "mined at 1386\n",
      "mined at 1387\n"
     ]
    },
    {
     "name": "stderr",
     "output_type": "stream",
     "text": [
      "Downcasting object dtype arrays on .fillna, .ffill, .bfill is deprecated and will change in a future version. Call result.infer_objects(copy=False) instead. To opt-in to the future behavior, set `pd.set_option('future.no_silent_downcasting', True)`\n"
     ]
    },
    {
     "name": "stdout",
     "output_type": "stream",
     "text": [
      "mined at 1388\n",
      "mined at 1389\n",
      "mined at 1390\n"
     ]
    },
    {
     "name": "stderr",
     "output_type": "stream",
     "text": [
      "2025-09-29 00:26:05 - vnstock.explorer.vci.financial - ERROR - Error processing financial report data: \"None of [Index(['ticker', 'yearReport', 'lengthReport'], dtype='object')] are in the [columns]\"\n",
      "2025-09-29 00:26:05 - vnstock.explorer.vci.financial - ERROR - Error processing report 'Chỉ tiêu kết quả kinh doanh': \"None of [Index(['ticker', 'yearReport', 'lengthReport'], dtype='object')] are in the [columns]\"\n",
      "2025-09-29 00:26:05 - vnstock.common.data.data_explorer - ERROR - Lỗi khi truy xuất dữ liệu income_statement: \"None of [Index(['ticker', 'yearReport', 'lengthReport'], dtype='object')] are in the [columns]\"\n"
     ]
    },
    {
     "name": "stdout",
     "output_type": "stream",
     "text": [
      "err at 1391\n"
     ]
    },
    {
     "name": "stderr",
     "output_type": "stream",
     "text": [
      "2025-09-29 00:26:11 - vnstock.explorer.vci.financial - ERROR - Error processing financial report data: \"None of [Index(['ticker', 'yearReport', 'lengthReport'], dtype='object')] are in the [columns]\"\n",
      "2025-09-29 00:26:11 - vnstock.explorer.vci.financial - ERROR - Error processing report 'Chỉ tiêu kết quả kinh doanh': \"None of [Index(['ticker', 'yearReport', 'lengthReport'], dtype='object')] are in the [columns]\"\n",
      "2025-09-29 00:26:11 - vnstock.common.data.data_explorer - ERROR - Lỗi khi truy xuất dữ liệu income_statement: \"None of [Index(['ticker', 'yearReport', 'lengthReport'], dtype='object')] are in the [columns]\"\n"
     ]
    },
    {
     "name": "stdout",
     "output_type": "stream",
     "text": [
      "err at 1392\n",
      "mined at 1393\n",
      "mined at 1394\n",
      "mined at 1395\n"
     ]
    },
    {
     "name": "stderr",
     "output_type": "stream",
     "text": [
      "Downcasting object dtype arrays on .fillna, .ffill, .bfill is deprecated and will change in a future version. Call result.infer_objects(copy=False) instead. To opt-in to the future behavior, set `pd.set_option('future.no_silent_downcasting', True)`\n"
     ]
    },
    {
     "name": "stdout",
     "output_type": "stream",
     "text": [
      "mined at 1396\n",
      "mined at 1397\n",
      "mined at 1398\n",
      "mined at 1399\n"
     ]
    },
    {
     "name": "stderr",
     "output_type": "stream",
     "text": [
      "2025-09-29 00:27:08 - vnstock.explorer.vci.financial - ERROR - Error processing financial report data: \"None of [Index(['ticker', 'yearReport', 'lengthReport'], dtype='object')] are in the [columns]\"\n",
      "2025-09-29 00:27:08 - vnstock.explorer.vci.financial - ERROR - Error processing report 'Chỉ tiêu kết quả kinh doanh': \"None of [Index(['ticker', 'yearReport', 'lengthReport'], dtype='object')] are in the [columns]\"\n",
      "2025-09-29 00:27:08 - vnstock.common.data.data_explorer - ERROR - Lỗi khi truy xuất dữ liệu income_statement: \"None of [Index(['ticker', 'yearReport', 'lengthReport'], dtype='object')] are in the [columns]\"\n"
     ]
    },
    {
     "name": "stdout",
     "output_type": "stream",
     "text": [
      "err at 1400\n",
      "mined at 1401\n",
      "mined at 1402\n",
      "mined at 1403\n",
      "err at 1404\n"
     ]
    },
    {
     "name": "stderr",
     "output_type": "stream",
     "text": [
      "2025-09-29 00:27:41 - vnstock.explorer.vci.financial - ERROR - Error processing financial report data: \"None of [Index(['ticker', 'yearReport', 'lengthReport'], dtype='object')] are in the [columns]\"\n",
      "2025-09-29 00:27:41 - vnstock.explorer.vci.financial - ERROR - Error processing report 'Chỉ tiêu kết quả kinh doanh': \"None of [Index(['ticker', 'yearReport', 'lengthReport'], dtype='object')] are in the [columns]\"\n",
      "2025-09-29 00:27:41 - vnstock.common.data.data_explorer - ERROR - Lỗi khi truy xuất dữ liệu income_statement: \"None of [Index(['ticker', 'yearReport', 'lengthReport'], dtype='object')] are in the [columns]\"\n"
     ]
    },
    {
     "name": "stdout",
     "output_type": "stream",
     "text": [
      "err at 1405\n",
      "mined at 1406\n",
      "mined at 1407\n",
      "mined at 1408\n",
      "mined at 1409\n",
      "mined at 1410\n",
      "mined at 1411\n",
      "mined at 1412\n"
     ]
    },
    {
     "name": "stderr",
     "output_type": "stream",
     "text": [
      "2025-09-29 00:28:33 - vnstock.explorer.vci.financial - ERROR - Error processing financial report data: \"None of [Index(['ticker', 'yearReport', 'lengthReport'], dtype='object')] are in the [columns]\"\n",
      "2025-09-29 00:28:33 - vnstock.explorer.vci.financial - ERROR - Error processing report 'Chỉ tiêu kết quả kinh doanh': \"None of [Index(['ticker', 'yearReport', 'lengthReport'], dtype='object')] are in the [columns]\"\n",
      "2025-09-29 00:28:33 - vnstock.common.data.data_explorer - ERROR - Lỗi khi truy xuất dữ liệu income_statement: \"None of [Index(['ticker', 'yearReport', 'lengthReport'], dtype='object')] are in the [columns]\"\n"
     ]
    },
    {
     "name": "stdout",
     "output_type": "stream",
     "text": [
      "err at 1413\n",
      "mined at 1414\n",
      "mined at 1415\n",
      "mined at 1416\n",
      "mined at 1417\n"
     ]
    },
    {
     "name": "stderr",
     "output_type": "stream",
     "text": [
      "2025-09-29 00:29:02 - vnstock.explorer.vci.financial - ERROR - Error processing financial report data: \"None of [Index(['ticker', 'yearReport', 'lengthReport'], dtype='object')] are in the [columns]\"\n",
      "2025-09-29 00:29:02 - vnstock.explorer.vci.financial - ERROR - Error processing report 'Chỉ tiêu kết quả kinh doanh': \"None of [Index(['ticker', 'yearReport', 'lengthReport'], dtype='object')] are in the [columns]\"\n",
      "2025-09-29 00:29:02 - vnstock.common.data.data_explorer - ERROR - Lỗi khi truy xuất dữ liệu income_statement: \"None of [Index(['ticker', 'yearReport', 'lengthReport'], dtype='object')] are in the [columns]\"\n"
     ]
    },
    {
     "name": "stdout",
     "output_type": "stream",
     "text": [
      "err at 1418\n",
      "mined at 1419\n",
      "mined at 1420\n",
      "mined at 1421\n",
      "mined at 1422\n",
      "mined at 1423\n",
      "mined at 1424\n",
      "mined at 1425\n",
      "mined at 1426\n",
      "mined at 1427\n",
      "mined at 1428\n",
      "mined at 1429\n",
      "mined at 1430\n",
      "mined at 1431\n",
      "mined at 1432\n",
      "mined at 1433\n",
      "mined at 1434\n",
      "err at 1435\n"
     ]
    },
    {
     "name": "stderr",
     "output_type": "stream",
     "text": [
      "2025-09-29 00:30:51 - vnstock.explorer.vci.financial - ERROR - Error processing financial report data: \"None of [Index(['ticker', 'yearReport', 'lengthReport'], dtype='object')] are in the [columns]\"\n",
      "2025-09-29 00:30:51 - vnstock.explorer.vci.financial - ERROR - Error processing report 'Chỉ tiêu kết quả kinh doanh': \"None of [Index(['ticker', 'yearReport', 'lengthReport'], dtype='object')] are in the [columns]\"\n",
      "2025-09-29 00:30:51 - vnstock.common.data.data_explorer - ERROR - Lỗi khi truy xuất dữ liệu income_statement: \"None of [Index(['ticker', 'yearReport', 'lengthReport'], dtype='object')] are in the [columns]\"\n"
     ]
    },
    {
     "name": "stdout",
     "output_type": "stream",
     "text": [
      "err at 1436\n",
      "mined at 1437\n",
      "mined at 1438\n",
      "mined at 1439\n",
      "mined at 1440\n",
      "mined at 1441\n",
      "mined at 1442\n",
      "mined at 1443\n",
      "mined at 1444\n",
      "mined at 1445\n",
      "mined at 1446\n"
     ]
    },
    {
     "name": "stderr",
     "output_type": "stream",
     "text": [
      "Downcasting object dtype arrays on .fillna, .ffill, .bfill is deprecated and will change in a future version. Call result.infer_objects(copy=False) instead. To opt-in to the future behavior, set `pd.set_option('future.no_silent_downcasting', True)`\n"
     ]
    },
    {
     "name": "stdout",
     "output_type": "stream",
     "text": [
      "mined at 1447\n",
      "mined at 1448\n",
      "mined at 1449\n",
      "mined at 1450\n",
      "mined at 1451\n"
     ]
    },
    {
     "name": "stderr",
     "output_type": "stream",
     "text": [
      "2025-09-29 00:32:28 - vnstock.explorer.vci.financial - ERROR - Error processing financial report data: \"None of [Index(['ticker', 'yearReport', 'lengthReport'], dtype='object')] are in the [columns]\"\n",
      "2025-09-29 00:32:28 - vnstock.explorer.vci.financial - ERROR - Error processing report 'Chỉ tiêu kết quả kinh doanh': \"None of [Index(['ticker', 'yearReport', 'lengthReport'], dtype='object')] are in the [columns]\"\n",
      "2025-09-29 00:32:28 - vnstock.common.data.data_explorer - ERROR - Lỗi khi truy xuất dữ liệu income_statement: \"None of [Index(['ticker', 'yearReport', 'lengthReport'], dtype='object')] are in the [columns]\"\n"
     ]
    },
    {
     "name": "stdout",
     "output_type": "stream",
     "text": [
      "err at 1452\n",
      "mined at 1453\n"
     ]
    },
    {
     "name": "stderr",
     "output_type": "stream",
     "text": [
      "2025-09-29 00:32:41 - vnstock.explorer.vci.financial - ERROR - Error processing financial report data: \"None of [Index(['ticker', 'yearReport', 'lengthReport'], dtype='object')] are in the [columns]\"\n",
      "2025-09-29 00:32:41 - vnstock.explorer.vci.financial - ERROR - Error processing report 'Chỉ tiêu kết quả kinh doanh': \"None of [Index(['ticker', 'yearReport', 'lengthReport'], dtype='object')] are in the [columns]\"\n",
      "2025-09-29 00:32:41 - vnstock.common.data.data_explorer - ERROR - Lỗi khi truy xuất dữ liệu income_statement: \"None of [Index(['ticker', 'yearReport', 'lengthReport'], dtype='object')] are in the [columns]\"\n"
     ]
    },
    {
     "name": "stdout",
     "output_type": "stream",
     "text": [
      "err at 1454\n"
     ]
    },
    {
     "name": "stderr",
     "output_type": "stream",
     "text": [
      "2025-09-29 00:32:47 - vnstock.explorer.vci.financial - ERROR - Error processing financial report data: \"None of [Index(['ticker', 'yearReport', 'lengthReport'], dtype='object')] are in the [columns]\"\n",
      "2025-09-29 00:32:47 - vnstock.explorer.vci.financial - ERROR - Error processing report 'Chỉ tiêu kết quả kinh doanh': \"None of [Index(['ticker', 'yearReport', 'lengthReport'], dtype='object')] are in the [columns]\"\n",
      "2025-09-29 00:32:47 - vnstock.common.data.data_explorer - ERROR - Lỗi khi truy xuất dữ liệu income_statement: \"None of [Index(['ticker', 'yearReport', 'lengthReport'], dtype='object')] are in the [columns]\"\n"
     ]
    },
    {
     "name": "stdout",
     "output_type": "stream",
     "text": [
      "err at 1455\n",
      "mined at 1456\n",
      "mined at 1457\n",
      "mined at 1458\n",
      "mined at 1459\n",
      "mined at 1460\n",
      "mined at 1461\n"
     ]
    },
    {
     "name": "stderr",
     "output_type": "stream",
     "text": [
      "Downcasting object dtype arrays on .fillna, .ffill, .bfill is deprecated and will change in a future version. Call result.infer_objects(copy=False) instead. To opt-in to the future behavior, set `pd.set_option('future.no_silent_downcasting', True)`\n"
     ]
    },
    {
     "name": "stdout",
     "output_type": "stream",
     "text": [
      "mined at 1462\n",
      "mined at 1463\n"
     ]
    },
    {
     "name": "stderr",
     "output_type": "stream",
     "text": [
      "2025-09-29 00:33:43 - vnstock.explorer.vci.financial - ERROR - Error processing financial report data: \"None of [Index(['ticker', 'yearReport', 'lengthReport'], dtype='object')] are in the [columns]\"\n",
      "2025-09-29 00:33:43 - vnstock.explorer.vci.financial - ERROR - Error processing report 'Chỉ tiêu kết quả kinh doanh': \"None of [Index(['ticker', 'yearReport', 'lengthReport'], dtype='object')] are in the [columns]\"\n",
      "2025-09-29 00:33:43 - vnstock.common.data.data_explorer - ERROR - Lỗi khi truy xuất dữ liệu income_statement: \"None of [Index(['ticker', 'yearReport', 'lengthReport'], dtype='object')] are in the [columns]\"\n"
     ]
    },
    {
     "name": "stdout",
     "output_type": "stream",
     "text": [
      "err at 1464\n",
      "mined at 1465\n",
      "mined at 1466\n",
      "mined at 1467\n",
      "mined at 1468\n",
      "mined at 1469\n",
      "mined at 1470\n",
      "mined at 1471\n",
      "mined at 1472\n",
      "mined at 1473\n",
      "mined at 1474\n",
      "mined at 1475\n",
      "mined at 1476\n",
      "mined at 1477\n",
      "mined at 1478\n",
      "mined at 1479\n"
     ]
    },
    {
     "name": "stderr",
     "output_type": "stream",
     "text": [
      "2025-09-29 00:35:22 - vnstock.explorer.vci.financial - ERROR - Error processing financial report data: \"None of [Index(['ticker', 'yearReport', 'lengthReport'], dtype='object')] are in the [columns]\"\n",
      "2025-09-29 00:35:22 - vnstock.explorer.vci.financial - ERROR - Error processing report 'Chỉ tiêu kết quả kinh doanh': \"None of [Index(['ticker', 'yearReport', 'lengthReport'], dtype='object')] are in the [columns]\"\n",
      "2025-09-29 00:35:22 - vnstock.common.data.data_explorer - ERROR - Lỗi khi truy xuất dữ liệu income_statement: \"None of [Index(['ticker', 'yearReport', 'lengthReport'], dtype='object')] are in the [columns]\"\n"
     ]
    },
    {
     "name": "stdout",
     "output_type": "stream",
     "text": [
      "err at 1480\n"
     ]
    },
    {
     "name": "stderr",
     "output_type": "stream",
     "text": [
      "2025-09-29 00:35:28 - vnstock.explorer.vci.financial - ERROR - Error processing financial report data: \"None of [Index(['ticker', 'yearReport', 'lengthReport'], dtype='object')] are in the [columns]\"\n",
      "2025-09-29 00:35:28 - vnstock.explorer.vci.financial - ERROR - Error processing report 'Chỉ tiêu kết quả kinh doanh': \"None of [Index(['ticker', 'yearReport', 'lengthReport'], dtype='object')] are in the [columns]\"\n",
      "2025-09-29 00:35:28 - vnstock.common.data.data_explorer - ERROR - Lỗi khi truy xuất dữ liệu income_statement: \"None of [Index(['ticker', 'yearReport', 'lengthReport'], dtype='object')] are in the [columns]\"\n"
     ]
    },
    {
     "name": "stdout",
     "output_type": "stream",
     "text": [
      "err at 1481\n",
      "mined at 1482\n"
     ]
    },
    {
     "name": "stderr",
     "output_type": "stream",
     "text": [
      "2025-09-29 00:35:39 - vnstock.explorer.vci.financial - ERROR - Error processing financial report data: \"None of [Index(['ticker', 'yearReport', 'lengthReport'], dtype='object')] are in the [columns]\"\n",
      "2025-09-29 00:35:39 - vnstock.explorer.vci.financial - ERROR - Error processing report 'Chỉ tiêu kết quả kinh doanh': \"None of [Index(['ticker', 'yearReport', 'lengthReport'], dtype='object')] are in the [columns]\"\n",
      "2025-09-29 00:35:39 - vnstock.common.data.data_explorer - ERROR - Lỗi khi truy xuất dữ liệu income_statement: \"None of [Index(['ticker', 'yearReport', 'lengthReport'], dtype='object')] are in the [columns]\"\n"
     ]
    },
    {
     "name": "stdout",
     "output_type": "stream",
     "text": [
      "err at 1483\n",
      "mined at 1484\n",
      "mined at 1485\n",
      "mined at 1486\n",
      "mined at 1487\n"
     ]
    },
    {
     "name": "stderr",
     "output_type": "stream",
     "text": [
      "2025-09-29 00:36:08 - vnstock.explorer.vci.financial - ERROR - Error processing financial report data: \"None of [Index(['ticker', 'yearReport', 'lengthReport'], dtype='object')] are in the [columns]\"\n",
      "2025-09-29 00:36:08 - vnstock.explorer.vci.financial - ERROR - Error processing report 'Chỉ tiêu kết quả kinh doanh': \"None of [Index(['ticker', 'yearReport', 'lengthReport'], dtype='object')] are in the [columns]\"\n",
      "2025-09-29 00:36:08 - vnstock.common.data.data_explorer - ERROR - Lỗi khi truy xuất dữ liệu income_statement: \"None of [Index(['ticker', 'yearReport', 'lengthReport'], dtype='object')] are in the [columns]\"\n"
     ]
    },
    {
     "name": "stdout",
     "output_type": "stream",
     "text": [
      "err at 1488\n",
      "mined at 1489\n",
      "mined at 1490\n"
     ]
    },
    {
     "name": "stderr",
     "output_type": "stream",
     "text": [
      "2025-09-29 00:36:28 - vnstock.explorer.vci.financial - ERROR - Error processing financial report data: \"None of [Index(['ticker', 'yearReport', 'lengthReport'], dtype='object')] are in the [columns]\"\n",
      "2025-09-29 00:36:28 - vnstock.explorer.vci.financial - ERROR - Error processing report 'Chỉ tiêu kết quả kinh doanh': \"None of [Index(['ticker', 'yearReport', 'lengthReport'], dtype='object')] are in the [columns]\"\n",
      "2025-09-29 00:36:28 - vnstock.common.data.data_explorer - ERROR - Lỗi khi truy xuất dữ liệu income_statement: \"None of [Index(['ticker', 'yearReport', 'lengthReport'], dtype='object')] are in the [columns]\"\n"
     ]
    },
    {
     "name": "stdout",
     "output_type": "stream",
     "text": [
      "err at 1491\n"
     ]
    },
    {
     "name": "stderr",
     "output_type": "stream",
     "text": [
      "2025-09-29 00:36:34 - vnstock.explorer.vci.financial - ERROR - Error processing financial report data: \"None of [Index(['ticker', 'yearReport', 'lengthReport'], dtype='object')] are in the [columns]\"\n",
      "2025-09-29 00:36:34 - vnstock.explorer.vci.financial - ERROR - Error processing report 'Chỉ tiêu kết quả kinh doanh': \"None of [Index(['ticker', 'yearReport', 'lengthReport'], dtype='object')] are in the [columns]\"\n",
      "2025-09-29 00:36:34 - vnstock.common.data.data_explorer - ERROR - Lỗi khi truy xuất dữ liệu income_statement: \"None of [Index(['ticker', 'yearReport', 'lengthReport'], dtype='object')] are in the [columns]\"\n"
     ]
    },
    {
     "name": "stdout",
     "output_type": "stream",
     "text": [
      "err at 1492\n",
      "err at 1493\n"
     ]
    },
    {
     "name": "stderr",
     "output_type": "stream",
     "text": [
      "2025-09-29 00:36:45 - vnstock.explorer.vci.financial - ERROR - Error processing financial report data: \"None of [Index(['ticker', 'yearReport', 'lengthReport'], dtype='object')] are in the [columns]\"\n",
      "2025-09-29 00:36:45 - vnstock.explorer.vci.financial - ERROR - Error processing report 'Chỉ tiêu kết quả kinh doanh': \"None of [Index(['ticker', 'yearReport', 'lengthReport'], dtype='object')] are in the [columns]\"\n",
      "2025-09-29 00:36:45 - vnstock.common.data.data_explorer - ERROR - Lỗi khi truy xuất dữ liệu income_statement: \"None of [Index(['ticker', 'yearReport', 'lengthReport'], dtype='object')] are in the [columns]\"\n"
     ]
    },
    {
     "name": "stdout",
     "output_type": "stream",
     "text": [
      "err at 1494\n",
      "mined at 1495\n"
     ]
    },
    {
     "name": "stderr",
     "output_type": "stream",
     "text": [
      "2025-09-29 00:36:56 - vnstock.explorer.vci.financial - ERROR - Error processing financial report data: \"None of [Index(['ticker', 'yearReport', 'lengthReport'], dtype='object')] are in the [columns]\"\n",
      "2025-09-29 00:36:56 - vnstock.explorer.vci.financial - ERROR - Error processing report 'Chỉ tiêu kết quả kinh doanh': \"None of [Index(['ticker', 'yearReport', 'lengthReport'], dtype='object')] are in the [columns]\"\n",
      "2025-09-29 00:36:56 - vnstock.common.data.data_explorer - ERROR - Lỗi khi truy xuất dữ liệu income_statement: \"None of [Index(['ticker', 'yearReport', 'lengthReport'], dtype='object')] are in the [columns]\"\n"
     ]
    },
    {
     "name": "stdout",
     "output_type": "stream",
     "text": [
      "err at 1496\n",
      "mined at 1497\n",
      "mined at 1498\n",
      "mined at 1499\n"
     ]
    },
    {
     "name": "stderr",
     "output_type": "stream",
     "text": [
      "2025-09-29 00:37:20 - vnstock.explorer.vci.financial - ERROR - Error processing financial report data: \"None of [Index(['ticker', 'yearReport', 'lengthReport'], dtype='object')] are in the [columns]\"\n",
      "2025-09-29 00:37:20 - vnstock.explorer.vci.financial - ERROR - Error processing report 'Chỉ tiêu kết quả kinh doanh': \"None of [Index(['ticker', 'yearReport', 'lengthReport'], dtype='object')] are in the [columns]\"\n",
      "2025-09-29 00:37:20 - vnstock.common.data.data_explorer - ERROR - Lỗi khi truy xuất dữ liệu income_statement: \"None of [Index(['ticker', 'yearReport', 'lengthReport'], dtype='object')] are in the [columns]\"\n"
     ]
    },
    {
     "name": "stdout",
     "output_type": "stream",
     "text": [
      "err at 1500\n",
      "mined at 1501\n"
     ]
    },
    {
     "name": "stderr",
     "output_type": "stream",
     "text": [
      "2025-09-29 00:37:33 - vnstock.explorer.vci.financial - ERROR - Error processing financial report data: \"None of [Index(['ticker', 'yearReport', 'lengthReport'], dtype='object')] are in the [columns]\"\n",
      "2025-09-29 00:37:33 - vnstock.explorer.vci.financial - ERROR - Error processing report 'Chỉ tiêu kết quả kinh doanh': \"None of [Index(['ticker', 'yearReport', 'lengthReport'], dtype='object')] are in the [columns]\"\n",
      "2025-09-29 00:37:33 - vnstock.common.data.data_explorer - ERROR - Lỗi khi truy xuất dữ liệu income_statement: \"None of [Index(['ticker', 'yearReport', 'lengthReport'], dtype='object')] are in the [columns]\"\n"
     ]
    },
    {
     "name": "stdout",
     "output_type": "stream",
     "text": [
      "err at 1502\n"
     ]
    },
    {
     "name": "stderr",
     "output_type": "stream",
     "text": [
      "2025-09-29 00:37:39 - vnstock.explorer.vci.financial - ERROR - Error processing financial report data: \"None of [Index(['ticker', 'yearReport', 'lengthReport'], dtype='object')] are in the [columns]\"\n",
      "2025-09-29 00:37:39 - vnstock.explorer.vci.financial - ERROR - Error processing report 'Chỉ tiêu kết quả kinh doanh': \"None of [Index(['ticker', 'yearReport', 'lengthReport'], dtype='object')] are in the [columns]\"\n",
      "2025-09-29 00:37:39 - vnstock.common.data.data_explorer - ERROR - Lỗi khi truy xuất dữ liệu income_statement: \"None of [Index(['ticker', 'yearReport', 'lengthReport'], dtype='object')] are in the [columns]\"\n"
     ]
    },
    {
     "name": "stdout",
     "output_type": "stream",
     "text": [
      "err at 1503\n",
      "mined at 1504\n",
      "mined at 1505\n",
      "mined at 1506\n"
     ]
    },
    {
     "name": "stderr",
     "output_type": "stream",
     "text": [
      "2025-09-29 00:38:06 - vnstock.explorer.vci.financial - ERROR - Error processing financial report data: \"None of [Index(['ticker', 'yearReport', 'lengthReport'], dtype='object')] are in the [columns]\"\n",
      "2025-09-29 00:38:06 - vnstock.explorer.vci.financial - ERROR - Error processing report 'Chỉ tiêu kết quả kinh doanh': \"None of [Index(['ticker', 'yearReport', 'lengthReport'], dtype='object')] are in the [columns]\"\n",
      "2025-09-29 00:38:06 - vnstock.common.data.data_explorer - ERROR - Lỗi khi truy xuất dữ liệu income_statement: \"None of [Index(['ticker', 'yearReport', 'lengthReport'], dtype='object')] are in the [columns]\"\n"
     ]
    },
    {
     "name": "stdout",
     "output_type": "stream",
     "text": [
      "err at 1507\n",
      "mined at 1508\n",
      "mined at 1509\n"
     ]
    },
    {
     "name": "stderr",
     "output_type": "stream",
     "text": [
      "2025-09-29 00:38:27 - vnstock.explorer.vci.financial - ERROR - Error processing financial report data: \"None of [Index(['ticker', 'yearReport', 'lengthReport'], dtype='object')] are in the [columns]\"\n",
      "2025-09-29 00:38:27 - vnstock.explorer.vci.financial - ERROR - Error processing report 'Chỉ tiêu kết quả kinh doanh': \"None of [Index(['ticker', 'yearReport', 'lengthReport'], dtype='object')] are in the [columns]\"\n",
      "2025-09-29 00:38:27 - vnstock.common.data.data_explorer - ERROR - Lỗi khi truy xuất dữ liệu income_statement: \"None of [Index(['ticker', 'yearReport', 'lengthReport'], dtype='object')] are in the [columns]\"\n"
     ]
    },
    {
     "name": "stdout",
     "output_type": "stream",
     "text": [
      "err at 1510\n",
      "mined at 1511\n",
      "mined at 1512\n",
      "mined at 1513\n",
      "mined at 1514\n",
      "mined at 1515\n",
      "mined at 1516\n",
      "mined at 1517\n",
      "mined at 1518\n",
      "mined at 1519\n",
      "mined at 1520\n"
     ]
    },
    {
     "name": "stderr",
     "output_type": "stream",
     "text": [
      "2025-09-29 00:39:39 - vnstock.explorer.vci.financial - ERROR - Error processing financial report data: \"None of [Index(['ticker', 'yearReport', 'lengthReport'], dtype='object')] are in the [columns]\"\n",
      "2025-09-29 00:39:39 - vnstock.explorer.vci.financial - ERROR - Error processing report 'Chỉ tiêu kết quả kinh doanh': \"None of [Index(['ticker', 'yearReport', 'lengthReport'], dtype='object')] are in the [columns]\"\n",
      "2025-09-29 00:39:39 - vnstock.common.data.data_explorer - ERROR - Lỗi khi truy xuất dữ liệu income_statement: \"None of [Index(['ticker', 'yearReport', 'lengthReport'], dtype='object')] are in the [columns]\"\n"
     ]
    },
    {
     "name": "stdout",
     "output_type": "stream",
     "text": [
      "err at 1521\n",
      "mined at 1522\n",
      "mined at 1523\n"
     ]
    },
    {
     "name": "stderr",
     "output_type": "stream",
     "text": [
      "2025-09-29 00:39:57 - vnstock.explorer.vci.financial - ERROR - Error processing financial report data: \"None of [Index(['ticker', 'yearReport', 'lengthReport'], dtype='object')] are in the [columns]\"\n",
      "2025-09-29 00:39:57 - vnstock.explorer.vci.financial - ERROR - Error processing report 'Chỉ tiêu kết quả kinh doanh': \"None of [Index(['ticker', 'yearReport', 'lengthReport'], dtype='object')] are in the [columns]\"\n",
      "2025-09-29 00:39:57 - vnstock.common.data.data_explorer - ERROR - Lỗi khi truy xuất dữ liệu income_statement: \"None of [Index(['ticker', 'yearReport', 'lengthReport'], dtype='object')] are in the [columns]\"\n"
     ]
    },
    {
     "name": "stdout",
     "output_type": "stream",
     "text": [
      "err at 1524\n"
     ]
    },
    {
     "name": "stderr",
     "output_type": "stream",
     "text": [
      "Downcasting object dtype arrays on .fillna, .ffill, .bfill is deprecated and will change in a future version. Call result.infer_objects(copy=False) instead. To opt-in to the future behavior, set `pd.set_option('future.no_silent_downcasting', True)`\n"
     ]
    },
    {
     "name": "stdout",
     "output_type": "stream",
     "text": [
      "mined at 1525\n",
      "mined at 1526\n",
      "mined at 1527\n",
      "mined at 1528\n",
      "mined at 1529\n",
      "mined at 1530\n",
      "mined at 1531\n",
      "mined at 1532\n",
      "mined at 1533\n",
      "mined at 1534\n",
      "mined at 1535\n"
     ]
    },
    {
     "name": "stderr",
     "output_type": "stream",
     "text": [
      "2025-09-29 00:41:08 - vnstock.explorer.vci.financial - ERROR - Error processing financial report data: \"None of [Index(['ticker', 'yearReport', 'lengthReport'], dtype='object')] are in the [columns]\"\n",
      "2025-09-29 00:41:08 - vnstock.explorer.vci.financial - ERROR - Error processing report 'Chỉ tiêu kết quả kinh doanh': \"None of [Index(['ticker', 'yearReport', 'lengthReport'], dtype='object')] are in the [columns]\"\n",
      "2025-09-29 00:41:08 - vnstock.common.data.data_explorer - ERROR - Lỗi khi truy xuất dữ liệu income_statement: \"None of [Index(['ticker', 'yearReport', 'lengthReport'], dtype='object')] are in the [columns]\"\n"
     ]
    },
    {
     "name": "stdout",
     "output_type": "stream",
     "text": [
      "err at 1536\n",
      "mined at 1537\n"
     ]
    },
    {
     "name": "stderr",
     "output_type": "stream",
     "text": [
      "2025-09-29 00:41:20 - vnstock.explorer.vci.financial - ERROR - Error processing financial report data: \"None of [Index(['ticker', 'yearReport', 'lengthReport'], dtype='object')] are in the [columns]\"\n",
      "2025-09-29 00:41:20 - vnstock.explorer.vci.financial - ERROR - Error processing report 'Chỉ tiêu kết quả kinh doanh': \"None of [Index(['ticker', 'yearReport', 'lengthReport'], dtype='object')] are in the [columns]\"\n",
      "2025-09-29 00:41:20 - vnstock.common.data.data_explorer - ERROR - Lỗi khi truy xuất dữ liệu income_statement: \"None of [Index(['ticker', 'yearReport', 'lengthReport'], dtype='object')] are in the [columns]\"\n"
     ]
    },
    {
     "name": "stdout",
     "output_type": "stream",
     "text": [
      "err at 1538\n",
      "err at 1539\n",
      "mined at 1540\n",
      "mined at 1541\n",
      "mined at 1542\n"
     ]
    },
    {
     "name": "stderr",
     "output_type": "stream",
     "text": [
      "2025-09-29 00:41:53 - vnstock.explorer.vci.financial - ERROR - Error processing financial report data: \"None of [Index(['ticker', 'yearReport', 'lengthReport'], dtype='object')] are in the [columns]\"\n",
      "2025-09-29 00:41:53 - vnstock.explorer.vci.financial - ERROR - Error processing report 'Chỉ tiêu kết quả kinh doanh': \"None of [Index(['ticker', 'yearReport', 'lengthReport'], dtype='object')] are in the [columns]\"\n",
      "2025-09-29 00:41:53 - vnstock.common.data.data_explorer - ERROR - Lỗi khi truy xuất dữ liệu income_statement: \"None of [Index(['ticker', 'yearReport', 'lengthReport'], dtype='object')] are in the [columns]\"\n"
     ]
    },
    {
     "name": "stdout",
     "output_type": "stream",
     "text": [
      "err at 1543\n",
      "mined at 1544\n"
     ]
    },
    {
     "name": "stderr",
     "output_type": "stream",
     "text": [
      "2025-09-29 00:42:06 - vnstock.explorer.vci.financial - ERROR - Error processing financial report data: \"None of [Index(['ticker', 'yearReport', 'lengthReport'], dtype='object')] are in the [columns]\"\n",
      "2025-09-29 00:42:06 - vnstock.explorer.vci.financial - ERROR - Error processing report 'Chỉ tiêu kết quả kinh doanh': \"None of [Index(['ticker', 'yearReport', 'lengthReport'], dtype='object')] are in the [columns]\"\n",
      "2025-09-29 00:42:06 - vnstock.common.data.data_explorer - ERROR - Lỗi khi truy xuất dữ liệu income_statement: \"None of [Index(['ticker', 'yearReport', 'lengthReport'], dtype='object')] are in the [columns]\"\n"
     ]
    },
    {
     "name": "stdout",
     "output_type": "stream",
     "text": [
      "err at 1545\n",
      "mined at 1546\n",
      "mined at 1547\n",
      "mined at 1548\n",
      "mined at 1549\n"
     ]
    },
    {
     "name": "stderr",
     "output_type": "stream",
     "text": [
      "2025-09-29 00:42:41 - vnstock.explorer.vci.financial - ERROR - Error processing financial report data: \"None of [Index(['ticker', 'yearReport', 'lengthReport'], dtype='object')] are in the [columns]\"\n",
      "2025-09-29 00:42:41 - vnstock.explorer.vci.financial - ERROR - Error processing report 'Chỉ tiêu kết quả kinh doanh': \"None of [Index(['ticker', 'yearReport', 'lengthReport'], dtype='object')] are in the [columns]\"\n",
      "2025-09-29 00:42:41 - vnstock.common.data.data_explorer - ERROR - Lỗi khi truy xuất dữ liệu income_statement: \"None of [Index(['ticker', 'yearReport', 'lengthReport'], dtype='object')] are in the [columns]\"\n"
     ]
    },
    {
     "name": "stdout",
     "output_type": "stream",
     "text": [
      "err at 1550\n",
      "mined at 1551\n",
      "mined at 1552\n"
     ]
    },
    {
     "name": "stderr",
     "output_type": "stream",
     "text": [
      "Downcasting object dtype arrays on .fillna, .ffill, .bfill is deprecated and will change in a future version. Call result.infer_objects(copy=False) instead. To opt-in to the future behavior, set `pd.set_option('future.no_silent_downcasting', True)`\n"
     ]
    },
    {
     "name": "stdout",
     "output_type": "stream",
     "text": [
      "mined at 1553\n",
      "mined at 1554\n",
      "mined at 1555\n",
      "mined at 1556\n"
     ]
    },
    {
     "name": "stderr",
     "output_type": "stream",
     "text": [
      "2025-09-29 00:43:29 - vnstock.explorer.vci.financial - ERROR - Error processing financial report data: \"None of [Index(['ticker', 'yearReport', 'lengthReport'], dtype='object')] are in the [columns]\"\n",
      "2025-09-29 00:43:29 - vnstock.explorer.vci.financial - ERROR - Error processing report 'Chỉ tiêu kết quả kinh doanh': \"None of [Index(['ticker', 'yearReport', 'lengthReport'], dtype='object')] are in the [columns]\"\n",
      "2025-09-29 00:43:29 - vnstock.common.data.data_explorer - ERROR - Lỗi khi truy xuất dữ liệu income_statement: \"None of [Index(['ticker', 'yearReport', 'lengthReport'], dtype='object')] are in the [columns]\"\n"
     ]
    },
    {
     "name": "stdout",
     "output_type": "stream",
     "text": [
      "err at 1557\n",
      "mined at 1558\n",
      "mined at 1559\n",
      "mined at 1560\n",
      "mined at 1561\n",
      "mined at 1562\n"
     ]
    },
    {
     "name": "stderr",
     "output_type": "stream",
     "text": [
      "2025-09-29 00:44:11 - vnstock.explorer.vci.financial - ERROR - Error processing financial report data: \"None of [Index(['ticker', 'yearReport', 'lengthReport'], dtype='object')] are in the [columns]\"\n",
      "2025-09-29 00:44:11 - vnstock.explorer.vci.financial - ERROR - Error processing report 'Chỉ tiêu kết quả kinh doanh': \"None of [Index(['ticker', 'yearReport', 'lengthReport'], dtype='object')] are in the [columns]\"\n",
      "2025-09-29 00:44:11 - vnstock.common.data.data_explorer - ERROR - Lỗi khi truy xuất dữ liệu income_statement: \"None of [Index(['ticker', 'yearReport', 'lengthReport'], dtype='object')] are in the [columns]\"\n"
     ]
    },
    {
     "name": "stdout",
     "output_type": "stream",
     "text": [
      "err at 1563\n",
      "mined at 1564\n",
      "mined at 1565\n",
      "mined at 1566\n",
      "mined at 1567\n",
      "mined at 1568\n",
      "mined at 1569\n",
      "mined at 1570\n",
      "mined at 1571\n"
     ]
    },
    {
     "name": "stderr",
     "output_type": "stream",
     "text": [
      "2025-09-29 00:45:10 - vnstock.explorer.vci.financial - ERROR - Error processing financial report data: \"None of [Index(['ticker', 'yearReport', 'lengthReport'], dtype='object')] are in the [columns]\"\n",
      "2025-09-29 00:45:10 - vnstock.explorer.vci.financial - ERROR - Error processing report 'Chỉ tiêu kết quả kinh doanh': \"None of [Index(['ticker', 'yearReport', 'lengthReport'], dtype='object')] are in the [columns]\"\n",
      "2025-09-29 00:45:10 - vnstock.common.data.data_explorer - ERROR - Lỗi khi truy xuất dữ liệu income_statement: \"None of [Index(['ticker', 'yearReport', 'lengthReport'], dtype='object')] are in the [columns]\"\n"
     ]
    },
    {
     "name": "stdout",
     "output_type": "stream",
     "text": [
      "err at 1572\n",
      "mined at 1573\n",
      "mined at 1574\n",
      "mined at 1575\n",
      "mined at 1576\n",
      "mined at 1577\n",
      "mined at 1578\n",
      "err at 1579\n",
      "mined at 1580\n",
      "mined at 1581\n",
      "mined at 1582\n",
      "mined at 1583\n",
      "mined at 1584\n",
      "mined at 1585\n",
      "mined at 1586\n"
     ]
    },
    {
     "name": "stderr",
     "output_type": "stream",
     "text": [
      "Downcasting object dtype arrays on .fillna, .ffill, .bfill is deprecated and will change in a future version. Call result.infer_objects(copy=False) instead. To opt-in to the future behavior, set `pd.set_option('future.no_silent_downcasting', True)`\n"
     ]
    },
    {
     "name": "stdout",
     "output_type": "stream",
     "text": [
      "mined at 1587\n"
     ]
    },
    {
     "name": "stderr",
     "output_type": "stream",
     "text": [
      "2025-09-29 00:46:51 - vnstock.explorer.vci.financial - ERROR - Error processing financial report data: \"None of [Index(['ticker', 'yearReport', 'lengthReport'], dtype='object')] are in the [columns]\"\n",
      "2025-09-29 00:46:51 - vnstock.explorer.vci.financial - ERROR - Error processing report 'Chỉ tiêu kết quả kinh doanh': \"None of [Index(['ticker', 'yearReport', 'lengthReport'], dtype='object')] are in the [columns]\"\n",
      "2025-09-29 00:46:51 - vnstock.common.data.data_explorer - ERROR - Lỗi khi truy xuất dữ liệu income_statement: \"None of [Index(['ticker', 'yearReport', 'lengthReport'], dtype='object')] are in the [columns]\"\n"
     ]
    },
    {
     "name": "stdout",
     "output_type": "stream",
     "text": [
      "err at 1588\n",
      "mined at 1589\n",
      "mined at 1590\n"
     ]
    },
    {
     "name": "stderr",
     "output_type": "stream",
     "text": [
      "2025-09-29 00:47:10 - vnstock.explorer.vci.financial - ERROR - Error processing financial report data: \"None of [Index(['ticker', 'yearReport', 'lengthReport'], dtype='object')] are in the [columns]\"\n",
      "2025-09-29 00:47:10 - vnstock.explorer.vci.financial - ERROR - Error processing report 'Chỉ tiêu kết quả kinh doanh': \"None of [Index(['ticker', 'yearReport', 'lengthReport'], dtype='object')] are in the [columns]\"\n",
      "2025-09-29 00:47:10 - vnstock.common.data.data_explorer - ERROR - Lỗi khi truy xuất dữ liệu income_statement: \"None of [Index(['ticker', 'yearReport', 'lengthReport'], dtype='object')] are in the [columns]\"\n"
     ]
    },
    {
     "name": "stdout",
     "output_type": "stream",
     "text": [
      "err at 1591\n",
      "mined at 1592\n"
     ]
    },
    {
     "name": "stderr",
     "output_type": "stream",
     "text": [
      "2025-09-29 00:47:21 - vnstock.explorer.vci.financial - ERROR - Error processing financial report data: \"None of [Index(['ticker', 'yearReport', 'lengthReport'], dtype='object')] are in the [columns]\"\n",
      "2025-09-29 00:47:21 - vnstock.explorer.vci.financial - ERROR - Error processing report 'Chỉ tiêu kết quả kinh doanh': \"None of [Index(['ticker', 'yearReport', 'lengthReport'], dtype='object')] are in the [columns]\"\n",
      "2025-09-29 00:47:21 - vnstock.common.data.data_explorer - ERROR - Lỗi khi truy xuất dữ liệu income_statement: \"None of [Index(['ticker', 'yearReport', 'lengthReport'], dtype='object')] are in the [columns]\"\n"
     ]
    },
    {
     "name": "stdout",
     "output_type": "stream",
     "text": [
      "err at 1593\n",
      "mined at 1594\n",
      "mined at 1595\n"
     ]
    },
    {
     "name": "stderr",
     "output_type": "stream",
     "text": [
      "2025-09-29 00:47:39 - vnstock.explorer.vci.financial - ERROR - Error processing financial report data: \"None of [Index(['ticker', 'yearReport', 'lengthReport'], dtype='object')] are in the [columns]\"\n",
      "2025-09-29 00:47:39 - vnstock.explorer.vci.financial - ERROR - Error processing report 'Chỉ tiêu kết quả kinh doanh': \"None of [Index(['ticker', 'yearReport', 'lengthReport'], dtype='object')] are in the [columns]\"\n",
      "2025-09-29 00:47:39 - vnstock.common.data.data_explorer - ERROR - Lỗi khi truy xuất dữ liệu income_statement: \"None of [Index(['ticker', 'yearReport', 'lengthReport'], dtype='object')] are in the [columns]\"\n"
     ]
    },
    {
     "name": "stdout",
     "output_type": "stream",
     "text": [
      "err at 1596\n"
     ]
    },
    {
     "name": "stderr",
     "output_type": "stream",
     "text": [
      "2025-09-29 00:47:45 - vnstock.explorer.vci.financial - ERROR - Error processing financial report data: \"None of [Index(['ticker', 'yearReport', 'lengthReport'], dtype='object')] are in the [columns]\"\n",
      "2025-09-29 00:47:45 - vnstock.explorer.vci.financial - ERROR - Error processing report 'Chỉ tiêu kết quả kinh doanh': \"None of [Index(['ticker', 'yearReport', 'lengthReport'], dtype='object')] are in the [columns]\"\n",
      "2025-09-29 00:47:45 - vnstock.common.data.data_explorer - ERROR - Lỗi khi truy xuất dữ liệu income_statement: \"None of [Index(['ticker', 'yearReport', 'lengthReport'], dtype='object')] are in the [columns]\"\n"
     ]
    },
    {
     "name": "stdout",
     "output_type": "stream",
     "text": [
      "err at 1597\n"
     ]
    },
    {
     "name": "stderr",
     "output_type": "stream",
     "text": [
      "2025-09-29 00:47:51 - vnstock.explorer.vci.financial - ERROR - Error processing financial report data: \"None of [Index(['ticker', 'yearReport', 'lengthReport'], dtype='object')] are in the [columns]\"\n",
      "2025-09-29 00:47:51 - vnstock.explorer.vci.financial - ERROR - Error processing report 'Chỉ tiêu kết quả kinh doanh': \"None of [Index(['ticker', 'yearReport', 'lengthReport'], dtype='object')] are in the [columns]\"\n",
      "2025-09-29 00:47:51 - vnstock.common.data.data_explorer - ERROR - Lỗi khi truy xuất dữ liệu income_statement: \"None of [Index(['ticker', 'yearReport', 'lengthReport'], dtype='object')] are in the [columns]\"\n"
     ]
    },
    {
     "name": "stdout",
     "output_type": "stream",
     "text": [
      "err at 1598\n",
      "mined at 1599\n",
      "mined at 1600\n"
     ]
    },
    {
     "name": "stderr",
     "output_type": "stream",
     "text": [
      "2025-09-29 00:48:09 - vnstock.explorer.vci.financial - ERROR - Error processing financial report data: \"None of [Index(['ticker', 'yearReport', 'lengthReport'], dtype='object')] are in the [columns]\"\n",
      "2025-09-29 00:48:09 - vnstock.explorer.vci.financial - ERROR - Error processing report 'Chỉ tiêu kết quả kinh doanh': \"None of [Index(['ticker', 'yearReport', 'lengthReport'], dtype='object')] are in the [columns]\"\n",
      "2025-09-29 00:48:09 - vnstock.common.data.data_explorer - ERROR - Lỗi khi truy xuất dữ liệu income_statement: \"None of [Index(['ticker', 'yearReport', 'lengthReport'], dtype='object')] are in the [columns]\"\n"
     ]
    },
    {
     "name": "stdout",
     "output_type": "stream",
     "text": [
      "err at 1601\n",
      "mined at 1602\n",
      "mined at 1603\n"
     ]
    },
    {
     "name": "stderr",
     "output_type": "stream",
     "text": [
      "2025-09-29 00:48:27 - vnstock.explorer.vci.financial - ERROR - Error processing financial report data: \"None of [Index(['ticker', 'yearReport', 'lengthReport'], dtype='object')] are in the [columns]\"\n",
      "2025-09-29 00:48:27 - vnstock.explorer.vci.financial - ERROR - Error processing report 'Chỉ tiêu kết quả kinh doanh': \"None of [Index(['ticker', 'yearReport', 'lengthReport'], dtype='object')] are in the [columns]\"\n",
      "2025-09-29 00:48:27 - vnstock.common.data.data_explorer - ERROR - Lỗi khi truy xuất dữ liệu income_statement: \"None of [Index(['ticker', 'yearReport', 'lengthReport'], dtype='object')] are in the [columns]\"\n"
     ]
    },
    {
     "name": "stdout",
     "output_type": "stream",
     "text": [
      "err at 1604\n",
      "mined at 1605\n"
     ]
    },
    {
     "name": "stderr",
     "output_type": "stream",
     "text": [
      "Downcasting object dtype arrays on .fillna, .ffill, .bfill is deprecated and will change in a future version. Call result.infer_objects(copy=False) instead. To opt-in to the future behavior, set `pd.set_option('future.no_silent_downcasting', True)`\n"
     ]
    },
    {
     "name": "stdout",
     "output_type": "stream",
     "text": [
      "mined at 1606\n"
     ]
    },
    {
     "name": "stderr",
     "output_type": "stream",
     "text": [
      "2025-09-29 00:48:44 - vnstock.explorer.vci.financial - ERROR - Error processing report 'Chỉ tiêu kết quả kinh doanh': Failed to fetch data: 502 - Bad Gateway\n",
      "2025-09-29 00:48:44 - vnstock.common.data.data_explorer - ERROR - Lỗi khi truy xuất dữ liệu income_statement: Failed to fetch data: 502 - Bad Gateway\n"
     ]
    },
    {
     "name": "stdout",
     "output_type": "stream",
     "text": [
      "err at 1607\n",
      "mined at 1608\n",
      "mined at 1609\n"
     ]
    },
    {
     "name": "stderr",
     "output_type": "stream",
     "text": [
      "Downcasting object dtype arrays on .fillna, .ffill, .bfill is deprecated and will change in a future version. Call result.infer_objects(copy=False) instead. To opt-in to the future behavior, set `pd.set_option('future.no_silent_downcasting', True)`\n"
     ]
    },
    {
     "name": "stdout",
     "output_type": "stream",
     "text": [
      "mined at 1610\n",
      "mined at 1611\n"
     ]
    },
    {
     "name": "stderr",
     "output_type": "stream",
     "text": [
      "Downcasting object dtype arrays on .fillna, .ffill, .bfill is deprecated and will change in a future version. Call result.infer_objects(copy=False) instead. To opt-in to the future behavior, set `pd.set_option('future.no_silent_downcasting', True)`\n"
     ]
    },
    {
     "name": "stdout",
     "output_type": "stream",
     "text": [
      "mined at 1612\n",
      "mined at 1613\n"
     ]
    },
    {
     "name": "stderr",
     "output_type": "stream",
     "text": [
      "2025-09-29 00:49:26 - vnstock.explorer.vci.financial - ERROR - Error processing financial report data: \"None of [Index(['ticker', 'yearReport', 'lengthReport'], dtype='object')] are in the [columns]\"\n",
      "2025-09-29 00:49:26 - vnstock.explorer.vci.financial - ERROR - Error processing report 'Chỉ tiêu kết quả kinh doanh': \"None of [Index(['ticker', 'yearReport', 'lengthReport'], dtype='object')] are in the [columns]\"\n",
      "2025-09-29 00:49:26 - vnstock.common.data.data_explorer - ERROR - Lỗi khi truy xuất dữ liệu income_statement: \"None of [Index(['ticker', 'yearReport', 'lengthReport'], dtype='object')] are in the [columns]\"\n"
     ]
    },
    {
     "name": "stdout",
     "output_type": "stream",
     "text": [
      "err at 1614\n"
     ]
    },
    {
     "name": "stderr",
     "output_type": "stream",
     "text": [
      "Downcasting object dtype arrays on .fillna, .ffill, .bfill is deprecated and will change in a future version. Call result.infer_objects(copy=False) instead. To opt-in to the future behavior, set `pd.set_option('future.no_silent_downcasting', True)`\n"
     ]
    },
    {
     "name": "stdout",
     "output_type": "stream",
     "text": [
      "mined at 1615\n",
      "mined at 1616\n",
      "mined at 1617\n",
      "mined at 1618\n",
      "mined at 1619\n",
      "mined at 1620\n"
     ]
    },
    {
     "name": "stderr",
     "output_type": "stream",
     "text": [
      "Downcasting object dtype arrays on .fillna, .ffill, .bfill is deprecated and will change in a future version. Call result.infer_objects(copy=False) instead. To opt-in to the future behavior, set `pd.set_option('future.no_silent_downcasting', True)`\n"
     ]
    },
    {
     "name": "stdout",
     "output_type": "stream",
     "text": [
      "mined at 1621\n",
      "mined at 1622\n",
      "mined at 1623\n",
      "mined at 1624\n",
      "mined at 1625\n",
      "mined at 1626\n"
     ]
    },
    {
     "name": "stderr",
     "output_type": "stream",
     "text": [
      "2025-09-29 00:50:45 - vnstock.explorer.vci.financial - ERROR - Error processing financial report data: \"None of [Index(['ticker', 'yearReport', 'lengthReport'], dtype='object')] are in the [columns]\"\n",
      "2025-09-29 00:50:45 - vnstock.explorer.vci.financial - ERROR - Error processing report 'Chỉ tiêu kết quả kinh doanh': \"None of [Index(['ticker', 'yearReport', 'lengthReport'], dtype='object')] are in the [columns]\"\n",
      "2025-09-29 00:50:45 - vnstock.common.data.data_explorer - ERROR - Lỗi khi truy xuất dữ liệu income_statement: \"None of [Index(['ticker', 'yearReport', 'lengthReport'], dtype='object')] are in the [columns]\"\n"
     ]
    },
    {
     "name": "stdout",
     "output_type": "stream",
     "text": [
      "err at 1627\n",
      "mined at 1628\n"
     ]
    },
    {
     "name": "stderr",
     "output_type": "stream",
     "text": [
      "2025-09-29 00:50:58 - vnstock.explorer.vci.financial - ERROR - Error processing financial report data: \"None of [Index(['ticker', 'yearReport', 'lengthReport'], dtype='object')] are in the [columns]\"\n",
      "2025-09-29 00:50:58 - vnstock.explorer.vci.financial - ERROR - Error processing report 'Chỉ tiêu kết quả kinh doanh': \"None of [Index(['ticker', 'yearReport', 'lengthReport'], dtype='object')] are in the [columns]\"\n",
      "2025-09-29 00:50:58 - vnstock.common.data.data_explorer - ERROR - Lỗi khi truy xuất dữ liệu income_statement: \"None of [Index(['ticker', 'yearReport', 'lengthReport'], dtype='object')] are in the [columns]\"\n"
     ]
    },
    {
     "name": "stdout",
     "output_type": "stream",
     "text": [
      "err at 1629\n"
     ]
    },
    {
     "name": "stderr",
     "output_type": "stream",
     "text": [
      "2025-09-29 00:51:04 - vnstock.explorer.vci.financial - ERROR - Error processing financial report data: \"None of [Index(['ticker', 'yearReport', 'lengthReport'], dtype='object')] are in the [columns]\"\n",
      "2025-09-29 00:51:04 - vnstock.explorer.vci.financial - ERROR - Error processing report 'Chỉ tiêu kết quả kinh doanh': \"None of [Index(['ticker', 'yearReport', 'lengthReport'], dtype='object')] are in the [columns]\"\n",
      "2025-09-29 00:51:04 - vnstock.common.data.data_explorer - ERROR - Lỗi khi truy xuất dữ liệu income_statement: \"None of [Index(['ticker', 'yearReport', 'lengthReport'], dtype='object')] are in the [columns]\"\n"
     ]
    },
    {
     "name": "stdout",
     "output_type": "stream",
     "text": [
      "err at 1630\n",
      "mined at 1631\n",
      "mined at 1632\n",
      "mined at 1633\n",
      "mined at 1634\n",
      "mined at 1635\n"
     ]
    },
    {
     "name": "stderr",
     "output_type": "stream",
     "text": [
      "Downcasting object dtype arrays on .fillna, .ffill, .bfill is deprecated and will change in a future version. Call result.infer_objects(copy=False) instead. To opt-in to the future behavior, set `pd.set_option('future.no_silent_downcasting', True)`\n"
     ]
    },
    {
     "name": "stdout",
     "output_type": "stream",
     "text": [
      "mined at 1636\n",
      "mined at 1637\n"
     ]
    },
    {
     "name": "stderr",
     "output_type": "stream",
     "text": [
      "2025-09-29 00:51:56 - vnstock.explorer.vci.financial - ERROR - Error processing financial report data: \"None of [Index(['ticker', 'yearReport', 'lengthReport'], dtype='object')] are in the [columns]\"\n",
      "2025-09-29 00:51:56 - vnstock.explorer.vci.financial - ERROR - Error processing report 'Chỉ tiêu kết quả kinh doanh': \"None of [Index(['ticker', 'yearReport', 'lengthReport'], dtype='object')] are in the [columns]\"\n",
      "2025-09-29 00:51:56 - vnstock.common.data.data_explorer - ERROR - Lỗi khi truy xuất dữ liệu income_statement: \"None of [Index(['ticker', 'yearReport', 'lengthReport'], dtype='object')] are in the [columns]\"\n"
     ]
    },
    {
     "name": "stdout",
     "output_type": "stream",
     "text": [
      "err at 1638\n",
      "mined at 1639\n",
      "mined at 1640\n"
     ]
    },
    {
     "name": "stderr",
     "output_type": "stream",
     "text": [
      "2025-09-29 00:52:14 - vnstock.explorer.vci.financial - ERROR - Error processing financial report data: \"None of [Index(['ticker', 'yearReport', 'lengthReport'], dtype='object')] are in the [columns]\"\n",
      "2025-09-29 00:52:14 - vnstock.explorer.vci.financial - ERROR - Error processing report 'Chỉ tiêu kết quả kinh doanh': \"None of [Index(['ticker', 'yearReport', 'lengthReport'], dtype='object')] are in the [columns]\"\n",
      "2025-09-29 00:52:14 - vnstock.common.data.data_explorer - ERROR - Lỗi khi truy xuất dữ liệu income_statement: \"None of [Index(['ticker', 'yearReport', 'lengthReport'], dtype='object')] are in the [columns]\"\n"
     ]
    },
    {
     "name": "stdout",
     "output_type": "stream",
     "text": [
      "err at 1641\n",
      "mined at 1642\n",
      "mined at 1643\n",
      "mined at 1644\n",
      "mined at 1645\n",
      "mined at 1646\n",
      "mined at 1647\n",
      "mined at 1648\n",
      "mined at 1649\n",
      "mined at 1650\n",
      "mined at 1651\n",
      "mined at 1652\n",
      "mined at 1653\n",
      "mined at 1654\n",
      "mined at 1655\n",
      "mined at 1656\n",
      "mined at 1657\n",
      "mined at 1658\n",
      "mined at 1659\n",
      "mined at 1660\n",
      "mined at 1661\n",
      "mined at 1662\n"
     ]
    },
    {
     "name": "stderr",
     "output_type": "stream",
     "text": [
      "2025-09-29 00:54:30 - vnstock.explorer.vci.financial - ERROR - Error processing financial report data: \"None of [Index(['ticker', 'yearReport', 'lengthReport'], dtype='object')] are in the [columns]\"\n",
      "2025-09-29 00:54:30 - vnstock.explorer.vci.financial - ERROR - Error processing report 'Chỉ tiêu kết quả kinh doanh': \"None of [Index(['ticker', 'yearReport', 'lengthReport'], dtype='object')] are in the [columns]\"\n",
      "2025-09-29 00:54:30 - vnstock.common.data.data_explorer - ERROR - Lỗi khi truy xuất dữ liệu income_statement: \"None of [Index(['ticker', 'yearReport', 'lengthReport'], dtype='object')] are in the [columns]\"\n"
     ]
    },
    {
     "name": "stdout",
     "output_type": "stream",
     "text": [
      "err at 1663\n",
      "mined at 1664\n",
      "mined at 1665\n"
     ]
    },
    {
     "name": "stderr",
     "output_type": "stream",
     "text": [
      "2025-09-29 00:54:48 - vnstock.explorer.vci.financial - ERROR - Error processing financial report data: \"None of [Index(['ticker', 'yearReport', 'lengthReport'], dtype='object')] are in the [columns]\"\n",
      "2025-09-29 00:54:48 - vnstock.explorer.vci.financial - ERROR - Error processing report 'Chỉ tiêu kết quả kinh doanh': \"None of [Index(['ticker', 'yearReport', 'lengthReport'], dtype='object')] are in the [columns]\"\n",
      "2025-09-29 00:54:48 - vnstock.common.data.data_explorer - ERROR - Lỗi khi truy xuất dữ liệu income_statement: \"None of [Index(['ticker', 'yearReport', 'lengthReport'], dtype='object')] are in the [columns]\"\n"
     ]
    },
    {
     "name": "stdout",
     "output_type": "stream",
     "text": [
      "err at 1666\n",
      "mined at 1667\n",
      "mined at 1668\n",
      "mined at 1669\n",
      "mined at 1670\n",
      "mined at 1671\n",
      "mined at 1672\n",
      "mined at 1673\n",
      "mined at 1674\n",
      "mined at 1675\n",
      "mined at 1676\n",
      "mined at 1677\n",
      "mined at 1678\n",
      "mined at 1679\n",
      "mined at 1680\n",
      "mined at 1681\n",
      "mined at 1682\n",
      "mined at 1683\n"
     ]
    },
    {
     "name": "stderr",
     "output_type": "stream",
     "text": [
      "2025-09-29 00:56:51 - vnstock.explorer.vci.financial - ERROR - Error processing financial report data: \"None of [Index(['ticker', 'yearReport', 'lengthReport'], dtype='object')] are in the [columns]\"\n",
      "2025-09-29 00:56:51 - vnstock.explorer.vci.financial - ERROR - Error processing report 'Chỉ tiêu kết quả kinh doanh': \"None of [Index(['ticker', 'yearReport', 'lengthReport'], dtype='object')] are in the [columns]\"\n",
      "2025-09-29 00:56:51 - vnstock.common.data.data_explorer - ERROR - Lỗi khi truy xuất dữ liệu income_statement: \"None of [Index(['ticker', 'yearReport', 'lengthReport'], dtype='object')] are in the [columns]\"\n"
     ]
    },
    {
     "name": "stdout",
     "output_type": "stream",
     "text": [
      "err at 1684\n",
      "mined at 1685\n",
      "mined at 1686\n",
      "mined at 1687\n",
      "mined at 1688\n",
      "mined at 1689\n",
      "mined at 1690\n"
     ]
    },
    {
     "name": "stderr",
     "output_type": "stream",
     "text": [
      "Downcasting object dtype arrays on .fillna, .ffill, .bfill is deprecated and will change in a future version. Call result.infer_objects(copy=False) instead. To opt-in to the future behavior, set `pd.set_option('future.no_silent_downcasting', True)`\n"
     ]
    },
    {
     "name": "stdout",
     "output_type": "stream",
     "text": [
      "mined at 1691\n",
      "mined at 1692\n",
      "mined at 1693\n",
      "mined at 1694\n",
      "mined at 1695\n",
      "mined at 1696\n",
      "mined at 1697\n"
     ]
    },
    {
     "name": "stderr",
     "output_type": "stream",
     "text": [
      "2025-09-29 00:58:20 - vnstock.explorer.vci.financial - ERROR - Error processing financial report data: \"None of [Index(['ticker', 'yearReport', 'lengthReport'], dtype='object')] are in the [columns]\"\n",
      "2025-09-29 00:58:20 - vnstock.explorer.vci.financial - ERROR - Error processing report 'Chỉ tiêu kết quả kinh doanh': \"None of [Index(['ticker', 'yearReport', 'lengthReport'], dtype='object')] are in the [columns]\"\n",
      "2025-09-29 00:58:20 - vnstock.common.data.data_explorer - ERROR - Lỗi khi truy xuất dữ liệu income_statement: \"None of [Index(['ticker', 'yearReport', 'lengthReport'], dtype='object')] are in the [columns]\"\n"
     ]
    },
    {
     "name": "stdout",
     "output_type": "stream",
     "text": [
      "err at 1698\n",
      "mined at 1699\n",
      "mined at 1700\n",
      "mined at 1701\n"
     ]
    },
    {
     "name": "stderr",
     "output_type": "stream",
     "text": [
      "Downcasting object dtype arrays on .fillna, .ffill, .bfill is deprecated and will change in a future version. Call result.infer_objects(copy=False) instead. To opt-in to the future behavior, set `pd.set_option('future.no_silent_downcasting', True)`\n"
     ]
    },
    {
     "name": "stdout",
     "output_type": "stream",
     "text": [
      "mined at 1702\n",
      "mined at 1703\n",
      "mined at 1704\n",
      "mined at 1705\n",
      "mined at 1706\n",
      "mined at 1707\n",
      "mined at 1708\n",
      "mined at 1709\n",
      "mined at 1710\n",
      "mined at 1711\n",
      "mined at 1712\n",
      "mined at 1713\n",
      "mined at 1714\n",
      "mined at 1715\n",
      "mined at 1716\n",
      "mined at 1717\n"
     ]
    },
    {
     "name": "stderr",
     "output_type": "stream",
     "text": [
      "2025-09-29 01:00:21 - vnstock.explorer.vci.financial - ERROR - Error processing financial report data: \"None of [Index(['ticker', 'yearReport', 'lengthReport'], dtype='object')] are in the [columns]\"\n",
      "2025-09-29 01:00:21 - vnstock.explorer.vci.financial - ERROR - Error processing report 'Chỉ tiêu kết quả kinh doanh': \"None of [Index(['ticker', 'yearReport', 'lengthReport'], dtype='object')] are in the [columns]\"\n",
      "2025-09-29 01:00:21 - vnstock.common.data.data_explorer - ERROR - Lỗi khi truy xuất dữ liệu income_statement: \"None of [Index(['ticker', 'yearReport', 'lengthReport'], dtype='object')] are in the [columns]\"\n"
     ]
    },
    {
     "name": "stdout",
     "output_type": "stream",
     "text": [
      "err at 1718\n",
      "err at 1719\n"
     ]
    }
   ],
   "source": [
    "from vnstock import Vnstock\n",
    "pos = 0\n",
    "for i in range(0,1720):\n",
    "    try:\n",
    "        stock = Vnstock().stock(symbol_list[i], source='VCI')\n",
    "        incomestatementdata = stock.finance.income_statement(period='quarter', lang='en', dropna=True)\n",
    "        incomestatementdata = incomestatementdata[['ticker','yearReport','lengthReport',\"Revenue (Bn. VND)\",\"Profit before tax\"]]\n",
    "        incomestatementdata.columns = ['symbol', 'year', 'quarter', 'revenue','profit']\n",
    "        incomestatementdata.to_csv('incomestatementdata/'+symbol_list[i]+\".csv\", index=False)\n",
    "        pos = i\n",
    "        print(\"mined at\",pos)\n",
    "        time.sleep(5)\n",
    "    except:\n",
    "        pos = i\n",
    "        print(\"err at\", pos)\n",
    "        lsterr.append(pos)\n",
    "        time.sleep(5)\n",
    "# print('current pos',pos)"
   ]
  },
  {
   "cell_type": "code",
   "execution_count": 10,
   "id": "9d958385",
   "metadata": {},
   "outputs": [
    {
     "data": {
      "text/plain": [
       "304"
      ]
     },
     "execution_count": 10,
     "metadata": {},
     "output_type": "execute_result"
    }
   ],
   "source": [
    "len(lsterr)"
   ]
  },
  {
   "cell_type": "code",
   "execution_count": null,
   "id": "120776fd",
   "metadata": {},
   "outputs": [],
   "source": [
    "\n",
    "df = pd.DataFrame(data={\"err\": lsterr})\n",
    "df.to_csv(\"incomestatement_errlst.csv\",index=False)"
   ]
  }
 ],
 "metadata": {
  "kernelspec": {
   "display_name": "dsp391",
   "language": "python",
   "name": "python3"
  },
  "language_info": {
   "codemirror_mode": {
    "name": "ipython",
    "version": 3
   },
   "file_extension": ".py",
   "mimetype": "text/x-python",
   "name": "python",
   "nbconvert_exporter": "python",
   "pygments_lexer": "ipython3",
   "version": "3.13.7"
  }
 },
 "nbformat": 4,
 "nbformat_minor": 5
}
