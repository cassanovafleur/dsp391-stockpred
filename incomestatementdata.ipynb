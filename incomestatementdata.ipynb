{
 "cells": [
  {
   "cell_type": "code",
   "execution_count": null,
   "id": "f5fe5db5",
   "metadata": {},
   "outputs": [],
   "source": [
    "#getting all symbols\n",
    "from vnstock import Listing\n",
    "import time\n",
    "import pandas as pd\n",
    "listing = Listing()\n",
    "symbols = listing.all_symbols()\n",
    "symbol_list = list(symbols['symbol'])\n",
    "symbol_list"
   ]
  },
  {
   "cell_type": "code",
   "execution_count": 7,
   "id": "33c52056",
   "metadata": {},
   "outputs": [],
   "source": [
    "lsterr = []"
   ]
  },
  {
   "cell_type": "code",
   "execution_count": null,
   "id": "d26475cd",
   "metadata": {},
   "outputs": [],
   "source": [
    "from vnstock import Vnstock\n",
    "pos = 0\n",
    "for i in range(0,1720):\n",
    "    try:\n",
    "        stock = Vnstock().stock(symbol_list[i], source='VCI')\n",
    "        incomestatementdata = stock.finance.income_statement(period='quarter', lang='en', dropna=True)\n",
    "        incomestatementdata = incomestatementdata[['ticker','yearReport','lengthReport',\"Revenue (Bn. VND)\",\"Profit before tax\"]]\n",
    "        incomestatementdata.columns = ['symbol', 'year', 'quarter', 'revenue','profit']\n",
    "        incomestatementdata.to_csv('incomestatementdata/'+symbol_list[i]+\".csv\", index=False)\n",
    "        pos = i\n",
    "        print(\"mined at\",pos)\n",
    "        time.sleep(5)\n",
    "    except:\n",
    "        pos = i\n",
    "        print(\"err at\", pos)\n",
    "        lsterr.append(pos)\n",
    "        time.sleep(5)\n",
    "# print('current pos',pos)"
   ]
  },
  {
   "cell_type": "code",
   "execution_count": 10,
   "id": "9d958385",
   "metadata": {},
   "outputs": [
    {
     "data": {
      "text/plain": [
       "304"
      ]
     },
     "execution_count": 10,
     "metadata": {},
     "output_type": "execute_result"
    }
   ],
   "source": [
    "len(lsterr)"
   ]
  },
  {
   "cell_type": "code",
   "execution_count": null,
   "id": "120776fd",
   "metadata": {},
   "outputs": [],
   "source": [
    "\n",
    "df = pd.DataFrame(data={\"err\": lsterr})\n",
    "df.to_csv(\"incomestatement_errlst.csv\",index=False)"
   ]
  }
 ],
 "metadata": {
  "kernelspec": {
   "display_name": "dsp391",
   "language": "python",
   "name": "python3"
  },
  "language_info": {
   "codemirror_mode": {
    "name": "ipython",
    "version": 3
   },
   "file_extension": ".py",
   "mimetype": "text/x-python",
   "name": "python",
   "nbconvert_exporter": "python",
   "pygments_lexer": "ipython3",
   "version": "3.13.7"
  }
 },
 "nbformat": 4,
 "nbformat_minor": 5
}
