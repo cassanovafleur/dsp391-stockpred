{
 "cells": [
  {
   "cell_type": "code",
   "execution_count": null,
   "id": "f5fe5db5",
   "metadata": {},
   "outputs": [],
   "source": [
    "#getting all symbols\n",
    "from vnstock import Listing\n",
    "import time \n",
    "import pandas as pd \n",
    "listing = Listing()\n",
    "symbols = listing.all_symbols()\n",
    "symbol_list = list(symbols['symbol'])\n",
    "symbol_list"
   ]
  },
  {
   "cell_type": "code",
   "execution_count": null,
   "id": "a36ff79d",
   "metadata": {},
   "outputs": [
    {
     "data": {
      "text/plain": [
       "1719"
      ]
     },
     "execution_count": 2,
     "metadata": {},
     "output_type": "execute_result"
    }
   ],
   "source": [
    "len(symbol_list)"
   ]
  },
  {
   "cell_type": "code",
   "execution_count": null,
   "id": "33c52056",
   "metadata": {},
   "outputs": [],
   "source": [
    "lsterr = []\n"
   ]
  },
  {
   "cell_type": "code",
   "execution_count": null,
   "id": "d26475cd",
   "metadata": {},
   "outputs": [],
   "source": [
    "from vnstock import Vnstock\n",
    "pos = 0\n",
    "for i in range(0,len(symbol_list)):\n",
    "    try:\n",
    "        stock = Vnstock().stock(symbol_list[i], source='VCI')\n",
    "        balancesheetdata = stock.finance.balance_sheet(period='quarter', lang='en', dropna=True)\n",
    "        balancesheetdata = balancesheetdata[['ticker','yearReport','lengthReport','TOTAL ASSETS (Bn. VND)','LIABILITIES (Bn. VND)',\"OWNER'S EQUITY(Bn.VND)\",'Cash and cash equivalents (Bn. VND)']]\n",
    "        balancesheetdata.columns = ['symbol', 'year', 'quarter', 'assets','liabilities','equity','cash']\n",
    "        balancesheetdata.to_csv('balancesheetdata/'+symbol_list[i]+\".csv\", index=False)\n",
    "        pos = i\n",
    "        print(\"mined at\",pos)\n",
    "        time.sleep(5)\n",
    "    except:\n",
    "        pos = i\n",
    "        print(\"err at\", pos)\n",
    "        lsterr.append(pos)\n",
    "        time.sleep(5)\n",
    "# print('current pos',pos)"
   ]
  },
  {
   "cell_type": "code",
   "execution_count": 6,
   "id": "120776fd",
   "metadata": {},
   "outputs": [],
   "source": [
    "import pandas as pd \n",
    "df = pd.DataFrame(data={\"err\": lsterr})\n",
    "df.to_csv(\"balancesheetdata_errlst.csv\",index=False)"
   ]
  },
  {
   "cell_type": "code",
   "execution_count": null,
   "id": "e91e2589",
   "metadata": {},
   "outputs": [],
   "source": []
  }
 ],
 "metadata": {
  "kernelspec": {
   "display_name": "dsp391",
   "language": "python",
   "name": "python3"
  },
  "language_info": {
   "codemirror_mode": {
    "name": "ipython",
    "version": 3
   },
   "file_extension": ".py",
   "mimetype": "text/x-python",
   "name": "python",
   "nbconvert_exporter": "python",
   "pygments_lexer": "ipython3",
   "version": "3.13.7"
  }
 },
 "nbformat": 4,
 "nbformat_minor": 5
}
