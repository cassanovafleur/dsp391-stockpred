{
 "cells": [
  {
   "cell_type": "code",
   "execution_count": 1,
   "id": "f5fe5db5",
   "metadata": {},
   "outputs": [
    {
     "data": {
      "text/plain": [
       "['YTC',\n",
       " 'YEG',\n",
       " 'YBM',\n",
       " 'YBC',\n",
       " 'XPH',\n",
       " 'XMP',\n",
       " 'XMD',\n",
       " 'XMC',\n",
       " 'XLV',\n",
       " 'XHC',\n",
       " 'XDH',\n",
       " 'XDC',\n",
       " 'X77',\n",
       " 'X26',\n",
       " 'X20',\n",
       " 'WTC',\n",
       " 'WSS',\n",
       " 'WSB',\n",
       " 'WCS',\n",
       " 'VXT',\n",
       " 'VXP',\n",
       " 'VXB',\n",
       " 'VWS',\n",
       " 'VW3',\n",
       " 'VVS',\n",
       " 'VVN',\n",
       " 'VUA',\n",
       " 'VTZ',\n",
       " 'VTX',\n",
       " 'VTV',\n",
       " 'VTS',\n",
       " 'VTR',\n",
       " 'VTQ',\n",
       " 'VTP',\n",
       " 'VTO',\n",
       " 'VTM',\n",
       " 'VTL',\n",
       " 'VTK',\n",
       " 'VTJ',\n",
       " 'VTI',\n",
       " 'VTH',\n",
       " 'VTG',\n",
       " 'VTE',\n",
       " 'VTD',\n",
       " 'VTC',\n",
       " 'VTB',\n",
       " 'VTA',\n",
       " 'VST',\n",
       " 'VSP',\n",
       " 'VSN',\n",
       " 'VSM',\n",
       " 'VSI',\n",
       " 'VSH',\n",
       " 'VSG',\n",
       " 'VSF',\n",
       " 'VSE',\n",
       " 'VSC',\n",
       " 'VSA',\n",
       " 'VRG',\n",
       " 'VRE',\n",
       " 'VRC',\n",
       " 'VQC',\n",
       " 'VPW',\n",
       " 'VPS',\n",
       " 'VPR',\n",
       " 'VPL',\n",
       " 'VPI',\n",
       " 'VPH',\n",
       " 'VPG',\n",
       " 'VPD',\n",
       " 'VPC',\n",
       " 'VPB',\n",
       " 'VPA',\n",
       " 'VOS',\n",
       " 'VOC',\n",
       " 'VNZ',\n",
       " 'VNY',\n",
       " 'VNX',\n",
       " 'VNT',\n",
       " 'VNS',\n",
       " 'VNR',\n",
       " 'VNP',\n",
       " 'VNM',\n",
       " 'VNL',\n",
       " 'VNI',\n",
       " 'VNH',\n",
       " 'VNG',\n",
       " 'VNF',\n",
       " 'VNE',\n",
       " 'VND',\n",
       " 'VNC',\n",
       " 'VNB',\n",
       " 'VNA',\n",
       " 'VMT',\n",
       " 'VMS',\n",
       " 'VMK',\n",
       " 'VMI',\n",
       " 'VMG',\n",
       " 'VMD',\n",
       " 'VMC',\n",
       " 'VMA',\n",
       " 'VLW',\n",
       " 'VLP',\n",
       " 'VLG',\n",
       " 'VLF',\n",
       " 'VLC',\n",
       " 'VLB',\n",
       " 'VLA',\n",
       " 'VKP',\n",
       " 'VKD',\n",
       " 'VKC',\n",
       " 'VJC',\n",
       " 'VIX',\n",
       " 'VIW',\n",
       " 'VIT',\n",
       " 'VIS',\n",
       " 'VIR',\n",
       " 'VIP',\n",
       " 'VIN',\n",
       " 'VIM',\n",
       " 'VIH',\n",
       " 'VIG',\n",
       " 'VIF',\n",
       " 'VIE',\n",
       " 'VID',\n",
       " 'VIC',\n",
       " 'VIB',\n",
       " 'VHM',\n",
       " 'VHL',\n",
       " 'VHI',\n",
       " 'VHH',\n",
       " 'VHG',\n",
       " 'VHF',\n",
       " 'VHE',\n",
       " 'VHD',\n",
       " 'VHC',\n",
       " 'VGV',\n",
       " 'VGT',\n",
       " 'VGS',\n",
       " 'VGR',\n",
       " 'VGP',\n",
       " 'VGL',\n",
       " 'VGI',\n",
       " 'VGG',\n",
       " 'VGC',\n",
       " 'VFS',\n",
       " 'VFR',\n",
       " 'VFG',\n",
       " 'VFC',\n",
       " 'VET',\n",
       " 'VES',\n",
       " 'VEF',\n",
       " 'VEC',\n",
       " 'VEA',\n",
       " 'VE9',\n",
       " 'VE8',\n",
       " 'VE4',\n",
       " 'VE3',\n",
       " 'VE2',\n",
       " 'VE1',\n",
       " 'VDT',\n",
       " 'VDS',\n",
       " 'VDP',\n",
       " 'VDN',\n",
       " 'VDM',\n",
       " 'VDL',\n",
       " 'VDG',\n",
       " 'VDB',\n",
       " 'VCX',\n",
       " 'VCW',\n",
       " 'VCT',\n",
       " 'VCS',\n",
       " 'VCR',\n",
       " 'VCP',\n",
       " 'VCM',\n",
       " 'VCI',\n",
       " 'VCG',\n",
       " 'VCF',\n",
       " 'VCE',\n",
       " 'VCC',\n",
       " 'VCB',\n",
       " 'VCA',\n",
       " 'VC9',\n",
       " 'VC7',\n",
       " 'VC6',\n",
       " 'VC5',\n",
       " 'VC3',\n",
       " 'VC2',\n",
       " 'VC1',\n",
       " 'VBH',\n",
       " 'VBG',\n",
       " 'VBC',\n",
       " 'VBB',\n",
       " 'VAV',\n",
       " 'VAT',\n",
       " 'VAF',\n",
       " 'VAB',\n",
       " 'V21',\n",
       " 'V15',\n",
       " 'V12',\n",
       " 'V11',\n",
       " 'UXC',\n",
       " 'USD',\n",
       " 'USC',\n",
       " 'UPH',\n",
       " 'UPC',\n",
       " 'UNI',\n",
       " 'UMC',\n",
       " 'UIC',\n",
       " 'UEM',\n",
       " 'UDL',\n",
       " 'UDJ',\n",
       " 'UDC',\n",
       " 'UCT',\n",
       " 'TYA',\n",
       " 'TXM',\n",
       " 'TW3',\n",
       " 'TVW',\n",
       " 'TVT',\n",
       " 'TVS',\n",
       " 'TVP',\n",
       " 'TVN',\n",
       " 'TVM',\n",
       " 'TVH',\n",
       " 'TVG',\n",
       " 'TVD',\n",
       " 'TVC',\n",
       " 'TVB',\n",
       " 'TVA',\n",
       " 'TV6',\n",
       " 'TV4',\n",
       " 'TV3',\n",
       " 'TV2',\n",
       " 'TV1',\n",
       " 'TUG',\n",
       " 'TTZ',\n",
       " 'TTT',\n",
       " 'TTS',\n",
       " 'TTP',\n",
       " 'TTN',\n",
       " 'TTL',\n",
       " 'TTH',\n",
       " 'TTG',\n",
       " 'TTF',\n",
       " 'TTE',\n",
       " 'TTD',\n",
       " 'TTC',\n",
       " 'TTB',\n",
       " 'TTA',\n",
       " 'TT6',\n",
       " 'TST',\n",
       " 'TSJ',\n",
       " 'TSG',\n",
       " 'TSD',\n",
       " 'TSC',\n",
       " 'TSB',\n",
       " 'TSA',\n",
       " 'TS5',\n",
       " 'TS4',\n",
       " 'TS3',\n",
       " 'TRV',\n",
       " 'TRT',\n",
       " 'TRS',\n",
       " 'TRC',\n",
       " 'TRA',\n",
       " 'TR1',\n",
       " 'TQW',\n",
       " 'TQN',\n",
       " 'TPS',\n",
       " 'TPP',\n",
       " 'TPH',\n",
       " 'TPC',\n",
       " 'TPB',\n",
       " 'TOW',\n",
       " 'TOT',\n",
       " 'TOS',\n",
       " 'TOP',\n",
       " 'TNW',\n",
       " 'TNV',\n",
       " 'TNT',\n",
       " 'TNS',\n",
       " 'TNP',\n",
       " 'TNM',\n",
       " 'TNI',\n",
       " 'TNH',\n",
       " 'TNG',\n",
       " 'TNC',\n",
       " 'TNB',\n",
       " 'TNA',\n",
       " 'TN1',\n",
       " 'TMX',\n",
       " 'TMW',\n",
       " 'TMT',\n",
       " 'TMS',\n",
       " 'TMP',\n",
       " 'TMG',\n",
       " 'TMC',\n",
       " 'TMB',\n",
       " 'TLT',\n",
       " 'TLP',\n",
       " 'TLI',\n",
       " 'TLH',\n",
       " 'TLG',\n",
       " 'TLD',\n",
       " 'TL4',\n",
       " 'TKU',\n",
       " 'TKG',\n",
       " 'TKC',\n",
       " 'TKA',\n",
       " 'TJC',\n",
       " 'TIX',\n",
       " 'TIS',\n",
       " 'TIP',\n",
       " 'TIN',\n",
       " 'TIG',\n",
       " 'TIE',\n",
       " 'TID',\n",
       " 'THW',\n",
       " 'THU',\n",
       " 'THT',\n",
       " 'THS',\n",
       " 'THP',\n",
       " 'THN',\n",
       " 'THM',\n",
       " 'THI',\n",
       " 'THG',\n",
       " 'THD',\n",
       " 'THB',\n",
       " 'TH1',\n",
       " 'TGP',\n",
       " 'TGG',\n",
       " 'TFC',\n",
       " 'TET',\n",
       " 'TEL',\n",
       " 'TEG',\n",
       " 'TED',\n",
       " 'TEC',\n",
       " 'TDW',\n",
       " 'TDT',\n",
       " 'TDS',\n",
       " 'TDP',\n",
       " 'TDN',\n",
       " 'TDM',\n",
       " 'TDI',\n",
       " 'TDH',\n",
       " 'TDG',\n",
       " 'TDF',\n",
       " 'TDC',\n",
       " 'TDB',\n",
       " 'TD6',\n",
       " 'TCW',\n",
       " 'TCT',\n",
       " 'TCR',\n",
       " 'TCO',\n",
       " 'TCM',\n",
       " 'TCL',\n",
       " 'TCK',\n",
       " 'TCJ',\n",
       " 'TCI',\n",
       " 'TCH',\n",
       " 'TCD',\n",
       " 'TCB',\n",
       " 'TC6',\n",
       " 'TBX',\n",
       " 'TBW',\n",
       " 'TBT',\n",
       " 'TBR',\n",
       " 'TBH',\n",
       " 'TBD',\n",
       " 'TBC',\n",
       " 'TB8',\n",
       " 'TAW',\n",
       " 'TAR',\n",
       " 'TAP',\n",
       " 'TAN',\n",
       " 'TAL',\n",
       " 'TAG',\n",
       " 'TAC',\n",
       " 'TAB',\n",
       " 'TA9',\n",
       " 'TA6',\n",
       " 'TA3',\n",
       " 'T12',\n",
       " 'SZL',\n",
       " 'SZG',\n",
       " 'SZE',\n",
       " 'SZC',\n",
       " 'SZB',\n",
       " 'SWC',\n",
       " 'SVT',\n",
       " 'SVN',\n",
       " 'SVL',\n",
       " 'SVI',\n",
       " 'SVH',\n",
       " 'SVG',\n",
       " 'SVD',\n",
       " 'SVC',\n",
       " 'STW',\n",
       " 'STT',\n",
       " 'STS',\n",
       " 'STP',\n",
       " 'STL',\n",
       " 'STK',\n",
       " 'STH',\n",
       " 'STG',\n",
       " 'STC',\n",
       " 'STB',\n",
       " 'ST8',\n",
       " 'SSU',\n",
       " 'SSN',\n",
       " 'SSM',\n",
       " 'SSI',\n",
       " 'SSH',\n",
       " 'SSG',\n",
       " 'SSF',\n",
       " 'SSC',\n",
       " 'SSB',\n",
       " 'SRT',\n",
       " 'SRF',\n",
       " 'SRC',\n",
       " 'SRB',\n",
       " 'SRA',\n",
       " 'SQC',\n",
       " 'SPV',\n",
       " 'SPP',\n",
       " 'SPM',\n",
       " 'SPI',\n",
       " 'SPH',\n",
       " 'SPD',\n",
       " 'SPC',\n",
       " 'SPB',\n",
       " 'SPA',\n",
       " 'SP2',\n",
       " 'SON',\n",
       " 'SNZ',\n",
       " 'SNC',\n",
       " 'SMT',\n",
       " 'SMN',\n",
       " 'SMC',\n",
       " 'SMB',\n",
       " 'SMA',\n",
       " 'SLS',\n",
       " 'SLD',\n",
       " 'SKV',\n",
       " 'SKN',\n",
       " 'SKH',\n",
       " 'SKG',\n",
       " 'SJS',\n",
       " 'SJM',\n",
       " 'SJG',\n",
       " 'SJF',\n",
       " 'SJE',\n",
       " 'SJD',\n",
       " 'SJC',\n",
       " 'SJ1',\n",
       " 'SIV',\n",
       " 'SIP',\n",
       " 'SII',\n",
       " 'SIG',\n",
       " 'SID',\n",
       " 'SIC',\n",
       " 'SHX',\n",
       " 'SHS',\n",
       " 'SHP',\n",
       " 'SHN',\n",
       " 'SHI',\n",
       " 'SHG',\n",
       " 'SHE',\n",
       " 'SHC',\n",
       " 'SHB',\n",
       " 'SHA',\n",
       " 'SGT',\n",
       " 'SGS',\n",
       " 'SGR',\n",
       " 'SGP',\n",
       " 'SGO',\n",
       " 'SGN',\n",
       " 'SGI',\n",
       " 'SGH',\n",
       " 'SGD',\n",
       " 'SGC',\n",
       " 'SGB',\n",
       " 'SFN',\n",
       " 'SFI',\n",
       " 'SFG',\n",
       " 'SFC',\n",
       " 'SEP',\n",
       " 'SED',\n",
       " 'SEB',\n",
       " 'SEA',\n",
       " 'SDY',\n",
       " 'SDX',\n",
       " 'SDV',\n",
       " 'SDU',\n",
       " 'SDT',\n",
       " 'SDP',\n",
       " 'SDN',\n",
       " 'SDK',\n",
       " 'SDJ',\n",
       " 'SDH',\n",
       " 'SDG',\n",
       " 'SDD',\n",
       " 'SDC',\n",
       " 'SDB',\n",
       " 'SDA',\n",
       " 'SD9',\n",
       " 'SD8',\n",
       " 'SD7',\n",
       " 'SD6',\n",
       " 'SD5',\n",
       " 'SD4',\n",
       " 'SD3',\n",
       " 'SD2',\n",
       " 'SD1',\n",
       " 'SCY',\n",
       " 'SCV',\n",
       " 'SCS',\n",
       " 'SCR',\n",
       " 'SCO',\n",
       " 'SCL',\n",
       " 'SCJ',\n",
       " 'SCI',\n",
       " 'SCG',\n",
       " 'SCD',\n",
       " 'SCC',\n",
       " 'SCA',\n",
       " 'SC5',\n",
       " 'SBV',\n",
       " 'SBT',\n",
       " 'SBS',\n",
       " 'SBR',\n",
       " 'SBM',\n",
       " 'SBL',\n",
       " 'SBH',\n",
       " 'SBG',\n",
       " 'SBD',\n",
       " 'SBB',\n",
       " 'SBA',\n",
       " 'SB1',\n",
       " 'SAV',\n",
       " 'SAS',\n",
       " 'SAP',\n",
       " 'SAM',\n",
       " 'SAL',\n",
       " 'SAF',\n",
       " 'SAC',\n",
       " 'SAB',\n",
       " 'S99',\n",
       " 'S96',\n",
       " 'S74',\n",
       " 'S72',\n",
       " 'S55',\n",
       " 'S4A',\n",
       " 'S27',\n",
       " 'S12',\n",
       " 'RYG',\n",
       " 'RTB',\n",
       " 'ROS',\n",
       " 'RIC',\n",
       " 'RGC',\n",
       " 'REE',\n",
       " 'RDP',\n",
       " 'RCL',\n",
       " 'RCD',\n",
       " 'RCC',\n",
       " 'RBC',\n",
       " 'RAT',\n",
       " 'RAL',\n",
       " 'QTP',\n",
       " 'QTC',\n",
       " 'QST',\n",
       " 'QSP',\n",
       " 'QPH',\n",
       " 'QNW',\n",
       " 'QNU',\n",
       " 'QNT',\n",
       " 'QNS',\n",
       " 'QNP',\n",
       " 'QNC',\n",
       " 'QLT',\n",
       " 'QLD',\n",
       " 'QHW',\n",
       " 'QHD',\n",
       " 'QCG',\n",
       " 'QCC',\n",
       " 'QBS',\n",
       " 'PYU',\n",
       " 'PXT',\n",
       " 'PXS',\n",
       " 'PXM',\n",
       " 'PXL',\n",
       " 'PXI',\n",
       " 'PXC',\n",
       " 'PXA',\n",
       " 'PX1',\n",
       " 'PWS',\n",
       " 'PWA',\n",
       " 'PVY',\n",
       " 'PVX',\n",
       " 'PVV',\n",
       " 'PVT',\n",
       " 'PVS',\n",
       " 'PVR',\n",
       " 'PVP',\n",
       " 'PVO',\n",
       " 'PVM',\n",
       " 'PVL',\n",
       " 'PVI',\n",
       " 'PVH',\n",
       " 'PVG',\n",
       " 'PVE',\n",
       " 'PVD',\n",
       " 'PVC',\n",
       " 'PVB',\n",
       " 'PVA',\n",
       " 'PV2',\n",
       " 'PTX',\n",
       " 'PTV',\n",
       " 'PTT',\n",
       " 'PTS',\n",
       " 'PTP',\n",
       " 'PTO',\n",
       " 'PTN',\n",
       " 'PTM',\n",
       " 'PTL',\n",
       " 'PTI',\n",
       " 'PTH',\n",
       " 'PTG',\n",
       " 'PTE',\n",
       " 'PTD',\n",
       " 'PTC',\n",
       " 'PTB',\n",
       " 'PSW',\n",
       " 'PSP',\n",
       " 'PSN',\n",
       " 'PSL',\n",
       " 'PSI',\n",
       " 'PSH',\n",
       " 'PSG',\n",
       " 'PSE',\n",
       " 'PSD',\n",
       " 'PSC',\n",
       " 'PSB',\n",
       " 'PRT',\n",
       " 'PRO',\n",
       " 'PRE',\n",
       " 'PRC',\n",
       " 'PQN',\n",
       " 'PPY',\n",
       " 'PPT',\n",
       " 'PPS',\n",
       " 'PPP',\n",
       " 'PPI',\n",
       " 'PPH',\n",
       " 'PPE',\n",
       " 'PPC',\n",
       " 'POW',\n",
       " 'POV',\n",
       " 'POT',\n",
       " 'POS',\n",
       " 'POM',\n",
       " 'POB',\n",
       " 'PNT',\n",
       " 'PNP',\n",
       " 'PNJ',\n",
       " 'PNG',\n",
       " 'PND',\n",
       " 'PNC',\n",
       " 'PMW',\n",
       " 'PMT',\n",
       " 'PMS',\n",
       " 'PMP',\n",
       " 'PMJ',\n",
       " 'PMG',\n",
       " 'PMC',\n",
       " 'PMB',\n",
       " 'PLX',\n",
       " 'PLP',\n",
       " 'PLO',\n",
       " 'PLE',\n",
       " 'PLC',\n",
       " 'PLA',\n",
       " 'PJT',\n",
       " 'PJS',\n",
       " 'PJC',\n",
       " 'PIV',\n",
       " 'PIT',\n",
       " 'PIS',\n",
       " 'PID',\n",
       " 'PIC',\n",
       " 'PIA',\n",
       " 'PHS',\n",
       " 'PHR',\n",
       " 'PHP',\n",
       " 'PHN',\n",
       " 'PHH',\n",
       " 'PHC',\n",
       " 'PGV',\n",
       " 'PGT',\n",
       " 'PGS',\n",
       " 'PGN',\n",
       " 'PGI',\n",
       " 'PGD',\n",
       " 'PGC',\n",
       " 'PGB',\n",
       " 'PFL',\n",
       " 'PET',\n",
       " 'PEQ',\n",
       " 'PEN',\n",
       " 'PEG',\n",
       " 'PEC',\n",
       " 'PDV',\n",
       " 'PDT',\n",
       " 'PDR',\n",
       " 'PDN',\n",
       " 'PDC',\n",
       " 'PDB',\n",
       " 'PCT',\n",
       " 'PCN',\n",
       " 'PCM',\n",
       " 'PCH',\n",
       " 'PCG',\n",
       " 'PCF',\n",
       " 'PCE',\n",
       " 'PCC',\n",
       " 'PC1',\n",
       " 'PBT',\n",
       " 'PBP',\n",
       " 'PBC',\n",
       " 'PAT',\n",
       " 'PAS',\n",
       " 'PAP',\n",
       " 'PAN',\n",
       " 'PAI',\n",
       " 'PAC',\n",
       " 'ORS',\n",
       " 'OPC',\n",
       " 'ONW',\n",
       " 'ONE',\n",
       " 'OIL',\n",
       " 'OGC',\n",
       " 'ODE',\n",
       " 'OCH',\n",
       " 'OCB',\n",
       " 'NXT',\n",
       " 'NWT',\n",
       " 'NVT',\n",
       " 'NVP',\n",
       " 'NVL',\n",
       " 'NVB',\n",
       " 'NUE',\n",
       " 'NTW',\n",
       " 'NTT',\n",
       " 'NTP',\n",
       " 'NTL',\n",
       " 'NTH',\n",
       " 'NTF',\n",
       " 'NTC',\n",
       " 'NTB',\n",
       " 'NT2',\n",
       " 'NST',\n",
       " 'NSS',\n",
       " 'NSL',\n",
       " 'NSH',\n",
       " 'NSG',\n",
       " 'NSC',\n",
       " 'NS3',\n",
       " 'NS2',\n",
       " 'NRC',\n",
       " 'NQT',\n",
       " 'NQN',\n",
       " 'NQB',\n",
       " 'NOS',\n",
       " 'NO1',\n",
       " 'NNT',\n",
       " 'NNQ',\n",
       " 'NNG',\n",
       " 'NNC',\n",
       " 'NLS',\n",
       " 'NLG',\n",
       " 'NKG',\n",
       " 'NJC',\n",
       " 'NHV',\n",
       " 'NHT',\n",
       " 'NHP',\n",
       " 'NHH',\n",
       " 'NHC',\n",
       " 'NHA',\n",
       " 'NGC',\n",
       " 'NFC',\n",
       " 'NET',\n",
       " 'NEM',\n",
       " 'NED',\n",
       " 'NDX',\n",
       " 'NDW',\n",
       " 'NDT',\n",
       " 'NDP',\n",
       " 'NDN',\n",
       " 'NDF',\n",
       " 'NDC',\n",
       " 'ND2',\n",
       " 'NCT',\n",
       " 'NCS',\n",
       " 'NCG',\n",
       " 'NBW',\n",
       " 'NBT',\n",
       " 'NBP',\n",
       " 'NBE',\n",
       " 'NBC',\n",
       " 'NBB',\n",
       " 'NAW',\n",
       " 'NAV',\n",
       " 'NAU',\n",
       " 'NAS',\n",
       " 'NAP',\n",
       " 'NAG',\n",
       " 'NAF',\n",
       " 'NAC',\n",
       " 'NAB',\n",
       " 'MZG',\n",
       " 'MXC',\n",
       " 'MWG',\n",
       " 'MVN',\n",
       " 'MVC',\n",
       " 'MVB',\n",
       " 'MTX',\n",
       " 'MTV',\n",
       " 'MTS',\n",
       " 'MTP',\n",
       " 'MTL',\n",
       " 'MTH',\n",
       " 'MTG',\n",
       " 'MTC',\n",
       " 'MTB',\n",
       " 'MTA',\n",
       " 'MST',\n",
       " 'MSR',\n",
       " 'MSN',\n",
       " 'MSH',\n",
       " 'MSB',\n",
       " 'MRF',\n",
       " 'MQN',\n",
       " 'MQB',\n",
       " 'MPY',\n",
       " 'MPT',\n",
       " 'MPC',\n",
       " 'MND',\n",
       " 'MNB',\n",
       " 'MML',\n",
       " 'MLS',\n",
       " 'MLC',\n",
       " 'MKV',\n",
       " 'MKP',\n",
       " 'MIM',\n",
       " 'MIG',\n",
       " 'MIE',\n",
       " 'MIC',\n",
       " 'MHL',\n",
       " 'MHC',\n",
       " 'MH3',\n",
       " 'MGR',\n",
       " 'MGG',\n",
       " 'MGC',\n",
       " 'MFS',\n",
       " 'MES',\n",
       " 'MEL',\n",
       " 'MEG',\n",
       " 'MEF',\n",
       " 'MED',\n",
       " 'MEC',\n",
       " 'MDG',\n",
       " 'MDF',\n",
       " 'MDC',\n",
       " 'MDA',\n",
       " 'MCP',\n",
       " 'MCO',\n",
       " 'MCM',\n",
       " 'MCI',\n",
       " 'MCH',\n",
       " 'MCG',\n",
       " 'MCF',\n",
       " 'MCD',\n",
       " 'MCC',\n",
       " 'MC3',\n",
       " 'MBT',\n",
       " 'MBS',\n",
       " 'MBN',\n",
       " 'MBG',\n",
       " 'MBB',\n",
       " 'MAS',\n",
       " 'MAC',\n",
       " 'MA1',\n",
       " 'M10',\n",
       " 'LYF',\n",
       " 'LWS',\n",
       " 'LUT',\n",
       " 'LTG',\n",
       " 'LTC',\n",
       " 'LSS',\n",
       " 'LSG',\n",
       " 'LQN',\n",
       " 'LPT',\n",
       " 'LPB',\n",
       " 'LO5',\n",
       " 'LNC',\n",
       " 'LMI',\n",
       " 'LMH',\n",
       " 'LMC',\n",
       " 'LM8',\n",
       " 'LM7',\n",
       " 'LM3',\n",
       " 'LLM',\n",
       " 'LKW',\n",
       " 'LIX',\n",
       " 'LIG',\n",
       " 'LIC',\n",
       " 'LHG',\n",
       " 'LHC',\n",
       " 'LGM',\n",
       " 'LGL',\n",
       " 'LGC',\n",
       " 'LG9',\n",
       " 'LEC',\n",
       " 'LDW',\n",
       " 'LDP',\n",
       " 'LDG',\n",
       " 'LCW',\n",
       " 'LCS',\n",
       " 'LCM',\n",
       " 'LCG',\n",
       " 'LCD',\n",
       " 'LCC',\n",
       " 'LBM',\n",
       " 'LBE',\n",
       " 'LBC',\n",
       " 'LAW',\n",
       " 'LAS',\n",
       " 'LAI',\n",
       " 'LAF',\n",
       " 'L63',\n",
       " 'L62',\n",
       " 'L61',\n",
       " 'L45',\n",
       " 'L44',\n",
       " 'L43',\n",
       " 'L40',\n",
       " 'L35',\n",
       " 'L18',\n",
       " 'L14',\n",
       " 'L12',\n",
       " 'L10',\n",
       " 'KWA',\n",
       " 'KVC',\n",
       " 'KTW',\n",
       " 'KTT',\n",
       " 'KTS',\n",
       " 'KTL',\n",
       " 'KTC',\n",
       " 'KSV',\n",
       " 'KST',\n",
       " 'KSQ',\n",
       " 'KSH',\n",
       " 'KSF',\n",
       " 'KSD',\n",
       " 'KSB',\n",
       " 'KPF',\n",
       " 'KOS',\n",
       " 'KMT',\n",
       " 'KMR',\n",
       " 'KLM',\n",
       " 'KLF',\n",
       " 'KLB',\n",
       " 'KKC',\n",
       " 'KIP',\n",
       " 'KHW',\n",
       " 'KHS',\n",
       " 'KHP',\n",
       " 'KHL',\n",
       " 'KHG',\n",
       " 'KHD',\n",
       " 'KHB',\n",
       " 'KHA',\n",
       " 'KGM',\n",
       " 'KDM',\n",
       " 'KDH',\n",
       " 'KDC',\n",
       " 'KCE',\n",
       " 'KCB',\n",
       " 'KBC',\n",
       " 'KAC',\n",
       " 'JVC',\n",
       " 'JOS',\n",
       " 'IVS',\n",
       " 'ITS',\n",
       " 'ITQ',\n",
       " 'ITD',\n",
       " 'ITC',\n",
       " 'ITA',\n",
       " 'IST',\n",
       " 'ISH',\n",
       " ...]"
      ]
     },
     "execution_count": 1,
     "metadata": {},
     "output_type": "execute_result"
    }
   ],
   "source": [
    "#getting all symbols\n",
    "import pandas as pd\n",
    "from vnstock import Listing\n",
    "listing = Listing()\n",
    "symbols = listing.all_symbols()\n",
    "symbol_list = list(symbols['symbol'])\n",
    "symbol_list"
   ]
  },
  {
   "cell_type": "code",
   "execution_count": 2,
   "id": "a36ff79d",
   "metadata": {},
   "outputs": [
    {
     "data": {
      "text/plain": [
       "1719"
      ]
     },
     "execution_count": 2,
     "metadata": {},
     "output_type": "execute_result"
    }
   ],
   "source": [
    "len(symbol_list)"
   ]
  },
  {
   "cell_type": "code",
   "execution_count": 2,
   "id": "33c52056",
   "metadata": {},
   "outputs": [],
   "source": [
    "lsterr = []"
   ]
  },
  {
   "cell_type": "code",
   "execution_count": 15,
   "id": "c98fe040",
   "metadata": {},
   "outputs": [],
   "source": [
    "import time"
   ]
  },
  {
   "cell_type": "code",
   "execution_count": 17,
   "id": "d26475cd",
   "metadata": {},
   "outputs": [
    {
     "name": "stderr",
     "output_type": "stream",
     "text": [
      "2025-09-28 20:15:34 - vnstock.explorer.vci.financial - ERROR - Error processing financial report data: \"None of [Index(['ticker', 'yearReport', 'lengthReport'], dtype='object')] are in the [columns]\"\n",
      "2025-09-28 20:15:34 - vnstock.explorer.vci.financial - ERROR - Error retrieving financial ratios: \"None of [Index(['ticker', 'yearReport', 'lengthReport'], dtype='object')] are in the [columns]\"\n",
      "2025-09-28 20:15:34 - vnstock.common.data.data_explorer - ERROR - Lỗi khi truy xuất dữ liệu ratio: \"None of [Index(['ticker', 'yearReport', 'lengthReport'], dtype='object')] are in the [columns]\"\n"
     ]
    },
    {
     "name": "stdout",
     "output_type": "stream",
     "text": [
      "err at 1400\n",
      "mined at 1401\n",
      "mined at 1402\n",
      "mined at 1403\n"
     ]
    },
    {
     "name": "stderr",
     "output_type": "stream",
     "text": [
      "2025-09-28 20:16:35 - vnstock.explorer.vci.financial - ERROR - Error processing financial report data: \"None of [Index(['ticker', 'yearReport', 'lengthReport'], dtype='object')] are in the [columns]\"\n",
      "2025-09-28 20:16:35 - vnstock.explorer.vci.financial - ERROR - Error retrieving financial ratios: \"None of [Index(['ticker', 'yearReport', 'lengthReport'], dtype='object')] are in the [columns]\"\n",
      "2025-09-28 20:16:35 - vnstock.common.data.data_explorer - ERROR - Lỗi khi truy xuất dữ liệu ratio: \"None of [Index(['ticker', 'yearReport', 'lengthReport'], dtype='object')] are in the [columns]\"\n"
     ]
    },
    {
     "name": "stdout",
     "output_type": "stream",
     "text": [
      "err at 1404\n"
     ]
    },
    {
     "name": "stderr",
     "output_type": "stream",
     "text": [
      "2025-09-28 20:16:52 - vnstock.explorer.vci.financial - ERROR - Error processing financial report data: \"None of [Index(['ticker', 'yearReport', 'lengthReport'], dtype='object')] are in the [columns]\"\n",
      "2025-09-28 20:16:52 - vnstock.explorer.vci.financial - ERROR - Error retrieving financial ratios: \"None of [Index(['ticker', 'yearReport', 'lengthReport'], dtype='object')] are in the [columns]\"\n",
      "2025-09-28 20:16:52 - vnstock.common.data.data_explorer - ERROR - Lỗi khi truy xuất dữ liệu ratio: \"None of [Index(['ticker', 'yearReport', 'lengthReport'], dtype='object')] are in the [columns]\"\n"
     ]
    },
    {
     "name": "stdout",
     "output_type": "stream",
     "text": [
      "err at 1405\n",
      "mined at 1406\n",
      "mined at 1407\n",
      "mined at 1408\n",
      "mined at 1409\n",
      "mined at 1410\n",
      "mined at 1411\n",
      "mined at 1412\n"
     ]
    },
    {
     "name": "stderr",
     "output_type": "stream",
     "text": [
      "2025-09-28 20:18:10 - vnstock.explorer.vci.financial - ERROR - Error processing financial report data: \"None of [Index(['ticker', 'yearReport', 'lengthReport'], dtype='object')] are in the [columns]\"\n",
      "2025-09-28 20:18:10 - vnstock.explorer.vci.financial - ERROR - Error retrieving financial ratios: \"None of [Index(['ticker', 'yearReport', 'lengthReport'], dtype='object')] are in the [columns]\"\n",
      "2025-09-28 20:18:10 - vnstock.common.data.data_explorer - ERROR - Lỗi khi truy xuất dữ liệu ratio: \"None of [Index(['ticker', 'yearReport', 'lengthReport'], dtype='object')] are in the [columns]\"\n"
     ]
    },
    {
     "name": "stdout",
     "output_type": "stream",
     "text": [
      "err at 1413\n",
      "mined at 1414\n",
      "mined at 1415\n",
      "mined at 1416\n",
      "mined at 1417\n"
     ]
    },
    {
     "name": "stderr",
     "output_type": "stream",
     "text": [
      "2025-09-28 20:19:13 - vnstock.explorer.vci.financial - ERROR - Error processing financial report data: \"None of [Index(['ticker', 'yearReport', 'lengthReport'], dtype='object')] are in the [columns]\"\n",
      "2025-09-28 20:19:13 - vnstock.explorer.vci.financial - ERROR - Error retrieving financial ratios: \"None of [Index(['ticker', 'yearReport', 'lengthReport'], dtype='object')] are in the [columns]\"\n",
      "2025-09-28 20:19:13 - vnstock.common.data.data_explorer - ERROR - Lỗi khi truy xuất dữ liệu ratio: \"None of [Index(['ticker', 'yearReport', 'lengthReport'], dtype='object')] are in the [columns]\"\n"
     ]
    },
    {
     "name": "stdout",
     "output_type": "stream",
     "text": [
      "err at 1418\n",
      "mined at 1419\n",
      "mined at 1420\n",
      "mined at 1421\n",
      "mined at 1422\n",
      "mined at 1423\n",
      "mined at 1424\n",
      "mined at 1425\n",
      "mined at 1426\n",
      "mined at 1427\n"
     ]
    },
    {
     "name": "stderr",
     "output_type": "stream",
     "text": [
      "Downcasting object dtype arrays on .fillna, .ffill, .bfill is deprecated and will change in a future version. Call result.infer_objects(copy=False) instead. To opt-in to the future behavior, set `pd.set_option('future.no_silent_downcasting', True)`\n"
     ]
    },
    {
     "name": "stdout",
     "output_type": "stream",
     "text": [
      "err at 1428\n",
      "mined at 1429\n",
      "mined at 1430\n",
      "mined at 1431\n",
      "mined at 1432\n",
      "mined at 1433\n",
      "mined at 1434\n",
      "err at 1435\n"
     ]
    },
    {
     "name": "stderr",
     "output_type": "stream",
     "text": [
      "2025-09-28 20:21:54 - vnstock.explorer.vci.financial - ERROR - Error processing financial report data: \"None of [Index(['ticker', 'yearReport', 'lengthReport'], dtype='object')] are in the [columns]\"\n",
      "2025-09-28 20:21:54 - vnstock.explorer.vci.financial - ERROR - Error retrieving financial ratios: \"None of [Index(['ticker', 'yearReport', 'lengthReport'], dtype='object')] are in the [columns]\"\n",
      "2025-09-28 20:21:54 - vnstock.common.data.data_explorer - ERROR - Lỗi khi truy xuất dữ liệu ratio: \"None of [Index(['ticker', 'yearReport', 'lengthReport'], dtype='object')] are in the [columns]\"\n"
     ]
    },
    {
     "name": "stdout",
     "output_type": "stream",
     "text": [
      "err at 1436\n",
      "mined at 1437\n",
      "mined at 1438\n",
      "mined at 1439\n",
      "mined at 1440\n",
      "mined at 1441\n",
      "mined at 1442\n",
      "mined at 1443\n",
      "mined at 1444\n",
      "mined at 1445\n",
      "err at 1446\n"
     ]
    },
    {
     "name": "stderr",
     "output_type": "stream",
     "text": [
      "Downcasting object dtype arrays on .fillna, .ffill, .bfill is deprecated and will change in a future version. Call result.infer_objects(copy=False) instead. To opt-in to the future behavior, set `pd.set_option('future.no_silent_downcasting', True)`\n"
     ]
    },
    {
     "name": "stdout",
     "output_type": "stream",
     "text": [
      "mined at 1447\n",
      "mined at 1448\n",
      "mined at 1449\n",
      "mined at 1450\n",
      "mined at 1451\n"
     ]
    },
    {
     "name": "stderr",
     "output_type": "stream",
     "text": [
      "2025-09-28 20:24:11 - vnstock.explorer.vci.financial - ERROR - Error processing financial report data: \"None of [Index(['ticker', 'yearReport', 'lengthReport'], dtype='object')] are in the [columns]\"\n",
      "2025-09-28 20:24:11 - vnstock.explorer.vci.financial - ERROR - Error retrieving financial ratios: \"None of [Index(['ticker', 'yearReport', 'lengthReport'], dtype='object')] are in the [columns]\"\n",
      "2025-09-28 20:24:11 - vnstock.common.data.data_explorer - ERROR - Lỗi khi truy xuất dữ liệu ratio: \"None of [Index(['ticker', 'yearReport', 'lengthReport'], dtype='object')] are in the [columns]\"\n"
     ]
    },
    {
     "name": "stdout",
     "output_type": "stream",
     "text": [
      "err at 1452\n",
      "mined at 1453\n"
     ]
    },
    {
     "name": "stderr",
     "output_type": "stream",
     "text": [
      "2025-09-28 20:24:23 - vnstock.explorer.vci.financial - ERROR - Error processing financial report data: \"None of [Index(['ticker', 'yearReport', 'lengthReport'], dtype='object')] are in the [columns]\"\n",
      "2025-09-28 20:24:23 - vnstock.explorer.vci.financial - ERROR - Error retrieving financial ratios: \"None of [Index(['ticker', 'yearReport', 'lengthReport'], dtype='object')] are in the [columns]\"\n",
      "2025-09-28 20:24:23 - vnstock.common.data.data_explorer - ERROR - Lỗi khi truy xuất dữ liệu ratio: \"None of [Index(['ticker', 'yearReport', 'lengthReport'], dtype='object')] are in the [columns]\"\n"
     ]
    },
    {
     "name": "stdout",
     "output_type": "stream",
     "text": [
      "err at 1454\n"
     ]
    },
    {
     "name": "stderr",
     "output_type": "stream",
     "text": [
      "2025-09-28 20:24:39 - vnstock.explorer.vci.financial - ERROR - Error processing financial report data: \"None of [Index(['ticker', 'yearReport', 'lengthReport'], dtype='object')] are in the [columns]\"\n",
      "2025-09-28 20:24:39 - vnstock.explorer.vci.financial - ERROR - Error retrieving financial ratios: \"None of [Index(['ticker', 'yearReport', 'lengthReport'], dtype='object')] are in the [columns]\"\n",
      "2025-09-28 20:24:39 - vnstock.common.data.data_explorer - ERROR - Lỗi khi truy xuất dữ liệu ratio: \"None of [Index(['ticker', 'yearReport', 'lengthReport'], dtype='object')] are in the [columns]\"\n"
     ]
    },
    {
     "name": "stdout",
     "output_type": "stream",
     "text": [
      "err at 1455\n",
      "mined at 1456\n",
      "mined at 1457\n",
      "mined at 1458\n",
      "mined at 1459\n",
      "mined at 1460\n",
      "mined at 1461\n"
     ]
    },
    {
     "name": "stderr",
     "output_type": "stream",
     "text": [
      "Downcasting object dtype arrays on .fillna, .ffill, .bfill is deprecated and will change in a future version. Call result.infer_objects(copy=False) instead. To opt-in to the future behavior, set `pd.set_option('future.no_silent_downcasting', True)`\n"
     ]
    },
    {
     "name": "stdout",
     "output_type": "stream",
     "text": [
      "mined at 1462\n",
      "mined at 1463\n"
     ]
    },
    {
     "name": "stderr",
     "output_type": "stream",
     "text": [
      "2025-09-28 20:26:21 - vnstock.explorer.vci.financial - ERROR - Error processing financial report data: \"None of [Index(['ticker', 'yearReport', 'lengthReport'], dtype='object')] are in the [columns]\"\n",
      "2025-09-28 20:26:21 - vnstock.explorer.vci.financial - ERROR - Error retrieving financial ratios: \"None of [Index(['ticker', 'yearReport', 'lengthReport'], dtype='object')] are in the [columns]\"\n",
      "2025-09-28 20:26:21 - vnstock.common.data.data_explorer - ERROR - Lỗi khi truy xuất dữ liệu ratio: \"None of [Index(['ticker', 'yearReport', 'lengthReport'], dtype='object')] are in the [columns]\"\n"
     ]
    },
    {
     "name": "stdout",
     "output_type": "stream",
     "text": [
      "err at 1464\n",
      "mined at 1465\n",
      "mined at 1466\n",
      "mined at 1467\n",
      "mined at 1468\n",
      "mined at 1469\n",
      "mined at 1470\n",
      "mined at 1471\n",
      "mined at 1472\n",
      "mined at 1473\n",
      "mined at 1474\n",
      "mined at 1475\n",
      "mined at 1476\n",
      "mined at 1477\n",
      "mined at 1478\n",
      "mined at 1479\n"
     ]
    },
    {
     "name": "stderr",
     "output_type": "stream",
     "text": [
      "2025-09-28 20:28:41 - vnstock.explorer.vci.financial - ERROR - Error processing financial report data: \"None of [Index(['ticker', 'yearReport', 'lengthReport'], dtype='object')] are in the [columns]\"\n",
      "2025-09-28 20:28:41 - vnstock.explorer.vci.financial - ERROR - Error retrieving financial ratios: \"None of [Index(['ticker', 'yearReport', 'lengthReport'], dtype='object')] are in the [columns]\"\n",
      "2025-09-28 20:28:41 - vnstock.common.data.data_explorer - ERROR - Lỗi khi truy xuất dữ liệu ratio: \"None of [Index(['ticker', 'yearReport', 'lengthReport'], dtype='object')] are in the [columns]\"\n"
     ]
    },
    {
     "name": "stdout",
     "output_type": "stream",
     "text": [
      "err at 1480\n"
     ]
    },
    {
     "name": "stderr",
     "output_type": "stream",
     "text": [
      "2025-09-28 20:28:47 - vnstock.explorer.vci.financial - ERROR - Error processing financial report data: \"None of [Index(['ticker', 'yearReport', 'lengthReport'], dtype='object')] are in the [columns]\"\n",
      "2025-09-28 20:28:47 - vnstock.explorer.vci.financial - ERROR - Error retrieving financial ratios: \"None of [Index(['ticker', 'yearReport', 'lengthReport'], dtype='object')] are in the [columns]\"\n",
      "2025-09-28 20:28:47 - vnstock.common.data.data_explorer - ERROR - Lỗi khi truy xuất dữ liệu ratio: \"None of [Index(['ticker', 'yearReport', 'lengthReport'], dtype='object')] are in the [columns]\"\n"
     ]
    },
    {
     "name": "stdout",
     "output_type": "stream",
     "text": [
      "err at 1481\n",
      "mined at 1482\n"
     ]
    },
    {
     "name": "stderr",
     "output_type": "stream",
     "text": [
      "2025-09-28 20:29:06 - vnstock.explorer.vci.financial - ERROR - Error processing financial report data: \"None of [Index(['ticker', 'yearReport', 'lengthReport'], dtype='object')] are in the [columns]\"\n",
      "2025-09-28 20:29:06 - vnstock.explorer.vci.financial - ERROR - Error retrieving financial ratios: \"None of [Index(['ticker', 'yearReport', 'lengthReport'], dtype='object')] are in the [columns]\"\n",
      "2025-09-28 20:29:06 - vnstock.common.data.data_explorer - ERROR - Lỗi khi truy xuất dữ liệu ratio: \"None of [Index(['ticker', 'yearReport', 'lengthReport'], dtype='object')] are in the [columns]\"\n"
     ]
    },
    {
     "name": "stdout",
     "output_type": "stream",
     "text": [
      "err at 1483\n",
      "mined at 1484\n",
      "mined at 1485\n"
     ]
    },
    {
     "name": "stderr",
     "output_type": "stream",
     "text": [
      "Downcasting object dtype arrays on .fillna, .ffill, .bfill is deprecated and will change in a future version. Call result.infer_objects(copy=False) instead. To opt-in to the future behavior, set `pd.set_option('future.no_silent_downcasting', True)`\n"
     ]
    },
    {
     "name": "stdout",
     "output_type": "stream",
     "text": [
      "mined at 1486\n",
      "mined at 1487\n"
     ]
    },
    {
     "name": "stderr",
     "output_type": "stream",
     "text": [
      "2025-09-28 20:29:52 - vnstock.explorer.vci.financial - ERROR - Error processing financial report data: \"None of [Index(['ticker', 'yearReport', 'lengthReport'], dtype='object')] are in the [columns]\"\n",
      "2025-09-28 20:29:52 - vnstock.explorer.vci.financial - ERROR - Error retrieving financial ratios: \"None of [Index(['ticker', 'yearReport', 'lengthReport'], dtype='object')] are in the [columns]\"\n",
      "2025-09-28 20:29:52 - vnstock.common.data.data_explorer - ERROR - Lỗi khi truy xuất dữ liệu ratio: \"None of [Index(['ticker', 'yearReport', 'lengthReport'], dtype='object')] are in the [columns]\"\n"
     ]
    },
    {
     "name": "stdout",
     "output_type": "stream",
     "text": [
      "err at 1488\n"
     ]
    },
    {
     "name": "stderr",
     "output_type": "stream",
     "text": [
      "Downcasting object dtype arrays on .fillna, .ffill, .bfill is deprecated and will change in a future version. Call result.infer_objects(copy=False) instead. To opt-in to the future behavior, set `pd.set_option('future.no_silent_downcasting', True)`\n"
     ]
    },
    {
     "name": "stdout",
     "output_type": "stream",
     "text": [
      "mined at 1489\n",
      "mined at 1490\n"
     ]
    },
    {
     "name": "stderr",
     "output_type": "stream",
     "text": [
      "2025-09-28 20:30:17 - vnstock.explorer.vci.financial - ERROR - Error processing financial report data: \"None of [Index(['ticker', 'yearReport', 'lengthReport'], dtype='object')] are in the [columns]\"\n",
      "2025-09-28 20:30:17 - vnstock.explorer.vci.financial - ERROR - Error retrieving financial ratios: \"None of [Index(['ticker', 'yearReport', 'lengthReport'], dtype='object')] are in the [columns]\"\n",
      "2025-09-28 20:30:17 - vnstock.common.data.data_explorer - ERROR - Lỗi khi truy xuất dữ liệu ratio: \"None of [Index(['ticker', 'yearReport', 'lengthReport'], dtype='object')] are in the [columns]\"\n"
     ]
    },
    {
     "name": "stdout",
     "output_type": "stream",
     "text": [
      "err at 1491\n"
     ]
    },
    {
     "name": "stderr",
     "output_type": "stream",
     "text": [
      "2025-09-28 20:30:33 - vnstock.explorer.vci.financial - ERROR - Error processing financial report data: \"None of [Index(['ticker', 'yearReport', 'lengthReport'], dtype='object')] are in the [columns]\"\n",
      "2025-09-28 20:30:33 - vnstock.explorer.vci.financial - ERROR - Error retrieving financial ratios: \"None of [Index(['ticker', 'yearReport', 'lengthReport'], dtype='object')] are in the [columns]\"\n",
      "2025-09-28 20:30:33 - vnstock.common.data.data_explorer - ERROR - Lỗi khi truy xuất dữ liệu ratio: \"None of [Index(['ticker', 'yearReport', 'lengthReport'], dtype='object')] are in the [columns]\"\n"
     ]
    },
    {
     "name": "stdout",
     "output_type": "stream",
     "text": [
      "err at 1492\n"
     ]
    },
    {
     "name": "stderr",
     "output_type": "stream",
     "text": [
      "2025-09-28 20:30:40 - vnstock.explorer.vci.financial - ERROR - Error processing financial report data: \"None of [Index(['ticker', 'yearReport', 'lengthReport'], dtype='object')] are in the [columns]\"\n",
      "2025-09-28 20:30:40 - vnstock.explorer.vci.financial - ERROR - Error retrieving financial ratios: \"None of [Index(['ticker', 'yearReport', 'lengthReport'], dtype='object')] are in the [columns]\"\n",
      "2025-09-28 20:30:40 - vnstock.common.data.data_explorer - ERROR - Lỗi khi truy xuất dữ liệu ratio: \"None of [Index(['ticker', 'yearReport', 'lengthReport'], dtype='object')] are in the [columns]\"\n"
     ]
    },
    {
     "name": "stdout",
     "output_type": "stream",
     "text": [
      "err at 1493\n"
     ]
    },
    {
     "name": "stderr",
     "output_type": "stream",
     "text": [
      "2025-09-28 20:30:46 - vnstock.explorer.vci.financial - ERROR - Error processing financial report data: \"None of [Index(['ticker', 'yearReport', 'lengthReport'], dtype='object')] are in the [columns]\"\n",
      "2025-09-28 20:30:46 - vnstock.explorer.vci.financial - ERROR - Error retrieving financial ratios: \"None of [Index(['ticker', 'yearReport', 'lengthReport'], dtype='object')] are in the [columns]\"\n",
      "2025-09-28 20:30:46 - vnstock.common.data.data_explorer - ERROR - Lỗi khi truy xuất dữ liệu ratio: \"None of [Index(['ticker', 'yearReport', 'lengthReport'], dtype='object')] are in the [columns]\"\n"
     ]
    },
    {
     "name": "stdout",
     "output_type": "stream",
     "text": [
      "err at 1494\n",
      "mined at 1495\n"
     ]
    },
    {
     "name": "stderr",
     "output_type": "stream",
     "text": [
      "2025-09-28 20:31:13 - vnstock.explorer.vci.financial - ERROR - Error processing financial report data: \"None of [Index(['ticker', 'yearReport', 'lengthReport'], dtype='object')] are in the [columns]\"\n",
      "2025-09-28 20:31:13 - vnstock.explorer.vci.financial - ERROR - Error retrieving financial ratios: \"None of [Index(['ticker', 'yearReport', 'lengthReport'], dtype='object')] are in the [columns]\"\n",
      "2025-09-28 20:31:13 - vnstock.common.data.data_explorer - ERROR - Lỗi khi truy xuất dữ liệu ratio: \"None of [Index(['ticker', 'yearReport', 'lengthReport'], dtype='object')] are in the [columns]\"\n"
     ]
    },
    {
     "name": "stdout",
     "output_type": "stream",
     "text": [
      "err at 1496\n",
      "mined at 1497\n",
      "mined at 1498\n",
      "mined at 1499\n"
     ]
    },
    {
     "name": "stderr",
     "output_type": "stream",
     "text": [
      "2025-09-28 20:31:38 - vnstock.explorer.vci.financial - ERROR - Error processing financial report data: \"None of [Index(['ticker', 'yearReport', 'lengthReport'], dtype='object')] are in the [columns]\"\n",
      "2025-09-28 20:31:38 - vnstock.explorer.vci.financial - ERROR - Error retrieving financial ratios: \"None of [Index(['ticker', 'yearReport', 'lengthReport'], dtype='object')] are in the [columns]\"\n",
      "2025-09-28 20:31:38 - vnstock.common.data.data_explorer - ERROR - Lỗi khi truy xuất dữ liệu ratio: \"None of [Index(['ticker', 'yearReport', 'lengthReport'], dtype='object')] are in the [columns]\"\n"
     ]
    },
    {
     "name": "stdout",
     "output_type": "stream",
     "text": [
      "err at 1500\n",
      "mined at 1501\n"
     ]
    },
    {
     "name": "stderr",
     "output_type": "stream",
     "text": [
      "2025-09-28 20:31:52 - vnstock.explorer.vci.financial - ERROR - Error processing financial report data: \"None of [Index(['ticker', 'yearReport', 'lengthReport'], dtype='object')] are in the [columns]\"\n",
      "2025-09-28 20:31:52 - vnstock.explorer.vci.financial - ERROR - Error retrieving financial ratios: \"None of [Index(['ticker', 'yearReport', 'lengthReport'], dtype='object')] are in the [columns]\"\n",
      "2025-09-28 20:31:52 - vnstock.common.data.data_explorer - ERROR - Lỗi khi truy xuất dữ liệu ratio: \"None of [Index(['ticker', 'yearReport', 'lengthReport'], dtype='object')] are in the [columns]\"\n"
     ]
    },
    {
     "name": "stdout",
     "output_type": "stream",
     "text": [
      "err at 1502\n"
     ]
    },
    {
     "name": "stderr",
     "output_type": "stream",
     "text": [
      "2025-09-28 20:31:58 - vnstock.explorer.vci.financial - ERROR - Error processing financial report data: \"None of [Index(['ticker', 'yearReport', 'lengthReport'], dtype='object')] are in the [columns]\"\n",
      "2025-09-28 20:31:58 - vnstock.explorer.vci.financial - ERROR - Error retrieving financial ratios: \"None of [Index(['ticker', 'yearReport', 'lengthReport'], dtype='object')] are in the [columns]\"\n",
      "2025-09-28 20:31:58 - vnstock.common.data.data_explorer - ERROR - Lỗi khi truy xuất dữ liệu ratio: \"None of [Index(['ticker', 'yearReport', 'lengthReport'], dtype='object')] are in the [columns]\"\n"
     ]
    },
    {
     "name": "stdout",
     "output_type": "stream",
     "text": [
      "err at 1503\n",
      "mined at 1504\n"
     ]
    },
    {
     "name": "stderr",
     "output_type": "stream",
     "text": [
      "Downcasting object dtype arrays on .fillna, .ffill, .bfill is deprecated and will change in a future version. Call result.infer_objects(copy=False) instead. To opt-in to the future behavior, set `pd.set_option('future.no_silent_downcasting', True)`\n"
     ]
    },
    {
     "name": "stdout",
     "output_type": "stream",
     "text": [
      "mined at 1505\n",
      "mined at 1506\n"
     ]
    },
    {
     "name": "stderr",
     "output_type": "stream",
     "text": [
      "2025-09-28 20:32:35 - vnstock.explorer.vci.financial - ERROR - Error processing financial report data: \"None of [Index(['ticker', 'yearReport', 'lengthReport'], dtype='object')] are in the [columns]\"\n",
      "2025-09-28 20:32:35 - vnstock.explorer.vci.financial - ERROR - Error retrieving financial ratios: \"None of [Index(['ticker', 'yearReport', 'lengthReport'], dtype='object')] are in the [columns]\"\n",
      "2025-09-28 20:32:35 - vnstock.common.data.data_explorer - ERROR - Lỗi khi truy xuất dữ liệu ratio: \"None of [Index(['ticker', 'yearReport', 'lengthReport'], dtype='object')] are in the [columns]\"\n"
     ]
    },
    {
     "name": "stdout",
     "output_type": "stream",
     "text": [
      "err at 1507\n"
     ]
    },
    {
     "name": "stderr",
     "output_type": "stream",
     "text": [
      "Downcasting object dtype arrays on .fillna, .ffill, .bfill is deprecated and will change in a future version. Call result.infer_objects(copy=False) instead. To opt-in to the future behavior, set `pd.set_option('future.no_silent_downcasting', True)`\n"
     ]
    },
    {
     "name": "stdout",
     "output_type": "stream",
     "text": [
      "err at 1508\n",
      "mined at 1509\n"
     ]
    },
    {
     "name": "stderr",
     "output_type": "stream",
     "text": [
      "2025-09-28 20:33:25 - vnstock.explorer.vci.financial - ERROR - Error processing financial report data: \"None of [Index(['ticker', 'yearReport', 'lengthReport'], dtype='object')] are in the [columns]\"\n",
      "2025-09-28 20:33:25 - vnstock.explorer.vci.financial - ERROR - Error retrieving financial ratios: \"None of [Index(['ticker', 'yearReport', 'lengthReport'], dtype='object')] are in the [columns]\"\n",
      "2025-09-28 20:33:25 - vnstock.common.data.data_explorer - ERROR - Lỗi khi truy xuất dữ liệu ratio: \"None of [Index(['ticker', 'yearReport', 'lengthReport'], dtype='object')] are in the [columns]\"\n"
     ]
    },
    {
     "name": "stdout",
     "output_type": "stream",
     "text": [
      "err at 1510\n",
      "mined at 1511\n",
      "mined at 1512\n",
      "mined at 1513\n",
      "mined at 1514\n",
      "mined at 1515\n",
      "mined at 1516\n",
      "mined at 1517\n",
      "mined at 1518\n",
      "mined at 1519\n",
      "mined at 1520\n"
     ]
    },
    {
     "name": "stderr",
     "output_type": "stream",
     "text": [
      "2025-09-28 20:35:06 - vnstock.explorer.vci.financial - ERROR - Error processing financial report data: \"None of [Index(['ticker', 'yearReport', 'lengthReport'], dtype='object')] are in the [columns]\"\n",
      "2025-09-28 20:35:06 - vnstock.explorer.vci.financial - ERROR - Error retrieving financial ratios: \"None of [Index(['ticker', 'yearReport', 'lengthReport'], dtype='object')] are in the [columns]\"\n",
      "2025-09-28 20:35:06 - vnstock.common.data.data_explorer - ERROR - Lỗi khi truy xuất dữ liệu ratio: \"None of [Index(['ticker', 'yearReport', 'lengthReport'], dtype='object')] are in the [columns]\"\n"
     ]
    },
    {
     "name": "stdout",
     "output_type": "stream",
     "text": [
      "err at 1521\n",
      "mined at 1522\n",
      "mined at 1523\n"
     ]
    },
    {
     "name": "stderr",
     "output_type": "stream",
     "text": [
      "2025-09-28 20:35:31 - vnstock.explorer.vci.financial - ERROR - Error processing financial report data: \"None of [Index(['ticker', 'yearReport', 'lengthReport'], dtype='object')] are in the [columns]\"\n",
      "2025-09-28 20:35:31 - vnstock.explorer.vci.financial - ERROR - Error retrieving financial ratios: \"None of [Index(['ticker', 'yearReport', 'lengthReport'], dtype='object')] are in the [columns]\"\n",
      "2025-09-28 20:35:31 - vnstock.common.data.data_explorer - ERROR - Lỗi khi truy xuất dữ liệu ratio: \"None of [Index(['ticker', 'yearReport', 'lengthReport'], dtype='object')] are in the [columns]\"\n"
     ]
    },
    {
     "name": "stdout",
     "output_type": "stream",
     "text": [
      "err at 1524\n",
      "mined at 1525\n",
      "mined at 1526\n",
      "mined at 1527\n",
      "mined at 1528\n",
      "mined at 1529\n",
      "mined at 1530\n",
      "mined at 1531\n",
      "mined at 1532\n",
      "mined at 1533\n",
      "mined at 1534\n",
      "mined at 1535\n"
     ]
    },
    {
     "name": "stderr",
     "output_type": "stream",
     "text": [
      "2025-09-28 20:37:24 - vnstock.explorer.vci.financial - ERROR - Error processing financial report data: \"None of [Index(['ticker', 'yearReport', 'lengthReport'], dtype='object')] are in the [columns]\"\n",
      "2025-09-28 20:37:24 - vnstock.explorer.vci.financial - ERROR - Error retrieving financial ratios: \"None of [Index(['ticker', 'yearReport', 'lengthReport'], dtype='object')] are in the [columns]\"\n",
      "2025-09-28 20:37:24 - vnstock.common.data.data_explorer - ERROR - Lỗi khi truy xuất dữ liệu ratio: \"None of [Index(['ticker', 'yearReport', 'lengthReport'], dtype='object')] are in the [columns]\"\n"
     ]
    },
    {
     "name": "stdout",
     "output_type": "stream",
     "text": [
      "err at 1536\n",
      "mined at 1537\n"
     ]
    },
    {
     "name": "stderr",
     "output_type": "stream",
     "text": [
      "2025-09-28 20:37:36 - vnstock.explorer.vci.financial - ERROR - Error processing financial report data: \"None of [Index(['ticker', 'yearReport', 'lengthReport'], dtype='object')] are in the [columns]\"\n",
      "2025-09-28 20:37:36 - vnstock.explorer.vci.financial - ERROR - Error retrieving financial ratios: \"None of [Index(['ticker', 'yearReport', 'lengthReport'], dtype='object')] are in the [columns]\"\n",
      "2025-09-28 20:37:36 - vnstock.common.data.data_explorer - ERROR - Lỗi khi truy xuất dữ liệu ratio: \"None of [Index(['ticker', 'yearReport', 'lengthReport'], dtype='object')] are in the [columns]\"\n"
     ]
    },
    {
     "name": "stdout",
     "output_type": "stream",
     "text": [
      "err at 1538\n",
      "err at 1539\n",
      "mined at 1540\n",
      "mined at 1541\n",
      "mined at 1542\n"
     ]
    },
    {
     "name": "stderr",
     "output_type": "stream",
     "text": [
      "2025-09-28 20:38:37 - vnstock.explorer.vci.financial - ERROR - Error processing financial report data: \"None of [Index(['ticker', 'yearReport', 'lengthReport'], dtype='object')] are in the [columns]\"\n",
      "2025-09-28 20:38:37 - vnstock.explorer.vci.financial - ERROR - Error retrieving financial ratios: \"None of [Index(['ticker', 'yearReport', 'lengthReport'], dtype='object')] are in the [columns]\"\n",
      "2025-09-28 20:38:37 - vnstock.common.data.data_explorer - ERROR - Lỗi khi truy xuất dữ liệu ratio: \"None of [Index(['ticker', 'yearReport', 'lengthReport'], dtype='object')] are in the [columns]\"\n"
     ]
    },
    {
     "name": "stdout",
     "output_type": "stream",
     "text": [
      "err at 1543\n",
      "mined at 1544\n"
     ]
    },
    {
     "name": "stderr",
     "output_type": "stream",
     "text": [
      "2025-09-28 20:38:49 - vnstock.explorer.vci.financial - ERROR - Error processing financial report data: \"None of [Index(['ticker', 'yearReport', 'lengthReport'], dtype='object')] are in the [columns]\"\n",
      "2025-09-28 20:38:49 - vnstock.explorer.vci.financial - ERROR - Error retrieving financial ratios: \"None of [Index(['ticker', 'yearReport', 'lengthReport'], dtype='object')] are in the [columns]\"\n",
      "2025-09-28 20:38:49 - vnstock.common.data.data_explorer - ERROR - Lỗi khi truy xuất dữ liệu ratio: \"None of [Index(['ticker', 'yearReport', 'lengthReport'], dtype='object')] are in the [columns]\"\n"
     ]
    },
    {
     "name": "stdout",
     "output_type": "stream",
     "text": [
      "err at 1545\n",
      "mined at 1546\n"
     ]
    },
    {
     "name": "stderr",
     "output_type": "stream",
     "text": [
      "Downcasting object dtype arrays on .fillna, .ffill, .bfill is deprecated and will change in a future version. Call result.infer_objects(copy=False) instead. To opt-in to the future behavior, set `pd.set_option('future.no_silent_downcasting', True)`\n"
     ]
    },
    {
     "name": "stdout",
     "output_type": "stream",
     "text": [
      "mined at 1547\n",
      "mined at 1548\n"
     ]
    },
    {
     "name": "stderr",
     "output_type": "stream",
     "text": [
      "Downcasting object dtype arrays on .fillna, .ffill, .bfill is deprecated and will change in a future version. Call result.infer_objects(copy=False) instead. To opt-in to the future behavior, set `pd.set_option('future.no_silent_downcasting', True)`\n"
     ]
    },
    {
     "name": "stdout",
     "output_type": "stream",
     "text": [
      "err at 1549\n"
     ]
    },
    {
     "name": "stderr",
     "output_type": "stream",
     "text": [
      "2025-09-28 20:39:57 - vnstock.explorer.vci.financial - ERROR - Error processing financial report data: \"None of [Index(['ticker', 'yearReport', 'lengthReport'], dtype='object')] are in the [columns]\"\n",
      "2025-09-28 20:39:57 - vnstock.explorer.vci.financial - ERROR - Error retrieving financial ratios: \"None of [Index(['ticker', 'yearReport', 'lengthReport'], dtype='object')] are in the [columns]\"\n",
      "2025-09-28 20:39:57 - vnstock.common.data.data_explorer - ERROR - Lỗi khi truy xuất dữ liệu ratio: \"None of [Index(['ticker', 'yearReport', 'lengthReport'], dtype='object')] are in the [columns]\"\n"
     ]
    },
    {
     "name": "stdout",
     "output_type": "stream",
     "text": [
      "err at 1550\n",
      "mined at 1551\n",
      "mined at 1552\n"
     ]
    },
    {
     "name": "stderr",
     "output_type": "stream",
     "text": [
      "Downcasting object dtype arrays on .fillna, .ffill, .bfill is deprecated and will change in a future version. Call result.infer_objects(copy=False) instead. To opt-in to the future behavior, set `pd.set_option('future.no_silent_downcasting', True)`\n"
     ]
    },
    {
     "name": "stdout",
     "output_type": "stream",
     "text": [
      "err at 1553\n",
      "mined at 1554\n",
      "mined at 1555\n",
      "mined at 1556\n"
     ]
    },
    {
     "name": "stderr",
     "output_type": "stream",
     "text": [
      "2025-09-28 20:41:01 - vnstock.explorer.vci.financial - ERROR - Error processing financial report data: \"None of [Index(['ticker', 'yearReport', 'lengthReport'], dtype='object')] are in the [columns]\"\n",
      "2025-09-28 20:41:01 - vnstock.explorer.vci.financial - ERROR - Error retrieving financial ratios: \"None of [Index(['ticker', 'yearReport', 'lengthReport'], dtype='object')] are in the [columns]\"\n",
      "2025-09-28 20:41:01 - vnstock.common.data.data_explorer - ERROR - Lỗi khi truy xuất dữ liệu ratio: \"None of [Index(['ticker', 'yearReport', 'lengthReport'], dtype='object')] are in the [columns]\"\n"
     ]
    },
    {
     "name": "stdout",
     "output_type": "stream",
     "text": [
      "err at 1557\n",
      "mined at 1558\n"
     ]
    },
    {
     "name": "stderr",
     "output_type": "stream",
     "text": [
      "Downcasting object dtype arrays on .fillna, .ffill, .bfill is deprecated and will change in a future version. Call result.infer_objects(copy=False) instead. To opt-in to the future behavior, set `pd.set_option('future.no_silent_downcasting', True)`\n"
     ]
    },
    {
     "name": "stdout",
     "output_type": "stream",
     "text": [
      "mined at 1559\n",
      "mined at 1560\n",
      "mined at 1561\n",
      "mined at 1562\n"
     ]
    },
    {
     "name": "stderr",
     "output_type": "stream",
     "text": [
      "2025-09-28 20:41:42 - vnstock.explorer.vci.financial - ERROR - Error processing financial report data: \"None of [Index(['ticker', 'yearReport', 'lengthReport'], dtype='object')] are in the [columns]\"\n",
      "2025-09-28 20:41:42 - vnstock.explorer.vci.financial - ERROR - Error retrieving financial ratios: \"None of [Index(['ticker', 'yearReport', 'lengthReport'], dtype='object')] are in the [columns]\"\n",
      "2025-09-28 20:41:42 - vnstock.common.data.data_explorer - ERROR - Lỗi khi truy xuất dữ liệu ratio: \"None of [Index(['ticker', 'yearReport', 'lengthReport'], dtype='object')] are in the [columns]\"\n"
     ]
    },
    {
     "name": "stdout",
     "output_type": "stream",
     "text": [
      "err at 1563\n",
      "mined at 1564\n",
      "mined at 1565\n",
      "mined at 1566\n",
      "mined at 1567\n",
      "mined at 1568\n",
      "mined at 1569\n",
      "mined at 1570\n",
      "mined at 1571\n"
     ]
    },
    {
     "name": "stderr",
     "output_type": "stream",
     "text": [
      "2025-09-28 20:43:06 - vnstock.explorer.vci.financial - ERROR - Error processing financial report data: \"None of [Index(['ticker', 'yearReport', 'lengthReport'], dtype='object')] are in the [columns]\"\n",
      "2025-09-28 20:43:06 - vnstock.explorer.vci.financial - ERROR - Error retrieving financial ratios: \"None of [Index(['ticker', 'yearReport', 'lengthReport'], dtype='object')] are in the [columns]\"\n",
      "2025-09-28 20:43:06 - vnstock.common.data.data_explorer - ERROR - Lỗi khi truy xuất dữ liệu ratio: \"None of [Index(['ticker', 'yearReport', 'lengthReport'], dtype='object')] are in the [columns]\"\n"
     ]
    },
    {
     "name": "stdout",
     "output_type": "stream",
     "text": [
      "err at 1572\n",
      "mined at 1573\n",
      "mined at 1574\n"
     ]
    },
    {
     "name": "stderr",
     "output_type": "stream",
     "text": [
      "Downcasting object dtype arrays on .fillna, .ffill, .bfill is deprecated and will change in a future version. Call result.infer_objects(copy=False) instead. To opt-in to the future behavior, set `pd.set_option('future.no_silent_downcasting', True)`\n"
     ]
    },
    {
     "name": "stdout",
     "output_type": "stream",
     "text": [
      "err at 1575\n",
      "mined at 1576\n",
      "mined at 1577\n",
      "mined at 1578\n",
      "err at 1579\n",
      "mined at 1580\n",
      "mined at 1581\n",
      "mined at 1582\n",
      "mined at 1583\n",
      "mined at 1584\n",
      "mined at 1585\n",
      "mined at 1586\n"
     ]
    },
    {
     "name": "stderr",
     "output_type": "stream",
     "text": [
      "Downcasting object dtype arrays on .fillna, .ffill, .bfill is deprecated and will change in a future version. Call result.infer_objects(copy=False) instead. To opt-in to the future behavior, set `pd.set_option('future.no_silent_downcasting', True)`\n"
     ]
    },
    {
     "name": "stdout",
     "output_type": "stream",
     "text": [
      "err at 1587\n"
     ]
    },
    {
     "name": "stderr",
     "output_type": "stream",
     "text": [
      "2025-09-28 20:45:43 - vnstock.explorer.vci.financial - ERROR - Error processing financial report data: \"None of [Index(['ticker', 'yearReport', 'lengthReport'], dtype='object')] are in the [columns]\"\n",
      "2025-09-28 20:45:43 - vnstock.explorer.vci.financial - ERROR - Error retrieving financial ratios: \"None of [Index(['ticker', 'yearReport', 'lengthReport'], dtype='object')] are in the [columns]\"\n",
      "2025-09-28 20:45:43 - vnstock.common.data.data_explorer - ERROR - Lỗi khi truy xuất dữ liệu ratio: \"None of [Index(['ticker', 'yearReport', 'lengthReport'], dtype='object')] are in the [columns]\"\n"
     ]
    },
    {
     "name": "stdout",
     "output_type": "stream",
     "text": [
      "err at 1588\n",
      "mined at 1589\n"
     ]
    },
    {
     "name": "stderr",
     "output_type": "stream",
     "text": [
      "Downcasting object dtype arrays on .fillna, .ffill, .bfill is deprecated and will change in a future version. Call result.infer_objects(copy=False) instead. To opt-in to the future behavior, set `pd.set_option('future.no_silent_downcasting', True)`\n"
     ]
    },
    {
     "name": "stdout",
     "output_type": "stream",
     "text": [
      "mined at 1590\n"
     ]
    },
    {
     "name": "stderr",
     "output_type": "stream",
     "text": [
      "2025-09-28 20:46:16 - vnstock.explorer.vci.financial - ERROR - Error processing financial report data: \"None of [Index(['ticker', 'yearReport', 'lengthReport'], dtype='object')] are in the [columns]\"\n",
      "2025-09-28 20:46:16 - vnstock.explorer.vci.financial - ERROR - Error retrieving financial ratios: \"None of [Index(['ticker', 'yearReport', 'lengthReport'], dtype='object')] are in the [columns]\"\n",
      "2025-09-28 20:46:16 - vnstock.common.data.data_explorer - ERROR - Lỗi khi truy xuất dữ liệu ratio: \"None of [Index(['ticker', 'yearReport', 'lengthReport'], dtype='object')] are in the [columns]\"\n"
     ]
    },
    {
     "name": "stdout",
     "output_type": "stream",
     "text": [
      "err at 1591\n",
      "mined at 1592\n"
     ]
    },
    {
     "name": "stderr",
     "output_type": "stream",
     "text": [
      "2025-09-28 20:46:29 - vnstock.explorer.vci.financial - ERROR - Error processing financial report data: \"None of [Index(['ticker', 'yearReport', 'lengthReport'], dtype='object')] are in the [columns]\"\n",
      "2025-09-28 20:46:29 - vnstock.explorer.vci.financial - ERROR - Error retrieving financial ratios: \"None of [Index(['ticker', 'yearReport', 'lengthReport'], dtype='object')] are in the [columns]\"\n",
      "2025-09-28 20:46:29 - vnstock.common.data.data_explorer - ERROR - Lỗi khi truy xuất dữ liệu ratio: \"None of [Index(['ticker', 'yearReport', 'lengthReport'], dtype='object')] are in the [columns]\"\n"
     ]
    },
    {
     "name": "stdout",
     "output_type": "stream",
     "text": [
      "err at 1593\n",
      "mined at 1594\n"
     ]
    },
    {
     "name": "stderr",
     "output_type": "stream",
     "text": [
      "Downcasting object dtype arrays on .fillna, .ffill, .bfill is deprecated and will change in a future version. Call result.infer_objects(copy=False) instead. To opt-in to the future behavior, set `pd.set_option('future.no_silent_downcasting', True)`\n"
     ]
    },
    {
     "name": "stdout",
     "output_type": "stream",
     "text": [
      "mined at 1595\n"
     ]
    },
    {
     "name": "stderr",
     "output_type": "stream",
     "text": [
      "2025-09-28 20:47:24 - vnstock.explorer.vci.financial - ERROR - Error processing financial report data: \"None of [Index(['ticker', 'yearReport', 'lengthReport'], dtype='object')] are in the [columns]\"\n",
      "2025-09-28 20:47:24 - vnstock.explorer.vci.financial - ERROR - Error retrieving financial ratios: \"None of [Index(['ticker', 'yearReport', 'lengthReport'], dtype='object')] are in the [columns]\"\n",
      "2025-09-28 20:47:24 - vnstock.common.data.data_explorer - ERROR - Lỗi khi truy xuất dữ liệu ratio: \"None of [Index(['ticker', 'yearReport', 'lengthReport'], dtype='object')] are in the [columns]\"\n"
     ]
    },
    {
     "name": "stdout",
     "output_type": "stream",
     "text": [
      "err at 1596\n"
     ]
    },
    {
     "name": "stderr",
     "output_type": "stream",
     "text": [
      "2025-09-28 20:47:31 - vnstock.explorer.vci.financial - ERROR - Error processing financial report data: \"None of [Index(['ticker', 'yearReport', 'lengthReport'], dtype='object')] are in the [columns]\"\n",
      "2025-09-28 20:47:31 - vnstock.explorer.vci.financial - ERROR - Error retrieving financial ratios: \"None of [Index(['ticker', 'yearReport', 'lengthReport'], dtype='object')] are in the [columns]\"\n",
      "2025-09-28 20:47:31 - vnstock.common.data.data_explorer - ERROR - Lỗi khi truy xuất dữ liệu ratio: \"None of [Index(['ticker', 'yearReport', 'lengthReport'], dtype='object')] are in the [columns]\"\n"
     ]
    },
    {
     "name": "stdout",
     "output_type": "stream",
     "text": [
      "err at 1597\n"
     ]
    },
    {
     "name": "stderr",
     "output_type": "stream",
     "text": [
      "2025-09-28 20:47:37 - vnstock.explorer.vci.financial - ERROR - Error processing financial report data: \"None of [Index(['ticker', 'yearReport', 'lengthReport'], dtype='object')] are in the [columns]\"\n",
      "2025-09-28 20:47:37 - vnstock.explorer.vci.financial - ERROR - Error retrieving financial ratios: \"None of [Index(['ticker', 'yearReport', 'lengthReport'], dtype='object')] are in the [columns]\"\n",
      "2025-09-28 20:47:37 - vnstock.common.data.data_explorer - ERROR - Lỗi khi truy xuất dữ liệu ratio: \"None of [Index(['ticker', 'yearReport', 'lengthReport'], dtype='object')] are in the [columns]\"\n"
     ]
    },
    {
     "name": "stdout",
     "output_type": "stream",
     "text": [
      "err at 1598\n"
     ]
    },
    {
     "name": "stderr",
     "output_type": "stream",
     "text": [
      "Downcasting object dtype arrays on .fillna, .ffill, .bfill is deprecated and will change in a future version. Call result.infer_objects(copy=False) instead. To opt-in to the future behavior, set `pd.set_option('future.no_silent_downcasting', True)`\n"
     ]
    },
    {
     "name": "stdout",
     "output_type": "stream",
     "text": [
      "mined at 1599\n",
      "mined at 1600\n"
     ]
    },
    {
     "name": "stderr",
     "output_type": "stream",
     "text": [
      "2025-09-28 20:48:02 - vnstock.explorer.vci.financial - ERROR - Error processing financial report data: \"None of [Index(['ticker', 'yearReport', 'lengthReport'], dtype='object')] are in the [columns]\"\n",
      "2025-09-28 20:48:02 - vnstock.explorer.vci.financial - ERROR - Error retrieving financial ratios: \"None of [Index(['ticker', 'yearReport', 'lengthReport'], dtype='object')] are in the [columns]\"\n",
      "2025-09-28 20:48:02 - vnstock.common.data.data_explorer - ERROR - Lỗi khi truy xuất dữ liệu ratio: \"None of [Index(['ticker', 'yearReport', 'lengthReport'], dtype='object')] are in the [columns]\"\n"
     ]
    },
    {
     "name": "stdout",
     "output_type": "stream",
     "text": [
      "err at 1601\n",
      "mined at 1602\n",
      "mined at 1603\n"
     ]
    },
    {
     "name": "stderr",
     "output_type": "stream",
     "text": [
      "2025-09-28 20:48:37 - vnstock.explorer.vci.financial - ERROR - Error processing financial report data: \"None of [Index(['ticker', 'yearReport', 'lengthReport'], dtype='object')] are in the [columns]\"\n",
      "2025-09-28 20:48:37 - vnstock.explorer.vci.financial - ERROR - Error retrieving financial ratios: \"None of [Index(['ticker', 'yearReport', 'lengthReport'], dtype='object')] are in the [columns]\"\n",
      "2025-09-28 20:48:37 - vnstock.common.data.data_explorer - ERROR - Lỗi khi truy xuất dữ liệu ratio: \"None of [Index(['ticker', 'yearReport', 'lengthReport'], dtype='object')] are in the [columns]\"\n"
     ]
    },
    {
     "name": "stdout",
     "output_type": "stream",
     "text": [
      "err at 1604\n",
      "mined at 1605\n"
     ]
    },
    {
     "name": "stderr",
     "output_type": "stream",
     "text": [
      "Downcasting object dtype arrays on .fillna, .ffill, .bfill is deprecated and will change in a future version. Call result.infer_objects(copy=False) instead. To opt-in to the future behavior, set `pd.set_option('future.no_silent_downcasting', True)`\n"
     ]
    },
    {
     "name": "stdout",
     "output_type": "stream",
     "text": [
      "err at 1606\n"
     ]
    },
    {
     "name": "stderr",
     "output_type": "stream",
     "text": [
      "Downcasting object dtype arrays on .fillna, .ffill, .bfill is deprecated and will change in a future version. Call result.infer_objects(copy=False) instead. To opt-in to the future behavior, set `pd.set_option('future.no_silent_downcasting', True)`\n"
     ]
    },
    {
     "name": "stdout",
     "output_type": "stream",
     "text": [
      "err at 1607\n"
     ]
    },
    {
     "name": "stderr",
     "output_type": "stream",
     "text": [
      "Downcasting object dtype arrays on .fillna, .ffill, .bfill is deprecated and will change in a future version. Call result.infer_objects(copy=False) instead. To opt-in to the future behavior, set `pd.set_option('future.no_silent_downcasting', True)`\n"
     ]
    },
    {
     "name": "stdout",
     "output_type": "stream",
     "text": [
      "mined at 1608\n",
      "mined at 1609\n",
      "mined at 1610\n",
      "mined at 1611\n"
     ]
    },
    {
     "name": "stderr",
     "output_type": "stream",
     "text": [
      "Downcasting object dtype arrays on .fillna, .ffill, .bfill is deprecated and will change in a future version. Call result.infer_objects(copy=False) instead. To opt-in to the future behavior, set `pd.set_option('future.no_silent_downcasting', True)`\n"
     ]
    },
    {
     "name": "stdout",
     "output_type": "stream",
     "text": [
      "err at 1612\n"
     ]
    },
    {
     "name": "stderr",
     "output_type": "stream",
     "text": [
      "Downcasting object dtype arrays on .fillna, .ffill, .bfill is deprecated and will change in a future version. Call result.infer_objects(copy=False) instead. To opt-in to the future behavior, set `pd.set_option('future.no_silent_downcasting', True)`\n"
     ]
    },
    {
     "name": "stdout",
     "output_type": "stream",
     "text": [
      "mined at 1613\n"
     ]
    },
    {
     "name": "stderr",
     "output_type": "stream",
     "text": [
      "2025-09-28 20:49:58 - vnstock.explorer.vci.financial - ERROR - Error processing financial report data: \"None of [Index(['ticker', 'yearReport', 'lengthReport'], dtype='object')] are in the [columns]\"\n",
      "2025-09-28 20:49:58 - vnstock.explorer.vci.financial - ERROR - Error retrieving financial ratios: \"None of [Index(['ticker', 'yearReport', 'lengthReport'], dtype='object')] are in the [columns]\"\n",
      "2025-09-28 20:49:58 - vnstock.common.data.data_explorer - ERROR - Lỗi khi truy xuất dữ liệu ratio: \"None of [Index(['ticker', 'yearReport', 'lengthReport'], dtype='object')] are in the [columns]\"\n"
     ]
    },
    {
     "name": "stdout",
     "output_type": "stream",
     "text": [
      "err at 1614\n"
     ]
    },
    {
     "name": "stderr",
     "output_type": "stream",
     "text": [
      "Downcasting object dtype arrays on .fillna, .ffill, .bfill is deprecated and will change in a future version. Call result.infer_objects(copy=False) instead. To opt-in to the future behavior, set `pd.set_option('future.no_silent_downcasting', True)`\n"
     ]
    },
    {
     "name": "stdout",
     "output_type": "stream",
     "text": [
      "err at 1615\n",
      "mined at 1616\n",
      "mined at 1617\n",
      "mined at 1618\n",
      "mined at 1619\n",
      "mined at 1620\n"
     ]
    },
    {
     "name": "stderr",
     "output_type": "stream",
     "text": [
      "Downcasting object dtype arrays on .fillna, .ffill, .bfill is deprecated and will change in a future version. Call result.infer_objects(copy=False) instead. To opt-in to the future behavior, set `pd.set_option('future.no_silent_downcasting', True)`\n"
     ]
    },
    {
     "name": "stdout",
     "output_type": "stream",
     "text": [
      "err at 1621\n",
      "mined at 1622\n",
      "mined at 1623\n",
      "mined at 1624\n",
      "mined at 1625\n",
      "mined at 1626\n"
     ]
    },
    {
     "name": "stderr",
     "output_type": "stream",
     "text": [
      "2025-09-28 20:51:42 - vnstock.explorer.vci.financial - ERROR - Error processing financial report data: \"None of [Index(['ticker', 'yearReport', 'lengthReport'], dtype='object')] are in the [columns]\"\n",
      "2025-09-28 20:51:42 - vnstock.explorer.vci.financial - ERROR - Error retrieving financial ratios: \"None of [Index(['ticker', 'yearReport', 'lengthReport'], dtype='object')] are in the [columns]\"\n",
      "2025-09-28 20:51:42 - vnstock.common.data.data_explorer - ERROR - Lỗi khi truy xuất dữ liệu ratio: \"None of [Index(['ticker', 'yearReport', 'lengthReport'], dtype='object')] are in the [columns]\"\n"
     ]
    },
    {
     "name": "stdout",
     "output_type": "stream",
     "text": [
      "err at 1627\n",
      "mined at 1628\n"
     ]
    },
    {
     "name": "stderr",
     "output_type": "stream",
     "text": [
      "2025-09-28 20:52:00 - vnstock.explorer.vci.financial - ERROR - Error processing financial report data: \"None of [Index(['ticker', 'yearReport', 'lengthReport'], dtype='object')] are in the [columns]\"\n",
      "2025-09-28 20:52:00 - vnstock.explorer.vci.financial - ERROR - Error retrieving financial ratios: \"None of [Index(['ticker', 'yearReport', 'lengthReport'], dtype='object')] are in the [columns]\"\n",
      "2025-09-28 20:52:00 - vnstock.common.data.data_explorer - ERROR - Lỗi khi truy xuất dữ liệu ratio: \"None of [Index(['ticker', 'yearReport', 'lengthReport'], dtype='object')] are in the [columns]\"\n"
     ]
    },
    {
     "name": "stdout",
     "output_type": "stream",
     "text": [
      "err at 1629\n"
     ]
    },
    {
     "name": "stderr",
     "output_type": "stream",
     "text": [
      "2025-09-28 20:52:07 - vnstock.explorer.vci.financial - ERROR - Error processing financial report data: \"None of [Index(['ticker', 'yearReport', 'lengthReport'], dtype='object')] are in the [columns]\"\n",
      "2025-09-28 20:52:07 - vnstock.explorer.vci.financial - ERROR - Error retrieving financial ratios: \"None of [Index(['ticker', 'yearReport', 'lengthReport'], dtype='object')] are in the [columns]\"\n",
      "2025-09-28 20:52:07 - vnstock.common.data.data_explorer - ERROR - Lỗi khi truy xuất dữ liệu ratio: \"None of [Index(['ticker', 'yearReport', 'lengthReport'], dtype='object')] are in the [columns]\"\n"
     ]
    },
    {
     "name": "stdout",
     "output_type": "stream",
     "text": [
      "err at 1630\n",
      "mined at 1631\n",
      "mined at 1632\n",
      "mined at 1633\n",
      "mined at 1634\n",
      "mined at 1635\n"
     ]
    },
    {
     "name": "stderr",
     "output_type": "stream",
     "text": [
      "Downcasting object dtype arrays on .fillna, .ffill, .bfill is deprecated and will change in a future version. Call result.infer_objects(copy=False) instead. To opt-in to the future behavior, set `pd.set_option('future.no_silent_downcasting', True)`\n"
     ]
    },
    {
     "name": "stdout",
     "output_type": "stream",
     "text": [
      "err at 1636\n",
      "mined at 1637\n"
     ]
    },
    {
     "name": "stderr",
     "output_type": "stream",
     "text": [
      "2025-09-28 20:53:18 - vnstock.explorer.vci.financial - ERROR - Error processing financial report data: \"None of [Index(['ticker', 'yearReport', 'lengthReport'], dtype='object')] are in the [columns]\"\n",
      "2025-09-28 20:53:18 - vnstock.explorer.vci.financial - ERROR - Error retrieving financial ratios: \"None of [Index(['ticker', 'yearReport', 'lengthReport'], dtype='object')] are in the [columns]\"\n",
      "2025-09-28 20:53:18 - vnstock.common.data.data_explorer - ERROR - Lỗi khi truy xuất dữ liệu ratio: \"None of [Index(['ticker', 'yearReport', 'lengthReport'], dtype='object')] are in the [columns]\"\n"
     ]
    },
    {
     "name": "stdout",
     "output_type": "stream",
     "text": [
      "err at 1638\n",
      "mined at 1639\n"
     ]
    },
    {
     "name": "stderr",
     "output_type": "stream",
     "text": [
      "Downcasting object dtype arrays on .fillna, .ffill, .bfill is deprecated and will change in a future version. Call result.infer_objects(copy=False) instead. To opt-in to the future behavior, set `pd.set_option('future.no_silent_downcasting', True)`\n"
     ]
    },
    {
     "name": "stdout",
     "output_type": "stream",
     "text": [
      "mined at 1640\n"
     ]
    },
    {
     "name": "stderr",
     "output_type": "stream",
     "text": [
      "2025-09-28 20:53:59 - vnstock.explorer.vci.financial - ERROR - Error processing financial report data: \"None of [Index(['ticker', 'yearReport', 'lengthReport'], dtype='object')] are in the [columns]\"\n",
      "2025-09-28 20:53:59 - vnstock.explorer.vci.financial - ERROR - Error retrieving financial ratios: \"None of [Index(['ticker', 'yearReport', 'lengthReport'], dtype='object')] are in the [columns]\"\n",
      "2025-09-28 20:53:59 - vnstock.common.data.data_explorer - ERROR - Lỗi khi truy xuất dữ liệu ratio: \"None of [Index(['ticker', 'yearReport', 'lengthReport'], dtype='object')] are in the [columns]\"\n"
     ]
    },
    {
     "name": "stdout",
     "output_type": "stream",
     "text": [
      "err at 1641\n",
      "mined at 1642\n",
      "mined at 1643\n"
     ]
    },
    {
     "name": "stderr",
     "output_type": "stream",
     "text": [
      "Downcasting object dtype arrays on .fillna, .ffill, .bfill is deprecated and will change in a future version. Call result.infer_objects(copy=False) instead. To opt-in to the future behavior, set `pd.set_option('future.no_silent_downcasting', True)`\n"
     ]
    },
    {
     "name": "stdout",
     "output_type": "stream",
     "text": [
      "mined at 1644\n",
      "mined at 1645\n"
     ]
    },
    {
     "name": "stderr",
     "output_type": "stream",
     "text": [
      "Downcasting object dtype arrays on .fillna, .ffill, .bfill is deprecated and will change in a future version. Call result.infer_objects(copy=False) instead. To opt-in to the future behavior, set `pd.set_option('future.no_silent_downcasting', True)`\n"
     ]
    },
    {
     "name": "stdout",
     "output_type": "stream",
     "text": [
      "err at 1646\n",
      "mined at 1647\n",
      "mined at 1648\n",
      "mined at 1649\n",
      "mined at 1650\n"
     ]
    },
    {
     "name": "stderr",
     "output_type": "stream",
     "text": [
      "Downcasting object dtype arrays on .fillna, .ffill, .bfill is deprecated and will change in a future version. Call result.infer_objects(copy=False) instead. To opt-in to the future behavior, set `pd.set_option('future.no_silent_downcasting', True)`\n"
     ]
    },
    {
     "name": "stdout",
     "output_type": "stream",
     "text": [
      "mined at 1651\n",
      "mined at 1652\n",
      "mined at 1653\n",
      "mined at 1654\n",
      "mined at 1655\n",
      "mined at 1656\n",
      "mined at 1657\n",
      "mined at 1658\n",
      "mined at 1659\n",
      "mined at 1660\n"
     ]
    },
    {
     "name": "stderr",
     "output_type": "stream",
     "text": [
      "Downcasting object dtype arrays on .fillna, .ffill, .bfill is deprecated and will change in a future version. Call result.infer_objects(copy=False) instead. To opt-in to the future behavior, set `pd.set_option('future.no_silent_downcasting', True)`\n"
     ]
    },
    {
     "name": "stdout",
     "output_type": "stream",
     "text": [
      "mined at 1661\n",
      "mined at 1662\n"
     ]
    },
    {
     "name": "stderr",
     "output_type": "stream",
     "text": [
      "2025-09-28 20:57:39 - vnstock.explorer.vci.financial - ERROR - Error processing financial report data: \"None of [Index(['ticker', 'yearReport', 'lengthReport'], dtype='object')] are in the [columns]\"\n",
      "2025-09-28 20:57:39 - vnstock.explorer.vci.financial - ERROR - Error retrieving financial ratios: \"None of [Index(['ticker', 'yearReport', 'lengthReport'], dtype='object')] are in the [columns]\"\n",
      "2025-09-28 20:57:39 - vnstock.common.data.data_explorer - ERROR - Lỗi khi truy xuất dữ liệu ratio: \"None of [Index(['ticker', 'yearReport', 'lengthReport'], dtype='object')] are in the [columns]\"\n"
     ]
    },
    {
     "name": "stdout",
     "output_type": "stream",
     "text": [
      "err at 1663\n",
      "mined at 1664\n",
      "mined at 1665\n"
     ]
    },
    {
     "name": "stderr",
     "output_type": "stream",
     "text": [
      "2025-09-28 20:58:14 - vnstock.explorer.vci.financial - ERROR - Error processing financial report data: \"None of [Index(['ticker', 'yearReport', 'lengthReport'], dtype='object')] are in the [columns]\"\n",
      "2025-09-28 20:58:14 - vnstock.explorer.vci.financial - ERROR - Error retrieving financial ratios: \"None of [Index(['ticker', 'yearReport', 'lengthReport'], dtype='object')] are in the [columns]\"\n",
      "2025-09-28 20:58:14 - vnstock.common.data.data_explorer - ERROR - Lỗi khi truy xuất dữ liệu ratio: \"None of [Index(['ticker', 'yearReport', 'lengthReport'], dtype='object')] are in the [columns]\"\n"
     ]
    },
    {
     "name": "stdout",
     "output_type": "stream",
     "text": [
      "err at 1666\n",
      "mined at 1667\n",
      "mined at 1668\n",
      "mined at 1669\n",
      "mined at 1670\n",
      "mined at 1671\n",
      "mined at 1672\n",
      "mined at 1673\n",
      "mined at 1674\n",
      "mined at 1675\n",
      "mined at 1676\n",
      "mined at 1677\n",
      "mined at 1678\n",
      "mined at 1679\n",
      "mined at 1680\n",
      "mined at 1681\n",
      "mined at 1682\n"
     ]
    },
    {
     "name": "stderr",
     "output_type": "stream",
     "text": [
      "Downcasting object dtype arrays on .fillna, .ffill, .bfill is deprecated and will change in a future version. Call result.infer_objects(copy=False) instead. To opt-in to the future behavior, set `pd.set_option('future.no_silent_downcasting', True)`\n"
     ]
    },
    {
     "name": "stdout",
     "output_type": "stream",
     "text": [
      "mined at 1683\n"
     ]
    },
    {
     "name": "stderr",
     "output_type": "stream",
     "text": [
      "2025-09-28 21:01:44 - vnstock.explorer.vci.financial - ERROR - Error processing financial report data: \"None of [Index(['ticker', 'yearReport', 'lengthReport'], dtype='object')] are in the [columns]\"\n",
      "2025-09-28 21:01:44 - vnstock.explorer.vci.financial - ERROR - Error retrieving financial ratios: \"None of [Index(['ticker', 'yearReport', 'lengthReport'], dtype='object')] are in the [columns]\"\n",
      "2025-09-28 21:01:44 - vnstock.common.data.data_explorer - ERROR - Lỗi khi truy xuất dữ liệu ratio: \"None of [Index(['ticker', 'yearReport', 'lengthReport'], dtype='object')] are in the [columns]\"\n"
     ]
    },
    {
     "name": "stdout",
     "output_type": "stream",
     "text": [
      "err at 1684\n",
      "mined at 1685\n",
      "mined at 1686\n",
      "mined at 1687\n",
      "mined at 1688\n",
      "mined at 1689\n",
      "mined at 1690\n",
      "mined at 1691\n",
      "mined at 1692\n",
      "mined at 1693\n",
      "mined at 1694\n",
      "mined at 1695\n",
      "mined at 1696\n",
      "mined at 1697\n"
     ]
    },
    {
     "name": "stderr",
     "output_type": "stream",
     "text": [
      "2025-09-28 21:03:56 - vnstock.explorer.vci.financial - ERROR - Error processing financial report data: \"None of [Index(['ticker', 'yearReport', 'lengthReport'], dtype='object')] are in the [columns]\"\n",
      "2025-09-28 21:03:56 - vnstock.explorer.vci.financial - ERROR - Error retrieving financial ratios: \"None of [Index(['ticker', 'yearReport', 'lengthReport'], dtype='object')] are in the [columns]\"\n",
      "2025-09-28 21:03:56 - vnstock.common.data.data_explorer - ERROR - Lỗi khi truy xuất dữ liệu ratio: \"None of [Index(['ticker', 'yearReport', 'lengthReport'], dtype='object')] are in the [columns]\"\n"
     ]
    },
    {
     "name": "stdout",
     "output_type": "stream",
     "text": [
      "err at 1698\n",
      "mined at 1699\n",
      "mined at 1700\n",
      "mined at 1701\n"
     ]
    },
    {
     "name": "stderr",
     "output_type": "stream",
     "text": [
      "Downcasting object dtype arrays on .fillna, .ffill, .bfill is deprecated and will change in a future version. Call result.infer_objects(copy=False) instead. To opt-in to the future behavior, set `pd.set_option('future.no_silent_downcasting', True)`\n"
     ]
    },
    {
     "name": "stdout",
     "output_type": "stream",
     "text": [
      "err at 1702\n",
      "mined at 1703\n"
     ]
    },
    {
     "name": "stderr",
     "output_type": "stream",
     "text": [
      "Downcasting object dtype arrays on .fillna, .ffill, .bfill is deprecated and will change in a future version. Call result.infer_objects(copy=False) instead. To opt-in to the future behavior, set `pd.set_option('future.no_silent_downcasting', True)`\n"
     ]
    },
    {
     "name": "stdout",
     "output_type": "stream",
     "text": [
      "err at 1704\n",
      "mined at 1705\n",
      "mined at 1706\n",
      "mined at 1707\n"
     ]
    },
    {
     "name": "stderr",
     "output_type": "stream",
     "text": [
      "Downcasting object dtype arrays on .fillna, .ffill, .bfill is deprecated and will change in a future version. Call result.infer_objects(copy=False) instead. To opt-in to the future behavior, set `pd.set_option('future.no_silent_downcasting', True)`\n"
     ]
    },
    {
     "name": "stdout",
     "output_type": "stream",
     "text": [
      "mined at 1708\n"
     ]
    },
    {
     "name": "stderr",
     "output_type": "stream",
     "text": [
      "Downcasting object dtype arrays on .fillna, .ffill, .bfill is deprecated and will change in a future version. Call result.infer_objects(copy=False) instead. To opt-in to the future behavior, set `pd.set_option('future.no_silent_downcasting', True)`\n"
     ]
    },
    {
     "name": "stdout",
     "output_type": "stream",
     "text": [
      "mined at 1709\n",
      "mined at 1710\n"
     ]
    },
    {
     "name": "stderr",
     "output_type": "stream",
     "text": [
      "Downcasting object dtype arrays on .fillna, .ffill, .bfill is deprecated and will change in a future version. Call result.infer_objects(copy=False) instead. To opt-in to the future behavior, set `pd.set_option('future.no_silent_downcasting', True)`\n"
     ]
    },
    {
     "name": "stdout",
     "output_type": "stream",
     "text": [
      "err at 1711\n",
      "mined at 1712\n",
      "mined at 1713\n"
     ]
    },
    {
     "name": "stderr",
     "output_type": "stream",
     "text": [
      "Downcasting object dtype arrays on .fillna, .ffill, .bfill is deprecated and will change in a future version. Call result.infer_objects(copy=False) instead. To opt-in to the future behavior, set `pd.set_option('future.no_silent_downcasting', True)`\n"
     ]
    },
    {
     "name": "stdout",
     "output_type": "stream",
     "text": [
      "mined at 1714\n",
      "mined at 1715\n",
      "mined at 1716\n",
      "mined at 1717\n"
     ]
    },
    {
     "name": "stderr",
     "output_type": "stream",
     "text": [
      "2025-09-28 21:06:42 - vnstock.explorer.vci.financial - ERROR - Error processing financial report data: \"None of [Index(['ticker', 'yearReport', 'lengthReport'], dtype='object')] are in the [columns]\"\n",
      "2025-09-28 21:06:42 - vnstock.explorer.vci.financial - ERROR - Error retrieving financial ratios: \"None of [Index(['ticker', 'yearReport', 'lengthReport'], dtype='object')] are in the [columns]\"\n",
      "2025-09-28 21:06:42 - vnstock.common.data.data_explorer - ERROR - Lỗi khi truy xuất dữ liệu ratio: \"None of [Index(['ticker', 'yearReport', 'lengthReport'], dtype='object')] are in the [columns]\"\n"
     ]
    },
    {
     "name": "stdout",
     "output_type": "stream",
     "text": [
      "err at 1718\n",
      "err at 1719\n"
     ]
    }
   ],
   "source": [
    "from vnstock import Vnstock\n",
    "pos = 0\n",
    "for i in range(1400,1720):\n",
    "    try:\n",
    "        stock = Vnstock().stock(symbol_list[i], source='VCI')\n",
    "        financialratiodata = stock.finance.ratio(period='quarter', lang='en', dropna=True)\n",
    "        financialratiodata1= financialratiodata[[('Meta', 'ticker') , ('Meta', 'yearReport') ,('Meta', 'lengthReport') , ('Chỉ tiêu khả năng sinh lợi', 'ROE (%)') , ('Chỉ tiêu định giá', 'EV/EBITDA') , ('Chỉ tiêu định giá', 'EPS (VND)') , ('Chỉ tiêu định giá', 'P/E'),('Chỉ tiêu định giá', 'P/B')]]\n",
    "        financialratiodata1.columns = ['symbol', 'year', 'quarter', 'roe','ev/ebitda','eps','p/e','p/b']\n",
    "        financialratiodata1.to_csv('financeratiodata/'+symbol_list[i]+\".csv\", index=False)\n",
    "        pos = i\n",
    "        print(\"mined at\",pos)\n",
    "        time.sleep(5)\n",
    "    except:\n",
    "        pos = i\n",
    "        print(\"err at\", pos)\n",
    "        lsterr.append(pos)\n",
    "        time.sleep(5)\n",
    "# print('current pos',pos)"
   ]
  },
  {
   "cell_type": "code",
   "execution_count": 18,
   "id": "9d958385",
   "metadata": {},
   "outputs": [
    {
     "data": {
      "text/plain": [
       "438"
      ]
     },
     "execution_count": 18,
     "metadata": {},
     "output_type": "execute_result"
    }
   ],
   "source": [
    "len(lsterr)"
   ]
  },
  {
   "cell_type": "code",
   "execution_count": null,
   "id": "e08c5a5d",
   "metadata": {},
   "outputs": [],
   "source": [
    "df = pd.DataFrame(data={\"err\": lsterr})\n",
    "df.to_csv(\"financialratio_errlst.csv\",index=False)"
   ]
  },
  {
   "cell_type": "code",
   "execution_count": null,
   "id": "e91e2589",
   "metadata": {},
   "outputs": [],
   "source": []
  }
 ],
 "metadata": {
  "kernelspec": {
   "display_name": "dsp391",
   "language": "python",
   "name": "python3"
  },
  "language_info": {
   "codemirror_mode": {
    "name": "ipython",
    "version": 3
   },
   "file_extension": ".py",
   "mimetype": "text/x-python",
   "name": "python",
   "nbconvert_exporter": "python",
   "pygments_lexer": "ipython3",
   "version": "3.13.7"
  }
 },
 "nbformat": 4,
 "nbformat_minor": 5
}
