{
 "cells": [
  {
   "cell_type": "code",
   "execution_count": null,
   "id": "f5fe5db5",
   "metadata": {},
   "outputs": [],
   "source": [
    "#getting all symbols\n",
    "from vnstock import Listing\n",
    "listing = Listing()\n",
    "symbols = listing.all_symbols()\n",
    "symbol_list = list(symbols['symbol'])\n",
    "symbol_list"
   ]
  },
  {
   "cell_type": "code",
   "execution_count": 2,
   "id": "a36ff79d",
   "metadata": {},
   "outputs": [
    {
     "data": {
      "text/plain": [
       "1719"
      ]
     },
     "execution_count": 2,
     "metadata": {},
     "output_type": "execute_result"
    }
   ],
   "source": [
    "len(symbol_list)"
   ]
  },
  {
   "cell_type": "code",
   "execution_count": 4,
   "id": "fdf7c761",
   "metadata": {},
   "outputs": [],
   "source": [
    "lsterr = []"
   ]
  },
  {
   "cell_type": "code",
   "execution_count": null,
   "id": "d26475cd",
   "metadata": {},
   "outputs": [],
   "source": [
    "from vnstock import Vnstock\n",
    "import pandas as pd \n",
    "import time \n",
    "pos = 0\n",
    "for i in range(0,len(symbol_list)):\n",
    "    try:\n",
    "        stock = Vnstock().stock(symbol=symbol_list[i], source='VCI')\n",
    "        pricevolume = stock.quote.history(start='2013-01-01', interval='1W')\n",
    "        pricevolume['time'] = pricevolume['time'].apply(lambda x: x.strftime('%Y-%m-%d'))\n",
    "        pricevolume.columns = ['time', 'open', 'high', 'low','close','volume']\n",
    "        pricevolume.to_csv('pvdata/'+symbol_list[i]+\".csv\", index=False)\n",
    "        pos = i\n",
    "        print(\"mined at\",pos)\n",
    "        time.sleep(6)\n",
    "    except:\n",
    "        pos = i\n",
    "        print(\"err at\", pos)\n",
    "        lsterr.append(pos)\n",
    "        time.sleep(6)\n",
    "# print('current pos',pos)"
   ]
  },
  {
   "cell_type": "code",
   "execution_count": 6,
   "id": "120776fd",
   "metadata": {},
   "outputs": [],
   "source": [
    "df = pd.DataFrame(data={\"err\": lsterr}) \n",
    "df.to_csv(\"pvdata_errlst.csv\",index=False)"
   ]
  }
 ],
 "metadata": {
  "kernelspec": {
   "display_name": "dsp391",
   "language": "python",
   "name": "python3"
  },
  "language_info": {
   "codemirror_mode": {
    "name": "ipython",
    "version": 3
   },
   "file_extension": ".py",
   "mimetype": "text/x-python",
   "name": "python",
   "nbconvert_exporter": "python",
   "pygments_lexer": "ipython3",
   "version": "3.13.7"
  }
 },
 "nbformat": 4,
 "nbformat_minor": 5
}
